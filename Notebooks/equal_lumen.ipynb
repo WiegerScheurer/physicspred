{
 "cells": [
  {
   "cell_type": "code",
   "execution_count": 3,
   "metadata": {},
   "outputs": [
    {
     "name": "stderr",
     "output_type": "stream",
     "text": [
      "Fontconfig warning: ignoring UTF-8: not a valid region tag\n"
     ]
    }
   ],
   "source": [
    "import sys, os, random\n",
    "import numpy as np\n",
    "import pandas as pd\n",
    "import matplotlib.pyplot as plt\n",
    "import plotly.graph_objects as go\n",
    "import random\n",
    "\n",
    "\n",
    "from psychopy import (\n",
    "    visual,\n",
    "    core,\n",
    "    event,\n",
    "    gui,\n",
    "    data,\n",
    ")  # Perhaps faster to import modules individually?\n",
    "\n",
    "import numpy as np\n",
    "import random\n",
    "import yaml\n",
    "import math\n",
    "import pandas as pd\n",
    "from datetime import datetime\n",
    "import os\n",
    "import sys\n",
    "import time\n"
   ]
  },
  {
   "cell_type": "code",
   "execution_count": 53,
   "metadata": {},
   "outputs": [
    {
     "name": "stdout",
     "output_type": "stream",
     "text": [
      "Collecting colour-science\n",
      "  Downloading colour_science-0.4.6-py3-none-any.whl.metadata (54 kB)\n",
      "Requirement already satisfied: imageio<3,>=2 in /Users/wiegerscheurer/miniconda3/envs/int_physics_env/lib/python3.10/site-packages (from colour-science) (2.37.0)\n",
      "Requirement already satisfied: numpy<3,>=1.24 in /Users/wiegerscheurer/miniconda3/envs/int_physics_env/lib/python3.10/site-packages (from colour-science) (1.26.4)\n",
      "Requirement already satisfied: scipy<2,>=1.10 in /Users/wiegerscheurer/miniconda3/envs/int_physics_env/lib/python3.10/site-packages (from colour-science) (1.15.1)\n",
      "Requirement already satisfied: typing-extensions<5,>=4 in /Users/wiegerscheurer/miniconda3/envs/int_physics_env/lib/python3.10/site-packages (from colour-science) (4.12.2)\n",
      "Requirement already satisfied: pillow>=8.3.2 in /Users/wiegerscheurer/miniconda3/envs/int_physics_env/lib/python3.10/site-packages (from imageio<3,>=2->colour-science) (10.4.0)\n",
      "Downloading colour_science-0.4.6-py3-none-any.whl (2.5 MB)\n",
      "\u001b[2K   \u001b[90m━━━━━━━━━━━━━━━━━━━━━━━━━━━━━━━━━━━━━━━━\u001b[0m \u001b[32m2.5/2.5 MB\u001b[0m \u001b[31m27.4 MB/s\u001b[0m eta \u001b[36m0:00:00\u001b[0m\n",
      "\u001b[?25hInstalling collected packages: colour-science\n",
      "Successfully installed colour-science-0.4.6\n"
     ]
    }
   ],
   "source": [
    "!{sys.executable} -m pip install colour-science"
   ]
  },
  {
   "cell_type": "code",
   "execution_count": 56,
   "metadata": {},
   "outputs": [],
   "source": [
    "import numpy as np\n",
    "import colour\n",
    "\n",
    "def oklab_to_cielab(oklab_color):\n",
    "    xyz_color = colour.Oklab_to_XYZ(oklab_color)\n",
    "    cielab_color = colour.XYZ_to_Lab(xyz_color)\n",
    "    return cielab_color"
   ]
  },
  {
   "cell_type": "code",
   "execution_count": 1,
   "metadata": {},
   "outputs": [],
   "source": [
    "def lab_to_rgb(L, a, b):\n",
    "    lab = np.array([[[L, a, b]]], dtype=np.float32)\n",
    "    rgb = color.lab2rgb(lab)\n",
    "    # Scale to 0-255 range and return as integer values\n",
    "    rgb_255 = np.clip(rgb[0][0] * 255, 0, 255).astype(int)\n",
    "    return rgb_255"
   ]
  },
  {
   "cell_type": "code",
   "execution_count": 61,
   "metadata": {},
   "outputs": [
    {
     "data": {
      "text/plain": [
       "array([  1.00000001e+02,   2.47053015e-03,   4.63858473e-02])"
      ]
     },
     "execution_count": 61,
     "metadata": {},
     "output_type": "execute_result"
    }
   ],
   "source": [
    "# import psychopy.tools.colorspacetools as cst\n",
    "# cielabColor = (53.0, -20.0, 0.0)  # greenish color (L*, a*, b*)\n",
    "# rgbColor = cst.cielab2rgb(cielabColor)\n",
    "\n",
    "# rgbColor\n",
    "\n",
    "\n",
    "oklab_to_cielab([1, 0.0, 0.0])"
   ]
  },
  {
   "cell_type": "code",
   "execution_count": 64,
   "metadata": {},
   "outputs": [
    {
     "ename": "TypeError",
     "evalue": "lab_to_rgb() missing 2 required positional arguments: 'a' and 'b'",
     "output_type": "error",
     "traceback": [
      "\u001b[0;31m---------------------------------------------------------------------------\u001b[0m",
      "\u001b[0;31mTypeError\u001b[0m                                 Traceback (most recent call last)",
      "Cell \u001b[0;32mIn[64], line 13\u001b[0m\n\u001b[1;32m      8\u001b[0m rgb_colors \u001b[38;5;241m=\u001b[39m [[luminance, luminance, luminance] \u001b[38;5;28;01mfor\u001b[39;00m luminance \u001b[38;5;129;01min\u001b[39;00m colour_steps]\n\u001b[1;32m     11\u001b[0m cielab_colors \u001b[38;5;241m=\u001b[39m [[\u001b[38;5;28mint\u001b[39m(luminance \u001b[38;5;241m*\u001b[39m \u001b[38;5;241m100\u001b[39m), \u001b[38;5;241m0\u001b[39m, \u001b[38;5;241m0\u001b[39m] \u001b[38;5;28;01mfor\u001b[39;00m luminance \u001b[38;5;129;01min\u001b[39;00m colour_steps]\n\u001b[0;32m---> 13\u001b[0m oklab_colors \u001b[38;5;241m=\u001b[39m [((lab_to_rgb(oklab_to_cielab([luminance, \u001b[38;5;241m0\u001b[39m, \u001b[38;5;241m0\u001b[39m])) \u001b[38;5;241m+\u001b[39m \u001b[38;5;241m1\u001b[39m) \u001b[38;5;241m/\u001b[39m \u001b[38;5;241m2\u001b[39m) \u001b[38;5;28;01mfor\u001b[39;00m luminance \u001b[38;5;129;01min\u001b[39;00m colour_steps]\n\u001b[1;32m     15\u001b[0m oklab_colors\n\u001b[1;32m     17\u001b[0m \u001b[38;5;66;03m# cielab_rgb_colors = [np.clip(((cst.cielab2rgb(cielab) + 1) / 2), 0, 1) for cielab in cielab_colors]\u001b[39;00m\n\u001b[1;32m     18\u001b[0m \u001b[38;5;66;03m# cielab_rgb_colors\u001b[39;00m\n",
      "Cell \u001b[0;32mIn[64], line 13\u001b[0m, in \u001b[0;36m<listcomp>\u001b[0;34m(.0)\u001b[0m\n\u001b[1;32m      8\u001b[0m rgb_colors \u001b[38;5;241m=\u001b[39m [[luminance, luminance, luminance] \u001b[38;5;28;01mfor\u001b[39;00m luminance \u001b[38;5;129;01min\u001b[39;00m colour_steps]\n\u001b[1;32m     11\u001b[0m cielab_colors \u001b[38;5;241m=\u001b[39m [[\u001b[38;5;28mint\u001b[39m(luminance \u001b[38;5;241m*\u001b[39m \u001b[38;5;241m100\u001b[39m), \u001b[38;5;241m0\u001b[39m, \u001b[38;5;241m0\u001b[39m] \u001b[38;5;28;01mfor\u001b[39;00m luminance \u001b[38;5;129;01min\u001b[39;00m colour_steps]\n\u001b[0;32m---> 13\u001b[0m oklab_colors \u001b[38;5;241m=\u001b[39m [((\u001b[43mlab_to_rgb\u001b[49m\u001b[43m(\u001b[49m\u001b[43moklab_to_cielab\u001b[49m\u001b[43m(\u001b[49m\u001b[43m[\u001b[49m\u001b[43mluminance\u001b[49m\u001b[43m,\u001b[49m\u001b[43m \u001b[49m\u001b[38;5;241;43m0\u001b[39;49m\u001b[43m,\u001b[49m\u001b[43m \u001b[49m\u001b[38;5;241;43m0\u001b[39;49m\u001b[43m]\u001b[49m\u001b[43m)\u001b[49m\u001b[43m)\u001b[49m \u001b[38;5;241m+\u001b[39m \u001b[38;5;241m1\u001b[39m) \u001b[38;5;241m/\u001b[39m \u001b[38;5;241m2\u001b[39m) \u001b[38;5;28;01mfor\u001b[39;00m luminance \u001b[38;5;129;01min\u001b[39;00m colour_steps]\n\u001b[1;32m     15\u001b[0m oklab_colors\n\u001b[1;32m     17\u001b[0m \u001b[38;5;66;03m# cielab_rgb_colors = [np.clip(((cst.cielab2rgb(cielab) + 1) / 2), 0, 1) for cielab in cielab_colors]\u001b[39;00m\n\u001b[1;32m     18\u001b[0m \u001b[38;5;66;03m# cielab_rgb_colors\u001b[39;00m\n",
      "\u001b[0;31mTypeError\u001b[0m: lab_to_rgb() missing 2 required positional arguments: 'a' and 'b'"
     ]
    }
   ],
   "source": [
    "colour_steps = np.linspace(0, 1, 10)\n",
    "\n",
    "\n",
    "\n",
    "\n",
    "\n",
    "\n",
    "rgb_colors = [[luminance, luminance, luminance] for luminance in colour_steps]\n",
    "\n",
    "\n",
    "cielab_colors = [[int(luminance * 100), 0, 0] for luminance in colour_steps]\n",
    "\n",
    "oklab_colors = [((lab_to_rgb(oklab_to_cielab([luminance, 0, 0])) + 1) / 2) for luminance in colour_steps]\n",
    "\n",
    "oklab_colors\n",
    "\n",
    "# cielab_rgb_colors = [np.clip(((cst.cielab2rgb(cielab) + 1) / 2), 0, 1) for cielab in cielab_colors]\n",
    "# cielab_rgb_colors\n"
   ]
  },
  {
   "cell_type": "code",
   "execution_count": 119,
   "metadata": {},
   "outputs": [
    {
     "name": "stdout",
     "output_type": "stream",
     "text": [
      "[ 0.45163386  0.02727252 -0.05548469]\n",
      "[array([ 0.,  0.,  0.]), array([ 0.01772763,  0.01772387,  0.01771005]), array([ 0.10598487,  0.10597062,  0.10591832]), array([ 0.21223857,  0.2122149 ,  0.21212809]), array([ 0.32788871,  0.3278548 ,  0.32773042]), array([ 0.45106941,  0.45102458,  0.45086018]), array([ 0.58060403,  0.58054773,  0.58034125]), array([ 0.71567297,  0.71560471,  0.71535435]), array([ 0.85566797,  0.85558731,  0.85529147]), array([ 1.00011723,  1.00002378,  0.99968101])]\n"
     ]
    }
   ],
   "source": [
    "import numpy as np\n",
    "import colour\n",
    "\n",
    "def oklab_to_cielab(oklab):\n",
    "    # Convert OKLab to XYZ\n",
    "    xyz = colour.Oklab_to_XYZ(oklab)\n",
    "    # Convert XYZ to CIELAB\n",
    "    cielab = colour.XYZ_to_Lab(xyz)\n",
    "    return cielab\n",
    "\n",
    "def lab_to_rgb(lab):\n",
    "    # Convert CIELAB to XYZ\n",
    "    xyz = colour.Lab_to_XYZ(lab)\n",
    "    # Convert XYZ to RGB\n",
    "    rgb = colour.XYZ_to_sRGB(xyz)\n",
    "    return rgb\n",
    "\n",
    "def oklab_to_linear_srgb(c):\n",
    "    l_ = c[0] + 0.3963377774 * c[1] + 0.2158037573 * c[2]\n",
    "    m_ = c[0] - 0.1055613458 * c[1] - 0.0638541728 * c[2]\n",
    "    s_ = c[0] - 0.0894841775 * c[1] - 1.2914855480 * c[2]\n",
    "\n",
    "    l = l_ ** 3\n",
    "    m = m_ ** 3\n",
    "    s = s_ ** 3\n",
    "\n",
    "    return np.array([\n",
    "        +4.0767416621 * l - 3.3077115913 * m + 0.2309699292 * s,\n",
    "        -1.2684380046 * l + 2.6097574011 * m - 0.3413193965 * s,\n",
    "        -0.0041960863 * l - 0.7034186147 * m + 1.7076147010 * s,\n",
    "    ])\n",
    "\n",
    "\n",
    "# Compound function to be used in psychopy (make sure this is also usable in other projects, as quite important)\n",
    "def oklab_to_rgb(oklab, psychopy_rgb:bool=False):\n",
    "    # Convert OKLab to XYZ\n",
    "    xyz = colour.Oklab_to_XYZ(oklab)\n",
    "    # Convert XYZ to RGB\n",
    "    rgb = [np.clip(((rgb_idx * 2) - 1), -1, 1) for rgb_idx in colour.XYZ_to_sRGB(xyz)] if psychopy_rgb else colour.XYZ_to_sRGB(xyz)\n",
    "\n",
    "    return rgb\n",
    "\n",
    "\n",
    "# Example usage\n",
    "c = [0.5, 0.1, 0.2]  # Example OKLab color\n",
    "linear_srgb = oklab_to_linear_srgb(c)\n",
    "print(linear_srgb)\n",
    "\n",
    "# Example usage\n",
    "colour_steps = np.linspace(0, 1, 10)  # Example luminance steps\n",
    "\n",
    "oklab_colors = [lab_to_rgb(oklab_to_cielab([luminance, 0, 0])) for luminance in colour_steps]\n",
    "oklab_colors_alt = [oklab_to_linear_srgb([luminance, 0, 0]) for luminance in colour_steps]\n",
    "oklab_colors_alt_alt = [oklab_to_rgb([luminance, 0, 0], False) for luminance in colour_steps]\n",
    "# Normalize RGB values to [0, 1] range\n",
    "# oklab_colors = [(rgb + 1) / 2 for rgb in oklab_colors]\n",
    "\n",
    "print(oklab_colors)"
   ]
  },
  {
   "cell_type": "code",
   "execution_count": 120,
   "metadata": {},
   "outputs": [
    {
     "data": {
      "text/plain": [
       "[array([ 0.,  0.,  0.]),\n",
       " array([ 0.01772763,  0.01772387,  0.01771005]),\n",
       " array([ 0.10598487,  0.10597062,  0.10591832]),\n",
       " array([ 0.21223857,  0.2122149 ,  0.21212809]),\n",
       " array([ 0.32788871,  0.3278548 ,  0.32773042]),\n",
       " array([ 0.45106941,  0.45102458,  0.45086018]),\n",
       " array([ 0.58060403,  0.58054773,  0.58034125]),\n",
       " array([ 0.71567297,  0.71560471,  0.71535435]),\n",
       " array([ 0.85566797,  0.85558731,  0.85529147]),\n",
       " array([ 1.00011723,  1.00002378,  0.99968101])]"
      ]
     },
     "execution_count": 120,
     "metadata": {},
     "output_type": "execute_result"
    }
   ],
   "source": [
    "oklab_colors_alt_alt"
   ]
  },
  {
   "cell_type": "code",
   "execution_count": 113,
   "metadata": {},
   "outputs": [
    {
     "name": "stderr",
     "output_type": "stream",
     "text": [
      "Clipping input data to the valid range for imshow with RGB data ([0..1] for floats or [0..255] for integers). Got range [0.0..1.00011722671].\n"
     ]
    },
    {
     "data": {
      "text/plain": [
       "<matplotlib.image.AxesImage at 0x17ab95f30>"
      ]
     },
     "execution_count": 113,
     "metadata": {},
     "output_type": "execute_result"
    },
    {
     "data": {
      "image/png": "[encoded data removed]",
      "text/plain": [
       "<Figure size 640x480 with 1 Axes>"
      ]
     },
     "metadata": {},
     "output_type": "display_data"
    }
   ],
   "source": [
    "# block = np.ones((100, 100, 3), dtype=np.uint8) * ((rgbColor + 1) / 2)\n",
    "dims = 100\n",
    "block = np.ones((dims + 100, dims, 3))\n",
    "\n",
    "col_no = 10\n",
    "for col in range(col_no):\n",
    "    # block[:50, int(col * dims / col_no):int((col + 1) * dims / col_no), :] = cielab_rgb_colors[col]\n",
    "    block[50:100, int(col * dims / col_no):int((col + 1) * dims / col_no), :] = oklab_colors[col]\n",
    "    block[:50, int(col * dims / col_no):int((col + 1) * dims / col_no), :] = rgb_colors[col]\n",
    "    block[100:150, int(col * dims / col_no):int((col + 1) * dims / col_no), :] = oklab_colors_alt_alt[col]\n",
    "    block[150:, int(col * dims / col_no):int((col + 1) * dims / col_no), :] = oklab_colors_alt[col]\n",
    "plt.imshow(block)\n",
    "\n",
    "# block[:, :50, :] = rgb_colors[4]\n",
    "# block[:, 50:, :] = cielab_rgb_colors[4]\n",
    "# plt.imshow(block)"
   ]
  },
  {
   "cell_type": "code",
   "execution_count": 103,
   "metadata": {},
   "outputs": [
    {
     "name": "stdout",
     "output_type": "stream",
     "text": [
      "(256, 256, 3)\n"
     ]
    },
    {
     "data": {
      "text/plain": [
       "<matplotlib.image.AxesImage at 0x16de06980>"
      ]
     },
     "execution_count": 103,
     "metadata": {},
     "output_type": "execute_result"
    },
    {
     "data": {
      "image/png": "[encoded data removed]",
      "text/plain": [
       "<Figure size 640x480 with 1 Axes>"
      ]
     },
     "metadata": {},
     "output_type": "display_data"
    }
   ],
   "source": [
    "# import the matplotlib colourmaps\n",
    "import matplotlib.cm as cm\n",
    "# Get a list of the inferno colourmap colours\n",
    "# inferno = cm.get_cmap('inferno', 10)\n",
    "# inferno = cm[\"inferno\"]\n",
    "inferno = plt.colormaps[\"inferno\"]\n",
    "\n",
    "# Get a list of the colours in the inferno colourmap\n",
    "colors = np.array(inferno.colors)\n",
    "\n",
    "# Turn the 256,3 into a square with 3 colour dimensions being 256x256x3\n",
    "colors_3d = np.repeat(colors[np.newaxis, :, :], 256, axis=0)\n",
    "\n",
    "print(colors_3d.shape)\n",
    "\n",
    "plt.imshow(colors_3d)"
   ]
  },
  {
   "cell_type": "code",
   "execution_count": 13,
   "metadata": {},
   "outputs": [
    {
     "data": {
      "text/plain": [
       "<matplotlib.image.AxesImage at 0x179e676a0>"
      ]
     },
     "execution_count": 13,
     "metadata": {},
     "output_type": "execute_result"
    },
    {
     "data": {
      "image/png": "[encoded data removed]",
      "text/plain": [
       "<Figure size 640x480 with 1 Axes>"
      ]
     },
     "metadata": {},
     "output_type": "display_data"
    }
   ],
   "source": [
    "# block = np.ones((100, 100, 3), dtype=np.uint8) * ((rgbColor + 1) / 2)\n",
    "block = np.ones((100, 100, 3))\n",
    "block[:, :50, :] = ((rgbColor + 1) / 2)\n",
    "block[:, 50:, :] = ((rgbColor + 1) / 2)\n",
    "plt.imshow(block)"
   ]
  },
  {
   "cell_type": "code",
   "execution_count": 2,
   "metadata": {},
   "outputs": [
    {
     "ename": "NameError",
     "evalue": "name 'np' is not defined",
     "output_type": "error",
     "traceback": [
      "\u001b[0;31m---------------------------------------------------------------------------\u001b[0m",
      "\u001b[0;31mNameError\u001b[0m                                 Traceback (most recent call last)",
      "Cell \u001b[0;32mIn[2], line 1\u001b[0m\n\u001b[0;32m----> 1\u001b[0m rgbtest \u001b[38;5;241m=\u001b[39m \u001b[43mlab_to_rgb\u001b[49m\u001b[43m(\u001b[49m\u001b[38;5;241;43m50\u001b[39;49m\u001b[43m,\u001b[49m\u001b[43m \u001b[49m\u001b[38;5;241;43m0\u001b[39;49m\u001b[43m,\u001b[49m\u001b[43m \u001b[49m\u001b[38;5;241;43m0\u001b[39;49m\u001b[43m)\u001b[49m\n",
      "Cell \u001b[0;32mIn[1], line 2\u001b[0m, in \u001b[0;36mlab_to_rgb\u001b[0;34m(L, a, b)\u001b[0m\n\u001b[1;32m      1\u001b[0m \u001b[38;5;28;01mdef\u001b[39;00m\u001b[38;5;250m \u001b[39m\u001b[38;5;21mlab_to_rgb\u001b[39m(L, a, b):\n\u001b[0;32m----> 2\u001b[0m     lab \u001b[38;5;241m=\u001b[39m \u001b[43mnp\u001b[49m\u001b[38;5;241m.\u001b[39marray([[[L, a, b]]], dtype\u001b[38;5;241m=\u001b[39mnp\u001b[38;5;241m.\u001b[39mfloat32)\n\u001b[1;32m      3\u001b[0m     rgb \u001b[38;5;241m=\u001b[39m color\u001b[38;5;241m.\u001b[39mlab2rgb(lab)\n\u001b[1;32m      4\u001b[0m     \u001b[38;5;66;03m# Scale to 0-255 range and return as integer values\u001b[39;00m\n",
      "\u001b[0;31mNameError\u001b[0m: name 'np' is not defined"
     ]
    }
   ],
   "source": [
    "rgbtest = lab_to_rgb(50, 0, 0)"
   ]
  },
  {
   "cell_type": "code",
   "execution_count": 22,
   "metadata": {},
   "outputs": [
    {
     "data": {
      "text/plain": [
       "[[-1.0, -1.0, -1.0],\n",
       " [-0.75, -0.75, -0.75],\n",
       " [-0.5, -0.5, -0.5],\n",
       " [-0.25, -0.25, -0.25],\n",
       " [0.0, 0.0, 0.0],\n",
       " [0.25, 0.25, 0.25],\n",
       " [0.5, 0.5, 0.5],\n",
       " [0.75, 0.75, 0.75],\n",
       " [1.0, 1.0, 1.0]]"
      ]
     },
     "execution_count": 22,
     "metadata": {},
     "output_type": "execute_result"
    }
   ],
   "source": [
    "# background_colors_lab = [([i, i, i]) for i in range(-1, 1, 10)]\n",
    "\n",
    "# background_colors_lab\n",
    "\n",
    "\n",
    "\n",
    "vals = np.round(np.linspace(-1, 1, 9), 2)\n",
    "\n",
    "lab = [([val, val, val]) for val in vals]\n",
    "\n",
    "lab"
   ]
  },
  {
   "cell_type": "code",
   "execution_count": 3,
   "metadata": {},
   "outputs": [
    {
     "ename": "AttributeError",
     "evalue": "ObjCInstance b'NSConcreteNotification' has no attribute b'type'",
     "output_type": "error",
     "traceback": [
      "\u001b[0;31m---------------------------------------------------------------------------\u001b[0m",
      "\u001b[0;31mAttributeError\u001b[0m                            Traceback (most recent call last)",
      "Cell \u001b[0;32mIn[3], line 29\u001b[0m\n\u001b[1;32m     25\u001b[0m occluder_opacity \u001b[38;5;241m=\u001b[39m config[\u001b[38;5;124m\"\u001b[39m\u001b[38;5;124moccluder_opacity\u001b[39m\u001b[38;5;124m\"\u001b[39m]\n\u001b[1;32m     27\u001b[0m exp_data \u001b[38;5;241m=\u001b[39m {par: [] \u001b[38;5;28;01mfor\u001b[39;00m par \u001b[38;5;129;01min\u001b[39;00m exp_parameters}\n\u001b[0;32m---> 29\u001b[0m win \u001b[38;5;241m=\u001b[39m \u001b[43mvisual\u001b[49m\u001b[38;5;241;43m.\u001b[39;49m\u001b[43mWindow\u001b[49m\u001b[43m(\u001b[49m\n\u001b[1;32m     30\u001b[0m \u001b[43m    \u001b[49m\u001b[43msize\u001b[49m\u001b[38;5;241;43m=\u001b[39;49m\u001b[43mwin_dims\u001b[49m\u001b[43m,\u001b[49m\u001b[43m        \u001b[49m\u001b[38;5;66;43;03m# The size of the window in pixels (width, height).\u001b[39;49;00m\n\u001b[1;32m     31\u001b[0m \u001b[43m    \u001b[49m\u001b[38;5;66;43;03m# fullscr=config[\"full_screen\"],  # Whether to run in full-screen mode. Overrides size arg\u001b[39;49;00m\n\u001b[1;32m     32\u001b[0m \u001b[43m    \u001b[49m\u001b[43mfullscr\u001b[49m\u001b[38;5;241;43m=\u001b[39;49m\u001b[38;5;28;43;01mFalse\u001b[39;49;00m\u001b[43m,\u001b[49m\n\u001b[1;32m     33\u001b[0m \u001b[43m    \u001b[49m\u001b[43mscreen\u001b[49m\u001b[38;5;241;43m=\u001b[39;49m\u001b[43mconfig\u001b[49m\u001b[43m[\u001b[49m\u001b[38;5;124;43m\"\u001b[39;49m\u001b[38;5;124;43mexperiment_screen\u001b[39;49m\u001b[38;5;124;43m\"\u001b[39;49m\u001b[43m]\u001b[49m\u001b[43m,\u001b[49m\u001b[43m  \u001b[49m\u001b[38;5;66;43;03m# The screen number to display the window on (0 is usually the primary screen).\u001b[39;49;00m\n\u001b[1;32m     34\u001b[0m \u001b[43m    \u001b[49m\u001b[43mwinType\u001b[49m\u001b[38;5;241;43m=\u001b[39;49m\u001b[38;5;124;43m\"\u001b[39;49m\u001b[38;5;124;43mpyglet\u001b[39;49m\u001b[38;5;124;43m\"\u001b[39;49m\u001b[43m,\u001b[49m\u001b[43m  \u001b[49m\u001b[38;5;66;43;03m# The backend to use for the window (e.g., 'pyglet', 'pygame').\u001b[39;49;00m\n\u001b[1;32m     35\u001b[0m \u001b[43m    \u001b[49m\u001b[43mallowStencil\u001b[49m\u001b[38;5;241;43m=\u001b[39;49m\u001b[38;5;28;43;01mFalse\u001b[39;49;00m\u001b[43m,\u001b[49m\u001b[43m  \u001b[49m\u001b[38;5;66;43;03m# Whether to allow stencil buffer (used for advanced graphics).\u001b[39;49;00m\n\u001b[1;32m     36\u001b[0m \u001b[43m    \u001b[49m\u001b[38;5;66;43;03m# monitor='testMonitor',    # The name of the monitor configuration to use (defined in the Monitor Center).\u001b[39;49;00m\n\u001b[1;32m     37\u001b[0m \u001b[43m    \u001b[49m\u001b[43mcolor\u001b[49m\u001b[38;5;241;43m=\u001b[39;49m\u001b[43m[\u001b[49m\u001b[38;5;241;43m-\u001b[39;49m\u001b[38;5;241;43m.25\u001b[39;49m\u001b[43m,\u001b[49m\u001b[43m \u001b[49m\u001b[38;5;241;43m-\u001b[39;49m\u001b[38;5;241;43m.25\u001b[39;49m\u001b[43m,\u001b[49m\u001b[43m \u001b[49m\u001b[38;5;241;43m-\u001b[39;49m\u001b[38;5;241;43m.25\u001b[39;49m\u001b[43m]\u001b[49m\u001b[43m,\u001b[49m\u001b[43m  \u001b[49m\u001b[38;5;66;43;03m# [0, 0, 0],          # The background color of the window (in RGB space).\u001b[39;49;00m\n\u001b[1;32m     38\u001b[0m \u001b[43m    \u001b[49m\u001b[43mcolorSpace\u001b[49m\u001b[38;5;241;43m=\u001b[39;49m\u001b[38;5;124;43m\"\u001b[39;49m\u001b[38;5;124;43mrgb\u001b[39;49m\u001b[38;5;124;43m\"\u001b[39;49m\u001b[43m,\u001b[49m\u001b[43m  \u001b[49m\u001b[38;5;66;43;03m# The color space for the background color (e.g., 'rgb', 'dkl', 'lms').\u001b[39;49;00m\n\u001b[1;32m     39\u001b[0m \u001b[43m    \u001b[49m\u001b[43mbackgroundImage\u001b[49m\u001b[38;5;241;43m=\u001b[39;49m\u001b[38;5;124;43m\"\u001b[39;49m\u001b[38;5;124;43m\"\u001b[39;49m\u001b[43m,\u001b[49m\u001b[43m  \u001b[49m\u001b[38;5;66;43;03m# Path to an image file to use as the background.\u001b[39;49;00m\n\u001b[1;32m     40\u001b[0m \u001b[43m    \u001b[49m\u001b[43mbackgroundFit\u001b[49m\u001b[38;5;241;43m=\u001b[39;49m\u001b[38;5;124;43m\"\u001b[39;49m\u001b[38;5;124;43mnone\u001b[39;49m\u001b[38;5;124;43m\"\u001b[39;49m\u001b[43m,\u001b[49m\u001b[43m  \u001b[49m\u001b[38;5;66;43;03m# How to fit the background image ('none', 'fit', 'stretch').\u001b[39;49;00m\n\u001b[1;32m     41\u001b[0m \u001b[43m    \u001b[49m\u001b[43mblendMode\u001b[49m\u001b[38;5;241;43m=\u001b[39;49m\u001b[38;5;124;43m\"\u001b[39;49m\u001b[38;5;124;43mavg\u001b[39;49m\u001b[38;5;124;43m\"\u001b[39;49m\u001b[43m,\u001b[49m\u001b[43m  \u001b[49m\u001b[38;5;66;43;03m# The blend mode for drawing (e.g., 'avg', 'add').\u001b[39;49;00m\n\u001b[1;32m     42\u001b[0m \u001b[43m    \u001b[49m\u001b[43museFBO\u001b[49m\u001b[38;5;241;43m=\u001b[39;49m\u001b[38;5;28;43;01mTrue\u001b[39;49;00m\u001b[43m,\u001b[49m\u001b[43m  \u001b[49m\u001b[38;5;66;43;03m# Whether to use Frame Buffer Objects (for advanced graphics).\u001b[39;49;00m\n\u001b[1;32m     43\u001b[0m \u001b[43m    \u001b[49m\u001b[43munits\u001b[49m\u001b[38;5;241;43m=\u001b[39;49m\u001b[38;5;124;43m\"\u001b[39;49m\u001b[38;5;124;43mpix\u001b[39;49m\u001b[38;5;124;43m\"\u001b[39;49m\u001b[43m,\u001b[49m\u001b[43m  \u001b[49m\u001b[38;5;66;43;03m# The default units for window operations (e.g., 'pix', 'norm', 'cm', 'deg', 'height').\u001b[39;49;00m\n\u001b[1;32m     44\u001b[0m \u001b[43m)\u001b[49m\n",
      "File \u001b[0;32m~/miniconda3/envs/int_physics_env/lib/python3.10/site-packages/psychopy/visual/window.py:634\u001b[0m, in \u001b[0;36mWindow.__init__\u001b[0;34m(self, size, pos, color, colorSpace, backgroundImage, backgroundFit, rgb, dkl, lms, fullscr, allowGUI, monitor, bitsMode, winType, units, gamma, blendMode, screen, viewScale, viewPos, viewOri, waitBlanking, allowStencil, multiSample, numSamples, stereo, name, title, checkTiming, useFBO, useRetina, autoLog, gammaErrorPolicy, bpc, depthBits, stencilBits, backendConf, infoMsg)\u001b[0m\n\u001b[1;32m    632\u001b[0m \u001b[38;5;28mself\u001b[39m\u001b[38;5;241m.\u001b[39mmonitorFramePeriod \u001b[38;5;241m=\u001b[39m \u001b[38;5;241m0.0\u001b[39m\n\u001b[1;32m    633\u001b[0m \u001b[38;5;28;01mif\u001b[39;00m checkTiming:\n\u001b[0;32m--> 634\u001b[0m     \u001b[38;5;28mself\u001b[39m\u001b[38;5;241m.\u001b[39m_monitorFrameRate \u001b[38;5;241m=\u001b[39m \u001b[38;5;28;43mself\u001b[39;49m\u001b[38;5;241;43m.\u001b[39;49m\u001b[43mgetActualFrameRate\u001b[49m\u001b[43m(\u001b[49m\u001b[43minfoMsg\u001b[49m\u001b[38;5;241;43m=\u001b[39;49m\u001b[43minfoMsg\u001b[49m\u001b[43m)\u001b[49m\n\u001b[1;32m    636\u001b[0m \u001b[38;5;28;01mif\u001b[39;00m \u001b[38;5;28mself\u001b[39m\u001b[38;5;241m.\u001b[39m_monitorFrameRate \u001b[38;5;129;01mis\u001b[39;00m \u001b[38;5;129;01mnot\u001b[39;00m \u001b[38;5;28;01mNone\u001b[39;00m:\n\u001b[1;32m    637\u001b[0m     \u001b[38;5;28mself\u001b[39m\u001b[38;5;241m.\u001b[39mmonitorFramePeriod \u001b[38;5;241m=\u001b[39m \u001b[38;5;241m1.0\u001b[39m \u001b[38;5;241m/\u001b[39m \u001b[38;5;28mself\u001b[39m\u001b[38;5;241m.\u001b[39m_monitorFrameRate\n",
      "File \u001b[0;32m~/miniconda3/envs/int_physics_env/lib/python3.10/site-packages/psychopy/visual/window.py:3514\u001b[0m, in \u001b[0;36mWindow.getActualFrameRate\u001b[0;34m(self, nIdentical, nMaxFrames, nWarmUpFrames, threshold, infoMsg)\u001b[0m\n\u001b[1;32m   3512\u001b[0m threshSecs \u001b[38;5;241m=\u001b[39m threshold \u001b[38;5;241m/\u001b[39m \u001b[38;5;241m1000.0\u001b[39m  \u001b[38;5;66;03m# must be in seconds\u001b[39;00m\n\u001b[1;32m   3513\u001b[0m \u001b[38;5;28;01mfor\u001b[39;00m frameN \u001b[38;5;129;01min\u001b[39;00m \u001b[38;5;28mrange\u001b[39m(nMaxFrames):\n\u001b[0;32m-> 3514\u001b[0m     \u001b[38;5;28;43mself\u001b[39;49m\u001b[38;5;241;43m.\u001b[39;49m\u001b[43mflip\u001b[49m\u001b[43m(\u001b[49m\u001b[43m)\u001b[49m\n\u001b[1;32m   3515\u001b[0m     recentFrames \u001b[38;5;241m=\u001b[39m \u001b[38;5;28mself\u001b[39m\u001b[38;5;241m.\u001b[39mframeIntervals[\u001b[38;5;241m-\u001b[39mnIdentical:]\n\u001b[1;32m   3516\u001b[0m     nIntervals \u001b[38;5;241m=\u001b[39m \u001b[38;5;28mlen\u001b[39m(\u001b[38;5;28mself\u001b[39m\u001b[38;5;241m.\u001b[39mframeIntervals)\n",
      "File \u001b[0;32m~/miniconda3/envs/int_physics_env/lib/python3.10/site-packages/psychopy/visual/window.py:1266\u001b[0m, in \u001b[0;36mWindow.flip\u001b[0;34m(self, clearBuffer)\u001b[0m\n\u001b[1;32m   1263\u001b[0m \u001b[38;5;66;03m# call this before flip() whether FBO was used or not\u001b[39;00m\n\u001b[1;32m   1264\u001b[0m \u001b[38;5;28mself\u001b[39m\u001b[38;5;241m.\u001b[39m_afterFBOrender()\n\u001b[0;32m-> 1266\u001b[0m \u001b[38;5;28;43mself\u001b[39;49m\u001b[38;5;241;43m.\u001b[39;49m\u001b[43mbackend\u001b[49m\u001b[38;5;241;43m.\u001b[39;49m\u001b[43mswapBuffers\u001b[49m\u001b[43m(\u001b[49m\u001b[43mflipThisFrame\u001b[49m\u001b[43m)\u001b[49m\n\u001b[1;32m   1268\u001b[0m \u001b[38;5;28;01mif\u001b[39;00m \u001b[38;5;28mself\u001b[39m\u001b[38;5;241m.\u001b[39museFBO \u001b[38;5;129;01mand\u001b[39;00m flipThisFrame:\n\u001b[1;32m   1269\u001b[0m     \u001b[38;5;66;03m# set rendering back to the framebuffer object\u001b[39;00m\n\u001b[1;32m   1270\u001b[0m     GL\u001b[38;5;241m.\u001b[39mglBindFramebufferEXT(\n\u001b[1;32m   1271\u001b[0m         GL\u001b[38;5;241m.\u001b[39mGL_FRAMEBUFFER_EXT, \u001b[38;5;28mself\u001b[39m\u001b[38;5;241m.\u001b[39mframeBuffer)\n",
      "File \u001b[0;32m~/miniconda3/envs/int_physics_env/lib/python3.10/site-packages/psychopy/visual/backends/pygletbackend.py:421\u001b[0m, in \u001b[0;36mPygletBackend.swapBuffers\u001b[0;34m(self, flipThisFrame)\u001b[0m\n\u001b[1;32m    418\u001b[0m         dispatcher\u001b[38;5;241m.\u001b[39m_dispatch_events()\n\u001b[1;32m    420\u001b[0m \u001b[38;5;66;03m# this might need to be done even more often than once per frame?\u001b[39;00m\n\u001b[0;32m--> 421\u001b[0m \u001b[38;5;28;43mself\u001b[39;49m\u001b[38;5;241;43m.\u001b[39;49m\u001b[43mwinHandle\u001b[49m\u001b[38;5;241;43m.\u001b[39;49m\u001b[43mdispatch_events\u001b[49m\u001b[43m(\u001b[49m\u001b[43m)\u001b[49m\n\u001b[1;32m    423\u001b[0m \u001b[38;5;66;03m# for pyglet 1.1.4 you needed to call media.dispatch for\u001b[39;00m\n\u001b[1;32m    424\u001b[0m \u001b[38;5;66;03m# movie updating\u001b[39;00m\n\u001b[1;32m    425\u001b[0m \u001b[38;5;28;01mif\u001b[39;00m pyglet\u001b[38;5;241m.\u001b[39mversion \u001b[38;5;241m<\u001b[39m \u001b[38;5;124m'\u001b[39m\u001b[38;5;124m1.2\u001b[39m\u001b[38;5;124m'\u001b[39m:\n",
      "File \u001b[0;32m~/miniconda3/envs/int_physics_env/lib/python3.10/site-packages/pyglet/window/cocoa/__init__.py:312\u001b[0m, in \u001b[0;36mCocoaWindow.dispatch_events\u001b[0;34m(self)\u001b[0m\n\u001b[1;32m    308\u001b[0m event \u001b[38;5;241m=\u001b[39m NSApp\u001b[38;5;241m.\u001b[39mnextEventMatchingMask_untilDate_inMode_dequeue_(\n\u001b[1;32m    309\u001b[0m     cocoapy\u001b[38;5;241m.\u001b[39mNSAnyEventMask, \u001b[38;5;28;01mNone\u001b[39;00m, cocoapy\u001b[38;5;241m.\u001b[39mNSEventTrackingRunLoopMode, \u001b[38;5;28;01mTrue\u001b[39;00m)\n\u001b[1;32m    311\u001b[0m \u001b[38;5;28;01mif\u001b[39;00m event:\n\u001b[0;32m--> 312\u001b[0m     event_type \u001b[38;5;241m=\u001b[39m \u001b[43mevent\u001b[49m\u001b[38;5;241;43m.\u001b[39;49m\u001b[43mtype\u001b[49m()\n\u001b[1;32m    313\u001b[0m     \u001b[38;5;66;03m# Pass on all events.\u001b[39;00m\n\u001b[1;32m    314\u001b[0m     NSApp\u001b[38;5;241m.\u001b[39msendEvent_(event)\n",
      "File \u001b[0;32m~/miniconda3/envs/int_physics_env/lib/python3.10/site-packages/pyglet/libs/darwin/cocoapy/runtime.py:1009\u001b[0m, in \u001b[0;36mObjCInstance.__getattr__\u001b[0;34m(self, name)\u001b[0m\n\u001b[1;32m   1007\u001b[0m     \u001b[38;5;28;01mreturn\u001b[39;00m ObjCBoundMethod(method, \u001b[38;5;28mself\u001b[39m\u001b[38;5;241m.\u001b[39mobjc_class\u001b[38;5;241m.\u001b[39mptr)\n\u001b[1;32m   1008\u001b[0m \u001b[38;5;66;03m# Otherwise raise an exception.\u001b[39;00m\n\u001b[0;32m-> 1009\u001b[0m \u001b[38;5;28;01mraise\u001b[39;00m \u001b[38;5;167;01mAttributeError\u001b[39;00m(\u001b[38;5;124m'\u001b[39m\u001b[38;5;124mObjCInstance \u001b[39m\u001b[38;5;132;01m%s\u001b[39;00m\u001b[38;5;124m has no attribute \u001b[39m\u001b[38;5;132;01m%s\u001b[39;00m\u001b[38;5;124m'\u001b[39m \u001b[38;5;241m%\u001b[39m (\u001b[38;5;28mself\u001b[39m\u001b[38;5;241m.\u001b[39mobjc_class\u001b[38;5;241m.\u001b[39mname, name))\n",
      "\u001b[0;31mAttributeError\u001b[0m: ObjCInstance b'NSConcreteNotification' has no attribute b'type'"
     ]
    }
   ],
   "source": [
    "sys.path.append(\n",
    "    \"/Users/wiegerscheurer/repos/physicspred\"\n",
    ")  # To enable importing from repository folders\n",
    "\n",
    "\n",
    "\n",
    "from functions.physics import get_bounce_dist\n",
    "\n",
    "# Load configuration from YAML file\n",
    "config_path = os.path.join(\"/Users/wiegerscheurer/repos/physicspred/\", \"config_lumin.yaml\")\n",
    "with open(config_path, \"r\") as file:\n",
    "    config = yaml.safe_load(file)\n",
    "\n",
    "occluder_type = config[\"occluder_type\"]  # \"square\" or \"cross\"\n",
    "# Access parameters from the config dictionary\n",
    "win_dims = config['win_dims']\n",
    "# ball_speed = config['ball_speed']\n",
    "ball_radius = config[\"ball_radius\"]\n",
    "interactor_height = config[\"interactor_height\"]\n",
    "interactor_width = config[\"interactor_width\"]\n",
    "occluder_radius = config[\"occluder_radius\"]\n",
    "verbose = config[\"verbose\"]\n",
    "exp_parameters = config[\"exp_parameters\"]\n",
    "square_size = config[\"square_size\"]\n",
    "occluder_opacity = config[\"occluder_opacity\"]\n",
    "\n",
    "exp_data = {par: [] for par in exp_parameters}\n",
    "\n",
    "win = visual.Window(\n",
    "    size=win_dims,        # The size of the window in pixels (width, height).\n",
    "    # fullscr=config[\"full_screen\"],  # Whether to run in full-screen mode. Overrides size arg\n",
    "    fullscr=False,\n",
    "    screen=config[\"experiment_screen\"],  # The screen number to display the window on (0 is usually the primary screen).\n",
    "    winType=\"pyglet\",  # The backend to use for the window (e.g., 'pyglet', 'pygame').\n",
    "    allowStencil=False,  # Whether to allow stencil buffer (used for advanced graphics).\n",
    "    # monitor='testMonitor',    # The name of the monitor configuration to use (defined in the Monitor Center).\n",
    "    color=[-.25, -.25, -.25],  # [0, 0, 0],          # The background color of the window (in RGB space).\n",
    "    colorSpace=\"rgb\",  # The color space for the background color (e.g., 'rgb', 'dkl', 'lms').\n",
    "    backgroundImage=\"\",  # Path to an image file to use as the background.\n",
    "    backgroundFit=\"none\",  # How to fit the background image ('none', 'fit', 'stretch').\n",
    "    blendMode=\"avg\",  # The blend mode for drawing (e.g., 'avg', 'add').\n",
    "    useFBO=True,  # Whether to use Frame Buffer Objects (for advanced graphics).\n",
    "    units=\"pix\",  # The default units for window operations (e.g., 'pix', 'norm', 'cm', 'deg', 'height').\n",
    ")"
   ]
  },
  {
   "cell_type": "code",
   "execution_count": 4,
   "metadata": {},
   "outputs": [
    {
     "ename": "AttributeError",
     "evalue": "module 'psychopy.tools' has no attribute 'monitorunpack'",
     "output_type": "error",
     "traceback": [
      "\u001b[0;31m---------------------------------------------------------------------------\u001b[0m",
      "\u001b[0;31mAttributeError\u001b[0m                            Traceback (most recent call last)",
      "Cell \u001b[0;32mIn[4], line 3\u001b[0m\n\u001b[1;32m      1\u001b[0m \u001b[38;5;66;03m# For monitor-calibrated luminance (ideal)\u001b[39;00m\n\u001b[1;32m      2\u001b[0m \u001b[38;5;28;01mfrom\u001b[39;00m\u001b[38;5;250m \u001b[39m\u001b[38;5;21;01mpsychopy\u001b[39;00m\u001b[38;5;250m \u001b[39m\u001b[38;5;28;01mimport\u001b[39;00m tools\n\u001b[0;32m----> 3\u001b[0m target_lum \u001b[38;5;241m=\u001b[39m \u001b[43mtools\u001b[49m\u001b[38;5;241;43m.\u001b[39;49m\u001b[43mmonitorunpack\u001b[49m\u001b[38;5;241m.\u001b[39mMonitorGamma(win\u001b[38;5;241m.\u001b[39mmonitor)\u001b[38;5;241m.\u001b[39mreverse([\u001b[38;5;241m-\u001b[39m\u001b[38;5;241m.25\u001b[39m, \u001b[38;5;241m-\u001b[39m\u001b[38;5;241m.25\u001b[39m, \u001b[38;5;241m-\u001b[39m\u001b[38;5;241m.25\u001b[39m])\n\u001b[1;32m      5\u001b[0m \u001b[38;5;66;03m# For approximate calculations without photometer\u001b[39;00m\n\u001b[1;32m      6\u001b[0m Y \u001b[38;5;241m=\u001b[39m \u001b[38;5;241m0.2126\u001b[39m\u001b[38;5;241m*\u001b[39mR \u001b[38;5;241m+\u001b[39m \u001b[38;5;241m0.7152\u001b[39m\u001b[38;5;241m*\u001b[39mG \u001b[38;5;241m+\u001b[39m \u001b[38;5;241m0.0722\u001b[39m\u001b[38;5;241m*\u001b[39mB  \u001b[38;5;66;03m# Standard luminance formula\u001b[39;00m\n",
      "\u001b[0;31mAttributeError\u001b[0m: module 'psychopy.tools' has no attribute 'monitorunpack'"
     ]
    },
    {
     "ename": "",
     "evalue": "",
     "output_type": "error",
     "traceback": [
      "\u001b[1;31mThe Kernel crashed while executing code in the the current cell or a previous cell. Please review the code in the cell(s) to identify a possible cause of the failure. Click <a href='https://aka.ms/vscodeJupyterKernelCrash'>here</a> for more info. View Jupyter <a href='command:jupyter.viewOutput'>log</a> for further details."
     ]
    }
   ],
   "source": [
    "# For monitor-calibrated luminance (ideal)\n",
    "from psychopy import tools\n",
    "target_lum = tools.monitorunpack.MonitorGamma(win.monitor).reverse([-.25, -.25, -.25])\n",
    "\n",
    "# For approximate calculations without photometer\n",
    "Y = 0.2126*R + 0.7152*G + 0.0722*B  # Standard luminance formula\n"
   ]
  },
  {
   "cell_type": "markdown",
   "metadata": {},
   "source": []
  }
 ],
 "metadata": {
  "kernelspec": {
   "display_name": "wieg_env_nsd",
   "language": "python",
   "name": "python3"
  },
  "language_info": {
   "codemirror_mode": {
    "name": "ipython",
    "version": 3
   },
   "file_extension": ".py",
   "mimetype": "text/x-python",
   "name": "python",
   "nbconvert_exporter": "python",
   "pygments_lexer": "ipython3",
   "version": "3.10.16"
  }
 },
 "nbformat": 4,
 "nbformat_minor": 2
}
