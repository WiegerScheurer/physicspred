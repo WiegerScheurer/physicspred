{
 "cells": [
  {
   "cell_type": "code",
   "execution_count": 60,
   "metadata": {},
   "outputs": [],
   "source": [
    "import sys, os, random\n",
    "import numpy as np\n",
    "import pandas as pd\n",
    "import matplotlib.pyplot as plt\n",
    "import plotly.graph_objects as go\n"
   ]
  },
  {
   "cell_type": "code",
   "execution_count": 61,
   "metadata": {},
   "outputs": [],
   "source": [
    "sys.path.append(\n",
    "    \"/Users/wiegerscheurer/repos/physicspred\"\n",
    ")  # To enable importing from repository folders"
   ]
  },
  {
   "cell_type": "code",
   "execution_count": 3,
   "metadata": {},
   "outputs": [
    {
     "data": {
      "text/plain": [
       "68.18181818181817"
      ]
     },
     "execution_count": 3,
     "metadata": {},
     "output_type": "execute_result"
    }
   ],
   "source": [
    "150/2.2\n",
    "\n",
    "\n"
   ]
  },
  {
   "cell_type": "code",
   "execution_count": 62,
   "metadata": {},
   "outputs": [],
   "source": [
    "from functions.physics import _rotate_90, _dir_to_vec, _vec_to_dir, _flip_dir\n",
    "from functions.utilities import determine_sequence\n",
    "from functions.analysis import (get_precision, \n",
    "                                get_data, \n",
    "                                get_false_negatives,\n",
    "                                get_false_positives,\n",
    "                                get_true_positives,\n",
    "                                get_true_negatives,\n",
    "                                filter_condition,\n",
    "                                get_f1_score, \n",
    "                                get_rt, \n",
    "                                get_accuracy,\n",
    "                                get_hit_rate,)\n"
   ]
  },
  {
   "cell_type": "markdown",
   "metadata": {},
   "source": [
    "### BALANCING THEM TRIALS"
   ]
  },
  {
   "cell_type": "code",
   "execution_count": null,
   "metadata": {},
   "outputs": [],
   "source": [
    "interactor_trial_options = [\"45_top_r\", \"45_top_u\",\n",
    "                            \"45_bottom_l\", \"45_bottom_d\",\n",
    "                            \"135_top_l\", \"135_top_u\",\n",
    "                            \"135_bottom_r\", \"135_bottom_d\"]\n",
    "empty_trial_options = [\"none_l\", \"none_r\", \"none_u\", \"none_d\"]  # For the none trials\n",
    "\n",
    "\n",
    "bounce_options = [True, False]\n",
    "rand_bounce_direction_options = [\"left\", \"right\"] * 2\n",
    "random.shuffle(rand_bounce_direction_options)\n",
    "\n",
    "\n",
    "target_baserate = .5\n",
    "ball_change_options = [True] * 1 + [False] * int((1 / target_baserate) - 1)\n",
    "# rand_speed_change_options = [\"slower\", \"faster\"]\n",
    "natural_speed_variance = .5 #config[\"natural_speed_variance\"]\n",
    "avg_ball_speed = 11\n",
    "\n",
    "ball_speed_options = list(\n",
    "    np.arange(\n",
    "        avg_ball_speed - natural_speed_variance,\n",
    "        avg_ball_speed + (2 * natural_speed_variance),\n",
    "        natural_speed_variance,\n",
    "    )\n",
    ")\n",
    "\n",
    "\n",
    "\n",
    "trial_types = determine_sequence(n_trials, [1, 0], randomised=True) # 1 is interactor, 0 is empty trial\n",
    "\n",
    "interactor_trials = balance_over_bool(trial_types, interactor_trial_options, randomised=True)\n",
    "\n",
    "# Create deterministically randomised; balanced parameter sequences\n",
    "trials = determine_sequence(n_trials, trial_options, randomised=True)\n",
    "\n",
    "bounces = determine_sequence(n_trials, bounce_options, randomised=True)\n",
    "\n",
    "rand_bounce_directions = get_phantbounce_sequence(trials, rand_bounce_direction_options, randomised=True) # Random phantom bounce direction\n",
    "\n",
    "ball_changes = determine_sequence(n_trials, ball_change_options, randomised=True)\n",
    "rand_speed_changes = determine_sequence(\n",
    "    n_trials, rand_speed_change_options, randomised=True\n",
    ")\n",
    "ball_speeds = determine_sequence(n_trials, ball_speed_options, randomised=True)\n",
    "\n",
    "ball_spawn_spread = config[\n",
    "    \"ball_spawn_spread\"\n",
    "]  # Margin around fixation where the ball can spawn (smaller = )\n"
   ]
  },
  {
   "cell_type": "code",
   "execution_count": 92,
   "metadata": {},
   "outputs": [
    {
     "name": "stdout",
     "output_type": "stream",
     "text": [
      "Total trials: 24\n",
      "\n",
      "Trial type balance:\n",
      "trial_type\n",
      "empty         12\n",
      "interactor    12\n",
      "Name: count, dtype: int64\n",
      "\n",
      "Trial option balance for interactor trials:\n",
      "trial_option\n",
      "135_bottom_d    2\n",
      "135_bottom_r    2\n",
      "135_top_l       1\n",
      "135_top_u       1\n",
      "45_bottom_d     2\n",
      "45_bottom_l     1\n",
      "45_top_r        1\n",
      "45_top_u        2\n",
      "Name: count, dtype: int64\n",
      "Variance: 0.29\n",
      "\n",
      "Trial option balance for empty trials:\n",
      "trial_option\n",
      "none_d    3\n",
      "none_l    3\n",
      "none_r    3\n",
      "none_u    3\n",
      "Name: count, dtype: int64\n",
      "Variance: 0.00\n",
      "\n",
      "Bounce balance:\n",
      "bounce\n",
      "False    13\n",
      "True     11\n",
      "Name: count, dtype: int64\n",
      "\n",
      "Ball change balance:\n",
      "ball_change\n",
      "False    12\n",
      "True     12\n",
      "Name: count, dtype: int64\n",
      "\n",
      "Ball speed balance:\n",
      "ball_speed\n",
      "5.25     7\n",
      "5.50    10\n",
      "5.75     7\n",
      "Name: count, dtype: int64\n",
      "\n",
      "Cross-tabulation of trial_type × bounce:\n",
      "bounce      False  True \n",
      "trial_type              \n",
      "empty           6      6\n",
      "interactor      7      5\n",
      "\n",
      "Cross-tabulation of trial_type × ball_change:\n",
      "ball_change  False  True \n",
      "trial_type               \n",
      "empty            6      6\n",
      "interactor       6      6\n",
      "\n",
      "Cross-tabulation of bounce × ball_change:\n",
      "ball_change  False  True \n",
      "bounce                   \n",
      "False            8      5\n",
      "True             4      7\n",
      "\n",
      "Balance within interactor trial types:\n",
      "\n",
      "135_bottom_d:\n",
      "  Total: 2\n",
      "  Bounce: {False: 1, True: 1}\n",
      "  Ball Change: {True: 2}\n",
      "  Ball Speed: {5.25: 1, 5.5: 1}\n",
      "\n",
      "135_bottom_r:\n",
      "  Total: 2\n",
      "  Bounce: {True: 1, False: 1}\n",
      "  Ball Change: {True: 1, False: 1}\n",
      "  Ball Speed: {5.75: 1, 5.5: 1}\n",
      "\n",
      "135_top_l:\n",
      "  Total: 1\n",
      "  Bounce: {False: 1}\n",
      "  Ball Change: {False: 1}\n",
      "  Ball Speed: {5.75: 1}\n",
      "\n",
      "135_top_u:\n",
      "  Total: 1\n",
      "  Bounce: {False: 1}\n",
      "  Ball Change: {False: 1}\n",
      "  Ball Speed: {5.25: 1}\n",
      "\n",
      "45_bottom_d:\n",
      "  Total: 2\n",
      "  Bounce: {True: 2}\n",
      "  Ball Change: {True: 1, False: 1}\n",
      "  Ball Speed: {5.5: 1, 5.75: 1}\n",
      "\n",
      "45_bottom_l:\n",
      "  Total: 1\n",
      "  Bounce: {False: 1}\n",
      "  Ball Change: {False: 1}\n",
      "  Ball Speed: {5.75: 1}\n",
      "\n",
      "45_top_r:\n",
      "  Total: 1\n",
      "  Bounce: {False: 1}\n",
      "  Ball Change: {True: 1}\n",
      "  Ball Speed: {5.25: 1}\n",
      "\n",
      "45_top_u:\n",
      "  Total: 2\n",
      "  Bounce: {False: 1, True: 1}\n",
      "  Ball Change: {False: 1, True: 1}\n",
      "  Ball Speed: {5.5: 1, 5.25: 1}\n",
      "\n",
      "Balance within empty trial types:\n",
      "\n",
      "none_d:\n",
      "  Total: 3\n",
      "  Bounce: {True: 2, False: 1}\n",
      "  Ball Change: {False: 2, True: 1}\n",
      "  Ball Speed: {5.5: 3}\n",
      "\n",
      "none_l:\n",
      "  Total: 3\n",
      "  Bounce: {False: 2, True: 1}\n",
      "  Ball Change: {True: 2, False: 1}\n",
      "  Ball Speed: {5.5: 1, 5.75: 1, 5.25: 1}\n",
      "\n",
      "none_r:\n",
      "  Total: 3\n",
      "  Bounce: {False: 3}\n",
      "  Ball Change: {True: 2, False: 1}\n",
      "  Ball Speed: {5.5: 2, 5.25: 1}\n",
      "\n",
      "none_u:\n",
      "  Total: 3\n",
      "  Bounce: {True: 3}\n",
      "  Ball Change: {False: 2, True: 1}\n",
      "  Ball Speed: {5.75: 2, 5.25: 1}\n"
     ]
    }
   ],
   "source": [
    "from functions.utilities import check_balance\n",
    "# load in csv file as pd.dataframe\n",
    "df = pd.read_csv('/Users/wiegerscheurer/repos/physicspred/data/sub-690800/ball_hue/design_matrix.csv')\n",
    "\n",
    "check_balance(df)"
   ]
  },
  {
   "cell_type": "markdown",
   "metadata": {},
   "source": [
    "#### Acquire data per sub"
   ]
  },
  {
   "cell_type": "code",
   "execution_count": 50,
   "metadata": {},
   "outputs": [],
   "source": [
    "all_sub_names = [\"wolpert\", \"wunger\",\"scheur\", \"hendrik\", \"willem\", \"ikzelf\", \"melvin\", \"paulo\", \"yifan\", \"ann\", \"qifei\", \"mingyao\", \"bilge\", \"yanni\", \"eva\"]\n",
    "sub_stack = pd.DataFrame()\n",
    "\n",
    "for sub_idx, sub in enumerate(all_sub_names):\n",
    "    this_sub = get_data(subject=f\"sub-{sub}\", task=\"ball_hue\")\n",
    "    sub_stack = pd.concat([sub_stack, this_sub])\n",
    "    \n",
    "sub_stack.reset_index(inplace=True, drop=True)\n",
    "# sub_stack"
   ]
  },
  {
   "cell_type": "code",
   "execution_count": 51,
   "metadata": {},
   "outputs": [
    {
     "name": "stdout",
     "output_type": "stream",
     "text": [
      "willem\n",
      "3\n",
      "0.4469702083539839 0.017712759192814186\n",
      "3\n",
      "0.42305147224881995 0.012704657845265744\n",
      "3\n",
      "0.4377223887713626 0.01365834507879117\n",
      "3\n",
      "nan nan\n"
     ]
    }
   ],
   "source": [
    "this_sub = random.choice(all_sub_names)\n",
    "print(this_sub)\n",
    "sub = get_data(subject=f\"sub-{this_sub}\", task=\"ball_hue\")\n",
    "\n",
    "simc_xpolc = get_rt(df=sub, sim_con=True, expol_con=True, return_df=True)[\"rt\"]\n",
    "simc_xpoli = get_rt(df=sub, sim_con=True, expol_con=False, return_df=True)[\"rt\"]\n",
    "simi_xpolc = get_rt(df=sub, sim_con=False, expol_con=True, return_df=True)[\"rt\"]\n",
    "simi_xpoli = get_rt(df=sub, sim_con=False, expol_con=False, return_df=True)[\"rt\"]\n",
    "\n",
    "\n",
    "all_kinds = [simc_xpolc, simc_xpoli, simi_xpolc, simi_xpoli]\n",
    "\n",
    "for kind in all_kinds:\n",
    "    print(len(kind))\n",
    "    print(kind.mean(), kind.std())\n"
   ]
  },
  {
   "cell_type": "markdown",
   "metadata": {},
   "source": [
    "#### Integrate in pilot script"
   ]
  },
  {
   "cell_type": "code",
   "execution_count": 72,
   "metadata": {},
   "outputs": [
    {
     "name": "stdout",
     "output_type": "stream",
     "text": [
      "Now looking at : 620647\n",
      "sim_con: True, expol_con: True\n",
      "6\n",
      "sim_con: True, expol_con: False\n",
      "6\n",
      "sim_con: False, expol_con: True\n",
      "6\n",
      "sim_con: False, expol_con: False\n",
      "6\n"
     ]
    }
   ],
   "source": [
    "sim_cons = [True, False]\n",
    "expol_cons = [True, False]\n",
    "# randsub = random.choice(all_sub_names)\n",
    "randsub = \"620647\"\n",
    "print(f\"Now looking at : {randsub}\")\n",
    "for sim_con in sim_cons:\n",
    "    \n",
    "    for expol_con in expol_cons:\n",
    "        \n",
    "        print(f\"sim_con: {sim_con}, expol_con: {expol_con}\")\n",
    "        dat = get_data(subject=f\"sub-{randsub}\", task=\"ball_hue\")\n",
    "        dat_filt = dat[(dat[\"sim_congruent\"] == sim_con) & (dat[\"abs_congruent\"] == expol_con)]\n",
    "        print(len(dat_filt))"
   ]
  },
  {
   "cell_type": "code",
   "execution_count": 93,
   "metadata": {},
   "outputs": [
    {
     "data": {
      "text/plain": [
       "15     left\n",
       "10     down\n",
       "21      NaN\n",
       "12       up\n",
       "6       NaN\n",
       "18      NaN\n",
       "19      NaN\n",
       "3     right\n",
       "16      NaN\n",
       "5       NaN\n",
       "23     left\n",
       "13      NaN\n",
       "17      NaN\n",
       "11      NaN\n",
       "9      left\n",
       "14      NaN\n",
       "7       NaN\n",
       "2      left\n",
       "8       NaN\n",
       "20      NaN\n",
       "22    right\n",
       "4       NaN\n",
       "1      left\n",
       "0       NaN\n",
       "Name: response, dtype: object"
      ]
     },
     "execution_count": 93,
     "metadata": {},
     "output_type": "execute_result"
    }
   ],
   "source": [
    "wie = get_data(subject=\"sub-690800\", task=\"ball_hue\")\n",
    "\n",
    "n_targets = len(wie[wie[\"ball_change\"] == 1]) # 20\n",
    "n_nones = len(wie[wie[\"interactor\"] == \"none_d\"])# 20\n",
    "n_nones\n",
    "\n",
    "# sort dataframe based on trials column\n",
    "wie.sort_values(by=\"interactor\", inplace=True)\n",
    "\n",
    "wie[\"response\"]"
   ]
  },
  {
   "cell_type": "code",
   "execution_count": 65,
   "metadata": {},
   "outputs": [
    {
     "data": {
      "text/html": [
       "<div>\n",
       "<style scoped>\n",
       "    .dataframe tbody tr th:only-of-type {\n",
       "        vertical-align: middle;\n",
       "    }\n",
       "\n",
       "    .dataframe tbody tr th {\n",
       "        vertical-align: top;\n",
       "    }\n",
       "\n",
       "    .dataframe thead th {\n",
       "        text-align: right;\n",
       "    }\n",
       "</style>\n",
       "<table border=\"1\" class=\"dataframe\">\n",
       "  <thead>\n",
       "    <tr style=\"text-align: right;\">\n",
       "      <th></th>\n",
       "      <th>trial_type</th>\n",
       "      <th>trial</th>\n",
       "      <th>ball_speed</th>\n",
       "      <th>interactor</th>\n",
       "      <th>bounce</th>\n",
       "      <th>bounce_moment</th>\n",
       "      <th>random_bounce_direction</th>\n",
       "      <th>target_onset</th>\n",
       "      <th>ball_change</th>\n",
       "      <th>abs_congruent</th>\n",
       "      <th>...</th>\n",
       "      <th>start_pos</th>\n",
       "      <th>end_pos</th>\n",
       "      <th>abs_rfup</th>\n",
       "      <th>abs_rfright</th>\n",
       "      <th>abs_rfdown</th>\n",
       "      <th>abs_rfleft</th>\n",
       "      <th>sim_rfup</th>\n",
       "      <th>sim_rfright</th>\n",
       "      <th>sim_rfdown</th>\n",
       "      <th>sim_rfleft</th>\n",
       "    </tr>\n",
       "  </thead>\n",
       "  <tbody>\n",
       "    <tr>\n",
       "      <th>0</th>\n",
       "      <td>interactor</td>\n",
       "      <td>1</td>\n",
       "      <td>5.50</td>\n",
       "      <td>45_top_r</td>\n",
       "      <td>True</td>\n",
       "      <td>3.286334</td>\n",
       "      <td>NaN</td>\n",
       "      <td>3.638086</td>\n",
       "      <td>True</td>\n",
       "      <td>False</td>\n",
       "      <td>...</td>\n",
       "      <td>left</td>\n",
       "      <td>down</td>\n",
       "      <td>(0, 0)</td>\n",
       "      <td>(1, 0)</td>\n",
       "      <td>(0, 1)</td>\n",
       "      <td>(0, 0)</td>\n",
       "      <td>(0, 0)</td>\n",
       "      <td>(0, 0)</td>\n",
       "      <td>(1, 1)</td>\n",
       "      <td>(0, 0)</td>\n",
       "    </tr>\n",
       "    <tr>\n",
       "      <th>20</th>\n",
       "      <td>interactor</td>\n",
       "      <td>21</td>\n",
       "      <td>5.25</td>\n",
       "      <td>45_top_r</td>\n",
       "      <td>False</td>\n",
       "      <td>NaN</td>\n",
       "      <td>NaN</td>\n",
       "      <td>3.678133</td>\n",
       "      <td>True</td>\n",
       "      <td>True</td>\n",
       "      <td>...</td>\n",
       "      <td>left</td>\n",
       "      <td>right</td>\n",
       "      <td>(0, 0)</td>\n",
       "      <td>(1, 1)</td>\n",
       "      <td>(0, 0)</td>\n",
       "      <td>(0, 0)</td>\n",
       "      <td>(0, 0)</td>\n",
       "      <td>(0, 1)</td>\n",
       "      <td>(1, 0)</td>\n",
       "      <td>(0, 0)</td>\n",
       "    </tr>\n",
       "    <tr>\n",
       "      <th>19</th>\n",
       "      <td>interactor</td>\n",
       "      <td>20</td>\n",
       "      <td>5.50</td>\n",
       "      <td>45_top_r</td>\n",
       "      <td>False</td>\n",
       "      <td>NaN</td>\n",
       "      <td>NaN</td>\n",
       "      <td>3.687539</td>\n",
       "      <td>True</td>\n",
       "      <td>True</td>\n",
       "      <td>...</td>\n",
       "      <td>left</td>\n",
       "      <td>right</td>\n",
       "      <td>(0, 0)</td>\n",
       "      <td>(1, 1)</td>\n",
       "      <td>(0, 0)</td>\n",
       "      <td>(0, 0)</td>\n",
       "      <td>(0, 0)</td>\n",
       "      <td>(0, 1)</td>\n",
       "      <td>(1, 0)</td>\n",
       "      <td>(0, 0)</td>\n",
       "    </tr>\n",
       "    <tr>\n",
       "      <th>18</th>\n",
       "      <td>interactor</td>\n",
       "      <td>19</td>\n",
       "      <td>5.75</td>\n",
       "      <td>45_top_r</td>\n",
       "      <td>True</td>\n",
       "      <td>3.473653</td>\n",
       "      <td>NaN</td>\n",
       "      <td>3.831560</td>\n",
       "      <td>True</td>\n",
       "      <td>False</td>\n",
       "      <td>...</td>\n",
       "      <td>left</td>\n",
       "      <td>down</td>\n",
       "      <td>(0, 0)</td>\n",
       "      <td>(1, 0)</td>\n",
       "      <td>(0, 1)</td>\n",
       "      <td>(0, 0)</td>\n",
       "      <td>(0, 0)</td>\n",
       "      <td>(0, 0)</td>\n",
       "      <td>(1, 1)</td>\n",
       "      <td>(0, 0)</td>\n",
       "    </tr>\n",
       "    <tr>\n",
       "      <th>17</th>\n",
       "      <td>interactor</td>\n",
       "      <td>18</td>\n",
       "      <td>5.75</td>\n",
       "      <td>45_top_r</td>\n",
       "      <td>True</td>\n",
       "      <td>3.301633</td>\n",
       "      <td>NaN</td>\n",
       "      <td>NaN</td>\n",
       "      <td>False</td>\n",
       "      <td>False</td>\n",
       "      <td>...</td>\n",
       "      <td>left</td>\n",
       "      <td>down</td>\n",
       "      <td>(0, 0)</td>\n",
       "      <td>(1, 0)</td>\n",
       "      <td>(0, 1)</td>\n",
       "      <td>(0, 0)</td>\n",
       "      <td>(0, 0)</td>\n",
       "      <td>(0, 0)</td>\n",
       "      <td>(1, 1)</td>\n",
       "      <td>(0, 0)</td>\n",
       "    </tr>\n",
       "    <tr>\n",
       "      <th>16</th>\n",
       "      <td>interactor</td>\n",
       "      <td>17</td>\n",
       "      <td>5.75</td>\n",
       "      <td>45_top_r</td>\n",
       "      <td>False</td>\n",
       "      <td>NaN</td>\n",
       "      <td>NaN</td>\n",
       "      <td>NaN</td>\n",
       "      <td>False</td>\n",
       "      <td>True</td>\n",
       "      <td>...</td>\n",
       "      <td>left</td>\n",
       "      <td>right</td>\n",
       "      <td>(0, 0)</td>\n",
       "      <td>(1, 1)</td>\n",
       "      <td>(0, 0)</td>\n",
       "      <td>(0, 0)</td>\n",
       "      <td>(0, 0)</td>\n",
       "      <td>(0, 1)</td>\n",
       "      <td>(1, 0)</td>\n",
       "      <td>(0, 0)</td>\n",
       "    </tr>\n",
       "    <tr>\n",
       "      <th>22</th>\n",
       "      <td>interactor</td>\n",
       "      <td>23</td>\n",
       "      <td>5.25</td>\n",
       "      <td>45_top_r</td>\n",
       "      <td>True</td>\n",
       "      <td>3.340691</td>\n",
       "      <td>NaN</td>\n",
       "      <td>3.686620</td>\n",
       "      <td>True</td>\n",
       "      <td>False</td>\n",
       "      <td>...</td>\n",
       "      <td>left</td>\n",
       "      <td>down</td>\n",
       "      <td>(0, 0)</td>\n",
       "      <td>(1, 0)</td>\n",
       "      <td>(0, 1)</td>\n",
       "      <td>(0, 0)</td>\n",
       "      <td>(0, 0)</td>\n",
       "      <td>(0, 0)</td>\n",
       "      <td>(1, 1)</td>\n",
       "      <td>(0, 0)</td>\n",
       "    </tr>\n",
       "    <tr>\n",
       "      <th>9</th>\n",
       "      <td>interactor</td>\n",
       "      <td>10</td>\n",
       "      <td>5.75</td>\n",
       "      <td>45_top_r</td>\n",
       "      <td>False</td>\n",
       "      <td>NaN</td>\n",
       "      <td>NaN</td>\n",
       "      <td>3.749737</td>\n",
       "      <td>True</td>\n",
       "      <td>True</td>\n",
       "      <td>...</td>\n",
       "      <td>left</td>\n",
       "      <td>right</td>\n",
       "      <td>(0, 0)</td>\n",
       "      <td>(1, 1)</td>\n",
       "      <td>(0, 0)</td>\n",
       "      <td>(0, 0)</td>\n",
       "      <td>(0, 0)</td>\n",
       "      <td>(0, 1)</td>\n",
       "      <td>(1, 0)</td>\n",
       "      <td>(0, 0)</td>\n",
       "    </tr>\n",
       "    <tr>\n",
       "      <th>11</th>\n",
       "      <td>interactor</td>\n",
       "      <td>12</td>\n",
       "      <td>5.25</td>\n",
       "      <td>45_top_r</td>\n",
       "      <td>False</td>\n",
       "      <td>NaN</td>\n",
       "      <td>NaN</td>\n",
       "      <td>NaN</td>\n",
       "      <td>False</td>\n",
       "      <td>True</td>\n",
       "      <td>...</td>\n",
       "      <td>left</td>\n",
       "      <td>right</td>\n",
       "      <td>(0, 0)</td>\n",
       "      <td>(1, 1)</td>\n",
       "      <td>(0, 0)</td>\n",
       "      <td>(0, 0)</td>\n",
       "      <td>(0, 0)</td>\n",
       "      <td>(0, 1)</td>\n",
       "      <td>(1, 0)</td>\n",
       "      <td>(0, 0)</td>\n",
       "    </tr>\n",
       "    <tr>\n",
       "      <th>6</th>\n",
       "      <td>interactor</td>\n",
       "      <td>7</td>\n",
       "      <td>5.50</td>\n",
       "      <td>45_top_r</td>\n",
       "      <td>True</td>\n",
       "      <td>3.337725</td>\n",
       "      <td>NaN</td>\n",
       "      <td>NaN</td>\n",
       "      <td>False</td>\n",
       "      <td>False</td>\n",
       "      <td>...</td>\n",
       "      <td>left</td>\n",
       "      <td>down</td>\n",
       "      <td>(0, 0)</td>\n",
       "      <td>(1, 0)</td>\n",
       "      <td>(0, 1)</td>\n",
       "      <td>(0, 0)</td>\n",
       "      <td>(0, 0)</td>\n",
       "      <td>(0, 0)</td>\n",
       "      <td>(1, 1)</td>\n",
       "      <td>(0, 0)</td>\n",
       "    </tr>\n",
       "    <tr>\n",
       "      <th>3</th>\n",
       "      <td>interactor</td>\n",
       "      <td>4</td>\n",
       "      <td>5.50</td>\n",
       "      <td>45_top_r</td>\n",
       "      <td>False</td>\n",
       "      <td>NaN</td>\n",
       "      <td>NaN</td>\n",
       "      <td>NaN</td>\n",
       "      <td>False</td>\n",
       "      <td>True</td>\n",
       "      <td>...</td>\n",
       "      <td>left</td>\n",
       "      <td>right</td>\n",
       "      <td>(0, 0)</td>\n",
       "      <td>(1, 1)</td>\n",
       "      <td>(0, 0)</td>\n",
       "      <td>(0, 0)</td>\n",
       "      <td>(0, 0)</td>\n",
       "      <td>(0, 1)</td>\n",
       "      <td>(1, 0)</td>\n",
       "      <td>(0, 0)</td>\n",
       "    </tr>\n",
       "    <tr>\n",
       "      <th>23</th>\n",
       "      <td>interactor</td>\n",
       "      <td>24</td>\n",
       "      <td>5.25</td>\n",
       "      <td>45_top_r</td>\n",
       "      <td>True</td>\n",
       "      <td>3.409386</td>\n",
       "      <td>NaN</td>\n",
       "      <td>NaN</td>\n",
       "      <td>False</td>\n",
       "      <td>False</td>\n",
       "      <td>...</td>\n",
       "      <td>left</td>\n",
       "      <td>down</td>\n",
       "      <td>(0, 0)</td>\n",
       "      <td>(1, 0)</td>\n",
       "      <td>(0, 1)</td>\n",
       "      <td>(0, 0)</td>\n",
       "      <td>(0, 0)</td>\n",
       "      <td>(0, 0)</td>\n",
       "      <td>(1, 1)</td>\n",
       "      <td>(0, 0)</td>\n",
       "    </tr>\n",
       "    <tr>\n",
       "      <th>7</th>\n",
       "      <td>empty</td>\n",
       "      <td>8</td>\n",
       "      <td>5.75</td>\n",
       "      <td>none_l</td>\n",
       "      <td>False</td>\n",
       "      <td>NaN</td>\n",
       "      <td>NaN</td>\n",
       "      <td>3.660044</td>\n",
       "      <td>True</td>\n",
       "      <td>True</td>\n",
       "      <td>...</td>\n",
       "      <td>right</td>\n",
       "      <td>left</td>\n",
       "      <td>(0, 0)</td>\n",
       "      <td>(0, 0)</td>\n",
       "      <td>(0, 0)</td>\n",
       "      <td>(1, 1)</td>\n",
       "      <td>(0, 0)</td>\n",
       "      <td>(0, 0)</td>\n",
       "      <td>(0, 0)</td>\n",
       "      <td>(1, 1)</td>\n",
       "    </tr>\n",
       "    <tr>\n",
       "      <th>10</th>\n",
       "      <td>empty</td>\n",
       "      <td>11</td>\n",
       "      <td>5.50</td>\n",
       "      <td>none_l</td>\n",
       "      <td>False</td>\n",
       "      <td>NaN</td>\n",
       "      <td>NaN</td>\n",
       "      <td>NaN</td>\n",
       "      <td>False</td>\n",
       "      <td>True</td>\n",
       "      <td>...</td>\n",
       "      <td>right</td>\n",
       "      <td>left</td>\n",
       "      <td>(0, 0)</td>\n",
       "      <td>(0, 0)</td>\n",
       "      <td>(0, 0)</td>\n",
       "      <td>(1, 1)</td>\n",
       "      <td>(0, 0)</td>\n",
       "      <td>(0, 0)</td>\n",
       "      <td>(0, 0)</td>\n",
       "      <td>(1, 1)</td>\n",
       "    </tr>\n",
       "    <tr>\n",
       "      <th>12</th>\n",
       "      <td>empty</td>\n",
       "      <td>13</td>\n",
       "      <td>5.75</td>\n",
       "      <td>none_l</td>\n",
       "      <td>False</td>\n",
       "      <td>NaN</td>\n",
       "      <td>NaN</td>\n",
       "      <td>NaN</td>\n",
       "      <td>False</td>\n",
       "      <td>True</td>\n",
       "      <td>...</td>\n",
       "      <td>right</td>\n",
       "      <td>left</td>\n",
       "      <td>(0, 0)</td>\n",
       "      <td>(0, 0)</td>\n",
       "      <td>(0, 0)</td>\n",
       "      <td>(1, 1)</td>\n",
       "      <td>(0, 0)</td>\n",
       "      <td>(0, 0)</td>\n",
       "      <td>(0, 0)</td>\n",
       "      <td>(1, 1)</td>\n",
       "    </tr>\n",
       "    <tr>\n",
       "      <th>13</th>\n",
       "      <td>empty</td>\n",
       "      <td>14</td>\n",
       "      <td>5.75</td>\n",
       "      <td>none_l</td>\n",
       "      <td>True</td>\n",
       "      <td>3.398644</td>\n",
       "      <td>left</td>\n",
       "      <td>3.748841</td>\n",
       "      <td>True</td>\n",
       "      <td>False</td>\n",
       "      <td>...</td>\n",
       "      <td>right</td>\n",
       "      <td>down</td>\n",
       "      <td>(0, 0)</td>\n",
       "      <td>(0, 0)</td>\n",
       "      <td>(0, 1)</td>\n",
       "      <td>(1, 0)</td>\n",
       "      <td>(0, 0)</td>\n",
       "      <td>(0, 0)</td>\n",
       "      <td>(0, 1)</td>\n",
       "      <td>(1, 0)</td>\n",
       "    </tr>\n",
       "    <tr>\n",
       "      <th>14</th>\n",
       "      <td>empty</td>\n",
       "      <td>15</td>\n",
       "      <td>5.25</td>\n",
       "      <td>none_l</td>\n",
       "      <td>False</td>\n",
       "      <td>NaN</td>\n",
       "      <td>NaN</td>\n",
       "      <td>NaN</td>\n",
       "      <td>False</td>\n",
       "      <td>True</td>\n",
       "      <td>...</td>\n",
       "      <td>right</td>\n",
       "      <td>left</td>\n",
       "      <td>(0, 0)</td>\n",
       "      <td>(0, 0)</td>\n",
       "      <td>(0, 0)</td>\n",
       "      <td>(1, 1)</td>\n",
       "      <td>(0, 0)</td>\n",
       "      <td>(0, 0)</td>\n",
       "      <td>(0, 0)</td>\n",
       "      <td>(1, 1)</td>\n",
       "    </tr>\n",
       "    <tr>\n",
       "      <th>15</th>\n",
       "      <td>empty</td>\n",
       "      <td>16</td>\n",
       "      <td>5.50</td>\n",
       "      <td>none_l</td>\n",
       "      <td>True</td>\n",
       "      <td>3.328190</td>\n",
       "      <td>left</td>\n",
       "      <td>NaN</td>\n",
       "      <td>False</td>\n",
       "      <td>False</td>\n",
       "      <td>...</td>\n",
       "      <td>right</td>\n",
       "      <td>down</td>\n",
       "      <td>(0, 0)</td>\n",
       "      <td>(0, 0)</td>\n",
       "      <td>(0, 1)</td>\n",
       "      <td>(1, 0)</td>\n",
       "      <td>(0, 0)</td>\n",
       "      <td>(0, 0)</td>\n",
       "      <td>(0, 1)</td>\n",
       "      <td>(1, 0)</td>\n",
       "    </tr>\n",
       "    <tr>\n",
       "      <th>5</th>\n",
       "      <td>empty</td>\n",
       "      <td>6</td>\n",
       "      <td>5.25</td>\n",
       "      <td>none_l</td>\n",
       "      <td>False</td>\n",
       "      <td>NaN</td>\n",
       "      <td>NaN</td>\n",
       "      <td>3.695833</td>\n",
       "      <td>True</td>\n",
       "      <td>True</td>\n",
       "      <td>...</td>\n",
       "      <td>right</td>\n",
       "      <td>left</td>\n",
       "      <td>(0, 0)</td>\n",
       "      <td>(0, 0)</td>\n",
       "      <td>(0, 0)</td>\n",
       "      <td>(1, 1)</td>\n",
       "      <td>(0, 0)</td>\n",
       "      <td>(0, 0)</td>\n",
       "      <td>(0, 0)</td>\n",
       "      <td>(1, 1)</td>\n",
       "    </tr>\n",
       "    <tr>\n",
       "      <th>4</th>\n",
       "      <td>empty</td>\n",
       "      <td>5</td>\n",
       "      <td>5.50</td>\n",
       "      <td>none_l</td>\n",
       "      <td>False</td>\n",
       "      <td>NaN</td>\n",
       "      <td>NaN</td>\n",
       "      <td>3.650652</td>\n",
       "      <td>True</td>\n",
       "      <td>True</td>\n",
       "      <td>...</td>\n",
       "      <td>right</td>\n",
       "      <td>left</td>\n",
       "      <td>(0, 0)</td>\n",
       "      <td>(0, 0)</td>\n",
       "      <td>(0, 0)</td>\n",
       "      <td>(1, 1)</td>\n",
       "      <td>(0, 0)</td>\n",
       "      <td>(0, 0)</td>\n",
       "      <td>(0, 0)</td>\n",
       "      <td>(1, 1)</td>\n",
       "    </tr>\n",
       "    <tr>\n",
       "      <th>2</th>\n",
       "      <td>empty</td>\n",
       "      <td>3</td>\n",
       "      <td>5.25</td>\n",
       "      <td>none_l</td>\n",
       "      <td>True</td>\n",
       "      <td>3.339761</td>\n",
       "      <td>left</td>\n",
       "      <td>3.692406</td>\n",
       "      <td>True</td>\n",
       "      <td>False</td>\n",
       "      <td>...</td>\n",
       "      <td>right</td>\n",
       "      <td>down</td>\n",
       "      <td>(0, 0)</td>\n",
       "      <td>(0, 0)</td>\n",
       "      <td>(0, 1)</td>\n",
       "      <td>(1, 0)</td>\n",
       "      <td>(0, 0)</td>\n",
       "      <td>(0, 0)</td>\n",
       "      <td>(0, 1)</td>\n",
       "      <td>(1, 0)</td>\n",
       "    </tr>\n",
       "    <tr>\n",
       "      <th>1</th>\n",
       "      <td>empty</td>\n",
       "      <td>2</td>\n",
       "      <td>5.75</td>\n",
       "      <td>none_l</td>\n",
       "      <td>True</td>\n",
       "      <td>3.337988</td>\n",
       "      <td>left</td>\n",
       "      <td>NaN</td>\n",
       "      <td>False</td>\n",
       "      <td>False</td>\n",
       "      <td>...</td>\n",
       "      <td>right</td>\n",
       "      <td>down</td>\n",
       "      <td>(0, 0)</td>\n",
       "      <td>(0, 0)</td>\n",
       "      <td>(0, 1)</td>\n",
       "      <td>(1, 0)</td>\n",
       "      <td>(0, 0)</td>\n",
       "      <td>(0, 0)</td>\n",
       "      <td>(0, 1)</td>\n",
       "      <td>(1, 0)</td>\n",
       "    </tr>\n",
       "    <tr>\n",
       "      <th>21</th>\n",
       "      <td>empty</td>\n",
       "      <td>22</td>\n",
       "      <td>5.50</td>\n",
       "      <td>none_l</td>\n",
       "      <td>True</td>\n",
       "      <td>3.290946</td>\n",
       "      <td>left</td>\n",
       "      <td>3.644198</td>\n",
       "      <td>True</td>\n",
       "      <td>False</td>\n",
       "      <td>...</td>\n",
       "      <td>right</td>\n",
       "      <td>down</td>\n",
       "      <td>(0, 0)</td>\n",
       "      <td>(0, 0)</td>\n",
       "      <td>(0, 1)</td>\n",
       "      <td>(1, 0)</td>\n",
       "      <td>(0, 0)</td>\n",
       "      <td>(0, 0)</td>\n",
       "      <td>(0, 1)</td>\n",
       "      <td>(1, 0)</td>\n",
       "    </tr>\n",
       "    <tr>\n",
       "      <th>8</th>\n",
       "      <td>empty</td>\n",
       "      <td>9</td>\n",
       "      <td>5.25</td>\n",
       "      <td>none_l</td>\n",
       "      <td>True</td>\n",
       "      <td>3.279898</td>\n",
       "      <td>left</td>\n",
       "      <td>NaN</td>\n",
       "      <td>False</td>\n",
       "      <td>False</td>\n",
       "      <td>...</td>\n",
       "      <td>right</td>\n",
       "      <td>down</td>\n",
       "      <td>(0, 0)</td>\n",
       "      <td>(0, 0)</td>\n",
       "      <td>(0, 1)</td>\n",
       "      <td>(1, 0)</td>\n",
       "      <td>(0, 0)</td>\n",
       "      <td>(0, 0)</td>\n",
       "      <td>(0, 1)</td>\n",
       "      <td>(1, 0)</td>\n",
       "    </tr>\n",
       "  </tbody>\n",
       "</table>\n",
       "<p>24 rows × 24 columns</p>\n",
       "</div>"
      ],
      "text/plain": [
       "    trial_type  trial  ball_speed interactor  bounce  bounce_moment  \\\n",
       "0   interactor      1        5.50   45_top_r    True       3.286334   \n",
       "20  interactor     21        5.25   45_top_r   False            NaN   \n",
       "19  interactor     20        5.50   45_top_r   False            NaN   \n",
       "18  interactor     19        5.75   45_top_r    True       3.473653   \n",
       "17  interactor     18        5.75   45_top_r    True       3.301633   \n",
       "16  interactor     17        5.75   45_top_r   False            NaN   \n",
       "22  interactor     23        5.25   45_top_r    True       3.340691   \n",
       "9   interactor     10        5.75   45_top_r   False            NaN   \n",
       "11  interactor     12        5.25   45_top_r   False            NaN   \n",
       "6   interactor      7        5.50   45_top_r    True       3.337725   \n",
       "3   interactor      4        5.50   45_top_r   False            NaN   \n",
       "23  interactor     24        5.25   45_top_r    True       3.409386   \n",
       "7        empty      8        5.75     none_l   False            NaN   \n",
       "10       empty     11        5.50     none_l   False            NaN   \n",
       "12       empty     13        5.75     none_l   False            NaN   \n",
       "13       empty     14        5.75     none_l    True       3.398644   \n",
       "14       empty     15        5.25     none_l   False            NaN   \n",
       "15       empty     16        5.50     none_l    True       3.328190   \n",
       "5        empty      6        5.25     none_l   False            NaN   \n",
       "4        empty      5        5.50     none_l   False            NaN   \n",
       "2        empty      3        5.25     none_l    True       3.339761   \n",
       "1        empty      2        5.75     none_l    True       3.337988   \n",
       "21       empty     22        5.50     none_l    True       3.290946   \n",
       "8        empty      9        5.25     none_l    True       3.279898   \n",
       "\n",
       "   random_bounce_direction  target_onset  ball_change  abs_congruent  ...  \\\n",
       "0                      NaN      3.638086         True          False  ...   \n",
       "20                     NaN      3.678133         True           True  ...   \n",
       "19                     NaN      3.687539         True           True  ...   \n",
       "18                     NaN      3.831560         True          False  ...   \n",
       "17                     NaN           NaN        False          False  ...   \n",
       "16                     NaN           NaN        False           True  ...   \n",
       "22                     NaN      3.686620         True          False  ...   \n",
       "9                      NaN      3.749737         True           True  ...   \n",
       "11                     NaN           NaN        False           True  ...   \n",
       "6                      NaN           NaN        False          False  ...   \n",
       "3                      NaN           NaN        False           True  ...   \n",
       "23                     NaN           NaN        False          False  ...   \n",
       "7                      NaN      3.660044         True           True  ...   \n",
       "10                     NaN           NaN        False           True  ...   \n",
       "12                     NaN           NaN        False           True  ...   \n",
       "13                    left      3.748841         True          False  ...   \n",
       "14                     NaN           NaN        False           True  ...   \n",
       "15                    left           NaN        False          False  ...   \n",
       "5                      NaN      3.695833         True           True  ...   \n",
       "4                      NaN      3.650652         True           True  ...   \n",
       "2                     left      3.692406         True          False  ...   \n",
       "1                     left           NaN        False          False  ...   \n",
       "21                    left      3.644198         True          False  ...   \n",
       "8                     left           NaN        False          False  ...   \n",
       "\n",
       "    start_pos end_pos abs_rfup  abs_rfright abs_rfdown abs_rfleft sim_rfup  \\\n",
       "0        left    down   (0, 0)       (1, 0)     (0, 1)     (0, 0)   (0, 0)   \n",
       "20       left   right   (0, 0)       (1, 1)     (0, 0)     (0, 0)   (0, 0)   \n",
       "19       left   right   (0, 0)       (1, 1)     (0, 0)     (0, 0)   (0, 0)   \n",
       "18       left    down   (0, 0)       (1, 0)     (0, 1)     (0, 0)   (0, 0)   \n",
       "17       left    down   (0, 0)       (1, 0)     (0, 1)     (0, 0)   (0, 0)   \n",
       "16       left   right   (0, 0)       (1, 1)     (0, 0)     (0, 0)   (0, 0)   \n",
       "22       left    down   (0, 0)       (1, 0)     (0, 1)     (0, 0)   (0, 0)   \n",
       "9        left   right   (0, 0)       (1, 1)     (0, 0)     (0, 0)   (0, 0)   \n",
       "11       left   right   (0, 0)       (1, 1)     (0, 0)     (0, 0)   (0, 0)   \n",
       "6        left    down   (0, 0)       (1, 0)     (0, 1)     (0, 0)   (0, 0)   \n",
       "3        left   right   (0, 0)       (1, 1)     (0, 0)     (0, 0)   (0, 0)   \n",
       "23       left    down   (0, 0)       (1, 0)     (0, 1)     (0, 0)   (0, 0)   \n",
       "7       right    left   (0, 0)       (0, 0)     (0, 0)     (1, 1)   (0, 0)   \n",
       "10      right    left   (0, 0)       (0, 0)     (0, 0)     (1, 1)   (0, 0)   \n",
       "12      right    left   (0, 0)       (0, 0)     (0, 0)     (1, 1)   (0, 0)   \n",
       "13      right    down   (0, 0)       (0, 0)     (0, 1)     (1, 0)   (0, 0)   \n",
       "14      right    left   (0, 0)       (0, 0)     (0, 0)     (1, 1)   (0, 0)   \n",
       "15      right    down   (0, 0)       (0, 0)     (0, 1)     (1, 0)   (0, 0)   \n",
       "5       right    left   (0, 0)       (0, 0)     (0, 0)     (1, 1)   (0, 0)   \n",
       "4       right    left   (0, 0)       (0, 0)     (0, 0)     (1, 1)   (0, 0)   \n",
       "2       right    down   (0, 0)       (0, 0)     (0, 1)     (1, 0)   (0, 0)   \n",
       "1       right    down   (0, 0)       (0, 0)     (0, 1)     (1, 0)   (0, 0)   \n",
       "21      right    down   (0, 0)       (0, 0)     (0, 1)     (1, 0)   (0, 0)   \n",
       "8       right    down   (0, 0)       (0, 0)     (0, 1)     (1, 0)   (0, 0)   \n",
       "\n",
       "   sim_rfright sim_rfdown sim_rfleft  \n",
       "0       (0, 0)     (1, 1)     (0, 0)  \n",
       "20      (0, 1)     (1, 0)     (0, 0)  \n",
       "19      (0, 1)     (1, 0)     (0, 0)  \n",
       "18      (0, 0)     (1, 1)     (0, 0)  \n",
       "17      (0, 0)     (1, 1)     (0, 0)  \n",
       "16      (0, 1)     (1, 0)     (0, 0)  \n",
       "22      (0, 0)     (1, 1)     (0, 0)  \n",
       "9       (0, 1)     (1, 0)     (0, 0)  \n",
       "11      (0, 1)     (1, 0)     (0, 0)  \n",
       "6       (0, 0)     (1, 1)     (0, 0)  \n",
       "3       (0, 1)     (1, 0)     (0, 0)  \n",
       "23      (0, 0)     (1, 1)     (0, 0)  \n",
       "7       (0, 0)     (0, 0)     (1, 1)  \n",
       "10      (0, 0)     (0, 0)     (1, 1)  \n",
       "12      (0, 0)     (0, 0)     (1, 1)  \n",
       "13      (0, 0)     (0, 1)     (1, 0)  \n",
       "14      (0, 0)     (0, 0)     (1, 1)  \n",
       "15      (0, 0)     (0, 1)     (1, 0)  \n",
       "5       (0, 0)     (0, 0)     (1, 1)  \n",
       "4       (0, 0)     (0, 0)     (1, 1)  \n",
       "2       (0, 0)     (0, 1)     (1, 0)  \n",
       "1       (0, 0)     (0, 1)     (1, 0)  \n",
       "21      (0, 0)     (0, 1)     (1, 0)  \n",
       "8       (0, 0)     (0, 1)     (1, 0)  \n",
       "\n",
       "[24 rows x 24 columns]"
      ]
     },
     "execution_count": 65,
     "metadata": {},
     "output_type": "execute_result"
    }
   ],
   "source": [
    "wie"
   ]
  },
  {
   "cell_type": "code",
   "execution_count": 94,
   "metadata": {},
   "outputs": [
    {
     "name": "stdout",
     "output_type": "stream",
     "text": [
      "0.6666666666666666\n",
      "False positives: 0\n",
      "False negatives: 1\n",
      "True positives: 2\n",
      "True negatives: 3\n"
     ]
    },
    {
     "data": {
      "text/plain": [
       "0.6666666666666666"
      ]
     },
     "execution_count": 94,
     "metadata": {},
     "output_type": "execute_result"
    }
   ],
   "source": [
    "\n",
    "hit_rate = get_hit_rate(wie, False, False)\n",
    "print(hit_rate)\n",
    "wie_filt = filter_condition(wie, False, False)\n",
    "\n",
    "fp = get_false_positives(wie_filt)\n",
    "fn = get_false_negatives(wie_filt)\n",
    "tp = get_true_positives(wie_filt)\n",
    "tn = get_true_negatives(wie_filt)\n",
    "\n",
    "\n",
    "print(f\"False positives: {fp}\")\n",
    "print(f\"False negatives: {fn}\")\n",
    "print(f\"True positives: {tp}\")\n",
    "print(f\"True negatives: {tn}\")\n",
    "\n",
    "\n",
    "hr = (tp) / (tp + fn)\n",
    "\n",
    "hr\n",
    "# get_misses(filter_condition(wie, False, False))"
   ]
  },
  {
   "cell_type": "code",
   "execution_count": null,
   "metadata": {},
   "outputs": [],
   "source": []
  },
  {
   "cell_type": "code",
   "execution_count": 95,
   "metadata": {},
   "outputs": [
    {
     "name": "stdout",
     "output_type": "stream",
     "text": [
      "sim_con: True, xpol_con: True\n",
      "0.67\n",
      "\n",
      "sim_con: True, xpol_con: False\n",
      "1.00\n",
      "\n",
      "sim_con: False, xpol_con: True\n",
      "0.50\n",
      "\n",
      "sim_con: False, xpol_con: False\n",
      "0.67\n",
      "\n"
     ]
    }
   ],
   "source": [
    "for sim_con in [True, False]:\n",
    "    for xpol_con in [True, False]:\n",
    "        print(f\"sim_con: {sim_con}, xpol_con: {xpol_con}\")\n",
    "        print(f\"{get_hit_rate(wie, sim_con, xpol_con):.2f}\\n\")"
   ]
  },
  {
   "cell_type": "code",
   "execution_count": null,
   "metadata": {},
   "outputs": [],
   "source": []
  },
  {
   "cell_type": "code",
   "execution_count": 96,
   "metadata": {},
   "outputs": [
    {
     "name": "stdout",
     "output_type": "stream",
     "text": [
      "cc targets: 3\n",
      "ci targets: 4\n",
      "ic targets: 2\n",
      "ii targets: 3\n",
      "cc: 6\n",
      "ci: 5\n",
      "ic: 7\n",
      "ii: 6\n"
     ]
    }
   ],
   "source": [
    "cc = filter_condition(wie, True, True)\n",
    "ci = filter_condition(wie, True, False)\n",
    "ic = filter_condition(wie, False, True)\n",
    "ii = filter_condition(wie, False, False)\n",
    "\n",
    "cc_targets = cc[cc[\"ball_change\"] == 1]\n",
    "ci_targets = ci[ci[\"ball_change\"] == 1]\n",
    "ic_targets = ic[ic[\"ball_change\"] == 1]\n",
    "ii_targets = ii[ii[\"ball_change\"] == 1]\n",
    "\n",
    "print(f\"cc targets: {len(cc_targets)}\")\n",
    "print(f\"ci targets: {len(ci_targets)}\")\n",
    "print(f\"ic targets: {len(ic_targets)}\")\n",
    "print(f\"ii targets: {len(ii_targets)}\")\n",
    "\n",
    "print(f\"cc: {len(cc)}\")\n",
    "print(f\"ci: {len(ci)}\")\n",
    "print(f\"ic: {len(ic)}\")\n",
    "print(f\"ii: {len(ii)}\")\n"
   ]
  },
  {
   "cell_type": "code",
   "execution_count": 98,
   "metadata": {},
   "outputs": [],
   "source": [
    "allen = get_data(subject=None, task=\"ball_hue\")"
   ]
  },
  {
   "cell_type": "code",
   "execution_count": 99,
   "metadata": {},
   "outputs": [
    {
     "name": "stdout",
     "output_type": "stream",
     "text": [
      "Subject missed 3 trials\n"
     ]
    },
    {
     "data": {
      "application/vnd.plotly.v1+json": {
       "config": {
        "plotlyServerURL": "https://plot.ly"
       },
       "data": [
        {
         "colorbar": {
          "title": {
           "text": "Hit Rate"
          }
         },
         "colorscale": [
          [
           0,
           "#fcfdbf"
          ],
          [
           0.1111111111111111,
           "#feca8d"
          ],
          [
           0.2222222222222222,
           "#fd9668"
          ],
          [
           0.3333333333333333,
           "#f1605d"
          ],
          [
           0.4444444444444444,
           "#cd4071"
          ],
          [
           0.5555555555555556,
           "#9e2f7f"
          ],
          [
           0.6666666666666666,
           "#721f81"
          ],
          [
           0.7777777777777778,
           "#440f76"
          ],
          [
           0.8888888888888888,
           "#180f3d"
          ],
          [
           1,
           "#000004"
          ]
         ],
         "showscale": true,
         "text": [
          [
           "0.667<br>#trials: 3<br>rt: 0.56s",
           "1.000<br>#trials: 4<br>rt: 0.46s"
          ],
          [
           "0.500<br>#trials: 2<br>rt: 0.53s",
           "0.667<br>#trials: 3<br>rt: 0.51s"
          ]
         ],
         "textfont": {
          "size": 14
         },
         "texttemplate": "%{text}",
         "type": "heatmap",
         "x": [
          "Congruent",
          "Incongruent"
         ],
         "y": [
          "Congruent",
          "Incongruent"
         ],
         "z": [
          [
           0.6666666666666666,
           1
          ],
          [
           0.5,
           0.6666666666666666
          ]
         ],
         "zmax": 1,
         "zmin": 0
        }
       ],
       "layout": {
        "height": 500,
        "template": {
         "data": {
          "bar": [
           {
            "error_x": {
             "color": "#2a3f5f"
            },
            "error_y": {
             "color": "#2a3f5f"
            },
            "marker": {
             "line": {
              "color": "#E5ECF6",
              "width": 0.5
             },
             "pattern": {
              "fillmode": "overlay",
              "size": 10,
              "solidity": 0.2
             }
            },
            "type": "bar"
           }
          ],
          "barpolar": [
           {
            "marker": {
             "line": {
              "color": "#E5ECF6",
              "width": 0.5
             },
             "pattern": {
              "fillmode": "overlay",
              "size": 10,
              "solidity": 0.2
             }
            },
            "type": "barpolar"
           }
          ],
          "carpet": [
           {
            "aaxis": {
             "endlinecolor": "#2a3f5f",
             "gridcolor": "white",
             "linecolor": "white",
             "minorgridcolor": "white",
             "startlinecolor": "#2a3f5f"
            },
            "baxis": {
             "endlinecolor": "#2a3f5f",
             "gridcolor": "white",
             "linecolor": "white",
             "minorgridcolor": "white",
             "startlinecolor": "#2a3f5f"
            },
            "type": "carpet"
           }
          ],
          "choropleth": [
           {
            "colorbar": {
             "outlinewidth": 0,
             "ticks": ""
            },
            "type": "choropleth"
           }
          ],
          "contour": [
           {
            "colorbar": {
             "outlinewidth": 0,
             "ticks": ""
            },
            "colorscale": [
             [
              0,
              "#0d0887"
             ],
             [
              0.1111111111111111,
              "#46039f"
             ],
             [
              0.2222222222222222,
              "#7201a8"
             ],
             [
              0.3333333333333333,
              "#9c179e"
             ],
             [
              0.4444444444444444,
              "#bd3786"
             ],
             [
              0.5555555555555556,
              "#d8576b"
             ],
             [
              0.6666666666666666,
              "#ed7953"
             ],
             [
              0.7777777777777778,
              "#fb9f3a"
             ],
             [
              0.8888888888888888,
              "#fdca26"
             ],
             [
              1,
              "#f0f921"
             ]
            ],
            "type": "contour"
           }
          ],
          "contourcarpet": [
           {
            "colorbar": {
             "outlinewidth": 0,
             "ticks": ""
            },
            "type": "contourcarpet"
           }
          ],
          "heatmap": [
           {
            "colorbar": {
             "outlinewidth": 0,
             "ticks": ""
            },
            "colorscale": [
             [
              0,
              "#0d0887"
             ],
             [
              0.1111111111111111,
              "#46039f"
             ],
             [
              0.2222222222222222,
              "#7201a8"
             ],
             [
              0.3333333333333333,
              "#9c179e"
             ],
             [
              0.4444444444444444,
              "#bd3786"
             ],
             [
              0.5555555555555556,
              "#d8576b"
             ],
             [
              0.6666666666666666,
              "#ed7953"
             ],
             [
              0.7777777777777778,
              "#fb9f3a"
             ],
             [
              0.8888888888888888,
              "#fdca26"
             ],
             [
              1,
              "#f0f921"
             ]
            ],
            "type": "heatmap"
           }
          ],
          "heatmapgl": [
           {
            "colorbar": {
             "outlinewidth": 0,
             "ticks": ""
            },
            "colorscale": [
             [
              0,
              "#0d0887"
             ],
             [
              0.1111111111111111,
              "#46039f"
             ],
             [
              0.2222222222222222,
              "#7201a8"
             ],
             [
              0.3333333333333333,
              "#9c179e"
             ],
             [
              0.4444444444444444,
              "#bd3786"
             ],
             [
              0.5555555555555556,
              "#d8576b"
             ],
             [
              0.6666666666666666,
              "#ed7953"
             ],
             [
              0.7777777777777778,
              "#fb9f3a"
             ],
             [
              0.8888888888888888,
              "#fdca26"
             ],
             [
              1,
              "#f0f921"
             ]
            ],
            "type": "heatmapgl"
           }
          ],
          "histogram": [
           {
            "marker": {
             "pattern": {
              "fillmode": "overlay",
              "size": 10,
              "solidity": 0.2
             }
            },
            "type": "histogram"
           }
          ],
          "histogram2d": [
           {
            "colorbar": {
             "outlinewidth": 0,
             "ticks": ""
            },
            "colorscale": [
             [
              0,
              "#0d0887"
             ],
             [
              0.1111111111111111,
              "#46039f"
             ],
             [
              0.2222222222222222,
              "#7201a8"
             ],
             [
              0.3333333333333333,
              "#9c179e"
             ],
             [
              0.4444444444444444,
              "#bd3786"
             ],
             [
              0.5555555555555556,
              "#d8576b"
             ],
             [
              0.6666666666666666,
              "#ed7953"
             ],
             [
              0.7777777777777778,
              "#fb9f3a"
             ],
             [
              0.8888888888888888,
              "#fdca26"
             ],
             [
              1,
              "#f0f921"
             ]
            ],
            "type": "histogram2d"
           }
          ],
          "histogram2dcontour": [
           {
            "colorbar": {
             "outlinewidth": 0,
             "ticks": ""
            },
            "colorscale": [
             [
              0,
              "#0d0887"
             ],
             [
              0.1111111111111111,
              "#46039f"
             ],
             [
              0.2222222222222222,
              "#7201a8"
             ],
             [
              0.3333333333333333,
              "#9c179e"
             ],
             [
              0.4444444444444444,
              "#bd3786"
             ],
             [
              0.5555555555555556,
              "#d8576b"
             ],
             [
              0.6666666666666666,
              "#ed7953"
             ],
             [
              0.7777777777777778,
              "#fb9f3a"
             ],
             [
              0.8888888888888888,
              "#fdca26"
             ],
             [
              1,
              "#f0f921"
             ]
            ],
            "type": "histogram2dcontour"
           }
          ],
          "mesh3d": [
           {
            "colorbar": {
             "outlinewidth": 0,
             "ticks": ""
            },
            "type": "mesh3d"
           }
          ],
          "parcoords": [
           {
            "line": {
             "colorbar": {
              "outlinewidth": 0,
              "ticks": ""
             }
            },
            "type": "parcoords"
           }
          ],
          "pie": [
           {
            "automargin": true,
            "type": "pie"
           }
          ],
          "scatter": [
           {
            "fillpattern": {
             "fillmode": "overlay",
             "size": 10,
             "solidity": 0.2
            },
            "type": "scatter"
           }
          ],
          "scatter3d": [
           {
            "line": {
             "colorbar": {
              "outlinewidth": 0,
              "ticks": ""
             }
            },
            "marker": {
             "colorbar": {
              "outlinewidth": 0,
              "ticks": ""
             }
            },
            "type": "scatter3d"
           }
          ],
          "scattercarpet": [
           {
            "marker": {
             "colorbar": {
              "outlinewidth": 0,
              "ticks": ""
             }
            },
            "type": "scattercarpet"
           }
          ],
          "scattergeo": [
           {
            "marker": {
             "colorbar": {
              "outlinewidth": 0,
              "ticks": ""
             }
            },
            "type": "scattergeo"
           }
          ],
          "scattergl": [
           {
            "marker": {
             "colorbar": {
              "outlinewidth": 0,
              "ticks": ""
             }
            },
            "type": "scattergl"
           }
          ],
          "scattermapbox": [
           {
            "marker": {
             "colorbar": {
              "outlinewidth": 0,
              "ticks": ""
             }
            },
            "type": "scattermapbox"
           }
          ],
          "scatterpolar": [
           {
            "marker": {
             "colorbar": {
              "outlinewidth": 0,
              "ticks": ""
             }
            },
            "type": "scatterpolar"
           }
          ],
          "scatterpolargl": [
           {
            "marker": {
             "colorbar": {
              "outlinewidth": 0,
              "ticks": ""
             }
            },
            "type": "scatterpolargl"
           }
          ],
          "scatterternary": [
           {
            "marker": {
             "colorbar": {
              "outlinewidth": 0,
              "ticks": ""
             }
            },
            "type": "scatterternary"
           }
          ],
          "surface": [
           {
            "colorbar": {
             "outlinewidth": 0,
             "ticks": ""
            },
            "colorscale": [
             [
              0,
              "#0d0887"
             ],
             [
              0.1111111111111111,
              "#46039f"
             ],
             [
              0.2222222222222222,
              "#7201a8"
             ],
             [
              0.3333333333333333,
              "#9c179e"
             ],
             [
              0.4444444444444444,
              "#bd3786"
             ],
             [
              0.5555555555555556,
              "#d8576b"
             ],
             [
              0.6666666666666666,
              "#ed7953"
             ],
             [
              0.7777777777777778,
              "#fb9f3a"
             ],
             [
              0.8888888888888888,
              "#fdca26"
             ],
             [
              1,
              "#f0f921"
             ]
            ],
            "type": "surface"
           }
          ],
          "table": [
           {
            "cells": {
             "fill": {
              "color": "#EBF0F8"
             },
             "line": {
              "color": "white"
             }
            },
            "header": {
             "fill": {
              "color": "#C8D4E3"
             },
             "line": {
              "color": "white"
             }
            },
            "type": "table"
           }
          ]
         },
         "layout": {
          "annotationdefaults": {
           "arrowcolor": "#2a3f5f",
           "arrowhead": 0,
           "arrowwidth": 1
          },
          "autotypenumbers": "strict",
          "coloraxis": {
           "colorbar": {
            "outlinewidth": 0,
            "ticks": ""
           }
          },
          "colorscale": {
           "diverging": [
            [
             0,
             "#8e0152"
            ],
            [
             0.1,
             "#c51b7d"
            ],
            [
             0.2,
             "#de77ae"
            ],
            [
             0.3,
             "#f1b6da"
            ],
            [
             0.4,
             "#fde0ef"
            ],
            [
             0.5,
             "#f7f7f7"
            ],
            [
             0.6,
             "#e6f5d0"
            ],
            [
             0.7,
             "#b8e186"
            ],
            [
             0.8,
             "#7fbc41"
            ],
            [
             0.9,
             "#4d9221"
            ],
            [
             1,
             "#276419"
            ]
           ],
           "sequential": [
            [
             0,
             "#0d0887"
            ],
            [
             0.1111111111111111,
             "#46039f"
            ],
            [
             0.2222222222222222,
             "#7201a8"
            ],
            [
             0.3333333333333333,
             "#9c179e"
            ],
            [
             0.4444444444444444,
             "#bd3786"
            ],
            [
             0.5555555555555556,
             "#d8576b"
            ],
            [
             0.6666666666666666,
             "#ed7953"
            ],
            [
             0.7777777777777778,
             "#fb9f3a"
            ],
            [
             0.8888888888888888,
             "#fdca26"
            ],
            [
             1,
             "#f0f921"
            ]
           ],
           "sequentialminus": [
            [
             0,
             "#0d0887"
            ],
            [
             0.1111111111111111,
             "#46039f"
            ],
            [
             0.2222222222222222,
             "#7201a8"
            ],
            [
             0.3333333333333333,
             "#9c179e"
            ],
            [
             0.4444444444444444,
             "#bd3786"
            ],
            [
             0.5555555555555556,
             "#d8576b"
            ],
            [
             0.6666666666666666,
             "#ed7953"
            ],
            [
             0.7777777777777778,
             "#fb9f3a"
            ],
            [
             0.8888888888888888,
             "#fdca26"
            ],
            [
             1,
             "#f0f921"
            ]
           ]
          },
          "colorway": [
           "#636efa",
           "#EF553B",
           "#00cc96",
           "#ab63fa",
           "#FFA15A",
           "#19d3f3",
           "#FF6692",
           "#B6E880",
           "#FF97FF",
           "#FECB52"
          ],
          "font": {
           "color": "#2a3f5f"
          },
          "geo": {
           "bgcolor": "white",
           "lakecolor": "white",
           "landcolor": "#E5ECF6",
           "showlakes": true,
           "showland": true,
           "subunitcolor": "white"
          },
          "hoverlabel": {
           "align": "left"
          },
          "hovermode": "closest",
          "mapbox": {
           "style": "light"
          },
          "paper_bgcolor": "white",
          "plot_bgcolor": "#E5ECF6",
          "polar": {
           "angularaxis": {
            "gridcolor": "white",
            "linecolor": "white",
            "ticks": ""
           },
           "bgcolor": "#E5ECF6",
           "radialaxis": {
            "gridcolor": "white",
            "linecolor": "white",
            "ticks": ""
           }
          },
          "scene": {
           "xaxis": {
            "backgroundcolor": "#E5ECF6",
            "gridcolor": "white",
            "gridwidth": 2,
            "linecolor": "white",
            "showbackground": true,
            "ticks": "",
            "zerolinecolor": "white"
           },
           "yaxis": {
            "backgroundcolor": "#E5ECF6",
            "gridcolor": "white",
            "gridwidth": 2,
            "linecolor": "white",
            "showbackground": true,
            "ticks": "",
            "zerolinecolor": "white"
           },
           "zaxis": {
            "backgroundcolor": "#E5ECF6",
            "gridcolor": "white",
            "gridwidth": 2,
            "linecolor": "white",
            "showbackground": true,
            "ticks": "",
            "zerolinecolor": "white"
           }
          },
          "shapedefaults": {
           "line": {
            "color": "#2a3f5f"
           }
          },
          "ternary": {
           "aaxis": {
            "gridcolor": "white",
            "linecolor": "white",
            "ticks": ""
           },
           "baxis": {
            "gridcolor": "white",
            "linecolor": "white",
            "ticks": ""
           },
           "bgcolor": "#E5ECF6",
           "caxis": {
            "gridcolor": "white",
            "linecolor": "white",
            "ticks": ""
           }
          },
          "title": {
           "x": 0.05
          },
          "xaxis": {
           "automargin": true,
           "gridcolor": "white",
           "linecolor": "white",
           "ticks": "",
           "title": {
            "standoff": 15
           },
           "zerolinecolor": "white",
           "zerolinewidth": 2
          },
          "yaxis": {
           "automargin": true,
           "gridcolor": "white",
           "linecolor": "white",
           "ticks": "",
           "title": {
            "standoff": 15
           },
           "zerolinecolor": "white",
           "zerolinewidth": 2
          }
         }
        },
        "title": {
         "text": "Hit Rate by Condition"
        },
        "width": 600,
        "xaxis": {
         "side": "bottom",
         "title": {
          "text": "Motion Extrapolation"
         }
        },
        "yaxis": {
         "title": {
          "text": "Simulation"
         }
        }
       }
      }
     },
     "metadata": {},
     "output_type": "display_data"
    }
   ],
   "source": [
    "# for this_name in all_sub_names:\n",
    "    # wie = get_data(subject=f\"sub-{this_name}\", task=\"ball_hue\")\n",
    "wie = allen\n",
    "\n",
    "\n",
    "# Get hit rates for each condition\n",
    "simc_xpolc = get_hit_rate(df=wie, sim_con=True, expol_con=True, return_df=True)[\"accuracy\"]\n",
    "simc_xpoli = get_hit_rate(df=wie, sim_con=True, expol_con=False, return_df=True)[\"accuracy\"]\n",
    "simi_xpolc = get_hit_rate(df=wie, sim_con=False, expol_con=True, return_df=True)[\"accuracy\"]\n",
    "simi_xpoli = get_hit_rate(df=wie, sim_con=False, expol_con=False, return_df=True)[\"accuracy\"]\n",
    "\n",
    "cc_rt = get_rt(df=wie, sim_con=True, expol_con=True, return_df=False)\n",
    "ci_rt = get_rt(df=wie, sim_con=True, expol_con=False, return_df=False)\n",
    "ic_rt = get_rt(df=wie, sim_con=False, expol_con=True, return_df=False)\n",
    "ii_rt = get_rt(df=wie, sim_con=False, expol_con=False, return_df=False)\n",
    "\n",
    "print(f\"Subject missed {get_false_negatives(wie)} trials\")\n",
    "# print(f\"simc_xpolc: {simc_xpolc.mean()}, simc_xpoli: {simc_xpoli.mean()}, simi_xpolc: {simi_xpolc.mean()}, simi_xpoli: {simi_xpoli.mean()}\")\n",
    "\n",
    "# Create data for the 2x2 heatmap\n",
    "z_values = [[simc_xpolc.mean(), simc_xpoli.mean()], \n",
    "            [simi_xpolc.mean(), simi_xpoli.mean()]]\n",
    "\n",
    "# Create a figure with subplot for heatmap\n",
    "fig = go.Figure()\n",
    "\n",
    "# Add heatmap\n",
    "fig.add_trace(go.Heatmap(\n",
    "    z=z_values,\n",
    "    x=['Congruent', 'Incongruent'],\n",
    "    y=['Congruent', 'Incongruent'],\n",
    "    text=[[f\"{simc_xpolc.mean():.3f}<br>#trials: {len(simc_xpolc)}<br>rt: {cc_rt:.2f}s\", f\"{simc_xpoli.mean():.3f}<br>#trials: {len(simc_xpoli)}<br>rt: {ci_rt:.2f}s\"], \n",
    "        [f\"{simi_xpolc.mean():.3f}<br>#trials: {len(simi_xpolc)}<br>rt: {ic_rt:.2f}s\", f\"{simi_xpoli.mean():.3f}<br>#trials: {len(simi_xpoli)}<br>rt: {ii_rt:.2f}s\"]],\n",
    "    texttemplate=\"%{text}\",\n",
    "    textfont={\"size\":14},\n",
    "    colorscale=\"magma_r\",\n",
    "    showscale=True,\n",
    "    colorbar=dict(title=\"Hit Rate\"),\n",
    "    zmin=0,  # Set minimum value for the color scale\n",
    "    zmax=1   # Set maximum value for the color scale\n",
    "))\n",
    "\n",
    "# Update layout\n",
    "fig.update_layout(\n",
    "    title=f\"Hit Rate by Condition\",\n",
    "    xaxis=dict(title=\"Motion Extrapolation\", side=\"bottom\"),\n",
    "    yaxis=dict(title=\"Simulation\"),\n",
    "    width=600,\n",
    "    height=500\n",
    ")\n",
    "\n",
    "# Show the figure\n",
    "fig.show()"
   ]
  },
  {
   "cell_type": "code",
   "execution_count": 100,
   "metadata": {},
   "outputs": [
    {
     "data": {
      "application/vnd.plotly.v1+json": {
       "config": {
        "plotlyServerURL": "https://plot.ly"
       },
       "data": [
        {
         "box": {
          "visible": true
         },
         "jitter": 0.2,
         "legendgroup": "Simcon + Xpolcon",
         "line": {
          "color": "rgba(252, 96, 47, 0.5)"
         },
         "meanline": {
          "visible": true
         },
         "name": "Simcon + Xpolcon",
         "pointpos": 0.5,
         "points": "all",
         "showlegend": true,
         "side": "negative",
         "spanmode": "soft",
         "type": "violin",
         "width": 0.5,
         "x": [
          "Simcon + Xpolcon",
          "Simcon + Xpolcon",
          "Simcon + Xpolcon"
         ],
         "y": [
          0.5204854167532176,
          null,
          0.6076142500387505
         ]
        },
        {
         "box": {
          "visible": true
         },
         "jitter": 0.2,
         "legendgroup": "Simcon + Xpolinc",
         "line": {
          "color": "rgba(216, 18, 30, 0.5)"
         },
         "meanline": {
          "visible": true
         },
         "name": "Simcon + Xpolinc",
         "pointpos": 0.5,
         "points": "all",
         "showlegend": true,
         "side": "negative",
         "spanmode": "soft",
         "type": "violin",
         "width": 0.5,
         "x": [
          "Simcon + Xpolinc",
          "Simcon + Xpolinc",
          "Simcon + Xpolinc",
          "Simcon + Xpolinc"
         ],
         "y": [
          0.415405708248727,
          0.4530007083667442,
          0.4839733332628384,
          0.4826880000764504
         ]
        },
        {
         "box": {
          "visible": true
         },
         "jitter": 0.2,
         "legendgroup": "Siminc + Xpolcon",
         "line": {
          "color": "rgba(137, 0, 38, 0.5)"
         },
         "meanline": {
          "visible": true
         },
         "name": "Siminc + Xpolcon",
         "pointpos": 0.5,
         "points": "all",
         "showlegend": true,
         "side": "negative",
         "spanmode": "soft",
         "type": "violin",
         "width": 0.5,
         "x": [
          "Siminc + Xpolcon",
          "Siminc + Xpolcon"
         ],
         "y": [
          null,
          0.533069166704081
         ]
        },
        {
         "box": {
          "visible": true
         },
         "jitter": 0.2,
         "legendgroup": "Siminc + Xpolinc",
         "line": {
          "color": "rgba(128, 0, 38, 0.5)"
         },
         "meanline": {
          "visible": true
         },
         "name": "Siminc + Xpolinc",
         "pointpos": 0.5,
         "points": "all",
         "showlegend": true,
         "side": "negative",
         "spanmode": "soft",
         "type": "violin",
         "width": 0.5,
         "x": [
          "Siminc + Xpolinc",
          "Siminc + Xpolinc",
          "Siminc + Xpolinc"
         ],
         "y": [
          0.5027962499298155,
          null,
          0.5167948333546519
         ]
        },
        {
         "hovertemplate": "Mean: %{y:.3f}s<extra></extra>",
         "line": {
          "color": "rgba(0, 0, 0, 0.7)",
          "width": 8
         },
         "marker": {
          "color": [
           "rgba(252, 96, 47, 1)",
           "rgba(216, 18, 30, 1)",
           "rgba(137, 0, 38, 1)",
           "rgba(128, 0, 38, 1)"
          ],
          "line": {
           "color": "black",
           "width": 4
          },
          "size": 14
         },
         "mode": "lines+markers",
         "name": "Mean RT",
         "type": "scatter",
         "x": [
          "Simcon + Xpolcon",
          "Simcon + Xpolinc",
          "Siminc + Xpolcon",
          "Siminc + Xpolinc"
         ],
         "y": [
          0.564049833395984,
          0.45876693748869,
          0.533069166704081,
          0.5097955416422337
         ]
        }
       ],
       "layout": {
        "annotations": [
         {
          "arrowcolor": "black",
          "arrowhead": 2,
          "arrowsize": 1.5,
          "arrowwidth": 3,
          "ax": 120,
          "ay": -90,
          "font": {
           "color": "black",
           "family": "Arial, sans-serif",
           "size": 25
          },
          "showarrow": true,
          "text": "0.564s",
          "x": "Simcon + Xpolcon",
          "y": 0.564049833395984
         },
         {
          "arrowcolor": "black",
          "arrowhead": 2,
          "arrowsize": 1.5,
          "arrowwidth": 3,
          "ax": 120,
          "ay": -90,
          "font": {
           "color": "black",
           "family": "Arial, sans-serif",
           "size": 25
          },
          "showarrow": true,
          "text": "0.459s",
          "x": "Simcon + Xpolinc",
          "y": 0.45876693748869
         },
         {
          "arrowcolor": "black",
          "arrowhead": 2,
          "arrowsize": 1.5,
          "arrowwidth": 3,
          "ax": 120,
          "ay": -90,
          "font": {
           "color": "black",
           "family": "Arial, sans-serif",
           "size": 25
          },
          "showarrow": true,
          "text": "0.533s",
          "x": "Siminc + Xpolcon",
          "y": 0.533069166704081
         },
         {
          "arrowcolor": "black",
          "arrowhead": 2,
          "arrowsize": 1.5,
          "arrowwidth": 3,
          "ax": 120,
          "ay": -90,
          "font": {
           "color": "black",
           "family": "Arial, sans-serif",
           "size": 25
          },
          "showarrow": true,
          "text": "0.510s",
          "x": "Siminc + Xpolinc",
          "y": 0.5097955416422337
         }
        ],
        "font": {
         "color": "black",
         "family": "Arial, sans-serif",
         "size": 20
        },
        "height": 1200,
        "legend": {
         "bordercolor": "White",
         "borderwidth": 2,
         "font": {
          "family": "Arial, sans-serif",
          "size": 18
         },
         "orientation": "h",
         "title": {
          "font": {
           "family": "Arial, sans-serif",
           "size": 18
          },
          "text": "Response Type"
         },
         "x": 0.5,
         "xanchor": "center",
         "y": 1.01,
         "yanchor": "bottom"
        },
        "paper_bgcolor": "white",
        "plot_bgcolor": "white",
        "template": {
         "data": {
          "bar": [
           {
            "error_x": {
             "color": "#2a3f5f"
            },
            "error_y": {
             "color": "#2a3f5f"
            },
            "marker": {
             "line": {
              "color": "#E5ECF6",
              "width": 0.5
             },
             "pattern": {
              "fillmode": "overlay",
              "size": 10,
              "solidity": 0.2
             }
            },
            "type": "bar"
           }
          ],
          "barpolar": [
           {
            "marker": {
             "line": {
              "color": "#E5ECF6",
              "width": 0.5
             },
             "pattern": {
              "fillmode": "overlay",
              "size": 10,
              "solidity": 0.2
             }
            },
            "type": "barpolar"
           }
          ],
          "carpet": [
           {
            "aaxis": {
             "endlinecolor": "#2a3f5f",
             "gridcolor": "white",
             "linecolor": "white",
             "minorgridcolor": "white",
             "startlinecolor": "#2a3f5f"
            },
            "baxis": {
             "endlinecolor": "#2a3f5f",
             "gridcolor": "white",
             "linecolor": "white",
             "minorgridcolor": "white",
             "startlinecolor": "#2a3f5f"
            },
            "type": "carpet"
           }
          ],
          "choropleth": [
           {
            "colorbar": {
             "outlinewidth": 0,
             "ticks": ""
            },
            "type": "choropleth"
           }
          ],
          "contour": [
           {
            "colorbar": {
             "outlinewidth": 0,
             "ticks": ""
            },
            "colorscale": [
             [
              0,
              "#0d0887"
             ],
             [
              0.1111111111111111,
              "#46039f"
             ],
             [
              0.2222222222222222,
              "#7201a8"
             ],
             [
              0.3333333333333333,
              "#9c179e"
             ],
             [
              0.4444444444444444,
              "#bd3786"
             ],
             [
              0.5555555555555556,
              "#d8576b"
             ],
             [
              0.6666666666666666,
              "#ed7953"
             ],
             [
              0.7777777777777778,
              "#fb9f3a"
             ],
             [
              0.8888888888888888,
              "#fdca26"
             ],
             [
              1,
              "#f0f921"
             ]
            ],
            "type": "contour"
           }
          ],
          "contourcarpet": [
           {
            "colorbar": {
             "outlinewidth": 0,
             "ticks": ""
            },
            "type": "contourcarpet"
           }
          ],
          "heatmap": [
           {
            "colorbar": {
             "outlinewidth": 0,
             "ticks": ""
            },
            "colorscale": [
             [
              0,
              "#0d0887"
             ],
             [
              0.1111111111111111,
              "#46039f"
             ],
             [
              0.2222222222222222,
              "#7201a8"
             ],
             [
              0.3333333333333333,
              "#9c179e"
             ],
             [
              0.4444444444444444,
              "#bd3786"
             ],
             [
              0.5555555555555556,
              "#d8576b"
             ],
             [
              0.6666666666666666,
              "#ed7953"
             ],
             [
              0.7777777777777778,
              "#fb9f3a"
             ],
             [
              0.8888888888888888,
              "#fdca26"
             ],
             [
              1,
              "#f0f921"
             ]
            ],
            "type": "heatmap"
           }
          ],
          "heatmapgl": [
           {
            "colorbar": {
             "outlinewidth": 0,
             "ticks": ""
            },
            "colorscale": [
             [
              0,
              "#0d0887"
             ],
             [
              0.1111111111111111,
              "#46039f"
             ],
             [
              0.2222222222222222,
              "#7201a8"
             ],
             [
              0.3333333333333333,
              "#9c179e"
             ],
             [
              0.4444444444444444,
              "#bd3786"
             ],
             [
              0.5555555555555556,
              "#d8576b"
             ],
             [
              0.6666666666666666,
              "#ed7953"
             ],
             [
              0.7777777777777778,
              "#fb9f3a"
             ],
             [
              0.8888888888888888,
              "#fdca26"
             ],
             [
              1,
              "#f0f921"
             ]
            ],
            "type": "heatmapgl"
           }
          ],
          "histogram": [
           {
            "marker": {
             "pattern": {
              "fillmode": "overlay",
              "size": 10,
              "solidity": 0.2
             }
            },
            "type": "histogram"
           }
          ],
          "histogram2d": [
           {
            "colorbar": {
             "outlinewidth": 0,
             "ticks": ""
            },
            "colorscale": [
             [
              0,
              "#0d0887"
             ],
             [
              0.1111111111111111,
              "#46039f"
             ],
             [
              0.2222222222222222,
              "#7201a8"
             ],
             [
              0.3333333333333333,
              "#9c179e"
             ],
             [
              0.4444444444444444,
              "#bd3786"
             ],
             [
              0.5555555555555556,
              "#d8576b"
             ],
             [
              0.6666666666666666,
              "#ed7953"
             ],
             [
              0.7777777777777778,
              "#fb9f3a"
             ],
             [
              0.8888888888888888,
              "#fdca26"
             ],
             [
              1,
              "#f0f921"
             ]
            ],
            "type": "histogram2d"
           }
          ],
          "histogram2dcontour": [
           {
            "colorbar": {
             "outlinewidth": 0,
             "ticks": ""
            },
            "colorscale": [
             [
              0,
              "#0d0887"
             ],
             [
              0.1111111111111111,
              "#46039f"
             ],
             [
              0.2222222222222222,
              "#7201a8"
             ],
             [
              0.3333333333333333,
              "#9c179e"
             ],
             [
              0.4444444444444444,
              "#bd3786"
             ],
             [
              0.5555555555555556,
              "#d8576b"
             ],
             [
              0.6666666666666666,
              "#ed7953"
             ],
             [
              0.7777777777777778,
              "#fb9f3a"
             ],
             [
              0.8888888888888888,
              "#fdca26"
             ],
             [
              1,
              "#f0f921"
             ]
            ],
            "type": "histogram2dcontour"
           }
          ],
          "mesh3d": [
           {
            "colorbar": {
             "outlinewidth": 0,
             "ticks": ""
            },
            "type": "mesh3d"
           }
          ],
          "parcoords": [
           {
            "line": {
             "colorbar": {
              "outlinewidth": 0,
              "ticks": ""
             }
            },
            "type": "parcoords"
           }
          ],
          "pie": [
           {
            "automargin": true,
            "type": "pie"
           }
          ],
          "scatter": [
           {
            "fillpattern": {
             "fillmode": "overlay",
             "size": 10,
             "solidity": 0.2
            },
            "type": "scatter"
           }
          ],
          "scatter3d": [
           {
            "line": {
             "colorbar": {
              "outlinewidth": 0,
              "ticks": ""
             }
            },
            "marker": {
             "colorbar": {
              "outlinewidth": 0,
              "ticks": ""
             }
            },
            "type": "scatter3d"
           }
          ],
          "scattercarpet": [
           {
            "marker": {
             "colorbar": {
              "outlinewidth": 0,
              "ticks": ""
             }
            },
            "type": "scattercarpet"
           }
          ],
          "scattergeo": [
           {
            "marker": {
             "colorbar": {
              "outlinewidth": 0,
              "ticks": ""
             }
            },
            "type": "scattergeo"
           }
          ],
          "scattergl": [
           {
            "marker": {
             "colorbar": {
              "outlinewidth": 0,
              "ticks": ""
             }
            },
            "type": "scattergl"
           }
          ],
          "scattermapbox": [
           {
            "marker": {
             "colorbar": {
              "outlinewidth": 0,
              "ticks": ""
             }
            },
            "type": "scattermapbox"
           }
          ],
          "scatterpolar": [
           {
            "marker": {
             "colorbar": {
              "outlinewidth": 0,
              "ticks": ""
             }
            },
            "type": "scatterpolar"
           }
          ],
          "scatterpolargl": [
           {
            "marker": {
             "colorbar": {
              "outlinewidth": 0,
              "ticks": ""
             }
            },
            "type": "scatterpolargl"
           }
          ],
          "scatterternary": [
           {
            "marker": {
             "colorbar": {
              "outlinewidth": 0,
              "ticks": ""
             }
            },
            "type": "scatterternary"
           }
          ],
          "surface": [
           {
            "colorbar": {
             "outlinewidth": 0,
             "ticks": ""
            },
            "colorscale": [
             [
              0,
              "#0d0887"
             ],
             [
              0.1111111111111111,
              "#46039f"
             ],
             [
              0.2222222222222222,
              "#7201a8"
             ],
             [
              0.3333333333333333,
              "#9c179e"
             ],
             [
              0.4444444444444444,
              "#bd3786"
             ],
             [
              0.5555555555555556,
              "#d8576b"
             ],
             [
              0.6666666666666666,
              "#ed7953"
             ],
             [
              0.7777777777777778,
              "#fb9f3a"
             ],
             [
              0.8888888888888888,
              "#fdca26"
             ],
             [
              1,
              "#f0f921"
             ]
            ],
            "type": "surface"
           }
          ],
          "table": [
           {
            "cells": {
             "fill": {
              "color": "#EBF0F8"
             },
             "line": {
              "color": "white"
             }
            },
            "header": {
             "fill": {
              "color": "#C8D4E3"
             },
             "line": {
              "color": "white"
             }
            },
            "type": "table"
           }
          ]
         },
         "layout": {
          "annotationdefaults": {
           "arrowcolor": "#2a3f5f",
           "arrowhead": 0,
           "arrowwidth": 1
          },
          "autotypenumbers": "strict",
          "coloraxis": {
           "colorbar": {
            "outlinewidth": 0,
            "ticks": ""
           }
          },
          "colorscale": {
           "diverging": [
            [
             0,
             "#8e0152"
            ],
            [
             0.1,
             "#c51b7d"
            ],
            [
             0.2,
             "#de77ae"
            ],
            [
             0.3,
             "#f1b6da"
            ],
            [
             0.4,
             "#fde0ef"
            ],
            [
             0.5,
             "#f7f7f7"
            ],
            [
             0.6,
             "#e6f5d0"
            ],
            [
             0.7,
             "#b8e186"
            ],
            [
             0.8,
             "#7fbc41"
            ],
            [
             0.9,
             "#4d9221"
            ],
            [
             1,
             "#276419"
            ]
           ],
           "sequential": [
            [
             0,
             "#0d0887"
            ],
            [
             0.1111111111111111,
             "#46039f"
            ],
            [
             0.2222222222222222,
             "#7201a8"
            ],
            [
             0.3333333333333333,
             "#9c179e"
            ],
            [
             0.4444444444444444,
             "#bd3786"
            ],
            [
             0.5555555555555556,
             "#d8576b"
            ],
            [
             0.6666666666666666,
             "#ed7953"
            ],
            [
             0.7777777777777778,
             "#fb9f3a"
            ],
            [
             0.8888888888888888,
             "#fdca26"
            ],
            [
             1,
             "#f0f921"
            ]
           ],
           "sequentialminus": [
            [
             0,
             "#0d0887"
            ],
            [
             0.1111111111111111,
             "#46039f"
            ],
            [
             0.2222222222222222,
             "#7201a8"
            ],
            [
             0.3333333333333333,
             "#9c179e"
            ],
            [
             0.4444444444444444,
             "#bd3786"
            ],
            [
             0.5555555555555556,
             "#d8576b"
            ],
            [
             0.6666666666666666,
             "#ed7953"
            ],
            [
             0.7777777777777778,
             "#fb9f3a"
            ],
            [
             0.8888888888888888,
             "#fdca26"
            ],
            [
             1,
             "#f0f921"
            ]
           ]
          },
          "colorway": [
           "#636efa",
           "#EF553B",
           "#00cc96",
           "#ab63fa",
           "#FFA15A",
           "#19d3f3",
           "#FF6692",
           "#B6E880",
           "#FF97FF",
           "#FECB52"
          ],
          "font": {
           "color": "#2a3f5f"
          },
          "geo": {
           "bgcolor": "white",
           "lakecolor": "white",
           "landcolor": "#E5ECF6",
           "showlakes": true,
           "showland": true,
           "subunitcolor": "white"
          },
          "hoverlabel": {
           "align": "left"
          },
          "hovermode": "closest",
          "mapbox": {
           "style": "light"
          },
          "paper_bgcolor": "white",
          "plot_bgcolor": "#E5ECF6",
          "polar": {
           "angularaxis": {
            "gridcolor": "white",
            "linecolor": "white",
            "ticks": ""
           },
           "bgcolor": "#E5ECF6",
           "radialaxis": {
            "gridcolor": "white",
            "linecolor": "white",
            "ticks": ""
           }
          },
          "scene": {
           "xaxis": {
            "backgroundcolor": "#E5ECF6",
            "gridcolor": "white",
            "gridwidth": 2,
            "linecolor": "white",
            "showbackground": true,
            "ticks": "",
            "zerolinecolor": "white"
           },
           "yaxis": {
            "backgroundcolor": "#E5ECF6",
            "gridcolor": "white",
            "gridwidth": 2,
            "linecolor": "white",
            "showbackground": true,
            "ticks": "",
            "zerolinecolor": "white"
           },
           "zaxis": {
            "backgroundcolor": "#E5ECF6",
            "gridcolor": "white",
            "gridwidth": 2,
            "linecolor": "white",
            "showbackground": true,
            "ticks": "",
            "zerolinecolor": "white"
           }
          },
          "shapedefaults": {
           "line": {
            "color": "#2a3f5f"
           }
          },
          "ternary": {
           "aaxis": {
            "gridcolor": "white",
            "linecolor": "white",
            "ticks": ""
           },
           "baxis": {
            "gridcolor": "white",
            "linecolor": "white",
            "ticks": ""
           },
           "bgcolor": "#E5ECF6",
           "caxis": {
            "gridcolor": "white",
            "linecolor": "white",
            "ticks": ""
           }
          },
          "title": {
           "x": 0.05
          },
          "xaxis": {
           "automargin": true,
           "gridcolor": "white",
           "linecolor": "white",
           "ticks": "",
           "title": {
            "standoff": 15
           },
           "zerolinecolor": "white",
           "zerolinewidth": 2
          },
          "yaxis": {
           "automargin": true,
           "gridcolor": "white",
           "linecolor": "white",
           "ticks": "",
           "title": {
            "standoff": 15
           },
           "zerolinecolor": "white",
           "zerolinewidth": 2
          }
         }
        },
        "title": {
         "font": {
          "color": "black",
          "family": "Arial, sans-serif",
          "size": 25
         },
         "text": "Average Reaction Times Across All Subjects\n\n",
         "x": 0.5,
         "y": 0.985
        },
        "violinmode": "overlay",
        "width": 1200,
        "xaxis": {
         "linecolor": "black",
         "linewidth": 3,
         "mirror": true,
         "showgrid": false,
         "showline": true,
         "tickfont": {
          "color": "black",
          "family": "Arial, sans-serif",
          "size": 20
         },
         "ticklen": 10,
         "tickmode": "array",
         "ticks": "outside",
         "tickvals": [
          "Simcon + Xpolcon",
          "Simcon + Xpolinc",
          "Siminc + Xpolcon",
          "Siminc + Xpolinc"
         ],
         "tickwidth": 3,
         "title": {
          "font": {
           "color": "black",
           "family": "Arial, sans-serif",
           "size": 20
          },
          "text": "Response Type"
         }
        },
        "yaxis": {
         "gridcolor": "lightgray",
         "gridwidth": 1,
         "linecolor": "black",
         "linewidth": 3,
         "mirror": true,
         "showgrid": true,
         "showline": true,
         "tickfont": {
          "color": "black",
          "family": "Arial, sans-serif",
          "size": 20
         },
         "ticklen": 10,
         "ticks": "outside",
         "tickwidth": 3,
         "title": {
          "font": {
           "color": "black",
           "family": "Arial, sans-serif",
           "size": 20
          },
          "text": "Reaction Time (s)"
         }
        }
       }
      }
     },
     "metadata": {},
     "output_type": "display_data"
    }
   ],
   "source": [
    "\n",
    "# Create an empty list to store all data frames\n",
    "all_data = []\n",
    "\n",
    "# Define types and their colors\n",
    "types = ['Simcon + Xpolcon', 'Simcon + Xpolinc', 'Siminc + Xpolcon', 'Siminc + Xpolinc']\n",
    "\n",
    "# Generate a colormap\n",
    "cmap = plt.get_cmap('YlOrRd')  # You can choose a different colormap if you prefer\n",
    "col_factor = 50\n",
    "col_icept = 150\n",
    "# Create the colors dictionary\n",
    "type_colors = {name: f'rgba({int(cmap(i*col_factor + col_icept)[0]*255)}, {int(cmap(i*col_factor + col_icept)[1]*255)}, {int(cmap(i*col_factor + col_icept)[2]*255)}, 0.5)' \n",
    "          for i, name in enumerate(types)}\n",
    "\n",
    "# Loop through all subjects (using the same structure as your original code)\n",
    "# for sub_name in all_sub_names:\n",
    "# for sub_name in [\"139166\"]:\n",
    "for sub_name in [\"allen\"]:\n",
    "    # sub = get_data(subject=f\"{sub_name}\", task=\"ball_hue\")\n",
    "    sub = allen\n",
    "    simc_xpolc = get_rt(df=sub, sim_con=True, expol_con=True, return_df=True)[\"rt\"]\n",
    "    simc_xpoli = get_rt(df=sub, sim_con=True, expol_con=False, return_df=True)[\"rt\"]\n",
    "    simi_xpolc = get_rt(df=sub, sim_con=False, expol_con=True, return_df=True)[\"rt\"]\n",
    "    simi_xpoli = get_rt(df=sub, sim_con=False, expol_con=False, return_df=True)[\"rt\"]\n",
    "    \n",
    "    # Create DataFrames without subject column - we'll aggregate across all subjects\n",
    "    simc_xpolc_df = pd.DataFrame({\n",
    "        'Reaction Time': simc_xpolc,\n",
    "        'Type': 'Simcon + Xpolcon'\n",
    "    })\n",
    "    \n",
    "    simc_xpoli_df = pd.DataFrame({\n",
    "        'Reaction Time': simc_xpoli,\n",
    "        'Type': 'Simcon + Xpolinc'\n",
    "    })\n",
    "    \n",
    "    simi_xpolc_df = pd.DataFrame({\n",
    "        'Reaction Time': simi_xpolc,\n",
    "        'Type': 'Siminc + Xpolcon'\n",
    "    })\n",
    "    \n",
    "    simi_xpoli_df = pd.DataFrame({\n",
    "        'Reaction Time': simi_xpoli,\n",
    "        'Type': 'Siminc + Xpolinc'\n",
    "    })\n",
    "    \n",
    "    # Append all DataFrames to our list\n",
    "    all_data.extend([simc_xpolc_df, simc_xpoli_df, simi_xpolc_df, simi_xpoli_df])\n",
    "\n",
    "# Combine all the data into a single DataFrame\n",
    "combined_data = pd.concat(all_data, ignore_index=True)\n",
    "\n",
    "# Calculate mean reaction time for each type\n",
    "type_means = combined_data.groupby('Type')['Reaction Time'].mean().to_dict()\n",
    "\n",
    "# Create the plot\n",
    "fig = go.Figure()\n",
    "\n",
    "# Add violin plots for each type\n",
    "for i, type_name in enumerate(types):\n",
    "    subset = combined_data[combined_data['Type'] == type_name]\n",
    "    \n",
    "    fig.add_trace(go.Violin(\n",
    "        x=[type_name] * len(subset),  # Use type name directly as x value\n",
    "        y=subset['Reaction Time'],\n",
    "        name=type_name,\n",
    "        legendgroup=type_name,\n",
    "        showlegend=True,\n",
    "        box_visible=True,\n",
    "        meanline_visible=True,\n",
    "        points='all',\n",
    "        jitter=0.2,\n",
    "        pointpos=0.5,\n",
    "        line_color=type_colors[type_name],\n",
    "        side='negative',\n",
    "        width=.5,\n",
    "        spanmode='soft'\n",
    "    ))\n",
    "\n",
    "# Connect the means with a line\n",
    "fig.add_trace(go.Scatter(\n",
    "    x=types,\n",
    "    y=[type_means[t] for t in types],\n",
    "    mode='lines+markers',\n",
    "    line=dict(color='rgba(0, 0, 0, 0.7)', width=8),\n",
    "    marker=dict(\n",
    "        size=14,  # Increased marker size\n",
    "        color=[type_colors[t].replace('0.5', '1') for t in types],\n",
    "        line=dict(color='black', width=4)\n",
    "    ),\n",
    "    name='Mean RT',\n",
    "    hovertemplate='Mean: %{y:.3f}s<extra></extra>'\n",
    "))\n",
    "\n",
    "# Define a common font style for consistent text appearance\n",
    "font_style = dict(\n",
    "    family=\"Arial, sans-serif\",\n",
    "    size=20,  # Larger font size\n",
    "    color=\"black\"\n",
    ")\n",
    "\n",
    "# Update layout with enhanced text styling\n",
    "fig.update_layout(\n",
    "    title=dict(\n",
    "        text=\"Average Reaction Times Across All Subjects\\n\\n\",\n",
    "        font=dict(size=25, family=\"Arial, sans-serif\", color=\"black\"),\n",
    "        x=0.5,\n",
    "        y=.985\n",
    "    ),\n",
    "    yaxis=dict(\n",
    "        title=dict(\n",
    "            text=\"Reaction Time (s)\",\n",
    "            font=font_style\n",
    "        ),\n",
    "        tickfont=font_style,\n",
    "        tickwidth=2,\n",
    "        showline=True,\n",
    "        linewidth=3,\n",
    "        linecolor='black'\n",
    "    ),\n",
    "    xaxis=dict(\n",
    "        title=dict(\n",
    "            text=\"Response Type\",\n",
    "            font=font_style\n",
    "        ),\n",
    "        tickmode='array',\n",
    "        tickvals=types,\n",
    "        tickfont=font_style,\n",
    "        tickwidth=2,\n",
    "        showline=True,\n",
    "        linewidth=3,\n",
    "        linecolor='black'\n",
    "    ),\n",
    "    legend=dict(\n",
    "        orientation=\"h\",\n",
    "        yanchor=\"bottom\",\n",
    "        y=1.01,\n",
    "        xanchor=\"center\",\n",
    "        x=0.5,\n",
    "        font=dict(size=18, family=\"Arial, sans-serif\"),\n",
    "        borderwidth=2,\n",
    "        bordercolor=\"White\",\n",
    "        title=dict(\n",
    "            text=\"Response Type\",\n",
    "            font=dict(size=18, family=\"Arial, sans-serif\")\n",
    "        )\n",
    "    ),\n",
    "    violinmode='overlay',\n",
    "    # height=1200,\n",
    "    # width=1200,\n",
    "    height=1200,\n",
    "    width=1200,\n",
    "    font=font_style,  # Default font for all other text elements\n",
    "    plot_bgcolor='white',\n",
    "    paper_bgcolor='white'\n",
    ")\n",
    "\n",
    "# Add annotations for the mean values\n",
    "for i, type_name in enumerate(types):\n",
    "    fig.add_annotation(\n",
    "        x=type_name,\n",
    "        y=type_means[type_name],\n",
    "        text=f\"{type_means[type_name]:.3f}s\",\n",
    "        showarrow=True,\n",
    "        arrowhead=2,\n",
    "        arrowsize=1.5,  # Slightly larger arrowhead\n",
    "        arrowwidth=3,    # Thicker arrow\n",
    "        arrowcolor='black',\n",
    "        ax=120,\n",
    "        ay=-90,\n",
    "        font=dict(size=25, color='black', family=\"Arial, sans-serif\")\n",
    "    )\n",
    "\n",
    "# Make the axis lines thicker\n",
    "fig.update_xaxes(mirror=True, ticks='outside', tickwidth=3, ticklen=10, showgrid=False)\n",
    "fig.update_yaxes(mirror=True, ticks='outside', tickwidth=3, ticklen=10, showgrid=True, gridwidth=1, gridcolor='lightgray')\n",
    "\n",
    "fig.show()\n",
    "\n",
    "\n"
   ]
  },
  {
   "cell_type": "code",
   "execution_count": 34,
   "metadata": {},
   "outputs": [
    {
     "data": {
      "application/vnd.plotly.v1+json": {
       "config": {
        "plotlyServerURL": "https://plot.ly"
       },
       "data": [
        {
         "box": {
          "visible": true
         },
         "jitter": 0.2,
         "legendgroup": "Abstraction",
         "line": {
          "color": "rgba(252, 96, 47, 0.5)"
         },
         "meanline": {
          "visible": true
         },
         "name": "Abstraction",
         "pointpos": 0.5,
         "points": "all",
         "showlegend": true,
         "side": "negative",
         "spanmode": "soft",
         "type": "violin",
         "width": 0.5,
         "x": [
          "Abstraction",
          "Abstraction",
          "Abstraction",
          "Abstraction",
          "Abstraction",
          "Abstraction",
          "Abstraction",
          "Abstraction",
          "Abstraction",
          "Abstraction",
          "Abstraction",
          "Abstraction",
          "Abstraction",
          "Abstraction",
          "Abstraction",
          "Abstraction",
          "Abstraction",
          "Abstraction",
          "Abstraction",
          "Abstraction",
          "Abstraction",
          "Abstraction",
          "Abstraction",
          "Abstraction",
          "Abstraction",
          "Abstraction",
          "Abstraction",
          "Abstraction",
          "Abstraction",
          "Abstraction",
          "Abstraction",
          "Abstraction",
          "Abstraction",
          "Abstraction",
          "Abstraction",
          "Abstraction",
          "Abstraction",
          "Abstraction",
          "Abstraction",
          "Abstraction",
          "Abstraction",
          "Abstraction",
          "Abstraction",
          "Abstraction",
          "Abstraction",
          "Abstraction",
          "Abstraction",
          "Abstraction",
          "Abstraction",
          "Abstraction",
          "Abstraction",
          "Abstraction",
          "Abstraction",
          "Abstraction",
          "Abstraction",
          "Abstraction",
          "Abstraction",
          "Abstraction",
          "Abstraction",
          "Abstraction",
          "Abstraction",
          "Abstraction",
          "Abstraction",
          "Abstraction",
          "Abstraction",
          "Abstraction",
          "Abstraction",
          "Abstraction",
          "Abstraction",
          "Abstraction",
          "Abstraction",
          "Abstraction",
          "Abstraction",
          "Abstraction",
          "Abstraction",
          "Abstraction",
          "Abstraction",
          "Abstraction",
          "Abstraction",
          "Abstraction",
          "Abstraction",
          "Abstraction",
          "Abstraction",
          "Abstraction",
          "Abstraction",
          "Abstraction",
          "Abstraction",
          "Abstraction",
          "Abstraction",
          "Abstraction",
          "Abstraction",
          "Abstraction",
          "Abstraction",
          "Abstraction",
          "Abstraction",
          "Abstraction",
          "Abstraction",
          "Abstraction",
          "Abstraction",
          "Abstraction",
          "Abstraction",
          "Abstraction",
          "Abstraction",
          "Abstraction",
          "Abstraction",
          "Abstraction",
          "Abstraction",
          "Abstraction",
          "Abstraction",
          "Abstraction",
          "Abstraction",
          "Abstraction",
          "Abstraction",
          "Abstraction",
          "Abstraction",
          "Abstraction",
          "Abstraction",
          "Abstraction",
          "Abstraction",
          "Abstraction",
          "Abstraction",
          "Abstraction",
          "Abstraction",
          "Abstraction",
          "Abstraction",
          "Abstraction",
          "Abstraction",
          "Abstraction",
          "Abstraction",
          "Abstraction",
          "Abstraction",
          "Abstraction",
          "Abstraction",
          "Abstraction",
          "Abstraction",
          "Abstraction",
          "Abstraction",
          "Abstraction",
          "Abstraction",
          "Abstraction",
          "Abstraction",
          "Abstraction",
          "Abstraction",
          "Abstraction",
          "Abstraction",
          "Abstraction",
          "Abstraction",
          "Abstraction",
          "Abstraction",
          "Abstraction",
          "Abstraction",
          "Abstraction",
          "Abstraction",
          "Abstraction",
          "Abstraction",
          "Abstraction",
          "Abstraction",
          "Abstraction",
          "Abstraction",
          "Abstraction",
          "Abstraction",
          "Abstraction",
          "Abstraction",
          "Abstraction",
          "Abstraction",
          "Abstraction",
          "Abstraction",
          "Abstraction",
          "Abstraction",
          "Abstraction",
          "Abstraction",
          "Abstraction",
          "Abstraction",
          "Abstraction",
          "Abstraction",
          "Abstraction",
          "Abstraction",
          "Abstraction",
          "Abstraction",
          "Abstraction",
          "Abstraction",
          "Abstraction",
          "Abstraction",
          "Abstraction",
          "Abstraction",
          "Abstraction",
          "Abstraction",
          "Abstraction",
          "Abstraction",
          "Abstraction",
          "Abstraction",
          "Abstraction",
          "Abstraction",
          "Abstraction",
          "Abstraction",
          "Abstraction",
          "Abstraction",
          "Abstraction",
          "Abstraction",
          "Abstraction",
          "Abstraction",
          "Abstraction",
          "Abstraction",
          "Abstraction",
          "Abstraction",
          "Abstraction",
          "Abstraction",
          "Abstraction",
          "Abstraction",
          "Abstraction",
          "Abstraction",
          "Abstraction",
          "Abstraction",
          "Abstraction",
          "Abstraction",
          "Abstraction",
          "Abstraction"
         ],
         "y": [
          1.1168425834039226,
          1.315072999917902,
          null,
          null,
          0.9839954999042676,
          0.8475458332104608,
          0.8759495833655819,
          0.9175531666260212,
          0.907444208394736,
          1.0371106249513105,
          0.8522333750734106,
          0.995342499925755,
          1.1264362500514835,
          null,
          1.216154416790232,
          0.9279763334197924,
          0.7388779999455437,
          0.9197077916469424,
          1.4126578331924975,
          0.8295515000354499,
          null,
          1.0709873749874532,
          1.153543291729875,
          0.9801336666569114,
          0.8103833750355989,
          1.0101637500338256,
          1.1962237916886806,
          1.9386732917046177,
          null,
          1.1723013332812116,
          1.238503250060603,
          null,
          1.1079488333780318,
          0.9873028749134392,
          0.9177784166531636,
          0.9190439581871032,
          0.7486530415480956,
          0.8690641667926684,
          0.8980036249849945,
          0.9210690415930004,
          0.9141087917378172,
          0.9615658749826252,
          1.0781879583373666,
          0.8290988332591951,
          null,
          0.9163241250207648,
          0.7683294166345149,
          0.7490906250895932,
          1.682457625051029,
          1.0760974583681673,
          1.3430527499876916,
          0.7559952499577776,
          1.5319964584195986,
          null,
          1.4125882500084117,
          1.3543359999312088,
          1.1066218331689015,
          null,
          0.7214417083887383,
          0.8023849165765569,
          0.9964632915798576,
          0.911266833427362,
          0.8044887083815411,
          0.7194793333765119,
          0.7616258750203997,
          0.7850895416922867,
          0.7623992083827034,
          0.7018816666677594,
          0.7409565000561997,
          0.762230958440341,
          null,
          0.8253322916571051,
          0.7172987083904445,
          0.721163458423689,
          0.8291745834285393,
          0.7213082499802113,
          0.828642625012435,
          0.7850166249554604,
          0.8895792916882783,
          null,
          1.5730652083875611,
          null,
          null,
          null,
          1.1007140417350456,
          null,
          1.3129632917698473,
          1.0615449167089537,
          null,
          1.0393454583827406,
          1.0806612082524223,
          0.8679580832831562,
          1.03998483333271,
          0.9320939166937025,
          1.317738416721113,
          1.269289999967441,
          0.9969187917886302,
          0.9737800834700464,
          1.1246911250054836,
          1.002188374986872,
          0.9355282083852215,
          0.9606509167933835,
          0.9536082084523514,
          1.0168377499794587,
          1.083245083456859,
          1.0720805415185168,
          0.8297113333828747,
          null,
          null,
          0.8159557082690299,
          0.8304675833787769,
          0.6160013750195503,
          0.5530929999658838,
          0.5921634166734293,
          0.6831539999693632,
          0.6579630000051111,
          0.5990667082369328,
          0.6119214167119935,
          0.6538549165707082,
          0.7429252916481346,
          0.5957924999529496,
          0.5703587918542325,
          0.5956164165399969,
          0.6364282917929813,
          0.5931967500364408,
          0.5944629168370739,
          0.5953140833880752,
          0.5296331666177139,
          0.4878234165953472,
          0.7430692499037832,
          0.5950874582631513,
          0.7001344999298453,
          0.5945327917579561,
          0.6357617917237803,
          null,
          0.7189215000253171,
          null,
          0.6302764165448025,
          null,
          1.335328791756183,
          0.9075702084228396,
          1.404604708426632,
          1.1274728333810344,
          0.9888129582395776,
          null,
          1.3224067082628608,
          1.1459502081852406,
          1.3061920416075736,
          0.8755339584313333,
          null,
          0.7366240833653137,
          0.8496407916536555,
          0.8171866250922903,
          0.8798442500410601,
          0.8708816666621715,
          0.915598375024274,
          1.0931879166746512,
          0.8215491668088362,
          0.947404041653499,
          1.044561625109054,
          0.8561662083957344,
          1.0196102915797385,
          0.8590034167282283,
          1.210700333467685,
          0.897135499981232,
          0.8142809167038649,
          0.8706536249956116,
          0.766812291694805,
          0.9333620000397786,
          0.9987076666438952,
          1.0229283749358729,
          0.8265801249071956,
          0.941560999955982,
          0.9301994583802298,
          0.9953022917034104,
          0.9525588331744076,
          0.8239767083432525,
          null,
          1.1018036666791886,
          0.9716448333347216,
          0.9017534166341648,
          1.1620822915574536,
          0.7616489583160728,
          0.7813988749403507,
          0.7624347499804571,
          0.8038609999930486,
          0.9528307083528488,
          0.7502362083178014,
          0.9604792917380108,
          0.899371208390221,
          0.8970106667838991,
          0.8912703749956563,
          0.7709455415606499,
          1.0182843749644237,
          1.0704031665809453,
          1.1002275417558849,
          0.7010059583699331,
          0.6178886666893959,
          0.7230804167920724,
          0.680090666632168,
          1.0023521250113845,
          0.7215380000416189,
          0.6786398334661499,
          0.6769724583718926,
          0.6560873750131577,
          0.6157186665805057,
          null,
          1.095280041685328,
          0.7881044583627954,
          0.7399946249788627,
          0.7196994583355263,
          0.8064386249752715,
          0.8917298750020564,
          0.7015554583631456,
          0.7204666250618175,
          0.7190196249866858,
          0.6637350416276604
         ]
        },
        {
         "box": {
          "visible": true
         },
         "jitter": 0.2,
         "legendgroup": "Simulation",
         "line": {
          "color": "rgba(216, 18, 30, 0.5)"
         },
         "meanline": {
          "visible": true
         },
         "name": "Simulation",
         "pointpos": 0.5,
         "points": "all",
         "showlegend": true,
         "side": "negative",
         "spanmode": "soft",
         "type": "violin",
         "width": 0.5,
         "x": [
          "Simulation",
          "Simulation",
          "Simulation",
          "Simulation",
          "Simulation",
          "Simulation",
          "Simulation",
          "Simulation",
          "Simulation",
          "Simulation",
          "Simulation",
          "Simulation",
          "Simulation",
          "Simulation",
          "Simulation",
          "Simulation",
          "Simulation",
          "Simulation",
          "Simulation",
          "Simulation",
          "Simulation",
          "Simulation",
          "Simulation",
          "Simulation",
          "Simulation",
          "Simulation",
          "Simulation",
          "Simulation",
          "Simulation",
          "Simulation",
          "Simulation",
          "Simulation",
          "Simulation",
          "Simulation",
          "Simulation",
          "Simulation",
          "Simulation",
          "Simulation",
          "Simulation",
          "Simulation",
          "Simulation",
          "Simulation",
          "Simulation",
          "Simulation",
          "Simulation",
          "Simulation",
          "Simulation",
          "Simulation",
          "Simulation",
          "Simulation",
          "Simulation",
          "Simulation",
          "Simulation",
          "Simulation",
          "Simulation",
          "Simulation",
          "Simulation",
          "Simulation",
          "Simulation",
          "Simulation",
          "Simulation",
          "Simulation",
          "Simulation",
          "Simulation",
          "Simulation",
          "Simulation",
          "Simulation",
          "Simulation",
          "Simulation",
          "Simulation",
          "Simulation",
          "Simulation",
          "Simulation",
          "Simulation",
          "Simulation",
          "Simulation",
          "Simulation",
          "Simulation",
          "Simulation",
          "Simulation",
          "Simulation",
          "Simulation",
          "Simulation",
          "Simulation",
          "Simulation",
          "Simulation",
          "Simulation",
          "Simulation",
          "Simulation",
          "Simulation",
          "Simulation",
          "Simulation",
          "Simulation",
          "Simulation",
          "Simulation",
          "Simulation",
          "Simulation",
          "Simulation",
          "Simulation",
          "Simulation",
          "Simulation",
          "Simulation",
          "Simulation",
          "Simulation",
          "Simulation",
          "Simulation",
          "Simulation",
          "Simulation",
          "Simulation",
          "Simulation",
          "Simulation",
          "Simulation",
          "Simulation",
          "Simulation",
          "Simulation",
          "Simulation",
          "Simulation",
          "Simulation",
          "Simulation",
          "Simulation",
          "Simulation",
          "Simulation",
          "Simulation",
          "Simulation",
          "Simulation",
          "Simulation",
          "Simulation",
          "Simulation",
          "Simulation",
          "Simulation",
          "Simulation",
          "Simulation",
          "Simulation",
          "Simulation",
          "Simulation",
          "Simulation",
          "Simulation",
          "Simulation",
          "Simulation",
          "Simulation",
          "Simulation",
          "Simulation",
          "Simulation",
          "Simulation",
          "Simulation",
          "Simulation",
          "Simulation",
          "Simulation",
          "Simulation",
          "Simulation",
          "Simulation",
          "Simulation",
          "Simulation",
          "Simulation",
          "Simulation",
          "Simulation",
          "Simulation",
          "Simulation",
          "Simulation",
          "Simulation",
          "Simulation",
          "Simulation",
          "Simulation",
          "Simulation",
          "Simulation",
          "Simulation",
          "Simulation",
          "Simulation",
          "Simulation",
          "Simulation",
          "Simulation",
          "Simulation",
          "Simulation",
          "Simulation",
          "Simulation",
          "Simulation",
          "Simulation",
          "Simulation",
          "Simulation",
          "Simulation",
          "Simulation",
          "Simulation",
          "Simulation",
          "Simulation",
          "Simulation",
          "Simulation",
          "Simulation",
          "Simulation",
          "Simulation",
          "Simulation",
          "Simulation",
          "Simulation"
         ],
         "y": [
          1.3655882499879226,
          null,
          0.8554097500164062,
          0.8469606667058542,
          1.1445277084130794,
          0.7040862499270588,
          0.9144839165965096,
          0.8015150000574067,
          0.6811632082099095,
          0.7487823750125244,
          0.898263958399184,
          0.9503421665867792,
          null,
          1.2377866667229682,
          null,
          0.8017782083479688,
          0.9436237916816026,
          0.9664408749667928,
          0.9301051249494776,
          0.9514195417286828,
          0.6770162499742582,
          0.9743409999646246,
          1.1406299583613873,
          0.8890737917972729,
          null,
          1.0905326249776408,
          1.4471003332873806,
          0.884337583440356,
          1.1132163750007749,
          null,
          null,
          null,
          1.5417237917426974,
          1.357726874994114,
          1.1216642915969717,
          null,
          1.0027626667870209,
          0.566553583368659,
          0.8614261666079983,
          0.9423632500693202,
          0.8659800416789949,
          0.9228287501027808,
          1.4182705417042598,
          0.8490481666522101,
          0.8597719166427851,
          0.7312132499646395,
          0.8000790417427197,
          0.8926971667679027,
          0.8201347915455699,
          0.7841027083341032,
          0.6842167916474864,
          0.8646492916159332,
          0.8678307499503717,
          0.8527316665276885,
          null,
          0.7841348332585767,
          0.6992707082536072,
          0.7859399584122002,
          0.7419816249748692,
          0.7621411667205393,
          0.95482549990993,
          0.7404456665972248,
          0.8071293332614005,
          0.7871878334553912,
          0.6982036667177454,
          0.9091462499927728,
          0.6130316250491887,
          0.8265425834106281,
          0.846650791587308,
          0.7854178749257699,
          0.7833210416138172,
          0.744085666607134,
          0.6791168331401423,
          0.8054024999728426,
          0.6844388332683593,
          null,
          0.7413032081676647,
          0.870820541633293,
          1.1694765833672136,
          null,
          null,
          0.9734042499912904,
          1.984760000021197,
          1.1036074999719858,
          0.846356458379887,
          1.1014309165766465,
          1.1890797916566953,
          1.0815635833423585,
          0.8706389999715611,
          0.9338325415737928,
          1.0194906666874886,
          0.8558913749875501,
          null,
          1.2273651666473595,
          1.125017166719772,
          1.0191207918105647,
          1.0413782083196566,
          0.9938944583991542,
          0.9321329582016916,
          0.5723326249280944,
          0.5089937082957476,
          0.5723995416192338,
          0.5935032500419766,
          0.5952828334411606,
          0.5514264166122302,
          0.4891309167724103,
          0.5486268332460895,
          0.5285890834638849,
          null,
          0.5749133750796318,
          0.6796124167740345,
          0.509473416605033,
          0.5304749583592638,
          0.508520666626282,
          0.5507937915390357,
          0.5910486666252837,
          0.7211778332712129,
          0.595148375025019,
          0.6386551250470802,
          0.5932824582559988,
          1.2919044581940398,
          1.1893162915948778,
          null,
          1.1449734583729878,
          1.083557583275251,
          1.0843232916668055,
          0.7928834583144635,
          0.81800058321096,
          0.9232054165331648,
          0.9625700834440069,
          0.6463087500305846,
          1.2166231666924432,
          1.4589906665496528,
          0.8336864582961425,
          1.2506058332510293,
          0.8206717499997467,
          null,
          0.8530406667850912,
          1.0619497916195542,
          0.6084606250515208,
          1.0024048333289102,
          0.7845186250051484,
          0.8412209582747892,
          1.8234750832198188,
          null,
          1.0722342499066144,
          0.8014298334019259,
          1.0360270834062248,
          0.8244796249782667,
          0.8683262083213776,
          0.7615893749753013,
          0.7643507082248107,
          1.015462249983102,
          0.8345132917165756,
          0.9494098334107548,
          1.424803041736595,
          0.7618026667041704,
          0.8291818749858066,
          0.8679572083055973,
          0.7626744167646393,
          0.7419840832008049,
          0.6568310415605083,
          0.74596625007689,
          0.6615126666147262,
          0.8481772083323449,
          0.9742387083824724,
          0.7428177084075287,
          null,
          null,
          0.6786189166596159,
          0.7607332082698122,
          0.846053916728124,
          null,
          0.720719666685909,
          1.0773365000495687,
          0.6809241666924208,
          0.6552469582529739,
          0.8481577084166929,
          0.6810929581988603,
          null,
          0.698916416731663,
          0.6621237084036693,
          0.7212863749591634,
          0.6809670000802726,
          0.4875496249878779,
          0.4451053750235587,
          0.7023472916334867,
          0.5756226249504834,
          0.6352889584377408,
          0.6362693333067,
          0.6710826250491664,
          0.6138718333095312
         ]
        },
        {
         "box": {
          "visible": true
         },
         "jitter": 0.2,
         "legendgroup": "Both",
         "line": {
          "color": "rgba(137, 0, 38, 0.5)"
         },
         "meanline": {
          "visible": true
         },
         "name": "Both",
         "pointpos": 0.5,
         "points": "all",
         "showlegend": true,
         "side": "negative",
         "spanmode": "soft",
         "type": "violin",
         "width": 0.5,
         "x": [
          "Both",
          "Both",
          "Both",
          "Both",
          "Both",
          "Both",
          "Both",
          "Both",
          "Both",
          "Both",
          "Both",
          "Both",
          "Both",
          "Both",
          "Both",
          "Both",
          "Both",
          "Both",
          "Both",
          "Both",
          "Both",
          "Both",
          "Both",
          "Both",
          "Both",
          "Both",
          "Both",
          "Both",
          "Both",
          "Both",
          "Both",
          "Both",
          "Both",
          "Both",
          "Both",
          "Both",
          "Both",
          "Both",
          "Both",
          "Both",
          "Both",
          "Both",
          "Both",
          "Both",
          "Both",
          "Both",
          "Both",
          "Both",
          "Both",
          "Both",
          "Both",
          "Both",
          "Both",
          "Both",
          "Both",
          "Both",
          "Both",
          "Both",
          "Both",
          "Both",
          "Both",
          "Both",
          "Both",
          "Both",
          "Both",
          "Both",
          "Both",
          "Both",
          "Both",
          "Both",
          "Both",
          "Both",
          "Both",
          "Both",
          "Both",
          "Both",
          "Both",
          "Both",
          "Both",
          "Both",
          "Both",
          "Both",
          "Both",
          "Both",
          "Both",
          "Both",
          "Both",
          "Both",
          "Both",
          "Both",
          "Both",
          "Both",
          "Both",
          "Both",
          "Both",
          "Both",
          "Both",
          "Both",
          "Both",
          "Both",
          "Both",
          "Both"
         ],
         "y": [
          0.7760220000054687,
          0.8495483332080767,
          0.6824486665427685,
          null,
          1.0416622917400673,
          0.971537291770801,
          0.9998012916184962,
          0.8779492500470951,
          1.049665250000544,
          null,
          1.062392458319664,
          1.3545532918069512,
          0.9956196666462348,
          null,
          null,
          0.990658541675657,
          0.9845672083320096,
          0.9131303750909864,
          0.9361567500745878,
          1.0157095417380333,
          1.0965280834352598,
          0.8410129999974743,
          0.932636791607365,
          0.8916397499851882,
          0.918364666751586,
          0.890275500016287,
          0.9820963750826196,
          0.8059575833613053,
          0.8687932916218415,
          0.7397586250444874,
          0.7902908334508538,
          0.7811478333314881,
          0.8247603334020823,
          0.6969793334137648,
          0.7627186250174418,
          0.7206384165911004,
          0.7441120415460318,
          0.725237249978818,
          0.6729111250024289,
          null,
          null,
          1.1446207916596904,
          null,
          0.8245939584448934,
          1.117994499974884,
          1.2104901249986142,
          0.975824874942191,
          null,
          0.9148547918302938,
          0.8891948332311586,
          1.0378136249491945,
          1.0161676667630672,
          0.7420671666041017,
          0.5716116250259802,
          0.6132109167519957,
          0.6118592082057148,
          0.74283370829653,
          0.5715004167286679,
          0.614207791746594,
          0.5906059582484886,
          0.6759146667318419,
          0.6123572083888575,
          0.5904893333790824,
          0.5755408749682829,
          0.5699941250495613,
          1.28511824994348,
          1.005105625023134,
          0.8125405416358262,
          0.9596656667999924,
          1.0860724999802187,
          null,
          0.9012589168269188,
          0.9381030416116118,
          0.8710117500741035,
          null,
          1.089973916648887,
          0.7197616666089743,
          null,
          0.8687230418436229,
          0.9489150833105668,
          1.0422883331775663,
          0.80496362503618,
          0.7474667084170505,
          0.9520917916670442,
          0.7612965416628867,
          0.8298160831909627,
          0.7611396249849349,
          0.8347044168040156,
          null,
          0.6537144584581256,
          0.6559349165763706,
          0.7598052499815822,
          null,
          0.6566670832689852,
          0.6992242082487792,
          0.8665300415595993,
          0.9943059999495744,
          0.783957083360292,
          0.7214500000700355,
          0.6360023332526907,
          0.6130002916324884,
          0.6400865834439173
         ]
        },
        {
         "hovertemplate": "Mean: %{y:.3f}s<extra></extra>",
         "line": {
          "color": "rgba(0, 0, 0, 0.7)",
          "width": 8
         },
         "marker": {
          "color": [
           "rgba(252, 96, 47, 1)",
           "rgba(216, 18, 30, 1)",
           "rgba(137, 0, 38, 1)"
          ],
          "line": {
           "color": "black",
           "width": 4
          },
          "size": 14
         },
         "mode": "lines+markers",
         "name": "Mean RT",
         "type": "scatter",
         "x": [
          "Abstraction",
          "Simulation",
          "Both"
         ],
         "y": [
          0.9090200850775242,
          0.8623183798671248,
          0.8460868001036513
         ]
        }
       ],
       "layout": {
        "annotations": [
         {
          "arrowcolor": "black",
          "arrowhead": 2,
          "arrowsize": 1.5,
          "arrowwidth": 3,
          "ax": 120,
          "ay": -90,
          "font": {
           "color": "black",
           "family": "Arial, sans-serif",
           "size": 25
          },
          "showarrow": true,
          "text": "0.909s",
          "x": "Abstraction",
          "y": 0.9090200850775242
         },
         {
          "arrowcolor": "black",
          "arrowhead": 2,
          "arrowsize": 1.5,
          "arrowwidth": 3,
          "ax": 120,
          "ay": -90,
          "font": {
           "color": "black",
           "family": "Arial, sans-serif",
           "size": 25
          },
          "showarrow": true,
          "text": "0.862s",
          "x": "Simulation",
          "y": 0.8623183798671248
         },
         {
          "arrowcolor": "black",
          "arrowhead": 2,
          "arrowsize": 1.5,
          "arrowwidth": 3,
          "ax": 120,
          "ay": -90,
          "font": {
           "color": "black",
           "family": "Arial, sans-serif",
           "size": 25
          },
          "showarrow": true,
          "text": "0.846s",
          "x": "Both",
          "y": 0.8460868001036513
         }
        ],
        "font": {
         "color": "black",
         "family": "Arial, sans-serif",
         "size": 20
        },
        "height": 800,
        "legend": {
         "bordercolor": "White",
         "borderwidth": 2,
         "font": {
          "family": "Arial, sans-serif",
          "size": 18
         },
         "orientation": "h",
         "title": {
          "font": {
           "family": "Arial, sans-serif",
           "size": 18
          },
          "text": "Response Type"
         },
         "x": 0.5,
         "xanchor": "center",
         "y": 1.01,
         "yanchor": "bottom"
        },
        "paper_bgcolor": "white",
        "plot_bgcolor": "white",
        "template": {
         "data": {
          "bar": [
           {
            "error_x": {
             "color": "#2a3f5f"
            },
            "error_y": {
             "color": "#2a3f5f"
            },
            "marker": {
             "line": {
              "color": "#E5ECF6",
              "width": 0.5
             },
             "pattern": {
              "fillmode": "overlay",
              "size": 10,
              "solidity": 0.2
             }
            },
            "type": "bar"
           }
          ],
          "barpolar": [
           {
            "marker": {
             "line": {
              "color": "#E5ECF6",
              "width": 0.5
             },
             "pattern": {
              "fillmode": "overlay",
              "size": 10,
              "solidity": 0.2
             }
            },
            "type": "barpolar"
           }
          ],
          "carpet": [
           {
            "aaxis": {
             "endlinecolor": "#2a3f5f",
             "gridcolor": "white",
             "linecolor": "white",
             "minorgridcolor": "white",
             "startlinecolor": "#2a3f5f"
            },
            "baxis": {
             "endlinecolor": "#2a3f5f",
             "gridcolor": "white",
             "linecolor": "white",
             "minorgridcolor": "white",
             "startlinecolor": "#2a3f5f"
            },
            "type": "carpet"
           }
          ],
          "choropleth": [
           {
            "colorbar": {
             "outlinewidth": 0,
             "ticks": ""
            },
            "type": "choropleth"
           }
          ],
          "contour": [
           {
            "colorbar": {
             "outlinewidth": 0,
             "ticks": ""
            },
            "colorscale": [
             [
              0,
              "#0d0887"
             ],
             [
              0.1111111111111111,
              "#46039f"
             ],
             [
              0.2222222222222222,
              "#7201a8"
             ],
             [
              0.3333333333333333,
              "#9c179e"
             ],
             [
              0.4444444444444444,
              "#bd3786"
             ],
             [
              0.5555555555555556,
              "#d8576b"
             ],
             [
              0.6666666666666666,
              "#ed7953"
             ],
             [
              0.7777777777777778,
              "#fb9f3a"
             ],
             [
              0.8888888888888888,
              "#fdca26"
             ],
             [
              1,
              "#f0f921"
             ]
            ],
            "type": "contour"
           }
          ],
          "contourcarpet": [
           {
            "colorbar": {
             "outlinewidth": 0,
             "ticks": ""
            },
            "type": "contourcarpet"
           }
          ],
          "heatmap": [
           {
            "colorbar": {
             "outlinewidth": 0,
             "ticks": ""
            },
            "colorscale": [
             [
              0,
              "#0d0887"
             ],
             [
              0.1111111111111111,
              "#46039f"
             ],
             [
              0.2222222222222222,
              "#7201a8"
             ],
             [
              0.3333333333333333,
              "#9c179e"
             ],
             [
              0.4444444444444444,
              "#bd3786"
             ],
             [
              0.5555555555555556,
              "#d8576b"
             ],
             [
              0.6666666666666666,
              "#ed7953"
             ],
             [
              0.7777777777777778,
              "#fb9f3a"
             ],
             [
              0.8888888888888888,
              "#fdca26"
             ],
             [
              1,
              "#f0f921"
             ]
            ],
            "type": "heatmap"
           }
          ],
          "heatmapgl": [
           {
            "colorbar": {
             "outlinewidth": 0,
             "ticks": ""
            },
            "colorscale": [
             [
              0,
              "#0d0887"
             ],
             [
              0.1111111111111111,
              "#46039f"
             ],
             [
              0.2222222222222222,
              "#7201a8"
             ],
             [
              0.3333333333333333,
              "#9c179e"
             ],
             [
              0.4444444444444444,
              "#bd3786"
             ],
             [
              0.5555555555555556,
              "#d8576b"
             ],
             [
              0.6666666666666666,
              "#ed7953"
             ],
             [
              0.7777777777777778,
              "#fb9f3a"
             ],
             [
              0.8888888888888888,
              "#fdca26"
             ],
             [
              1,
              "#f0f921"
             ]
            ],
            "type": "heatmapgl"
           }
          ],
          "histogram": [
           {
            "marker": {
             "pattern": {
              "fillmode": "overlay",
              "size": 10,
              "solidity": 0.2
             }
            },
            "type": "histogram"
           }
          ],
          "histogram2d": [
           {
            "colorbar": {
             "outlinewidth": 0,
             "ticks": ""
            },
            "colorscale": [
             [
              0,
              "#0d0887"
             ],
             [
              0.1111111111111111,
              "#46039f"
             ],
             [
              0.2222222222222222,
              "#7201a8"
             ],
             [
              0.3333333333333333,
              "#9c179e"
             ],
             [
              0.4444444444444444,
              "#bd3786"
             ],
             [
              0.5555555555555556,
              "#d8576b"
             ],
             [
              0.6666666666666666,
              "#ed7953"
             ],
             [
              0.7777777777777778,
              "#fb9f3a"
             ],
             [
              0.8888888888888888,
              "#fdca26"
             ],
             [
              1,
              "#f0f921"
             ]
            ],
            "type": "histogram2d"
           }
          ],
          "histogram2dcontour": [
           {
            "colorbar": {
             "outlinewidth": 0,
             "ticks": ""
            },
            "colorscale": [
             [
              0,
              "#0d0887"
             ],
             [
              0.1111111111111111,
              "#46039f"
             ],
             [
              0.2222222222222222,
              "#7201a8"
             ],
             [
              0.3333333333333333,
              "#9c179e"
             ],
             [
              0.4444444444444444,
              "#bd3786"
             ],
             [
              0.5555555555555556,
              "#d8576b"
             ],
             [
              0.6666666666666666,
              "#ed7953"
             ],
             [
              0.7777777777777778,
              "#fb9f3a"
             ],
             [
              0.8888888888888888,
              "#fdca26"
             ],
             [
              1,
              "#f0f921"
             ]
            ],
            "type": "histogram2dcontour"
           }
          ],
          "mesh3d": [
           {
            "colorbar": {
             "outlinewidth": 0,
             "ticks": ""
            },
            "type": "mesh3d"
           }
          ],
          "parcoords": [
           {
            "line": {
             "colorbar": {
              "outlinewidth": 0,
              "ticks": ""
             }
            },
            "type": "parcoords"
           }
          ],
          "pie": [
           {
            "automargin": true,
            "type": "pie"
           }
          ],
          "scatter": [
           {
            "fillpattern": {
             "fillmode": "overlay",
             "size": 10,
             "solidity": 0.2
            },
            "type": "scatter"
           }
          ],
          "scatter3d": [
           {
            "line": {
             "colorbar": {
              "outlinewidth": 0,
              "ticks": ""
             }
            },
            "marker": {
             "colorbar": {
              "outlinewidth": 0,
              "ticks": ""
             }
            },
            "type": "scatter3d"
           }
          ],
          "scattercarpet": [
           {
            "marker": {
             "colorbar": {
              "outlinewidth": 0,
              "ticks": ""
             }
            },
            "type": "scattercarpet"
           }
          ],
          "scattergeo": [
           {
            "marker": {
             "colorbar": {
              "outlinewidth": 0,
              "ticks": ""
             }
            },
            "type": "scattergeo"
           }
          ],
          "scattergl": [
           {
            "marker": {
             "colorbar": {
              "outlinewidth": 0,
              "ticks": ""
             }
            },
            "type": "scattergl"
           }
          ],
          "scattermapbox": [
           {
            "marker": {
             "colorbar": {
              "outlinewidth": 0,
              "ticks": ""
             }
            },
            "type": "scattermapbox"
           }
          ],
          "scatterpolar": [
           {
            "marker": {
             "colorbar": {
              "outlinewidth": 0,
              "ticks": ""
             }
            },
            "type": "scatterpolar"
           }
          ],
          "scatterpolargl": [
           {
            "marker": {
             "colorbar": {
              "outlinewidth": 0,
              "ticks": ""
             }
            },
            "type": "scatterpolargl"
           }
          ],
          "scatterternary": [
           {
            "marker": {
             "colorbar": {
              "outlinewidth": 0,
              "ticks": ""
             }
            },
            "type": "scatterternary"
           }
          ],
          "surface": [
           {
            "colorbar": {
             "outlinewidth": 0,
             "ticks": ""
            },
            "colorscale": [
             [
              0,
              "#0d0887"
             ],
             [
              0.1111111111111111,
              "#46039f"
             ],
             [
              0.2222222222222222,
              "#7201a8"
             ],
             [
              0.3333333333333333,
              "#9c179e"
             ],
             [
              0.4444444444444444,
              "#bd3786"
             ],
             [
              0.5555555555555556,
              "#d8576b"
             ],
             [
              0.6666666666666666,
              "#ed7953"
             ],
             [
              0.7777777777777778,
              "#fb9f3a"
             ],
             [
              0.8888888888888888,
              "#fdca26"
             ],
             [
              1,
              "#f0f921"
             ]
            ],
            "type": "surface"
           }
          ],
          "table": [
           {
            "cells": {
             "fill": {
              "color": "#EBF0F8"
             },
             "line": {
              "color": "white"
             }
            },
            "header": {
             "fill": {
              "color": "#C8D4E3"
             },
             "line": {
              "color": "white"
             }
            },
            "type": "table"
           }
          ]
         },
         "layout": {
          "annotationdefaults": {
           "arrowcolor": "#2a3f5f",
           "arrowhead": 0,
           "arrowwidth": 1
          },
          "autotypenumbers": "strict",
          "coloraxis": {
           "colorbar": {
            "outlinewidth": 0,
            "ticks": ""
           }
          },
          "colorscale": {
           "diverging": [
            [
             0,
             "#8e0152"
            ],
            [
             0.1,
             "#c51b7d"
            ],
            [
             0.2,
             "#de77ae"
            ],
            [
             0.3,
             "#f1b6da"
            ],
            [
             0.4,
             "#fde0ef"
            ],
            [
             0.5,
             "#f7f7f7"
            ],
            [
             0.6,
             "#e6f5d0"
            ],
            [
             0.7,
             "#b8e186"
            ],
            [
             0.8,
             "#7fbc41"
            ],
            [
             0.9,
             "#4d9221"
            ],
            [
             1,
             "#276419"
            ]
           ],
           "sequential": [
            [
             0,
             "#0d0887"
            ],
            [
             0.1111111111111111,
             "#46039f"
            ],
            [
             0.2222222222222222,
             "#7201a8"
            ],
            [
             0.3333333333333333,
             "#9c179e"
            ],
            [
             0.4444444444444444,
             "#bd3786"
            ],
            [
             0.5555555555555556,
             "#d8576b"
            ],
            [
             0.6666666666666666,
             "#ed7953"
            ],
            [
             0.7777777777777778,
             "#fb9f3a"
            ],
            [
             0.8888888888888888,
             "#fdca26"
            ],
            [
             1,
             "#f0f921"
            ]
           ],
           "sequentialminus": [
            [
             0,
             "#0d0887"
            ],
            [
             0.1111111111111111,
             "#46039f"
            ],
            [
             0.2222222222222222,
             "#7201a8"
            ],
            [
             0.3333333333333333,
             "#9c179e"
            ],
            [
             0.4444444444444444,
             "#bd3786"
            ],
            [
             0.5555555555555556,
             "#d8576b"
            ],
            [
             0.6666666666666666,
             "#ed7953"
            ],
            [
             0.7777777777777778,
             "#fb9f3a"
            ],
            [
             0.8888888888888888,
             "#fdca26"
            ],
            [
             1,
             "#f0f921"
            ]
           ]
          },
          "colorway": [
           "#636efa",
           "#EF553B",
           "#00cc96",
           "#ab63fa",
           "#FFA15A",
           "#19d3f3",
           "#FF6692",
           "#B6E880",
           "#FF97FF",
           "#FECB52"
          ],
          "font": {
           "color": "#2a3f5f"
          },
          "geo": {
           "bgcolor": "white",
           "lakecolor": "white",
           "landcolor": "#E5ECF6",
           "showlakes": true,
           "showland": true,
           "subunitcolor": "white"
          },
          "hoverlabel": {
           "align": "left"
          },
          "hovermode": "closest",
          "mapbox": {
           "style": "light"
          },
          "paper_bgcolor": "white",
          "plot_bgcolor": "#E5ECF6",
          "polar": {
           "angularaxis": {
            "gridcolor": "white",
            "linecolor": "white",
            "ticks": ""
           },
           "bgcolor": "#E5ECF6",
           "radialaxis": {
            "gridcolor": "white",
            "linecolor": "white",
            "ticks": ""
           }
          },
          "scene": {
           "xaxis": {
            "backgroundcolor": "#E5ECF6",
            "gridcolor": "white",
            "gridwidth": 2,
            "linecolor": "white",
            "showbackground": true,
            "ticks": "",
            "zerolinecolor": "white"
           },
           "yaxis": {
            "backgroundcolor": "#E5ECF6",
            "gridcolor": "white",
            "gridwidth": 2,
            "linecolor": "white",
            "showbackground": true,
            "ticks": "",
            "zerolinecolor": "white"
           },
           "zaxis": {
            "backgroundcolor": "#E5ECF6",
            "gridcolor": "white",
            "gridwidth": 2,
            "linecolor": "white",
            "showbackground": true,
            "ticks": "",
            "zerolinecolor": "white"
           }
          },
          "shapedefaults": {
           "line": {
            "color": "#2a3f5f"
           }
          },
          "ternary": {
           "aaxis": {
            "gridcolor": "white",
            "linecolor": "white",
            "ticks": ""
           },
           "baxis": {
            "gridcolor": "white",
            "linecolor": "white",
            "ticks": ""
           },
           "bgcolor": "#E5ECF6",
           "caxis": {
            "gridcolor": "white",
            "linecolor": "white",
            "ticks": ""
           }
          },
          "title": {
           "x": 0.05
          },
          "xaxis": {
           "automargin": true,
           "gridcolor": "white",
           "linecolor": "white",
           "ticks": "",
           "title": {
            "standoff": 15
           },
           "zerolinecolor": "white",
           "zerolinewidth": 2
          },
          "yaxis": {
           "automargin": true,
           "gridcolor": "white",
           "linecolor": "white",
           "ticks": "",
           "title": {
            "standoff": 15
           },
           "zerolinecolor": "white",
           "zerolinewidth": 2
          }
         }
        },
        "title": {
         "font": {
          "color": "black",
          "family": "Arial, sans-serif",
          "size": 25
         },
         "text": "Average Reaction Times Across All Subjects\n\n",
         "x": 0.5,
         "y": 0.985
        },
        "violinmode": "overlay",
        "width": 800,
        "xaxis": {
         "linecolor": "black",
         "linewidth": 3,
         "mirror": true,
         "showgrid": false,
         "showline": true,
         "tickfont": {
          "color": "black",
          "family": "Arial, sans-serif",
          "size": 20
         },
         "ticklen": 10,
         "tickmode": "array",
         "ticks": "outside",
         "tickvals": [
          "Abstraction",
          "Simulation",
          "Both"
         ],
         "tickwidth": 3,
         "title": {
          "font": {
           "color": "black",
           "family": "Arial, sans-serif",
           "size": 20
          },
          "text": "Response Type"
         }
        },
        "yaxis": {
         "gridcolor": "lightgray",
         "gridwidth": 1,
         "linecolor": "black",
         "linewidth": 3,
         "mirror": true,
         "showgrid": true,
         "showline": true,
         "tickfont": {
          "color": "black",
          "family": "Arial, sans-serif",
          "size": 20
         },
         "ticklen": 10,
         "ticks": "outside",
         "tickwidth": 3,
         "title": {
          "font": {
           "color": "black",
           "family": "Arial, sans-serif",
           "size": 20
          },
          "text": "Reaction Time (s)"
         }
        }
       }
      }
     },
     "metadata": {},
     "output_type": "display_data"
    }
   ],
   "source": [
    "\n",
    "# Create an empty list to store all data frames\n",
    "all_data = []\n",
    "\n",
    "# Define types and their colors\n",
    "types = ['Abstraction', 'Simulation', 'Both']\n",
    "\n",
    "# Generate a colormap\n",
    "cmap = plt.get_cmap('YlOrRd')  # You can choose a different colormap if you prefer\n",
    "col_factor = 50\n",
    "col_icept = 150\n",
    "# Create the colors dictionary\n",
    "type_colors = {name: f'rgba({int(cmap(i*col_factor + col_icept)[0]*255)}, {int(cmap(i*col_factor + col_icept)[1]*255)}, {int(cmap(i*col_factor + col_icept)[2]*255)}, 0.5)' \n",
    "          for i, name in enumerate(types)}\n",
    "\n",
    "# Loop through all subjects (using the same structure as your original code)\n",
    "for sub_name in all_sub_names:\n",
    "    sub = get_data(subject=f\"sub-{sub_name}\", task=\"ball_hue\")\n",
    "    # Get your data as before\n",
    "    rt_dubs = get_rt(sub, hypothesis=\"both\", include_dubtrials=\"only\", return_df=True)\n",
    "    rt_separate = get_rt(sub, hypothesis=\"both\", include_dubtrials=False, return_df=True)\n",
    "    sim_rt = rt_separate[\"simulation\"][\"rt\"]\n",
    "    abs_rt = rt_separate[\"abstraction\"][\"rt\"]\n",
    "    both_rt = rt_dubs[\"sim + abs\"][\"rt\"]\n",
    "    \n",
    "    # Create DataFrames without subject column - we'll aggregate across all subjects\n",
    "    sim_df = pd.DataFrame({\n",
    "        'Reaction Time': sim_rt,\n",
    "        'Type': 'Simulation'\n",
    "    })\n",
    "    \n",
    "    abs_df = pd.DataFrame({\n",
    "        'Reaction Time': abs_rt,\n",
    "        'Type': 'Abstraction'\n",
    "    })\n",
    "    \n",
    "    both_df = pd.DataFrame({\n",
    "        'Reaction Time': both_rt,\n",
    "        'Type': 'Both'\n",
    "    })\n",
    "    \n",
    "    # Append all DataFrames to our list\n",
    "    all_data.extend([abs_df, sim_df, both_df])\n",
    "\n",
    "# Combine all the data into a single DataFrame\n",
    "combined_data = pd.concat(all_data, ignore_index=True)\n",
    "\n",
    "# Calculate mean reaction time for each type\n",
    "type_means = combined_data.groupby('Type')['Reaction Time'].mean().to_dict()\n",
    "\n",
    "# Create the plot\n",
    "fig = go.Figure()\n",
    "\n",
    "# Add violin plots for each type\n",
    "for i, type_name in enumerate(types):\n",
    "    subset = combined_data[combined_data['Type'] == type_name]\n",
    "    \n",
    "    fig.add_trace(go.Violin(\n",
    "        x=[type_name] * len(subset),  # Use type name directly as x value\n",
    "        y=subset['Reaction Time'],\n",
    "        name=type_name,\n",
    "        legendgroup=type_name,\n",
    "        showlegend=True,\n",
    "        box_visible=True,\n",
    "        meanline_visible=True,\n",
    "        points='all',\n",
    "        jitter=0.2,\n",
    "        pointpos=0.5,\n",
    "        line_color=type_colors[type_name],\n",
    "        side='negative',\n",
    "        width=.5,\n",
    "        spanmode='soft'\n",
    "    ))\n",
    "\n",
    "# Connect the means with a line\n",
    "fig.add_trace(go.Scatter(\n",
    "    x=types,\n",
    "    y=[type_means[t] for t in types],\n",
    "    mode='lines+markers',\n",
    "    line=dict(color='rgba(0, 0, 0, 0.7)', width=8),\n",
    "    marker=dict(\n",
    "        size=14,  # Increased marker size\n",
    "        color=[type_colors[t].replace('0.5', '1') for t in types],\n",
    "        line=dict(color='black', width=4)\n",
    "    ),\n",
    "    name='Mean RT',\n",
    "    hovertemplate='Mean: %{y:.3f}s<extra></extra>'\n",
    "))\n",
    "\n",
    "# Define a common font style for consistent text appearance\n",
    "font_style = dict(\n",
    "    family=\"Arial, sans-serif\",\n",
    "    size=20,  # Larger font size\n",
    "    color=\"black\"\n",
    ")\n",
    "\n",
    "# Update layout with enhanced text styling\n",
    "fig.update_layout(\n",
    "    title=dict(\n",
    "        text=\"Average Reaction Times Across All Subjects\\n\\n\",\n",
    "        font=dict(size=25, family=\"Arial, sans-serif\", color=\"black\"),\n",
    "        x=0.5,\n",
    "        y=.985\n",
    "    ),\n",
    "    yaxis=dict(\n",
    "        title=dict(\n",
    "            text=\"Reaction Time (s)\",\n",
    "            font=font_style\n",
    "        ),\n",
    "        tickfont=font_style,\n",
    "        tickwidth=2,\n",
    "        showline=True,\n",
    "        linewidth=3,\n",
    "        linecolor='black'\n",
    "    ),\n",
    "    xaxis=dict(\n",
    "        title=dict(\n",
    "            text=\"Response Type\",\n",
    "            font=font_style\n",
    "        ),\n",
    "        tickmode='array',\n",
    "        tickvals=types,\n",
    "        tickfont=font_style,\n",
    "        tickwidth=2,\n",
    "        showline=True,\n",
    "        linewidth=3,\n",
    "        linecolor='black'\n",
    "    ),\n",
    "    legend=dict(\n",
    "        orientation=\"h\",\n",
    "        yanchor=\"bottom\",\n",
    "        y=1.01,\n",
    "        xanchor=\"center\",\n",
    "        x=0.5,\n",
    "        font=dict(size=18, family=\"Arial, sans-serif\"),\n",
    "        borderwidth=2,\n",
    "        bordercolor=\"White\",\n",
    "        title=dict(\n",
    "            text=\"Response Type\",\n",
    "            font=dict(size=18, family=\"Arial, sans-serif\")\n",
    "        )\n",
    "    ),\n",
    "    violinmode='overlay',\n",
    "    # height=1200,\n",
    "    # width=1200,\n",
    "    height=800,\n",
    "    width=800,\n",
    "    font=font_style,  # Default font for all other text elements\n",
    "    plot_bgcolor='white',\n",
    "    paper_bgcolor='white'\n",
    ")\n",
    "\n",
    "# Add annotations for the mean values\n",
    "for i, type_name in enumerate(types):\n",
    "    fig.add_annotation(\n",
    "        x=type_name,\n",
    "        y=type_means[type_name],\n",
    "        text=f\"{type_means[type_name]:.3f}s\",\n",
    "        showarrow=True,\n",
    "        arrowhead=2,\n",
    "        arrowsize=1.5,  # Slightly larger arrowhead\n",
    "        arrowwidth=3,    # Thicker arrow\n",
    "        arrowcolor='black',\n",
    "        ax=120,\n",
    "        ay=-90,\n",
    "        font=dict(size=25, color='black', family=\"Arial, sans-serif\")\n",
    "    )\n",
    "\n",
    "# Make the axis lines thicker\n",
    "fig.update_xaxes(mirror=True, ticks='outside', tickwidth=3, ticklen=10, showgrid=False)\n",
    "fig.update_yaxes(mirror=True, ticks='outside', tickwidth=3, ticklen=10, showgrid=True, gridwidth=1, gridcolor='lightgray')\n",
    "\n",
    "fig.show()"
   ]
  }
 ],
 "metadata": {
  "kernelspec": {
   "display_name": "wieg_env_nsd",
   "language": "python",
   "name": "python3"
  },
  "language_info": {
   "codemirror_mode": {
    "name": "ipython",
    "version": 3
   },
   "file_extension": ".py",
   "mimetype": "text/x-python",
   "name": "python",
   "nbconvert_exporter": "python",
   "pygments_lexer": "ipython3",
   "version": "3.11.8"
  }
 },
 "nbformat": 4,
 "nbformat_minor": 2
}
