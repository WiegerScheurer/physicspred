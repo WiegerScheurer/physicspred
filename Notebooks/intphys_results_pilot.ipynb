{
 "cells": [
  {
   "cell_type": "code",
   "execution_count": 4,
   "metadata": {},
   "outputs": [],
   "source": [
    "import sys, os, random\n",
    "import numpy as np\n",
    "import pandas as pd\n",
    "import matplotlib.pyplot as plt\n",
    "import plotly.graph_objects as go\n",
    "import random\n"
   ]
  },
  {
   "cell_type": "code",
   "execution_count": 5,
   "metadata": {},
   "outputs": [],
   "source": [
    "sys.path.append(\n",
    "    \"/Users/wiegerscheurer/repos/physicspred\"\n",
    ")  # To enable importing from repository folders\n",
    "\n",
    "\n",
    "from functions.utilities import ordinal_sample"
   ]
  },
  {
   "cell_type": "code",
   "execution_count": 6,
   "metadata": {},
   "outputs": [
    {
     "name": "stdout",
     "output_type": "stream",
     "text": [
      "[0.  0.5 1.  1.5 2. ]\n"
     ]
    }
   ],
   "source": [
    "# def ordinal_sample(mean, step_size, n_factors, n_samples, plot:bool=False):\n",
    "#     # steps = np.arange(0, (mean + (step_size * (n_factors // 2))), step_size)\n",
    "#     steps = np.arange(mean, n_factors * step_size, step_size)\n",
    "    \n",
    "#     steps = steps - np.median(steps)\n",
    "#     return steps\n",
    "# # \n",
    "# ordinal_sample(1, 1, 5, 10)\n",
    "\n",
    "import numpy as np\n",
    "\n",
    "# def ordinal_sample(mean, step_size, n_elements, plot:bool=False):\n",
    "#     # Calculate the start and end points\n",
    "#     half_range = (n_elements - 1) // 2\n",
    "#     start = mean - half_range * step_size\n",
    "#     end = mean + half_range * step_size\n",
    "    \n",
    "#     # Generate the steps\n",
    "#     steps = np.arange(start, end + step_size, step_size)\n",
    "    \n",
    "#     # Ensure the correct number of elements\n",
    "#     if len(steps) > n_elements:\n",
    "#         steps = steps[:n_elements]\n",
    "    \n",
    "#     return steps\n",
    "\n",
    "# # Example usage\n",
    "print(ordinal_sample(1, .5, 5))"
   ]
  },
  {
   "cell_type": "code",
   "execution_count": 7,
   "metadata": {},
   "outputs": [],
   "source": [
    "from itertools import product\n",
    "\n",
    "\n",
    "def create_balanced_trial_design(trial_n=None, change_ratio:list = [True, False], avg_ball_luminance=.45, natural_luminance_variance=0.05):\n",
    "    \n",
    "    def _clean_trial_options(df):\n",
    "        # For each row, if trial_option starts with \"none\", keep only the first 6 characters\n",
    "        df['trial_option'] = df['trial_option'].apply(\n",
    "            lambda x: x[:6] if x.startswith('none_') else x\n",
    "        )\n",
    "        return df\n",
    "\n",
    "    # Your options\n",
    "    interactor_trial_options = [\"45_top_r\", \"45_top_u\", \"45_bottom_l\", \"45_bottom_d\",\n",
    "                               \"135_top_l\", \"135_top_u\", \"135_bottom_r\", \"135_bottom_d\"]\n",
    "    # empty_trial_options = [\"none_l\", \"none_r\", \"none_u\", \"none_d\"] * 2\n",
    "    # Option 1: Create 8 truly unique empty trial options\n",
    "    empty_trial_options = [\"none_l_1\", \"none_r_1\", \"none_u_1\", \"none_d_1\", \n",
    "                        \"none_l_2\", \"none_r_2\", \"none_u_2\", \"none_d_2\"]\n",
    "\n",
    "\n",
    "    directions = [\"left\", \"right\"] * 8\n",
    "    random.shuffle(directions)\n",
    "    \n",
    "    # Update the direction mapping\n",
    "    direction_mapping = {\n",
    "        \"none_l_1\": directions[0], \"none_l_2\": directions[1],\n",
    "        \"none_r_1\": directions[2], \"none_r_2\": directions[3],\n",
    "        \"none_u_1\": directions[4], \"none_u_2\": directions[5],\n",
    "        \"none_d_1\": directions[6], \"none_d_2\": directions[7]\n",
    "    }\n",
    "    \n",
    "    bounce_options = [True, False]\n",
    "    # ball_change_options = [True, False]\n",
    "    ball_change_options = change_ratio\n",
    "    \n",
    "    # ball_luminance_options = list(np.arange(\n",
    "    #     avg_ball_luminance - natural_luminance_variance,\n",
    "    #     avg_ball_luminance + (2 * natural_luminance_variance),\n",
    "    #     natural_luminance_variance\n",
    "    # ))[:3]  # Take only 3 luminances\n",
    "    \n",
    "    ball_luminance_options = list(ordinal_sample(avg_ball_luminance, natural_luminance_variance, n_elements=5, round_decimals=3))\n",
    "    \n",
    "    \n",
    "    \n",
    "    # If trial_n is specified, create a balanced subset\n",
    "    if trial_n is not None:\n",
    "        # Make sure trial_n is even for interactor:empty balance\n",
    "        if trial_n % 2 == 1:\n",
    "            trial_n -= 1\n",
    "            print(f\"Adjusted trial count to {trial_n} to maintain balance\")\n",
    "        \n",
    "        half_n = trial_n // 2  # Half for interactor, half for empty\n",
    "        \n",
    "        # Create dataframe to store the balanced design\n",
    "        all_trials = []\n",
    "        \n",
    "        # For interactor trials\n",
    "        # First, create all possible combinations\n",
    "        interactor_combos = list(product(\n",
    "            interactor_trial_options,\n",
    "            bounce_options,\n",
    "            ball_change_options,\n",
    "            ball_luminance_options\n",
    "        ))\n",
    "        random.shuffle(interactor_combos)  # Shuffle to avoid bias\n",
    "        \n",
    "        # Now intelligently select a subset that maximizes balance\n",
    "        selected_interactor = []\n",
    "        option_counts = {option: 0 for option in interactor_trial_options}\n",
    "        bounce_counts = {True: 0, False: 0}\n",
    "        change_counts = {True: 0, False: 0}\n",
    "        luminance_counts = {luminance: 0 for luminance in ball_luminance_options}\n",
    "        \n",
    "        # First pass: try to get at least one of each option\n",
    "        for option in interactor_trial_options:\n",
    "            matching_combos = [c for c in interactor_combos if c[0] == option and c not in selected_interactor]\n",
    "            if matching_combos:\n",
    "                selected_interactor.append(matching_combos[0])\n",
    "                option_counts[option] += 1\n",
    "                bounce_counts[matching_combos[0][1]] += 1\n",
    "                change_counts[matching_combos[0][2]] += 1\n",
    "                luminance_counts[matching_combos[0][3]] += 1\n",
    "        \n",
    "        # Second pass: fill in remaining slots balancing bounce and ball_change\n",
    "        remaining_slots = half_n - len(selected_interactor)\n",
    "        while remaining_slots > 0:\n",
    "            # Prioritize by least common option, then bounce, then ball_change\n",
    "            min_option_count = min(option_counts.values())\n",
    "            min_options = [opt for opt, count in option_counts.items() if count == min_option_count]\n",
    "            \n",
    "            min_bounce_count = min(bounce_counts.values())\n",
    "            min_bounce = [b for b, count in bounce_counts.items() if count == min_bounce_count]\n",
    "            \n",
    "            min_change_count = min(change_counts.values())\n",
    "            min_change = [c for c, count in change_counts.items() if count == min_change_count]\n",
    "            \n",
    "            # Find combos that match our criteria\n",
    "            matching_combos = [c for c in interactor_combos \n",
    "                              if c[0] in min_options \n",
    "                              and c[1] in min_bounce \n",
    "                              and c[2] in min_change \n",
    "                              and c not in selected_interactor]\n",
    "            \n",
    "            # If no perfect match, relax constraints one by one\n",
    "            if not matching_combos:\n",
    "                matching_combos = [c for c in interactor_combos \n",
    "                                  if c[0] in min_options \n",
    "                                  and c[1] in min_bounce \n",
    "                                  and c not in selected_interactor]\n",
    "            \n",
    "            if not matching_combos:\n",
    "                matching_combos = [c for c in interactor_combos \n",
    "                                  if c[0] in min_options \n",
    "                                  and c not in selected_interactor]\n",
    "            \n",
    "            if not matching_combos:\n",
    "                matching_combos = [c for c in interactor_combos if c not in selected_interactor]\n",
    "            \n",
    "            if matching_combos:\n",
    "                best_combo = matching_combos[0]\n",
    "                selected_interactor.append(best_combo)\n",
    "                option_counts[best_combo[0]] += 1\n",
    "                bounce_counts[best_combo[1]] += 1\n",
    "                change_counts[best_combo[2]] += 1\n",
    "                luminance_counts[best_combo[3]] += 1\n",
    "                remaining_slots -= 1\n",
    "            else:\n",
    "                # If we somehow run out of unique combinations\n",
    "                break\n",
    "        \n",
    "        # Create the interactor trials from our selection\n",
    "        for trial_option, bounce, ball_change, ball_luminance in selected_interactor:\n",
    "            all_trials.append({\n",
    "                'trial_type': 'interactor',\n",
    "                'trial_option': trial_option,\n",
    "                'bounce': bounce,\n",
    "                'phant_bounce_direction': None,\n",
    "                'ball_change': ball_change,\n",
    "                'ball_luminance': ball_luminance\n",
    "            })\n",
    "        \n",
    "        # For empty trials, use the same approach\n",
    "        empty_combos = list(product(\n",
    "            empty_trial_options,\n",
    "            bounce_options,\n",
    "            ball_change_options,\n",
    "            ball_luminance_options\n",
    "        ))\n",
    "        random.shuffle(empty_combos)  # Shuffle to avoid bias\n",
    "        \n",
    "        # Now intelligently select a subset that maximizes balance\n",
    "        selected_empty = []\n",
    "        option_counts = {option: 0 for option in empty_trial_options}\n",
    "        bounce_counts = {True: 0, False: 0}\n",
    "        change_counts = {True: 0, False: 0}\n",
    "        luminance_counts = {luminance: 0 for luminance in ball_luminance_options}\n",
    "        \n",
    "        # First pass: try to get at least one of each option\n",
    "        for option in empty_trial_options:\n",
    "            matching_combos = [c for c in empty_combos if c[0] == option and c not in selected_empty]\n",
    "            if matching_combos:\n",
    "                selected_empty.append(matching_combos[0])\n",
    "                option_counts[option] += 1\n",
    "                bounce_counts[matching_combos[0][1]] += 1\n",
    "                change_counts[matching_combos[0][2]] += 1\n",
    "                luminance_counts[matching_combos[0][3]] += 1\n",
    "        \n",
    "        # Second pass: fill in remaining slots balancing bounce and ball_change\n",
    "        remaining_slots = half_n - len(selected_empty)\n",
    "        while remaining_slots > 0:\n",
    "            # Prioritize by least common option, then bounce, then ball_change\n",
    "            min_option_count = min(option_counts.values())\n",
    "            min_options = [opt for opt, count in option_counts.items() if count == min_option_count]\n",
    "            \n",
    "            min_bounce_count = min(bounce_counts.values())\n",
    "            min_bounce = [b for b, count in bounce_counts.items() if count == min_bounce_count]\n",
    "            \n",
    "            min_change_count = min(change_counts.values())\n",
    "            min_change = [c for c, count in change_counts.items() if count == min_change_count]\n",
    "            \n",
    "            # Find combos that match our criteria\n",
    "            matching_combos = [c for c in empty_combos \n",
    "                              if c[0] in min_options \n",
    "                              and c[1] in min_bounce \n",
    "                              and c[2] in min_change \n",
    "                              and c not in selected_empty]\n",
    "            \n",
    "            # If no perfect match, relax constraints one by one\n",
    "            if not matching_combos:\n",
    "                matching_combos = [c for c in empty_combos \n",
    "                                  if c[0] in min_options \n",
    "                                  and c[1] in min_bounce \n",
    "                                  and c not in selected_empty]\n",
    "            \n",
    "            if not matching_combos:\n",
    "                matching_combos = [c for c in empty_combos \n",
    "                                  if c[0] in min_options \n",
    "                                  and c not in selected_empty]\n",
    "            \n",
    "            if not matching_combos:\n",
    "                matching_combos = [c for c in empty_combos if c not in selected_empty]\n",
    "            \n",
    "            if matching_combos:\n",
    "                best_combo = matching_combos[0]\n",
    "                selected_empty.append(best_combo)\n",
    "                option_counts[best_combo[0]] += 1\n",
    "                bounce_counts[best_combo[1]] += 1\n",
    "                change_counts[best_combo[2]] += 1\n",
    "                luminance_counts[best_combo[3]] += 1\n",
    "                remaining_slots -= 1\n",
    "            else:\n",
    "                # If we somehow run out of unique combinations\n",
    "                break\n",
    "        \n",
    "        # Create the empty trials from our selection\n",
    "        for trial_option, bounce, ball_change, ball_luminance in selected_empty:\n",
    "            bounce_direction = direction_mapping[trial_option] if bounce else None\n",
    "            all_trials.append({\n",
    "                'trial_type': 'empty',\n",
    "                'trial_option': trial_option,\n",
    "                'bounce': bounce,\n",
    "                'phant_bounce_direction': bounce_direction,\n",
    "                'ball_change': ball_change,\n",
    "                'ball_luminance': ball_luminance\n",
    "            })\n",
    "        \n",
    "        # Convert to dataframe and shuffle\n",
    "        df = pd.DataFrame(all_trials)\n",
    "        df.sample(frac=1).reset_index(drop=True)\n",
    "        return _clean_trial_options(df)\n",
    "    \n",
    "    # If trial_n is None, create the full balanced design\n",
    "    else:\n",
    "        # Create all possible combinations\n",
    "        all_trials = []\n",
    "        \n",
    "        # For interactor trials\n",
    "        for combo in product(interactor_trial_options, bounce_options, ball_change_options, ball_luminance_options):\n",
    "            trial_option, bounce, ball_change, ball_luminance = combo\n",
    "            all_trials.append({\n",
    "                'trial_type': 'interactor',\n",
    "                'trial_option': trial_option,\n",
    "                'bounce': bounce,\n",
    "                'phant_bounce_direction': None,\n",
    "                'ball_change': ball_change,\n",
    "                'ball_luminance': ball_luminance\n",
    "            })\n",
    "        \n",
    "        # For empty trials - we need to duplicate these to match interactor count\n",
    "        for combo in product(empty_trial_options, bounce_options, ball_change_options, ball_luminance_options):\n",
    "            trial_option, bounce, ball_change, ball_luminance = combo\n",
    "            bounce_direction = direction_mapping[trial_option] if bounce else None\n",
    "            \n",
    "            # Each empty trial combination needs to appear twice to balance with interactor trials\n",
    "            # for _ in range(2):\n",
    "            all_trials.append({\n",
    "                'trial_type': 'empty',\n",
    "                'trial_option': trial_option,\n",
    "                'bounce': bounce,\n",
    "                'phant_bounce_direction': bounce_direction,\n",
    "                'ball_change': ball_change,\n",
    "                'ball_luminance': ball_luminance\n",
    "            })\n",
    "    \n",
    "    \n",
    "        # Convert to dataframe and shuffle\n",
    "        df = pd.DataFrame(all_trials)\n",
    "\n",
    "        df.sample(frac=1).reset_index(drop=True)\n",
    "        \n",
    "        return _clean_trial_options(df)\n",
    "            \n",
    "        # return output_df.sample(frac=1).reset_index(drop=True)\n",
    "        \n",
    "def build_design_matrix(n_trials:int, change_ratio:list=[True, False], avg_ball_luminance:float=.45, natural_luminance_variance:float=.05, trials_per_fullmx:int | None=None, verbose:bool=False):\n",
    "    \"\"\"\n",
    "    Build a design matrix for a given number of trials.\n",
    "\n",
    "    Parameters:\n",
    "    - n_trials (int): The total number of trials.\n",
    "    - verbose (bool): Whether to print verbose output.\n",
    "\n",
    "    Returns:\n",
    "    - design_matrix (pd.DataFrame): The resulting design matrix.\n",
    "    \"\"\"\n",
    "    # trials_per_fullmx = 192\n",
    "    if trials_per_fullmx is None:\n",
    "        test_dm = create_balanced_trial_design(trial_n=None, \n",
    "                                               change_ratio=change_ratio, \n",
    "                                               avg_ball_luminance=avg_ball_luminance, \n",
    "                                               natural_luminance_variance=natural_luminance_variance)\n",
    "        trials_per_fullmx = len(test_dm)    \n",
    "        print(f\"Number of trials per full matrix: {trials_per_fullmx}\")\n",
    "\n",
    "    full_matrices = n_trials // trials_per_fullmx\n",
    "    remainder = n_trials % trials_per_fullmx\n",
    "    \n",
    "    if verbose:\n",
    "        print(f\"Design matrix for {n_trials} trials, constituting {full_matrices} fully balanced matrices and {remainder} trials balanced approximately optimal.\")\n",
    "    \n",
    "    if remainder > 0:\n",
    "        initial_dm = create_balanced_trial_design(remainder, change_ratio=change_ratio, avg_ball_luminance=avg_ball_luminance, natural_luminance_variance=natural_luminance_variance)\n",
    "    else:\n",
    "        initial_dm = pd.DataFrame()\n",
    "    \n",
    "    for full_matrix in range(full_matrices + 1):\n",
    "        dm = create_balanced_trial_design(192)\n",
    "        dm = create_balanced_trial_design(trials_per_fullmx, change_ratio=change_ratio, avg_ball_luminance=avg_ball_luminance, natural_luminance_variance=natural_luminance_variance)\n",
    "        if full_matrix == 0:\n",
    "            design_matrix = initial_dm\n",
    "        else:\n",
    "            design_matrix = pd.concat([design_matrix, dm])\n",
    "            \n",
    "    # Shuffle the rows and reset the index\n",
    "    design_matrix = design_matrix.sample(frac=1).reset_index(drop=True)\n",
    "    return design_matrix\n",
    "\n",
    "def check_balance(df):\n",
    "    print(f\"Total trials: {len(df)}\")\n",
    "    \n",
    "    # Check trial type balance\n",
    "    type_counts = df['trial_type'].value_counts()\n",
    "    print(\"\\nTrial type balance:\")\n",
    "    print(type_counts)\n",
    "    \n",
    "    # Check trial option balance within each trial type\n",
    "    print(\"\\nTrial option balance for interactor trials:\")\n",
    "    interactor_options = df[df['trial_type'] == 'interactor']['trial_option'].value_counts().sort_index()\n",
    "    print(interactor_options)\n",
    "    print(f\"Variance: {interactor_options.var():.2f}\")\n",
    "    \n",
    "    print(\"\\nTrial option balance for empty trials:\")\n",
    "    empty_options = df[df['trial_type'] == 'empty']['trial_option'].value_counts().sort_index()\n",
    "    print(empty_options)\n",
    "    print(f\"Variance: {empty_options.var():.2f}\")\n",
    "    \n",
    "    # Check bounce balance\n",
    "    bounce_counts = df['bounce'].value_counts()\n",
    "    print(\"\\nBounce balance:\")\n",
    "    print(bounce_counts)\n",
    "    \n",
    "    # Check ball change balance\n",
    "    ball_change_counts = df['ball_change'].value_counts()\n",
    "    print(\"\\nBall change balance:\")\n",
    "    print(ball_change_counts)\n",
    "    \n",
    "    # Check ball luminance balance\n",
    "    print(\"\\nBall luminance balance:\")\n",
    "    print(df['ball_luminance'].value_counts().sort_index())\n",
    "    \n",
    "    print(\"\\nCross-tabulation of bounce × ball_luminance_change:\")\n",
    "    print(pd.crosstab(df['bounce'], df['ball_luminance']))\n",
    "    \n",
    "    # Cross-tabulations for more detailed balance checks\n",
    "    print(\"\\nCross-tabulation of trial_type × bounce:\")\n",
    "    print(pd.crosstab(df['trial_type'], df['bounce']))\n",
    "    \n",
    "    print(\"\\nCross-tabulation of trial_type × ball_change:\")\n",
    "    print(pd.crosstab(df['trial_type'], df['ball_change']))\n",
    "    \n",
    "    print(\"\\nCross-tabulation of bounce × ball_change:\")\n",
    "    print(pd.crosstab(df['bounce'], df['ball_change']))\n",
    "    \n",
    "    # Check balance at the deepest level\n",
    "    print(\"\\nBalance within interactor trial types:\")\n",
    "    for option in sorted(df[df['trial_type'] == 'interactor']['trial_option'].unique()):\n",
    "        subset = df[(df['trial_type'] == 'interactor') & (df['trial_option'] == option)]\n",
    "        print(f\"\\n{option}:\")\n",
    "        print(f\"  Total: {len(subset)}\")\n",
    "        print(f\"  Bounce: {subset['bounce'].value_counts().to_dict()}\")\n",
    "        print(f\"  Ball Change: {subset['ball_change'].value_counts().to_dict()}\")\n",
    "        print(f\"  Ball luminance: {subset['ball_luminance'].value_counts().to_dict()}\")\n",
    "    \n",
    "    print(\"\\nBalance within empty trial types:\")\n",
    "    for option in sorted(df[df['trial_type'] == 'empty']['trial_option'].unique()):\n",
    "        subset = df[(df['trial_type'] == 'empty') & (df['trial_option'] == option)]\n",
    "        print(f\"\\n{option}:\")\n",
    "        print(f\"  Total: {len(subset)}\")\n",
    "        print(f\"  Bounce: {subset['bounce'].value_counts().to_dict()}\")\n",
    "        print(f\"  Ball Change: {subset['ball_change'].value_counts().to_dict()}\")\n",
    "        print(f\"  Ball luminance: {subset['ball_luminance'].value_counts().to_dict()}\")"
   ]
  },
  {
   "cell_type": "code",
   "execution_count": 8,
   "metadata": {},
   "outputs": [
    {
     "name": "stdout",
     "output_type": "stream",
     "text": [
      "Number of trials per full matrix: 160\n",
      "Design matrix for 200 trials, constituting 1 fully balanced matrices and 40 trials balanced approximately optimal.\n",
      "Total trials: 200\n",
      "\n",
      "Trial type balance:\n",
      "trial_type\n",
      "empty         100\n",
      "interactor    100\n",
      "Name: count, dtype: int64\n",
      "\n",
      "Trial option balance for interactor trials:\n",
      "trial_option\n",
      "135_bottom_d    13\n",
      "135_bottom_r    13\n",
      "135_top_l       12\n",
      "135_top_u       12\n",
      "45_bottom_d     12\n",
      "45_bottom_l     13\n",
      "45_top_r        13\n",
      "45_top_u        12\n",
      "Name: count, dtype: int64\n",
      "Variance: 0.29\n",
      "\n",
      "Trial option balance for empty trials:\n",
      "trial_option\n",
      "none_d    25\n",
      "none_l    25\n",
      "none_r    25\n",
      "none_u    25\n",
      "Name: count, dtype: int64\n",
      "Variance: 0.00\n",
      "\n",
      "Bounce balance:\n",
      "bounce\n",
      "False    100\n",
      "True     100\n",
      "Name: count, dtype: int64\n",
      "\n",
      "Ball change balance:\n",
      "ball_change\n",
      "True    200\n",
      "Name: count, dtype: int64\n",
      "\n",
      "Ball luminance balance:\n",
      "ball_luminance\n",
      "0.35    36\n",
      "0.40    39\n",
      "0.45    40\n",
      "0.50    42\n",
      "0.55    43\n",
      "Name: count, dtype: int64\n",
      "\n",
      "Cross-tabulation of bounce × ball_luminance_change:\n",
      "ball_luminance  0.35  0.40  0.45  0.50  0.55\n",
      "bounce                                      \n",
      "False             17    19    20    23    21\n",
      "True              19    20    20    19    22\n",
      "\n",
      "Cross-tabulation of trial_type × bounce:\n",
      "bounce      False  True \n",
      "trial_type              \n",
      "empty          50     50\n",
      "interactor     50     50\n",
      "\n",
      "Cross-tabulation of trial_type × ball_change:\n",
      "ball_change  True\n",
      "trial_type       \n",
      "empty         100\n",
      "interactor    100\n",
      "\n",
      "Cross-tabulation of bounce × ball_change:\n",
      "ball_change  True\n",
      "bounce           \n",
      "False         100\n",
      "True          100\n",
      "\n",
      "Balance within interactor trial types:\n",
      "\n",
      "135_bottom_d:\n",
      "  Total: 13\n",
      "  Bounce: {True: 7, False: 6}\n",
      "  Ball Change: {True: 13}\n",
      "  Ball luminance: {0.35: 3, 0.55: 3, 0.45: 3, 0.5: 2, 0.4: 2}\n",
      "\n",
      "135_bottom_r:\n",
      "  Total: 13\n",
      "  Bounce: {False: 7, True: 6}\n",
      "  Ball Change: {True: 13}\n",
      "  Ball luminance: {0.55: 4, 0.5: 3, 0.45: 2, 0.35: 2, 0.4: 2}\n",
      "\n",
      "135_top_l:\n",
      "  Total: 12\n",
      "  Bounce: {True: 7, False: 5}\n",
      "  Ball Change: {True: 12}\n",
      "  Ball luminance: {0.35: 3, 0.55: 3, 0.45: 2, 0.4: 2, 0.5: 2}\n",
      "\n",
      "135_top_u:\n",
      "  Total: 12\n",
      "  Bounce: {True: 6, False: 6}\n",
      "  Ball Change: {True: 12}\n",
      "  Ball luminance: {0.45: 3, 0.35: 3, 0.55: 2, 0.4: 2, 0.5: 2}\n",
      "\n",
      "45_bottom_d:\n",
      "  Total: 12\n",
      "  Bounce: {True: 6, False: 6}\n",
      "  Ball Change: {True: 12}\n",
      "  Ball luminance: {0.4: 3, 0.5: 3, 0.55: 2, 0.35: 2, 0.45: 2}\n",
      "\n",
      "45_bottom_l:\n",
      "  Total: 13\n",
      "  Bounce: {False: 7, True: 6}\n",
      "  Ball Change: {True: 13}\n",
      "  Ball luminance: {0.55: 3, 0.5: 3, 0.4: 3, 0.45: 2, 0.35: 2}\n",
      "\n",
      "45_top_r:\n",
      "  Total: 13\n",
      "  Bounce: {False: 7, True: 6}\n",
      "  Ball Change: {True: 13}\n",
      "  Ball luminance: {0.45: 4, 0.5: 3, 0.55: 2, 0.4: 2, 0.35: 2}\n",
      "\n",
      "45_top_u:\n",
      "  Total: 12\n",
      "  Bounce: {True: 6, False: 6}\n",
      "  Ball Change: {True: 12}\n",
      "  Ball luminance: {0.55: 3, 0.5: 3, 0.45: 2, 0.35: 2, 0.4: 2}\n",
      "\n",
      "Balance within empty trial types:\n",
      "\n",
      "none_d:\n",
      "  Total: 25\n",
      "  Bounce: {True: 14, False: 11}\n",
      "  Ball Change: {True: 25}\n",
      "  Ball luminance: {0.4: 6, 0.45: 5, 0.5: 5, 0.55: 5, 0.35: 4}\n",
      "\n",
      "none_l:\n",
      "  Total: 25\n",
      "  Bounce: {False: 14, True: 11}\n",
      "  Ball Change: {True: 25}\n",
      "  Ball luminance: {0.45: 6, 0.5: 5, 0.55: 5, 0.35: 5, 0.4: 4}\n",
      "\n",
      "none_r:\n",
      "  Total: 25\n",
      "  Bounce: {True: 13, False: 12}\n",
      "  Ball Change: {True: 25}\n",
      "  Ball luminance: {0.55: 6, 0.5: 6, 0.45: 5, 0.4: 4, 0.35: 4}\n",
      "\n",
      "none_u:\n",
      "  Total: 25\n",
      "  Bounce: {False: 13, True: 12}\n",
      "  Ball Change: {True: 25}\n",
      "  Ball luminance: {0.4: 7, 0.5: 5, 0.55: 5, 0.45: 4, 0.35: 4}\n"
     ]
    },
    {
     "data": {
      "text/plain": [
       "ball_luminance\n",
       "0.55    43\n",
       "0.50    42\n",
       "0.45    40\n",
       "0.40    39\n",
       "0.35    36\n",
       "Name: count, dtype: int64"
      ]
     },
     "execution_count": 8,
     "metadata": {},
     "output_type": "execute_result"
    }
   ],
   "source": [
    "# dm = create_balanced_trial_design(trial_n=None, change_ratio=[True], avg_ball_luminance=.45, natural_luminance_variance=0.05)\n",
    "\n",
    "dm = build_design_matrix(n_trials=200, change_ratio=[True], avg_ball_luminance=.45, natural_luminance_variance=0.05, trials_per_fullmx=None, verbose=True)\n",
    "\n",
    "check_balance(dm)\n",
    "\n",
    "len(dm)\n",
    "\n",
    "\n",
    "dm[\"ball_luminance\"].value_counts()"
   ]
  },
  {
   "cell_type": "code",
   "execution_count": 13,
   "metadata": {},
   "outputs": [
    {
     "data": {
      "text/plain": [
       "0      0.45\n",
       "1      0.50\n",
       "2      0.45\n",
       "3      0.35\n",
       "4      0.45\n",
       "       ... \n",
       "195    0.55\n",
       "196    0.35\n",
       "197    0.40\n",
       "198    0.45\n",
       "199    0.40\n",
       "Name: ball_luminance, Length: 200, dtype: float64"
      ]
     },
     "execution_count": 13,
     "metadata": {},
     "output_type": "execute_result"
    }
   ],
   "source": [
    "dm[\"ball_luminance\"]\n",
    "\n"
   ]
  },
  {
   "cell_type": "code",
   "execution_count": 103,
   "metadata": {},
   "outputs": [
    {
     "data": {
      "text/plain": [
       "True"
      ]
     },
     "execution_count": 103,
     "metadata": {},
     "output_type": "execute_result"
    }
   ],
   "source": [
    "buttons = [\"x\", \"m\"]\n",
    "\n",
    "random.shuffle(buttons)\n",
    "\n",
    "button_order = {\"lighter\": buttons[0],  \"darker\": buttons[1]}\n",
    "\n",
    "list(button_order.keys())[0] == \"lighter\"\n",
    "\n",
    "\n",
    "list(button_order.values())[0] == \"x\""
   ]
  },
  {
   "cell_type": "code",
   "execution_count": 11,
   "metadata": {},
   "outputs": [],
   "source": [
    "from functions.physics import _rotate_90, _dir_to_vec, _vec_to_dir, _flip_dir\n",
    "from functions.utilities import determine_sequence\n",
    "from functions.analysis import (get_precision, \n",
    "                                get_data, \n",
    "                                get_false_negatives,\n",
    "                                get_false_positives,\n",
    "                                get_true_positives,\n",
    "                                get_true_negatives,\n",
    "                                filter_condition,\n",
    "                                get_f1_score, \n",
    "                                get_rt, \n",
    "                                get_accuracy,\n",
    "                                get_hit_rate,)\n"
   ]
  },
  {
   "cell_type": "code",
   "execution_count": 12,
   "metadata": {},
   "outputs": [
    {
     "ename": "TypeError",
     "evalue": "'bool' object is not iterable",
     "output_type": "error",
     "traceback": [
      "\u001b[0;31m---------------------------------------------------------------------------\u001b[0m",
      "\u001b[0;31mTypeError\u001b[0m                                 Traceback (most recent call last)",
      "Cell \u001b[0;32mIn[12], line 8\u001b[0m\n\u001b[1;32m      1\u001b[0m \u001b[38;5;28;01mfrom\u001b[39;00m \u001b[38;5;21;01mfunctions\u001b[39;00m\u001b[38;5;21;01m.\u001b[39;00m\u001b[38;5;21;01mutilities\u001b[39;00m \u001b[38;5;28;01mimport\u001b[39;00m check_balance, create_balanced_trial_design, build_design_matrix\n\u001b[0;32m----> 8\u001b[0m design_matrix \u001b[38;5;241m=\u001b[39m \u001b[43mbuild_design_matrix\u001b[49m\u001b[43m(\u001b[49m\u001b[43m(\u001b[49m\u001b[38;5;241;43m192\u001b[39;49m\u001b[43m)\u001b[49m\u001b[43m,\u001b[49m\u001b[43m \u001b[49m\u001b[38;5;28;43;01mTrue\u001b[39;49;00m\u001b[43m)\u001b[49m\n\u001b[1;32m     10\u001b[0m check_balance(design_matrix)\n\u001b[1;32m     11\u001b[0m design_matrix\n",
      "File \u001b[0;32m~/repos/physicspred/functions/utilities.py:838\u001b[0m, in \u001b[0;36mbuild_design_matrix\u001b[0;34m(n_trials, change_ratio, avg_ball_luminance, natural_luminance_variance, trials_per_fullmx, verbose)\u001b[0m\n\u001b[1;32m    836\u001b[0m \u001b[38;5;66;03m# trials_per_fullmx = 192\u001b[39;00m\n\u001b[1;32m    837\u001b[0m \u001b[38;5;28;01mif\u001b[39;00m trials_per_fullmx \u001b[38;5;129;01mis\u001b[39;00m \u001b[38;5;28;01mNone\u001b[39;00m:\n\u001b[0;32m--> 838\u001b[0m     test_dm \u001b[38;5;241m=\u001b[39m \u001b[43mcreate_balanced_trial_design\u001b[49m\u001b[43m(\u001b[49m\u001b[43mtrial_n\u001b[49m\u001b[38;5;241;43m=\u001b[39;49m\u001b[38;5;28;43;01mNone\u001b[39;49;00m\u001b[43m,\u001b[49m\u001b[43m \u001b[49m\n\u001b[1;32m    839\u001b[0m \u001b[43m                                           \u001b[49m\u001b[43mchange_ratio\u001b[49m\u001b[38;5;241;43m=\u001b[39;49m\u001b[43mchange_ratio\u001b[49m\u001b[43m,\u001b[49m\u001b[43m \u001b[49m\n\u001b[1;32m    840\u001b[0m \u001b[43m                                           \u001b[49m\u001b[43mavg_ball_luminance\u001b[49m\u001b[38;5;241;43m=\u001b[39;49m\u001b[43mavg_ball_luminance\u001b[49m\u001b[43m,\u001b[49m\u001b[43m \u001b[49m\n\u001b[1;32m    841\u001b[0m \u001b[43m                                           \u001b[49m\u001b[43mnatural_luminance_variance\u001b[49m\u001b[38;5;241;43m=\u001b[39;49m\u001b[43mnatural_luminance_variance\u001b[49m\u001b[43m)\u001b[49m\n\u001b[1;32m    842\u001b[0m     trials_per_fullmx \u001b[38;5;241m=\u001b[39m \u001b[38;5;28mlen\u001b[39m(test_dm)    \n\u001b[1;32m    843\u001b[0m     \u001b[38;5;28mprint\u001b[39m(\u001b[38;5;124mf\u001b[39m\u001b[38;5;124m\"\u001b[39m\u001b[38;5;124mNumber of trials per full matrix: \u001b[39m\u001b[38;5;132;01m{\u001b[39;00mtrials_per_fullmx\u001b[38;5;132;01m}\u001b[39;00m\u001b[38;5;124m\"\u001b[39m)\n",
      "File \u001b[0;32m~/repos/physicspred/functions/utilities.py:788\u001b[0m, in \u001b[0;36mcreate_balanced_trial_design\u001b[0;34m(trial_n, change_ratio, avg_ball_luminance, natural_luminance_variance)\u001b[0m\n\u001b[1;32m    785\u001b[0m all_trials \u001b[38;5;241m=\u001b[39m []\n\u001b[1;32m    787\u001b[0m \u001b[38;5;66;03m# For interactor trials\u001b[39;00m\n\u001b[0;32m--> 788\u001b[0m \u001b[38;5;28;01mfor\u001b[39;00m combo \u001b[38;5;129;01min\u001b[39;00m \u001b[43mproduct\u001b[49m\u001b[43m(\u001b[49m\u001b[43minteractor_trial_options\u001b[49m\u001b[43m,\u001b[49m\u001b[43m \u001b[49m\u001b[43mbounce_options\u001b[49m\u001b[43m,\u001b[49m\u001b[43m \u001b[49m\u001b[43mball_change_options\u001b[49m\u001b[43m,\u001b[49m\u001b[43m \u001b[49m\u001b[43mball_luminance_options\u001b[49m\u001b[43m)\u001b[49m:\n\u001b[1;32m    789\u001b[0m     trial_option, bounce, ball_change, ball_luminance \u001b[38;5;241m=\u001b[39m combo\n\u001b[1;32m    790\u001b[0m     all_trials\u001b[38;5;241m.\u001b[39mappend({\n\u001b[1;32m    791\u001b[0m         \u001b[38;5;124m'\u001b[39m\u001b[38;5;124mtrial_type\u001b[39m\u001b[38;5;124m'\u001b[39m: \u001b[38;5;124m'\u001b[39m\u001b[38;5;124minteractor\u001b[39m\u001b[38;5;124m'\u001b[39m,\n\u001b[1;32m    792\u001b[0m         \u001b[38;5;124m'\u001b[39m\u001b[38;5;124mtrial_option\u001b[39m\u001b[38;5;124m'\u001b[39m: trial_option,\n\u001b[0;32m   (...)\u001b[0m\n\u001b[1;32m    796\u001b[0m         \u001b[38;5;124m'\u001b[39m\u001b[38;5;124mball_luminance\u001b[39m\u001b[38;5;124m'\u001b[39m: ball_luminance\n\u001b[1;32m    797\u001b[0m     })\n",
      "\u001b[0;31mTypeError\u001b[0m: 'bool' object is not iterable"
     ]
    }
   ],
   "source": [
    "\n",
    "from functions.utilities import check_balance, create_balanced_trial_design, build_design_matrix\n",
    "\n",
    "\n",
    "\n",
    "\n",
    "\n",
    "\n",
    "design_matrix = build_design_matrix((192), True)\n",
    "\n",
    "check_balance(design_matrix)\n",
    "design_matrix"
   ]
  },
  {
   "cell_type": "code",
   "execution_count": 15,
   "metadata": {},
   "outputs": [
    {
     "data": {
      "text/plain": [
       "0"
      ]
     },
     "execution_count": 15,
     "metadata": {},
     "output_type": "execute_result"
    }
   ],
   "source": [
    "1000//192\n",
    "\n",
    "5*192\n",
    "\n",
    "1000%192\n",
    "\n",
    "100//192"
   ]
  },
  {
   "cell_type": "code",
   "execution_count": 186,
   "metadata": {},
   "outputs": [
    {
     "name": "stdout",
     "output_type": "stream",
     "text": [
      "Total trials: 144\n",
      "\n",
      "Trial type balance:\n",
      "trial_type\n",
      "interactor    96\n",
      "empty         48\n",
      "Name: count, dtype: int64\n",
      "\n",
      "Trial option balance for interactor trials:\n",
      "trial_option\n",
      "135_bottom_d    12\n",
      "135_bottom_r    12\n",
      "135_top_l       12\n",
      "135_top_u       12\n",
      "45_bottom_d     12\n",
      "45_bottom_l     12\n",
      "45_top_r        12\n",
      "45_top_u        12\n",
      "Name: count, dtype: int64\n",
      "Variance: 0.00\n",
      "\n",
      "Trial option balance for empty trials:\n",
      "trial_option\n",
      "none_d    12\n",
      "none_l    12\n",
      "none_r    12\n",
      "none_u    12\n",
      "Name: count, dtype: int64\n",
      "Variance: 0.00\n",
      "\n",
      "Bounce balance:\n",
      "bounce\n",
      "True     72\n",
      "False    72\n",
      "Name: count, dtype: int64\n",
      "\n",
      "Ball change balance:\n",
      "ball_change\n",
      "True     72\n",
      "False    72\n",
      "Name: count, dtype: int64\n",
      "\n",
      "Ball speed balance:\n",
      "ball_speed\n",
      "6.00    48\n",
      "6.25    48\n",
      "6.50    48\n",
      "Name: count, dtype: int64\n",
      "\n",
      "Cross-tabulation of trial_type × bounce:\n",
      "bounce      False  True \n",
      "trial_type              \n",
      "empty          24     24\n",
      "interactor     48     48\n",
      "\n",
      "Cross-tabulation of trial_type × ball_change:\n",
      "ball_change  False  True \n",
      "trial_type               \n",
      "empty           24     24\n",
      "interactor      48     48\n",
      "\n",
      "Cross-tabulation of bounce × ball_change:\n",
      "ball_change  False  True \n",
      "bounce                   \n",
      "False           36     36\n",
      "True            36     36\n",
      "\n",
      "Balance within interactor trial types:\n",
      "\n",
      "135_bottom_d:\n",
      "  Total: 12\n",
      "  Bounce: {True: 6, False: 6}\n",
      "  Ball Change: {True: 6, False: 6}\n",
      "  Ball Speed: {6.5: 4, 6.0: 4, 6.25: 4}\n",
      "\n",
      "135_bottom_r:\n",
      "  Total: 12\n",
      "  Bounce: {True: 6, False: 6}\n",
      "  Ball Change: {True: 6, False: 6}\n",
      "  Ball Speed: {6.0: 4, 6.25: 4, 6.5: 4}\n",
      "\n",
      "135_top_l:\n",
      "  Total: 12\n",
      "  Bounce: {True: 6, False: 6}\n",
      "  Ball Change: {False: 6, True: 6}\n",
      "  Ball Speed: {6.25: 4, 6.0: 4, 6.5: 4}\n",
      "\n",
      "135_top_u:\n",
      "  Total: 12\n",
      "  Bounce: {True: 6, False: 6}\n",
      "  Ball Change: {True: 6, False: 6}\n",
      "  Ball Speed: {6.0: 4, 6.25: 4, 6.5: 4}\n",
      "\n",
      "45_bottom_d:\n",
      "  Total: 12\n",
      "  Bounce: {True: 6, False: 6}\n",
      "  Ball Change: {False: 6, True: 6}\n",
      "  Ball Speed: {6.25: 4, 6.0: 4, 6.5: 4}\n",
      "\n",
      "45_bottom_l:\n",
      "  Total: 12\n",
      "  Bounce: {False: 6, True: 6}\n",
      "  Ball Change: {False: 6, True: 6}\n",
      "  Ball Speed: {6.25: 4, 6.0: 4, 6.5: 4}\n",
      "\n",
      "45_top_r:\n",
      "  Total: 12\n",
      "  Bounce: {True: 6, False: 6}\n",
      "  Ball Change: {True: 6, False: 6}\n",
      "  Ball Speed: {6.25: 4, 6.5: 4, 6.0: 4}\n",
      "\n",
      "45_top_u:\n",
      "  Total: 12\n",
      "  Bounce: {True: 6, False: 6}\n",
      "  Ball Change: {False: 6, True: 6}\n",
      "  Ball Speed: {6.0: 4, 6.5: 4, 6.25: 4}\n",
      "\n",
      "Balance within empty trial types:\n",
      "\n",
      "none_d:\n",
      "  Total: 12\n",
      "  Bounce: {False: 6, True: 6}\n",
      "  Ball Change: {False: 6, True: 6}\n",
      "  Ball Speed: {6.5: 4, 6.25: 4, 6.0: 4}\n",
      "\n",
      "none_l:\n",
      "  Total: 12\n",
      "  Bounce: {True: 6, False: 6}\n",
      "  Ball Change: {True: 6, False: 6}\n",
      "  Ball Speed: {6.5: 4, 6.0: 4, 6.25: 4}\n",
      "\n",
      "none_r:\n",
      "  Total: 12\n",
      "  Bounce: {True: 6, False: 6}\n",
      "  Ball Change: {False: 6, True: 6}\n",
      "  Ball Speed: {6.5: 4, 6.0: 4, 6.25: 4}\n",
      "\n",
      "none_u:\n",
      "  Total: 12\n",
      "  Bounce: {True: 6, False: 6}\n",
      "  Ball Change: {True: 6, False: 6}\n",
      "  Ball Speed: {6.5: 4, 6.0: 4, 6.25: 4}\n"
     ]
    }
   ],
   "source": [
    "from functions.utilities import check_balance, create_balanced_trial_design\n",
    "# load in csv file as pd.dataframe\n",
    "df = pd.read_csv('/Users/wiegerscheurer/repos/physicspred/data/sub-224750/ball_hue/design_matrix.csv')\n",
    "\n",
    "check_balance(df)"
   ]
  },
  {
   "cell_type": "markdown",
   "metadata": {},
   "source": [
    "#### Acquire data per sub"
   ]
  },
  {
   "cell_type": "code",
   "execution_count": 24,
   "metadata": {},
   "outputs": [],
   "source": [
    "# all_sub_names = [\"wolpert\", \"wunger\",\"scheur\", \"hendrik\", \"willem\", \"ikzelf\", \"melvin\", \"paulo\", \"yifan\", \"ann\", \"qifei\", \"mingyao\", \"bilge\", \"yanni\", \"eva\"]\n",
    "all_sub_names = [\"002634\"]\n",
    "sub_stack = pd.DataFrame()\n",
    "\n",
    "for sub_idx, sub in enumerate(all_sub_names):\n",
    "    this_sub = get_data(subject=f\"sub-{sub}\", task=\"ball_hue\")\n",
    "    sub_stack = pd.concat([sub_stack, this_sub])\n",
    "    \n",
    "sub_stack.reset_index(inplace=True, drop=True)\n",
    "# sub_stack"
   ]
  },
  {
   "cell_type": "code",
   "execution_count": 135,
   "metadata": {},
   "outputs": [
    {
     "name": "stdout",
     "output_type": "stream",
     "text": [
      "bilge\n"
     ]
    },
    {
     "ename": "FileNotFoundError",
     "evalue": "[Errno 2] No such file or directory: '/Users/wiegerscheurer/repos/physicspred/data/sub-bilge/ball_hue/'",
     "output_type": "error",
     "traceback": [
      "\u001b[0;31m---------------------------------------------------------------------------\u001b[0m",
      "\u001b[0;31mFileNotFoundError\u001b[0m                         Traceback (most recent call last)",
      "Cell \u001b[0;32mIn[135], line 3\u001b[0m\n\u001b[1;32m      1\u001b[0m this_sub \u001b[38;5;241m=\u001b[39m random\u001b[38;5;241m.\u001b[39mchoice(all_sub_names)\n\u001b[1;32m      2\u001b[0m \u001b[38;5;28mprint\u001b[39m(this_sub)\n\u001b[0;32m----> 3\u001b[0m sub \u001b[38;5;241m=\u001b[39m \u001b[43mget_data\u001b[49m\u001b[43m(\u001b[49m\u001b[43msubject\u001b[49m\u001b[38;5;241;43m=\u001b[39;49m\u001b[38;5;124;43mf\u001b[39;49m\u001b[38;5;124;43m\"\u001b[39;49m\u001b[38;5;124;43msub-\u001b[39;49m\u001b[38;5;132;43;01m{\u001b[39;49;00m\u001b[43mthis_sub\u001b[49m\u001b[38;5;132;43;01m}\u001b[39;49;00m\u001b[38;5;124;43m\"\u001b[39;49m\u001b[43m,\u001b[49m\u001b[43m \u001b[49m\u001b[43mtask\u001b[49m\u001b[38;5;241;43m=\u001b[39;49m\u001b[38;5;124;43m\"\u001b[39;49m\u001b[38;5;124;43mball_hue\u001b[39;49m\u001b[38;5;124;43m\"\u001b[39;49m\u001b[43m)\u001b[49m\n\u001b[1;32m      5\u001b[0m simc_xpolc \u001b[38;5;241m=\u001b[39m get_rt(df\u001b[38;5;241m=\u001b[39msub, sim_con\u001b[38;5;241m=\u001b[39m\u001b[38;5;28;01mTrue\u001b[39;00m, expol_con\u001b[38;5;241m=\u001b[39m\u001b[38;5;28;01mTrue\u001b[39;00m, return_df\u001b[38;5;241m=\u001b[39m\u001b[38;5;28;01mTrue\u001b[39;00m)[\u001b[38;5;124m\"\u001b[39m\u001b[38;5;124mrt\u001b[39m\u001b[38;5;124m\"\u001b[39m]\n\u001b[1;32m      6\u001b[0m simc_xpoli \u001b[38;5;241m=\u001b[39m get_rt(df\u001b[38;5;241m=\u001b[39msub, sim_con\u001b[38;5;241m=\u001b[39m\u001b[38;5;28;01mTrue\u001b[39;00m, expol_con\u001b[38;5;241m=\u001b[39m\u001b[38;5;28;01mFalse\u001b[39;00m, return_df\u001b[38;5;241m=\u001b[39m\u001b[38;5;28;01mTrue\u001b[39;00m)[\u001b[38;5;124m\"\u001b[39m\u001b[38;5;124mrt\u001b[39m\u001b[38;5;124m\"\u001b[39m]\n",
      "File \u001b[0;32m~/repos/physicspred/functions/analysis.py:25\u001b[0m, in \u001b[0;36mget_data\u001b[0;34m(subject, datadir, task)\u001b[0m\n\u001b[1;32m     22\u001b[0m file_stack \u001b[38;5;241m=\u001b[39m []\n\u001b[1;32m     23\u001b[0m \u001b[38;5;28;01mfor\u001b[39;00m sub \u001b[38;5;129;01min\u001b[39;00m subs:\n\u001b[0;32m---> 25\u001b[0m     datafiles \u001b[38;5;241m=\u001b[39m os\u001b[38;5;241m.\u001b[39mlistdir(\u001b[38;5;124mf\u001b[39m\u001b[38;5;124m\"\u001b[39m\u001b[38;5;132;01m{\u001b[39;00mdatadir\u001b[38;5;132;01m}\u001b[39;00m\u001b[38;5;124m/\u001b[39m\u001b[38;5;132;01m{\u001b[39;00msub\u001b[38;5;132;01m}\u001b[39;00m\u001b[38;5;124m/\u001b[39m\u001b[38;5;132;01m{\u001b[39;00mtask\u001b[38;5;132;01m}\u001b[39;00m\u001b[38;5;124m/\u001b[39m\u001b[38;5;124m\"\u001b[39m)\n\u001b[1;32m     26\u001b[0m     \u001b[38;5;28;01mfor\u001b[39;00m file \u001b[38;5;129;01min\u001b[39;00m datafiles:\n\u001b[1;32m     28\u001b[0m         \u001b[38;5;28;01mif\u001b[39;00m file\u001b[38;5;241m.\u001b[39mendswith(\u001b[38;5;124m\"\u001b[39m\u001b[38;5;124m.csv\u001b[39m\u001b[38;5;124m\"\u001b[39m) \u001b[38;5;129;01mand\u001b[39;00m \u001b[38;5;129;01mnot\u001b[39;00m file\u001b[38;5;241m.\u001b[39mstartswith(\u001b[38;5;124m\"\u001b[39m\u001b[38;5;124mdesign_matrix\u001b[39m\u001b[38;5;124m\"\u001b[39m):\n",
      "\u001b[0;31mFileNotFoundError\u001b[0m: [Errno 2] No such file or directory: '/Users/wiegerscheurer/repos/physicspred/data/sub-bilge/ball_hue/'"
     ]
    }
   ],
   "source": [
    "this_sub = random.choice(all_sub_names)\n",
    "print(this_sub)\n",
    "sub = get_data(subject=f\"sub-{this_sub}\", task=\"ball_hue\")\n",
    "\n",
    "simc_xpolc = get_rt(df=sub, sim_con=True, expol_con=True, return_df=True)[\"rt\"]\n",
    "simc_xpoli = get_rt(df=sub, sim_con=True, expol_con=False, return_df=True)[\"rt\"]\n",
    "simi_xpolc = get_rt(df=sub, sim_con=False, expol_con=True, return_df=True)[\"rt\"]\n",
    "simi_xpoli = get_rt(df=sub, sim_con=False, expol_con=False, return_df=True)[\"rt\"]\n",
    "\n",
    "\n",
    "all_kinds = [simc_xpolc, simc_xpoli, simi_xpolc, simi_xpoli]\n",
    "\n",
    "for kind in all_kinds:\n",
    "    print(len(kind))\n",
    "    print(kind.mean(), kind.std())\n"
   ]
  },
  {
   "cell_type": "markdown",
   "metadata": {},
   "source": [
    "#### Integrate in pilot script"
   ]
  },
  {
   "cell_type": "code",
   "execution_count": 26,
   "metadata": {},
   "outputs": [
    {
     "name": "stdout",
     "output_type": "stream",
     "text": [
      "Now looking at : 002634\n",
      "sim_con: True, expol_con: True\n"
     ]
    },
    {
     "ename": "FileNotFoundError",
     "evalue": "[Errno 2] No such file or directory: '/Users/wiegerscheurer/repos/physicspred/data/sub-002634/ball_hue/'",
     "output_type": "error",
     "traceback": [
      "\u001b[0;31m---------------------------------------------------------------------------\u001b[0m",
      "\u001b[0;31mFileNotFoundError\u001b[0m                         Traceback (most recent call last)",
      "Cell \u001b[0;32mIn[26], line 11\u001b[0m\n\u001b[1;32m      8\u001b[0m \u001b[38;5;28;01mfor\u001b[39;00m expol_con \u001b[38;5;129;01min\u001b[39;00m expol_cons:\n\u001b[1;32m     10\u001b[0m     \u001b[38;5;28mprint\u001b[39m(\u001b[38;5;124mf\u001b[39m\u001b[38;5;124m\"\u001b[39m\u001b[38;5;124msim_con: \u001b[39m\u001b[38;5;132;01m{\u001b[39;00msim_con\u001b[38;5;132;01m}\u001b[39;00m\u001b[38;5;124m, expol_con: \u001b[39m\u001b[38;5;132;01m{\u001b[39;00mexpol_con\u001b[38;5;132;01m}\u001b[39;00m\u001b[38;5;124m\"\u001b[39m)\n\u001b[0;32m---> 11\u001b[0m     dat \u001b[38;5;241m=\u001b[39m \u001b[43mget_data\u001b[49m\u001b[43m(\u001b[49m\u001b[43msubject\u001b[49m\u001b[38;5;241;43m=\u001b[39;49m\u001b[38;5;124;43mf\u001b[39;49m\u001b[38;5;124;43m\"\u001b[39;49m\u001b[38;5;124;43msub-\u001b[39;49m\u001b[38;5;132;43;01m{\u001b[39;49;00m\u001b[43mrandsub\u001b[49m\u001b[38;5;132;43;01m}\u001b[39;49;00m\u001b[38;5;124;43m\"\u001b[39;49m\u001b[43m,\u001b[49m\u001b[43m \u001b[49m\u001b[43mtask\u001b[49m\u001b[38;5;241;43m=\u001b[39;49m\u001b[38;5;124;43m\"\u001b[39;49m\u001b[38;5;124;43mball_hue\u001b[39;49m\u001b[38;5;124;43m\"\u001b[39;49m\u001b[43m)\u001b[49m\n\u001b[1;32m     12\u001b[0m     dat_filt \u001b[38;5;241m=\u001b[39m dat[(dat[\u001b[38;5;124m\"\u001b[39m\u001b[38;5;124msim_congruent\u001b[39m\u001b[38;5;124m\"\u001b[39m] \u001b[38;5;241m==\u001b[39m sim_con) \u001b[38;5;241m&\u001b[39m (dat[\u001b[38;5;124m\"\u001b[39m\u001b[38;5;124mabs_congruent\u001b[39m\u001b[38;5;124m\"\u001b[39m] \u001b[38;5;241m==\u001b[39m expol_con)]\n\u001b[1;32m     13\u001b[0m     \u001b[38;5;28mprint\u001b[39m(\u001b[38;5;28mlen\u001b[39m(dat_filt))\n",
      "File \u001b[0;32m~/repos/physicspred/functions/analysis.py:25\u001b[0m, in \u001b[0;36mget_data\u001b[0;34m(subject, datadir, task)\u001b[0m\n\u001b[1;32m     22\u001b[0m file_stack \u001b[38;5;241m=\u001b[39m []\n\u001b[1;32m     23\u001b[0m \u001b[38;5;28;01mfor\u001b[39;00m sub \u001b[38;5;129;01min\u001b[39;00m subs:\n\u001b[0;32m---> 25\u001b[0m     datafiles \u001b[38;5;241m=\u001b[39m os\u001b[38;5;241m.\u001b[39mlistdir(\u001b[38;5;124mf\u001b[39m\u001b[38;5;124m\"\u001b[39m\u001b[38;5;132;01m{\u001b[39;00mdatadir\u001b[38;5;132;01m}\u001b[39;00m\u001b[38;5;124m/\u001b[39m\u001b[38;5;132;01m{\u001b[39;00msub\u001b[38;5;132;01m}\u001b[39;00m\u001b[38;5;124m/\u001b[39m\u001b[38;5;132;01m{\u001b[39;00mtask\u001b[38;5;132;01m}\u001b[39;00m\u001b[38;5;124m/\u001b[39m\u001b[38;5;124m\"\u001b[39m)\n\u001b[1;32m     26\u001b[0m     \u001b[38;5;28;01mfor\u001b[39;00m file \u001b[38;5;129;01min\u001b[39;00m datafiles:\n\u001b[1;32m     28\u001b[0m         \u001b[38;5;28;01mif\u001b[39;00m file\u001b[38;5;241m.\u001b[39mendswith(\u001b[38;5;124m\"\u001b[39m\u001b[38;5;124m.csv\u001b[39m\u001b[38;5;124m\"\u001b[39m) \u001b[38;5;129;01mand\u001b[39;00m \u001b[38;5;129;01mnot\u001b[39;00m file\u001b[38;5;241m.\u001b[39mstartswith(\u001b[38;5;124m\"\u001b[39m\u001b[38;5;124mdesign_matrix\u001b[39m\u001b[38;5;124m\"\u001b[39m):\n",
      "\u001b[0;31mFileNotFoundError\u001b[0m: [Errno 2] No such file or directory: '/Users/wiegerscheurer/repos/physicspred/data/sub-002634/ball_hue/'"
     ]
    }
   ],
   "source": [
    "sim_cons = [True, False]\n",
    "expol_cons = [True, False]\n",
    "# randsub = random.choice(all_sub_names)\n",
    "randsub = \"002634\"\n",
    "print(f\"Now looking at : {randsub}\")\n",
    "for sim_con in sim_cons:\n",
    "    \n",
    "    for expol_con in expol_cons:\n",
    "        \n",
    "        print(f\"sim_con: {sim_con}, expol_con: {expol_con}\")\n",
    "        dat = get_data(subject=f\"sub-{randsub}\", task=\"ball_hue\")\n",
    "        dat_filt = dat[(dat[\"sim_congruent\"] == sim_con) & (dat[\"abs_congruent\"] == expol_con)]\n",
    "        print(len(dat_filt))"
   ]
  },
  {
   "cell_type": "code",
   "execution_count": 192,
   "metadata": {},
   "outputs": [
    {
     "data": {
      "text/plain": [
       "15      NaN\n",
       "100    left\n",
       "102     NaN\n",
       "43     left\n",
       "48      NaN\n",
       "       ... \n",
       "115      up\n",
       "124      up\n",
       "116    left\n",
       "62      NaN\n",
       "70     left\n",
       "Name: response, Length: 144, dtype: object"
      ]
     },
     "execution_count": 192,
     "metadata": {},
     "output_type": "execute_result"
    }
   ],
   "source": [
    "wie = get_data(subject=\"sub-224750\", task=\"ball_hue\")\n",
    "\n",
    "n_targets = len(wie[wie[\"ball_change\"] == 1]) # 20\n",
    "n_nones = len(wie[wie[\"interactor\"] == \"none_d\"])# 20\n",
    "n_nones\n",
    "\n",
    "# sort dataframe based on trials column\n",
    "wie.sort_values(by=\"interactor\", inplace=True)\n",
    "\n",
    "wie[\"response\"]"
   ]
  },
  {
   "cell_type": "code",
   "execution_count": 193,
   "metadata": {},
   "outputs": [
    {
     "data": {
      "text/html": [
       "<div>\n",
       "<style scoped>\n",
       "    .dataframe tbody tr th:only-of-type {\n",
       "        vertical-align: middle;\n",
       "    }\n",
       "\n",
       "    .dataframe tbody tr th {\n",
       "        vertical-align: top;\n",
       "    }\n",
       "\n",
       "    .dataframe thead th {\n",
       "        text-align: right;\n",
       "    }\n",
       "</style>\n",
       "<table border=\"1\" class=\"dataframe\">\n",
       "  <thead>\n",
       "    <tr style=\"text-align: right;\">\n",
       "      <th></th>\n",
       "      <th>trial_type</th>\n",
       "      <th>trial</th>\n",
       "      <th>ball_speed</th>\n",
       "      <th>interactor</th>\n",
       "      <th>bounce</th>\n",
       "      <th>bounce_moment</th>\n",
       "      <th>random_bounce_direction</th>\n",
       "      <th>target_onset</th>\n",
       "      <th>ball_change</th>\n",
       "      <th>target_color</th>\n",
       "      <th>...</th>\n",
       "      <th>start_pos</th>\n",
       "      <th>end_pos</th>\n",
       "      <th>abs_rfup</th>\n",
       "      <th>abs_rfright</th>\n",
       "      <th>abs_rfdown</th>\n",
       "      <th>abs_rfleft</th>\n",
       "      <th>sim_rfup</th>\n",
       "      <th>sim_rfright</th>\n",
       "      <th>sim_rfdown</th>\n",
       "      <th>sim_rfleft</th>\n",
       "    </tr>\n",
       "  </thead>\n",
       "  <tbody>\n",
       "    <tr>\n",
       "      <th>15</th>\n",
       "      <td>interactor</td>\n",
       "      <td>16</td>\n",
       "      <td>6.00</td>\n",
       "      <td>135_bottom_d</td>\n",
       "      <td>True</td>\n",
       "      <td>3.980140</td>\n",
       "      <td>NaN</td>\n",
       "      <td>NaN</td>\n",
       "      <td>False</td>\n",
       "      <td>NaN</td>\n",
       "      <td>...</td>\n",
       "      <td>up</td>\n",
       "      <td>left</td>\n",
       "      <td>(0, 0)</td>\n",
       "      <td>(0, 0)</td>\n",
       "      <td>(1, 0)</td>\n",
       "      <td>(0, 1)</td>\n",
       "      <td>(0, 0)</td>\n",
       "      <td>(0, 0)</td>\n",
       "      <td>(0, 0)</td>\n",
       "      <td>(1, 1)</td>\n",
       "    </tr>\n",
       "    <tr>\n",
       "      <th>100</th>\n",
       "      <td>interactor</td>\n",
       "      <td>101</td>\n",
       "      <td>6.00</td>\n",
       "      <td>135_bottom_d</td>\n",
       "      <td>True</td>\n",
       "      <td>4.166790</td>\n",
       "      <td>NaN</td>\n",
       "      <td>4.432431</td>\n",
       "      <td>True</td>\n",
       "      <td>[0.45  0.45  0.695]</td>\n",
       "      <td>...</td>\n",
       "      <td>up</td>\n",
       "      <td>left</td>\n",
       "      <td>(0, 0)</td>\n",
       "      <td>(0, 0)</td>\n",
       "      <td>(1, 0)</td>\n",
       "      <td>(0, 1)</td>\n",
       "      <td>(0, 0)</td>\n",
       "      <td>(0, 0)</td>\n",
       "      <td>(0, 0)</td>\n",
       "      <td>(1, 1)</td>\n",
       "    </tr>\n",
       "    <tr>\n",
       "      <th>102</th>\n",
       "      <td>interactor</td>\n",
       "      <td>103</td>\n",
       "      <td>6.25</td>\n",
       "      <td>135_bottom_d</td>\n",
       "      <td>True</td>\n",
       "      <td>3.950836</td>\n",
       "      <td>NaN</td>\n",
       "      <td>NaN</td>\n",
       "      <td>False</td>\n",
       "      <td>NaN</td>\n",
       "      <td>...</td>\n",
       "      <td>up</td>\n",
       "      <td>left</td>\n",
       "      <td>(0, 0)</td>\n",
       "      <td>(0, 0)</td>\n",
       "      <td>(1, 0)</td>\n",
       "      <td>(0, 1)</td>\n",
       "      <td>(0, 0)</td>\n",
       "      <td>(0, 0)</td>\n",
       "      <td>(0, 0)</td>\n",
       "      <td>(1, 1)</td>\n",
       "    </tr>\n",
       "    <tr>\n",
       "      <th>43</th>\n",
       "      <td>interactor</td>\n",
       "      <td>44</td>\n",
       "      <td>6.25</td>\n",
       "      <td>135_bottom_d</td>\n",
       "      <td>True</td>\n",
       "      <td>3.949038</td>\n",
       "      <td>NaN</td>\n",
       "      <td>4.217447</td>\n",
       "      <td>True</td>\n",
       "      <td>[0.45  0.45  0.695]</td>\n",
       "      <td>...</td>\n",
       "      <td>up</td>\n",
       "      <td>left</td>\n",
       "      <td>(0, 0)</td>\n",
       "      <td>(0, 0)</td>\n",
       "      <td>(1, 0)</td>\n",
       "      <td>(0, 1)</td>\n",
       "      <td>(0, 0)</td>\n",
       "      <td>(0, 0)</td>\n",
       "      <td>(0, 0)</td>\n",
       "      <td>(1, 1)</td>\n",
       "    </tr>\n",
       "    <tr>\n",
       "      <th>48</th>\n",
       "      <td>interactor</td>\n",
       "      <td>49</td>\n",
       "      <td>6.00</td>\n",
       "      <td>135_bottom_d</td>\n",
       "      <td>False</td>\n",
       "      <td>NaN</td>\n",
       "      <td>NaN</td>\n",
       "      <td>NaN</td>\n",
       "      <td>False</td>\n",
       "      <td>NaN</td>\n",
       "      <td>...</td>\n",
       "      <td>up</td>\n",
       "      <td>down</td>\n",
       "      <td>(0, 0)</td>\n",
       "      <td>(0, 0)</td>\n",
       "      <td>(1, 1)</td>\n",
       "      <td>(0, 0)</td>\n",
       "      <td>(0, 0)</td>\n",
       "      <td>(0, 0)</td>\n",
       "      <td>(0, 1)</td>\n",
       "      <td>(1, 0)</td>\n",
       "    </tr>\n",
       "    <tr>\n",
       "      <th>...</th>\n",
       "      <td>...</td>\n",
       "      <td>...</td>\n",
       "      <td>...</td>\n",
       "      <td>...</td>\n",
       "      <td>...</td>\n",
       "      <td>...</td>\n",
       "      <td>...</td>\n",
       "      <td>...</td>\n",
       "      <td>...</td>\n",
       "      <td>...</td>\n",
       "      <td>...</td>\n",
       "      <td>...</td>\n",
       "      <td>...</td>\n",
       "      <td>...</td>\n",
       "      <td>...</td>\n",
       "      <td>...</td>\n",
       "      <td>...</td>\n",
       "      <td>...</td>\n",
       "      <td>...</td>\n",
       "      <td>...</td>\n",
       "      <td>...</td>\n",
       "    </tr>\n",
       "    <tr>\n",
       "      <th>115</th>\n",
       "      <td>empty</td>\n",
       "      <td>116</td>\n",
       "      <td>6.00</td>\n",
       "      <td>none_u</td>\n",
       "      <td>False</td>\n",
       "      <td>NaN</td>\n",
       "      <td>NaN</td>\n",
       "      <td>NaN</td>\n",
       "      <td>False</td>\n",
       "      <td>NaN</td>\n",
       "      <td>...</td>\n",
       "      <td>down</td>\n",
       "      <td>up</td>\n",
       "      <td>(1, 1)</td>\n",
       "      <td>(0, 0)</td>\n",
       "      <td>(0, 0)</td>\n",
       "      <td>(0, 0)</td>\n",
       "      <td>(1, 1)</td>\n",
       "      <td>(0, 0)</td>\n",
       "      <td>(0, 0)</td>\n",
       "      <td>(0, 0)</td>\n",
       "    </tr>\n",
       "    <tr>\n",
       "      <th>124</th>\n",
       "      <td>empty</td>\n",
       "      <td>125</td>\n",
       "      <td>6.50</td>\n",
       "      <td>none_u</td>\n",
       "      <td>False</td>\n",
       "      <td>NaN</td>\n",
       "      <td>NaN</td>\n",
       "      <td>4.225236</td>\n",
       "      <td>True</td>\n",
       "      <td>[0.45  0.45  0.695]</td>\n",
       "      <td>...</td>\n",
       "      <td>down</td>\n",
       "      <td>up</td>\n",
       "      <td>(1, 1)</td>\n",
       "      <td>(0, 0)</td>\n",
       "      <td>(0, 0)</td>\n",
       "      <td>(0, 0)</td>\n",
       "      <td>(1, 1)</td>\n",
       "      <td>(0, 0)</td>\n",
       "      <td>(0, 0)</td>\n",
       "      <td>(0, 0)</td>\n",
       "    </tr>\n",
       "    <tr>\n",
       "      <th>116</th>\n",
       "      <td>empty</td>\n",
       "      <td>117</td>\n",
       "      <td>6.25</td>\n",
       "      <td>none_u</td>\n",
       "      <td>True</td>\n",
       "      <td>3.942658</td>\n",
       "      <td>left</td>\n",
       "      <td>4.208010</td>\n",
       "      <td>True</td>\n",
       "      <td>[0.45  0.45  0.695]</td>\n",
       "      <td>...</td>\n",
       "      <td>down</td>\n",
       "      <td>left</td>\n",
       "      <td>(1, 0)</td>\n",
       "      <td>(0, 0)</td>\n",
       "      <td>(0, 0)</td>\n",
       "      <td>(0, 1)</td>\n",
       "      <td>(1, 0)</td>\n",
       "      <td>(0, 0)</td>\n",
       "      <td>(0, 0)</td>\n",
       "      <td>(0, 1)</td>\n",
       "    </tr>\n",
       "    <tr>\n",
       "      <th>62</th>\n",
       "      <td>empty</td>\n",
       "      <td>63</td>\n",
       "      <td>6.25</td>\n",
       "      <td>none_u</td>\n",
       "      <td>True</td>\n",
       "      <td>3.951371</td>\n",
       "      <td>left</td>\n",
       "      <td>NaN</td>\n",
       "      <td>False</td>\n",
       "      <td>NaN</td>\n",
       "      <td>...</td>\n",
       "      <td>down</td>\n",
       "      <td>left</td>\n",
       "      <td>(1, 0)</td>\n",
       "      <td>(0, 0)</td>\n",
       "      <td>(0, 0)</td>\n",
       "      <td>(0, 1)</td>\n",
       "      <td>(1, 0)</td>\n",
       "      <td>(0, 0)</td>\n",
       "      <td>(0, 0)</td>\n",
       "      <td>(0, 1)</td>\n",
       "    </tr>\n",
       "    <tr>\n",
       "      <th>70</th>\n",
       "      <td>empty</td>\n",
       "      <td>71</td>\n",
       "      <td>6.50</td>\n",
       "      <td>none_u</td>\n",
       "      <td>True</td>\n",
       "      <td>3.958872</td>\n",
       "      <td>left</td>\n",
       "      <td>NaN</td>\n",
       "      <td>False</td>\n",
       "      <td>NaN</td>\n",
       "      <td>...</td>\n",
       "      <td>down</td>\n",
       "      <td>left</td>\n",
       "      <td>(1, 0)</td>\n",
       "      <td>(0, 0)</td>\n",
       "      <td>(0, 0)</td>\n",
       "      <td>(0, 1)</td>\n",
       "      <td>(1, 0)</td>\n",
       "      <td>(0, 0)</td>\n",
       "      <td>(0, 0)</td>\n",
       "      <td>(0, 1)</td>\n",
       "    </tr>\n",
       "  </tbody>\n",
       "</table>\n",
       "<p>144 rows × 25 columns</p>\n",
       "</div>"
      ],
      "text/plain": [
       "     trial_type  trial  ball_speed    interactor  bounce  bounce_moment  \\\n",
       "15   interactor     16        6.00  135_bottom_d    True       3.980140   \n",
       "100  interactor    101        6.00  135_bottom_d    True       4.166790   \n",
       "102  interactor    103        6.25  135_bottom_d    True       3.950836   \n",
       "43   interactor     44        6.25  135_bottom_d    True       3.949038   \n",
       "48   interactor     49        6.00  135_bottom_d   False            NaN   \n",
       "..          ...    ...         ...           ...     ...            ...   \n",
       "115       empty    116        6.00        none_u   False            NaN   \n",
       "124       empty    125        6.50        none_u   False            NaN   \n",
       "116       empty    117        6.25        none_u    True       3.942658   \n",
       "62        empty     63        6.25        none_u    True       3.951371   \n",
       "70        empty     71        6.50        none_u    True       3.958872   \n",
       "\n",
       "    random_bounce_direction  target_onset  ball_change         target_color  \\\n",
       "15                      NaN           NaN        False                  NaN   \n",
       "100                     NaN      4.432431         True  [0.45  0.45  0.695]   \n",
       "102                     NaN           NaN        False                  NaN   \n",
       "43                      NaN      4.217447         True  [0.45  0.45  0.695]   \n",
       "48                      NaN           NaN        False                  NaN   \n",
       "..                      ...           ...          ...                  ...   \n",
       "115                     NaN           NaN        False                  NaN   \n",
       "124                     NaN      4.225236         True  [0.45  0.45  0.695]   \n",
       "116                    left      4.208010         True  [0.45  0.45  0.695]   \n",
       "62                     left           NaN        False                  NaN   \n",
       "70                     left           NaN        False                  NaN   \n",
       "\n",
       "     ...  start_pos  end_pos abs_rfup abs_rfright  abs_rfdown abs_rfleft  \\\n",
       "15   ...         up     left   (0, 0)      (0, 0)      (1, 0)     (0, 1)   \n",
       "100  ...         up     left   (0, 0)      (0, 0)      (1, 0)     (0, 1)   \n",
       "102  ...         up     left   (0, 0)      (0, 0)      (1, 0)     (0, 1)   \n",
       "43   ...         up     left   (0, 0)      (0, 0)      (1, 0)     (0, 1)   \n",
       "48   ...         up     down   (0, 0)      (0, 0)      (1, 1)     (0, 0)   \n",
       "..   ...        ...      ...      ...         ...         ...        ...   \n",
       "115  ...       down       up   (1, 1)      (0, 0)      (0, 0)     (0, 0)   \n",
       "124  ...       down       up   (1, 1)      (0, 0)      (0, 0)     (0, 0)   \n",
       "116  ...       down     left   (1, 0)      (0, 0)      (0, 0)     (0, 1)   \n",
       "62   ...       down     left   (1, 0)      (0, 0)      (0, 0)     (0, 1)   \n",
       "70   ...       down     left   (1, 0)      (0, 0)      (0, 0)     (0, 1)   \n",
       "\n",
       "    sim_rfup sim_rfright sim_rfdown sim_rfleft  \n",
       "15    (0, 0)      (0, 0)     (0, 0)     (1, 1)  \n",
       "100   (0, 0)      (0, 0)     (0, 0)     (1, 1)  \n",
       "102   (0, 0)      (0, 0)     (0, 0)     (1, 1)  \n",
       "43    (0, 0)      (0, 0)     (0, 0)     (1, 1)  \n",
       "48    (0, 0)      (0, 0)     (0, 1)     (1, 0)  \n",
       "..       ...         ...        ...        ...  \n",
       "115   (1, 1)      (0, 0)     (0, 0)     (0, 0)  \n",
       "124   (1, 1)      (0, 0)     (0, 0)     (0, 0)  \n",
       "116   (1, 0)      (0, 0)     (0, 0)     (0, 1)  \n",
       "62    (1, 0)      (0, 0)     (0, 0)     (0, 1)  \n",
       "70    (1, 0)      (0, 0)     (0, 0)     (0, 1)  \n",
       "\n",
       "[144 rows x 25 columns]"
      ]
     },
     "execution_count": 193,
     "metadata": {},
     "output_type": "execute_result"
    }
   ],
   "source": [
    "wie"
   ]
  },
  {
   "cell_type": "code",
   "execution_count": 27,
   "metadata": {},
   "outputs": [
    {
     "name": "stdout",
     "output_type": "stream",
     "text": [
      "0.8787878787878788\n",
      "False positives: 5\n",
      "False negatives: 4\n",
      "True positives: 29\n",
      "True negatives: 26\n"
     ]
    },
    {
     "data": {
      "text/plain": [
       "0.8787878787878788"
      ]
     },
     "execution_count": 27,
     "metadata": {},
     "output_type": "execute_result"
    }
   ],
   "source": [
    "\n",
    "hit_rate = get_hit_rate(wie, False, False)\n",
    "print(hit_rate)\n",
    "wie_filt = filter_condition(wie, False, False)\n",
    "\n",
    "fp = get_false_positives(wie_filt)\n",
    "fn = get_false_negatives(wie_filt)\n",
    "tp = get_true_positives(wie_filt)\n",
    "tn = get_true_negatives(wie_filt)\n",
    "\n",
    "\n",
    "print(f\"False positives: {fp}\")\n",
    "print(f\"False negatives: {fn}\")\n",
    "print(f\"True positives: {tp}\")\n",
    "print(f\"True negatives: {tn}\")\n",
    "\n",
    "\n",
    "hr = (tp) / (tp + fn)\n",
    "\n",
    "hr\n",
    "# get_misses(filter_condition(wie, False, False))"
   ]
  },
  {
   "cell_type": "code",
   "execution_count": null,
   "metadata": {},
   "outputs": [],
   "source": []
  },
  {
   "cell_type": "code",
   "execution_count": 195,
   "metadata": {},
   "outputs": [
    {
     "name": "stdout",
     "output_type": "stream",
     "text": [
      "sim_con: True, xpol_con: True\n",
      "1.00\n",
      "\n",
      "sim_con: True, xpol_con: False\n",
      "1.00\n",
      "\n",
      "sim_con: False, xpol_con: True\n",
      "1.00\n",
      "\n",
      "sim_con: False, xpol_con: False\n",
      "0.92\n",
      "\n"
     ]
    }
   ],
   "source": [
    "for sim_con in [True, False]:\n",
    "    for xpol_con in [True, False]:\n",
    "        print(f\"sim_con: {sim_con}, xpol_con: {xpol_con}\")\n",
    "        print(f\"{get_hit_rate(wie, sim_con, xpol_con):.2f}\\n\")"
   ]
  },
  {
   "cell_type": "code",
   "execution_count": null,
   "metadata": {},
   "outputs": [],
   "source": []
  },
  {
   "cell_type": "code",
   "execution_count": 196,
   "metadata": {},
   "outputs": [
    {
     "name": "stdout",
     "output_type": "stream",
     "text": [
      "cc targets: 12\n",
      "ci targets: 24\n",
      "ic targets: 24\n",
      "ii targets: 12\n",
      "cc: 24\n",
      "ci: 48\n",
      "ic: 48\n",
      "ii: 24\n"
     ]
    }
   ],
   "source": [
    "cc = filter_condition(wie, True, True)\n",
    "ci = filter_condition(wie, True, False)\n",
    "ic = filter_condition(wie, False, True)\n",
    "ii = filter_condition(wie, False, False)\n",
    "\n",
    "cc_targets = cc[cc[\"ball_change\"] == 1]\n",
    "ci_targets = ci[ci[\"ball_change\"] == 1]\n",
    "ic_targets = ic[ic[\"ball_change\"] == 1]\n",
    "ii_targets = ii[ii[\"ball_change\"] == 1]\n",
    "\n",
    "print(f\"cc targets: {len(cc_targets)}\")\n",
    "print(f\"ci targets: {len(ci_targets)}\")\n",
    "print(f\"ic targets: {len(ic_targets)}\")\n",
    "print(f\"ii targets: {len(ii_targets)}\")\n",
    "\n",
    "print(f\"cc: {len(cc)}\")\n",
    "print(f\"ci: {len(ci)}\")\n",
    "print(f\"ic: {len(ic)}\")\n",
    "print(f\"ii: {len(ii)}\")\n"
   ]
  },
  {
   "cell_type": "code",
   "execution_count": 28,
   "metadata": {},
   "outputs": [],
   "source": [
    "allen = get_data(subject=None, task=\"ball_hue\")\n",
    "# allen = get_data(subject=\"sub-224750\", task=\"ball_hue\")"
   ]
  },
  {
   "cell_type": "code",
   "execution_count": 29,
   "metadata": {},
   "outputs": [
    {
     "data": {
      "text/plain": [
       "32      True\n",
       "37      True\n",
       "47      True\n",
       "48      True\n",
       "63      True\n",
       "70      True\n",
       "82      True\n",
       "88      True\n",
       "107     True\n",
       "125     True\n",
       "126     True\n",
       "128     True\n",
       "144     True\n",
       "148    False\n",
       "150     True\n",
       "168     True\n",
       "185    False\n",
       "197     True\n",
       "209     True\n",
       "217     True\n",
       "228     True\n",
       "249     True\n",
       "264    False\n",
       "266    False\n",
       "267    False\n",
       "272    False\n",
       "275     True\n",
       "283    False\n",
       "298    False\n",
       "299    False\n",
       "303     True\n",
       "305     True\n",
       "307     True\n",
       "308     True\n",
       "311     True\n",
       "315     True\n",
       "330     True\n",
       "350     True\n",
       "Name: accuracy, dtype: object"
      ]
     },
     "execution_count": 29,
     "metadata": {},
     "output_type": "execute_result"
    }
   ],
   "source": [
    "hr = get_hit_rate(df=allen, sim_con=True, expol_con=True, return_df=True)[\"accuracy\"]\n",
    "hr\n",
    "\n",
    "pr = get_precision(df=allen, sim_con=True, expol_con=True, return_df=True)[\"accuracy\"]\n",
    "pr\n",
    "\n",
    "\n"
   ]
  },
  {
   "cell_type": "code",
   "execution_count": 31,
   "metadata": {},
   "outputs": [
    {
     "name": "stdout",
     "output_type": "stream",
     "text": [
      "Subject missed 9 trials\n"
     ]
    },
    {
     "data": {
      "application/vnd.plotly.v1+json": {
       "config": {
        "plotlyServerURL": "https://plot.ly"
       },
       "data": [
        {
         "colorbar": {
          "title": {
           "text": "Hit Rate"
          }
         },
         "colorscale": [
          [
           0,
           "#fcfdbf"
          ],
          [
           0.1111111111111111,
           "#feca8d"
          ],
          [
           0.2222222222222222,
           "#fd9668"
          ],
          [
           0.3333333333333333,
           "#f1605d"
          ],
          [
           0.4444444444444444,
           "#cd4071"
          ],
          [
           0.5555555555555556,
           "#9e2f7f"
          ],
          [
           0.6666666666666666,
           "#721f81"
          ],
          [
           0.7777777777777778,
           "#440f76"
          ],
          [
           0.8888888888888888,
           "#180f3d"
          ],
          [
           1,
           "#000004"
          ]
         ],
         "showscale": true,
         "text": [
          [
           "0.763<br>#trials: 38<br>rt: 0.49s",
           "0.757<br>#trials: 70<br>rt: 0.45s"
          ],
          [
           "0.812<br>#trials: 69<br>rt: 0.52s",
           "0.879<br>#trials: 33<br>rt: 0.49s"
          ]
         ],
         "textfont": {
          "size": 14
         },
         "texttemplate": "%{text}",
         "type": "heatmap",
         "x": [
          "Congruent",
          "Incongruent"
         ],
         "y": [
          "Congruent",
          "Incongruent"
         ],
         "z": [
          [
           0.7631578947368421,
           0.7571428571428571
          ],
          [
           0.8115942028985508,
           0.8787878787878788
          ]
         ],
         "zmax": 1,
         "zmin": 0
        }
       ],
       "layout": {
        "height": 500,
        "template": {
         "data": {
          "bar": [
           {
            "error_x": {
             "color": "#2a3f5f"
            },
            "error_y": {
             "color": "#2a3f5f"
            },
            "marker": {
             "line": {
              "color": "#E5ECF6",
              "width": 0.5
             },
             "pattern": {
              "fillmode": "overlay",
              "size": 10,
              "solidity": 0.2
             }
            },
            "type": "bar"
           }
          ],
          "barpolar": [
           {
            "marker": {
             "line": {
              "color": "#E5ECF6",
              "width": 0.5
             },
             "pattern": {
              "fillmode": "overlay",
              "size": 10,
              "solidity": 0.2
             }
            },
            "type": "barpolar"
           }
          ],
          "carpet": [
           {
            "aaxis": {
             "endlinecolor": "#2a3f5f",
             "gridcolor": "white",
             "linecolor": "white",
             "minorgridcolor": "white",
             "startlinecolor": "#2a3f5f"
            },
            "baxis": {
             "endlinecolor": "#2a3f5f",
             "gridcolor": "white",
             "linecolor": "white",
             "minorgridcolor": "white",
             "startlinecolor": "#2a3f5f"
            },
            "type": "carpet"
           }
          ],
          "choropleth": [
           {
            "colorbar": {
             "outlinewidth": 0,
             "ticks": ""
            },
            "type": "choropleth"
           }
          ],
          "contour": [
           {
            "colorbar": {
             "outlinewidth": 0,
             "ticks": ""
            },
            "colorscale": [
             [
              0,
              "#0d0887"
             ],
             [
              0.1111111111111111,
              "#46039f"
             ],
             [
              0.2222222222222222,
              "#7201a8"
             ],
             [
              0.3333333333333333,
              "#9c179e"
             ],
             [
              0.4444444444444444,
              "#bd3786"
             ],
             [
              0.5555555555555556,
              "#d8576b"
             ],
             [
              0.6666666666666666,
              "#ed7953"
             ],
             [
              0.7777777777777778,
              "#fb9f3a"
             ],
             [
              0.8888888888888888,
              "#fdca26"
             ],
             [
              1,
              "#f0f921"
             ]
            ],
            "type": "contour"
           }
          ],
          "contourcarpet": [
           {
            "colorbar": {
             "outlinewidth": 0,
             "ticks": ""
            },
            "type": "contourcarpet"
           }
          ],
          "heatmap": [
           {
            "colorbar": {
             "outlinewidth": 0,
             "ticks": ""
            },
            "colorscale": [
             [
              0,
              "#0d0887"
             ],
             [
              0.1111111111111111,
              "#46039f"
             ],
             [
              0.2222222222222222,
              "#7201a8"
             ],
             [
              0.3333333333333333,
              "#9c179e"
             ],
             [
              0.4444444444444444,
              "#bd3786"
             ],
             [
              0.5555555555555556,
              "#d8576b"
             ],
             [
              0.6666666666666666,
              "#ed7953"
             ],
             [
              0.7777777777777778,
              "#fb9f3a"
             ],
             [
              0.8888888888888888,
              "#fdca26"
             ],
             [
              1,
              "#f0f921"
             ]
            ],
            "type": "heatmap"
           }
          ],
          "heatmapgl": [
           {
            "colorbar": {
             "outlinewidth": 0,
             "ticks": ""
            },
            "colorscale": [
             [
              0,
              "#0d0887"
             ],
             [
              0.1111111111111111,
              "#46039f"
             ],
             [
              0.2222222222222222,
              "#7201a8"
             ],
             [
              0.3333333333333333,
              "#9c179e"
             ],
             [
              0.4444444444444444,
              "#bd3786"
             ],
             [
              0.5555555555555556,
              "#d8576b"
             ],
             [
              0.6666666666666666,
              "#ed7953"
             ],
             [
              0.7777777777777778,
              "#fb9f3a"
             ],
             [
              0.8888888888888888,
              "#fdca26"
             ],
             [
              1,
              "#f0f921"
             ]
            ],
            "type": "heatmapgl"
           }
          ],
          "histogram": [
           {
            "marker": {
             "pattern": {
              "fillmode": "overlay",
              "size": 10,
              "solidity": 0.2
             }
            },
            "type": "histogram"
           }
          ],
          "histogram2d": [
           {
            "colorbar": {
             "outlinewidth": 0,
             "ticks": ""
            },
            "colorscale": [
             [
              0,
              "#0d0887"
             ],
             [
              0.1111111111111111,
              "#46039f"
             ],
             [
              0.2222222222222222,
              "#7201a8"
             ],
             [
              0.3333333333333333,
              "#9c179e"
             ],
             [
              0.4444444444444444,
              "#bd3786"
             ],
             [
              0.5555555555555556,
              "#d8576b"
             ],
             [
              0.6666666666666666,
              "#ed7953"
             ],
             [
              0.7777777777777778,
              "#fb9f3a"
             ],
             [
              0.8888888888888888,
              "#fdca26"
             ],
             [
              1,
              "#f0f921"
             ]
            ],
            "type": "histogram2d"
           }
          ],
          "histogram2dcontour": [
           {
            "colorbar": {
             "outlinewidth": 0,
             "ticks": ""
            },
            "colorscale": [
             [
              0,
              "#0d0887"
             ],
             [
              0.1111111111111111,
              "#46039f"
             ],
             [
              0.2222222222222222,
              "#7201a8"
             ],
             [
              0.3333333333333333,
              "#9c179e"
             ],
             [
              0.4444444444444444,
              "#bd3786"
             ],
             [
              0.5555555555555556,
              "#d8576b"
             ],
             [
              0.6666666666666666,
              "#ed7953"
             ],
             [
              0.7777777777777778,
              "#fb9f3a"
             ],
             [
              0.8888888888888888,
              "#fdca26"
             ],
             [
              1,
              "#f0f921"
             ]
            ],
            "type": "histogram2dcontour"
           }
          ],
          "mesh3d": [
           {
            "colorbar": {
             "outlinewidth": 0,
             "ticks": ""
            },
            "type": "mesh3d"
           }
          ],
          "parcoords": [
           {
            "line": {
             "colorbar": {
              "outlinewidth": 0,
              "ticks": ""
             }
            },
            "type": "parcoords"
           }
          ],
          "pie": [
           {
            "automargin": true,
            "type": "pie"
           }
          ],
          "scatter": [
           {
            "fillpattern": {
             "fillmode": "overlay",
             "size": 10,
             "solidity": 0.2
            },
            "type": "scatter"
           }
          ],
          "scatter3d": [
           {
            "line": {
             "colorbar": {
              "outlinewidth": 0,
              "ticks": ""
             }
            },
            "marker": {
             "colorbar": {
              "outlinewidth": 0,
              "ticks": ""
             }
            },
            "type": "scatter3d"
           }
          ],
          "scattercarpet": [
           {
            "marker": {
             "colorbar": {
              "outlinewidth": 0,
              "ticks": ""
             }
            },
            "type": "scattercarpet"
           }
          ],
          "scattergeo": [
           {
            "marker": {
             "colorbar": {
              "outlinewidth": 0,
              "ticks": ""
             }
            },
            "type": "scattergeo"
           }
          ],
          "scattergl": [
           {
            "marker": {
             "colorbar": {
              "outlinewidth": 0,
              "ticks": ""
             }
            },
            "type": "scattergl"
           }
          ],
          "scattermapbox": [
           {
            "marker": {
             "colorbar": {
              "outlinewidth": 0,
              "ticks": ""
             }
            },
            "type": "scattermapbox"
           }
          ],
          "scatterpolar": [
           {
            "marker": {
             "colorbar": {
              "outlinewidth": 0,
              "ticks": ""
             }
            },
            "type": "scatterpolar"
           }
          ],
          "scatterpolargl": [
           {
            "marker": {
             "colorbar": {
              "outlinewidth": 0,
              "ticks": ""
             }
            },
            "type": "scatterpolargl"
           }
          ],
          "scatterternary": [
           {
            "marker": {
             "colorbar": {
              "outlinewidth": 0,
              "ticks": ""
             }
            },
            "type": "scatterternary"
           }
          ],
          "surface": [
           {
            "colorbar": {
             "outlinewidth": 0,
             "ticks": ""
            },
            "colorscale": [
             [
              0,
              "#0d0887"
             ],
             [
              0.1111111111111111,
              "#46039f"
             ],
             [
              0.2222222222222222,
              "#7201a8"
             ],
             [
              0.3333333333333333,
              "#9c179e"
             ],
             [
              0.4444444444444444,
              "#bd3786"
             ],
             [
              0.5555555555555556,
              "#d8576b"
             ],
             [
              0.6666666666666666,
              "#ed7953"
             ],
             [
              0.7777777777777778,
              "#fb9f3a"
             ],
             [
              0.8888888888888888,
              "#fdca26"
             ],
             [
              1,
              "#f0f921"
             ]
            ],
            "type": "surface"
           }
          ],
          "table": [
           {
            "cells": {
             "fill": {
              "color": "#EBF0F8"
             },
             "line": {
              "color": "white"
             }
            },
            "header": {
             "fill": {
              "color": "#C8D4E3"
             },
             "line": {
              "color": "white"
             }
            },
            "type": "table"
           }
          ]
         },
         "layout": {
          "annotationdefaults": {
           "arrowcolor": "#2a3f5f",
           "arrowhead": 0,
           "arrowwidth": 1
          },
          "autotypenumbers": "strict",
          "coloraxis": {
           "colorbar": {
            "outlinewidth": 0,
            "ticks": ""
           }
          },
          "colorscale": {
           "diverging": [
            [
             0,
             "#8e0152"
            ],
            [
             0.1,
             "#c51b7d"
            ],
            [
             0.2,
             "#de77ae"
            ],
            [
             0.3,
             "#f1b6da"
            ],
            [
             0.4,
             "#fde0ef"
            ],
            [
             0.5,
             "#f7f7f7"
            ],
            [
             0.6,
             "#e6f5d0"
            ],
            [
             0.7,
             "#b8e186"
            ],
            [
             0.8,
             "#7fbc41"
            ],
            [
             0.9,
             "#4d9221"
            ],
            [
             1,
             "#276419"
            ]
           ],
           "sequential": [
            [
             0,
             "#0d0887"
            ],
            [
             0.1111111111111111,
             "#46039f"
            ],
            [
             0.2222222222222222,
             "#7201a8"
            ],
            [
             0.3333333333333333,
             "#9c179e"
            ],
            [
             0.4444444444444444,
             "#bd3786"
            ],
            [
             0.5555555555555556,
             "#d8576b"
            ],
            [
             0.6666666666666666,
             "#ed7953"
            ],
            [
             0.7777777777777778,
             "#fb9f3a"
            ],
            [
             0.8888888888888888,
             "#fdca26"
            ],
            [
             1,
             "#f0f921"
            ]
           ],
           "sequentialminus": [
            [
             0,
             "#0d0887"
            ],
            [
             0.1111111111111111,
             "#46039f"
            ],
            [
             0.2222222222222222,
             "#7201a8"
            ],
            [
             0.3333333333333333,
             "#9c179e"
            ],
            [
             0.4444444444444444,
             "#bd3786"
            ],
            [
             0.5555555555555556,
             "#d8576b"
            ],
            [
             0.6666666666666666,
             "#ed7953"
            ],
            [
             0.7777777777777778,
             "#fb9f3a"
            ],
            [
             0.8888888888888888,
             "#fdca26"
            ],
            [
             1,
             "#f0f921"
            ]
           ]
          },
          "colorway": [
           "#636efa",
           "#EF553B",
           "#00cc96",
           "#ab63fa",
           "#FFA15A",
           "#19d3f3",
           "#FF6692",
           "#B6E880",
           "#FF97FF",
           "#FECB52"
          ],
          "font": {
           "color": "#2a3f5f"
          },
          "geo": {
           "bgcolor": "white",
           "lakecolor": "white",
           "landcolor": "#E5ECF6",
           "showlakes": true,
           "showland": true,
           "subunitcolor": "white"
          },
          "hoverlabel": {
           "align": "left"
          },
          "hovermode": "closest",
          "mapbox": {
           "style": "light"
          },
          "paper_bgcolor": "white",
          "plot_bgcolor": "#E5ECF6",
          "polar": {
           "angularaxis": {
            "gridcolor": "white",
            "linecolor": "white",
            "ticks": ""
           },
           "bgcolor": "#E5ECF6",
           "radialaxis": {
            "gridcolor": "white",
            "linecolor": "white",
            "ticks": ""
           }
          },
          "scene": {
           "xaxis": {
            "backgroundcolor": "#E5ECF6",
            "gridcolor": "white",
            "gridwidth": 2,
            "linecolor": "white",
            "showbackground": true,
            "ticks": "",
            "zerolinecolor": "white"
           },
           "yaxis": {
            "backgroundcolor": "#E5ECF6",
            "gridcolor": "white",
            "gridwidth": 2,
            "linecolor": "white",
            "showbackground": true,
            "ticks": "",
            "zerolinecolor": "white"
           },
           "zaxis": {
            "backgroundcolor": "#E5ECF6",
            "gridcolor": "white",
            "gridwidth": 2,
            "linecolor": "white",
            "showbackground": true,
            "ticks": "",
            "zerolinecolor": "white"
           }
          },
          "shapedefaults": {
           "line": {
            "color": "#2a3f5f"
           }
          },
          "ternary": {
           "aaxis": {
            "gridcolor": "white",
            "linecolor": "white",
            "ticks": ""
           },
           "baxis": {
            "gridcolor": "white",
            "linecolor": "white",
            "ticks": ""
           },
           "bgcolor": "#E5ECF6",
           "caxis": {
            "gridcolor": "white",
            "linecolor": "white",
            "ticks": ""
           }
          },
          "title": {
           "x": 0.05
          },
          "xaxis": {
           "automargin": true,
           "gridcolor": "white",
           "linecolor": "white",
           "ticks": "",
           "title": {
            "standoff": 15
           },
           "zerolinecolor": "white",
           "zerolinewidth": 2
          },
          "yaxis": {
           "automargin": true,
           "gridcolor": "white",
           "linecolor": "white",
           "ticks": "",
           "title": {
            "standoff": 15
           },
           "zerolinecolor": "white",
           "zerolinewidth": 2
          }
         }
        },
        "title": {
         "text": "Hit Rate by Condition"
        },
        "width": 600,
        "xaxis": {
         "side": "bottom",
         "title": {
          "text": "Motion Extrapolation"
         }
        },
        "yaxis": {
         "title": {
          "text": "Simulation"
         }
        }
       }
      }
     },
     "metadata": {},
     "output_type": "display_data"
    }
   ],
   "source": [
    "# for this_name in all_sub_names:\n",
    "    # wie = get_data(subject=f\"sub-{this_name}\", task=\"ball_hue\")\n",
    "wie = allen\n",
    "\n",
    "# Get hit rates for each condition\n",
    "# simc_xpolc = get_hit_rate(df=wie, sim_con=True, expol_con=True, return_df=True)[\"accuracy\"]\n",
    "# simc_xpoli = get_hit_rate(df=wie, sim_con=True, expol_con=False, return_df=True)[\"accuracy\"]\n",
    "# simi_xpolc = get_hit_rate(df=wie, sim_con=False, expol_con=True, return_df=True)[\"accuracy\"]\n",
    "# simi_xpoli = get_hit_rate(df=wie, sim_con=False, expol_con=False, return_df=True)[\"accuracy\"]\n",
    "\n",
    "simc_xpolc = get_precision(df=wie, sim_con=True, expol_con=True, return_df=True)[\"accuracy\"] # WHy doesn't this work?\n",
    "simc_xpoli = get_precision(df=wie, sim_con=True, expol_con=False, return_df=True)[\"accuracy\"]\n",
    "simi_xpolc = get_precision(df=wie, sim_con=False, expol_con=True, return_df=True)[\"accuracy\"]\n",
    "simi_xpoli = get_precision(df=wie, sim_con=False, expol_con=False, return_df=True)[\"accuracy\"]\n",
    "\n",
    "cc_rt = get_rt(df=wie, sim_con=True, expol_con=True, return_df=False)\n",
    "ci_rt = get_rt(df=wie, sim_con=True, expol_con=False, return_df=False)\n",
    "ic_rt = get_rt(df=wie, sim_con=False, expol_con=True, return_df=False)\n",
    "ii_rt = get_rt(df=wie, sim_con=False, expol_con=False, return_df=False)\n",
    "\n",
    "print(f\"Subject missed {get_false_negatives(wie)} trials\")\n",
    "# print(f\"simc_xpolc: {simc_xpolc.mean()}, simc_xpoli: {simc_xpoli.mean()}, simi_xpolc: {simi_xpolc.mean()}, simi_xpoli: {simi_xpoli.mean()}\")\n",
    "\n",
    "# Create data for the 2x2 heatmap\n",
    "z_values = [[simc_xpolc.mean(), simc_xpoli.mean()], \n",
    "            [simi_xpolc.mean(), simi_xpoli.mean()]]\n",
    "\n",
    "# Create a figure with subplot for heatmap\n",
    "fig = go.Figure()\n",
    "\n",
    "# Add heatmap\n",
    "fig.add_trace(go.Heatmap(\n",
    "    z=z_values,\n",
    "    x=['Congruent', 'Incongruent'],\n",
    "    y=['Congruent', 'Incongruent'],\n",
    "    text=[[f\"{simc_xpolc.mean():.3f}<br>#trials: {len(simc_xpolc)}<br>rt: {cc_rt:.2f}s\", f\"{simc_xpoli.mean():.3f}<br>#trials: {len(simc_xpoli)}<br>rt: {ci_rt:.2f}s\"], \n",
    "        [f\"{simi_xpolc.mean():.3f}<br>#trials: {len(simi_xpolc)}<br>rt: {ic_rt:.2f}s\", f\"{simi_xpoli.mean():.3f}<br>#trials: {len(simi_xpoli)}<br>rt: {ii_rt:.2f}s\"]],\n",
    "    texttemplate=\"%{text}\",\n",
    "    textfont={\"size\":14},\n",
    "    colorscale=\"magma_r\",\n",
    "    showscale=True,\n",
    "    colorbar=dict(title=\"Hit Rate\"),\n",
    "    zmin=0,  # Set minimum value for the color scale\n",
    "    zmax=1   # Set maximum value for the color scale\n",
    "))\n",
    "\n",
    "# Update layout\n",
    "fig.update_layout(\n",
    "    title=f\"Hit Rate by Condition\",\n",
    "    xaxis=dict(title=\"Motion Extrapolation\", side=\"bottom\"),\n",
    "    yaxis=dict(title=\"Simulation\"),\n",
    "    width=600,\n",
    "    height=500\n",
    ")\n",
    "\n",
    "# Show the figure\n",
    "fig.show()"
   ]
  },
  {
   "cell_type": "code",
   "execution_count": 32,
   "metadata": {},
   "outputs": [
    {
     "data": {
      "application/vnd.plotly.v1+json": {
       "config": {
        "plotlyServerURL": "https://plot.ly"
       },
       "data": [
        {
         "box": {
          "visible": true
         },
         "jitter": 0.2,
         "legendgroup": "Simcon + Xpolcon",
         "line": {
          "color": "rgba(252, 96, 47, 0.5)"
         },
         "meanline": {
          "visible": true
         },
         "name": "Simcon + Xpolcon",
         "pointpos": 0.5,
         "points": "all",
         "showlegend": true,
         "side": "negative",
         "spanmode": "soft",
         "type": "violin",
         "width": 0.5,
         "x": [
          "Simcon + Xpolcon",
          "Simcon + Xpolcon",
          "Simcon + Xpolcon",
          "Simcon + Xpolcon",
          "Simcon + Xpolcon",
          "Simcon + Xpolcon",
          "Simcon + Xpolcon",
          "Simcon + Xpolcon",
          "Simcon + Xpolcon",
          "Simcon + Xpolcon",
          "Simcon + Xpolcon",
          "Simcon + Xpolcon",
          "Simcon + Xpolcon",
          "Simcon + Xpolcon",
          "Simcon + Xpolcon",
          "Simcon + Xpolcon",
          "Simcon + Xpolcon",
          "Simcon + Xpolcon",
          "Simcon + Xpolcon",
          "Simcon + Xpolcon",
          "Simcon + Xpolcon",
          "Simcon + Xpolcon",
          "Simcon + Xpolcon",
          "Simcon + Xpolcon",
          "Simcon + Xpolcon",
          "Simcon + Xpolcon",
          "Simcon + Xpolcon",
          "Simcon + Xpolcon",
          "Simcon + Xpolcon",
          "Simcon + Xpolcon",
          "Simcon + Xpolcon"
         ],
         "y": [
          0.4763464165152982,
          0.5357332084095106,
          0.4559619167121127,
          0.5418559168465436,
          0.4909218333195895,
          0.4853130417177453,
          0.4799863749649375,
          0.4843745417892933,
          0.5134627500083297,
          0.4862070417730137,
          0.4913245416246354,
          0.4982315000379458,
          0.4943589166505262,
          0.5526289583649486,
          null,
          0.54669841658324,
          0.4758092500269413,
          0.4617794166551903,
          0.439359541516751,
          0.4915852498961612,
          0.5606502500595525,
          0.4395617500413209,
          0.4756234999513253,
          0.4839522499823943,
          0.4272622081916779,
          0.4436704582767561,
          0.4433330834144726,
          0.4454960832372308,
          0.5204854167532176,
          null,
          0.6076142500387505
         ]
        },
        {
         "box": {
          "visible": true
         },
         "jitter": 0.2,
         "legendgroup": "Simcon + Xpolinc",
         "line": {
          "color": "rgba(216, 18, 30, 0.5)"
         },
         "meanline": {
          "visible": true
         },
         "name": "Simcon + Xpolinc",
         "pointpos": 0.5,
         "points": "all",
         "showlegend": true,
         "side": "negative",
         "spanmode": "soft",
         "type": "violin",
         "width": 0.5,
         "x": [
          "Simcon + Xpolinc",
          "Simcon + Xpolinc",
          "Simcon + Xpolinc",
          "Simcon + Xpolinc",
          "Simcon + Xpolinc",
          "Simcon + Xpolinc",
          "Simcon + Xpolinc",
          "Simcon + Xpolinc",
          "Simcon + Xpolinc",
          "Simcon + Xpolinc",
          "Simcon + Xpolinc",
          "Simcon + Xpolinc",
          "Simcon + Xpolinc",
          "Simcon + Xpolinc",
          "Simcon + Xpolinc",
          "Simcon + Xpolinc",
          "Simcon + Xpolinc",
          "Simcon + Xpolinc",
          "Simcon + Xpolinc",
          "Simcon + Xpolinc",
          "Simcon + Xpolinc",
          "Simcon + Xpolinc",
          "Simcon + Xpolinc",
          "Simcon + Xpolinc",
          "Simcon + Xpolinc",
          "Simcon + Xpolinc",
          "Simcon + Xpolinc",
          "Simcon + Xpolinc",
          "Simcon + Xpolinc",
          "Simcon + Xpolinc",
          "Simcon + Xpolinc",
          "Simcon + Xpolinc",
          "Simcon + Xpolinc",
          "Simcon + Xpolinc",
          "Simcon + Xpolinc",
          "Simcon + Xpolinc",
          "Simcon + Xpolinc",
          "Simcon + Xpolinc",
          "Simcon + Xpolinc",
          "Simcon + Xpolinc",
          "Simcon + Xpolinc",
          "Simcon + Xpolinc",
          "Simcon + Xpolinc",
          "Simcon + Xpolinc",
          "Simcon + Xpolinc",
          "Simcon + Xpolinc",
          "Simcon + Xpolinc",
          "Simcon + Xpolinc",
          "Simcon + Xpolinc",
          "Simcon + Xpolinc",
          "Simcon + Xpolinc",
          "Simcon + Xpolinc",
          "Simcon + Xpolinc",
          "Simcon + Xpolinc"
         ],
         "y": [
          0.5055876249680296,
          0.5315801249817014,
          0.484262750018388,
          0.4674097499810159,
          0.4175049583427608,
          0.4678981666220352,
          0.467117958352901,
          0.456088125007227,
          0.4579707916127518,
          0.4200752500910312,
          0.4457162499893456,
          0.4710665832972154,
          0.4579316666349768,
          0.4772041250253096,
          0.4681775416247546,
          0.4863149999873712,
          0.5058132084086537,
          0.445755916647613,
          0.4125462915981188,
          0.4592077082488686,
          0.4853154583834111,
          0.4861075833905488,
          0.4084692500764504,
          0.4657610834110528,
          null,
          0.4281198750250041,
          0.4174757082946598,
          0.5833740415982902,
          0.4179851666558534,
          0.5296671249670908,
          0.4581216666847467,
          0.4346764165675267,
          0.4481386250117793,
          0.4743777500698343,
          0.4209312917664647,
          0.4474240000126883,
          0.4088270416250452,
          0.4426230832468718,
          0.3983508750097826,
          0.4074487499892711,
          0.4301226250827312,
          0.4035276666982099,
          0.3704809165792539,
          0.3809406249783933,
          0.4447733749402687,
          0.4800783332902938,
          0.3833339583361521,
          0.4069142916705459,
          0.4255052499938756,
          0.3820655833696946,
          0.415405708248727,
          0.4530007083667442,
          0.4839733332628384,
          0.4826880000764504
         ]
        },
        {
         "box": {
          "visible": true
         },
         "jitter": 0.2,
         "legendgroup": "Siminc + Xpolcon",
         "line": {
          "color": "rgba(137, 0, 38, 0.5)"
         },
         "meanline": {
          "visible": true
         },
         "name": "Siminc + Xpolcon",
         "pointpos": 0.5,
         "points": "all",
         "showlegend": true,
         "side": "negative",
         "spanmode": "soft",
         "type": "violin",
         "width": 0.5,
         "x": [
          "Siminc + Xpolcon",
          "Siminc + Xpolcon",
          "Siminc + Xpolcon",
          "Siminc + Xpolcon",
          "Siminc + Xpolcon",
          "Siminc + Xpolcon",
          "Siminc + Xpolcon",
          "Siminc + Xpolcon",
          "Siminc + Xpolcon",
          "Siminc + Xpolcon",
          "Siminc + Xpolcon",
          "Siminc + Xpolcon",
          "Siminc + Xpolcon",
          "Siminc + Xpolcon",
          "Siminc + Xpolcon",
          "Siminc + Xpolcon",
          "Siminc + Xpolcon",
          "Siminc + Xpolcon",
          "Siminc + Xpolcon",
          "Siminc + Xpolcon",
          "Siminc + Xpolcon",
          "Siminc + Xpolcon",
          "Siminc + Xpolcon",
          "Siminc + Xpolcon",
          "Siminc + Xpolcon",
          "Siminc + Xpolcon",
          "Siminc + Xpolcon",
          "Siminc + Xpolcon",
          "Siminc + Xpolcon",
          "Siminc + Xpolcon",
          "Siminc + Xpolcon",
          "Siminc + Xpolcon",
          "Siminc + Xpolcon",
          "Siminc + Xpolcon",
          "Siminc + Xpolcon",
          "Siminc + Xpolcon",
          "Siminc + Xpolcon",
          "Siminc + Xpolcon",
          "Siminc + Xpolcon",
          "Siminc + Xpolcon",
          "Siminc + Xpolcon",
          "Siminc + Xpolcon",
          "Siminc + Xpolcon",
          "Siminc + Xpolcon",
          "Siminc + Xpolcon",
          "Siminc + Xpolcon",
          "Siminc + Xpolcon",
          "Siminc + Xpolcon",
          "Siminc + Xpolcon",
          "Siminc + Xpolcon",
          "Siminc + Xpolcon",
          "Siminc + Xpolcon",
          "Siminc + Xpolcon",
          "Siminc + Xpolcon",
          "Siminc + Xpolcon",
          "Siminc + Xpolcon",
          "Siminc + Xpolcon",
          "Siminc + Xpolcon"
         ],
         "y": [
          0.4963976666331291,
          0.5459467084147036,
          0.5053394584683701,
          0.5091092915972695,
          0.5170021249214187,
          0.5155626666964963,
          0.5702164584072307,
          0.4925926250871271,
          0.5606085415929556,
          0.5572624165797606,
          0.5300788749009371,
          0.5238707916578278,
          0.4717700417386368,
          0.5023932082112879,
          0.4751962500158697,
          0.4862578331958502,
          0.5382102500880137,
          0.5329650000203401,
          0.5528265832690522,
          0.4759965415578335,
          0.5119892082875594,
          0.4878188334405422,
          0.5185946667334065,
          0.5134979999857023,
          0.5354652915848419,
          0.5039412083569914,
          0.5009256249759346,
          null,
          0.5225827083922923,
          0.5527152499416843,
          0.8366817916976288,
          0.5000443749595433,
          0.4809581666486338,
          0.5342789583373815,
          0.5537090415600687,
          0.5010185415158048,
          0.5476150834001601,
          0.4615902082296088,
          0.4895093749510124,
          0.5301639167591929,
          0.5534075417090207,
          0.5698750000447035,
          0.5558122500078753,
          0.53804391680751,
          0.737674625008367,
          0.472373166703619,
          0.4487873750040307,
          0.47875816677697,
          0.4527041249675676,
          0.5115495832869783,
          0.4571245416300371,
          0.4739562083268538,
          0.4636254166252911,
          0.4342761667212471,
          0.3830953750293702,
          0.4993513750378042,
          null,
          0.533069166704081
         ]
        },
        {
         "box": {
          "visible": true
         },
         "jitter": 0.2,
         "legendgroup": "Siminc + Xpolinc",
         "line": {
          "color": "rgba(128, 0, 38, 0.5)"
         },
         "meanline": {
          "visible": true
         },
         "name": "Siminc + Xpolinc",
         "pointpos": 0.5,
         "points": "all",
         "showlegend": true,
         "side": "negative",
         "spanmode": "soft",
         "type": "violin",
         "width": 0.5,
         "x": [
          "Siminc + Xpolinc",
          "Siminc + Xpolinc",
          "Siminc + Xpolinc",
          "Siminc + Xpolinc",
          "Siminc + Xpolinc",
          "Siminc + Xpolinc",
          "Siminc + Xpolinc",
          "Siminc + Xpolinc",
          "Siminc + Xpolinc",
          "Siminc + Xpolinc",
          "Siminc + Xpolinc",
          "Siminc + Xpolinc",
          "Siminc + Xpolinc",
          "Siminc + Xpolinc",
          "Siminc + Xpolinc",
          "Siminc + Xpolinc",
          "Siminc + Xpolinc",
          "Siminc + Xpolinc",
          "Siminc + Xpolinc",
          "Siminc + Xpolinc",
          "Siminc + Xpolinc",
          "Siminc + Xpolinc",
          "Siminc + Xpolinc",
          "Siminc + Xpolinc",
          "Siminc + Xpolinc",
          "Siminc + Xpolinc",
          "Siminc + Xpolinc",
          "Siminc + Xpolinc",
          "Siminc + Xpolinc",
          "Siminc + Xpolinc",
          "Siminc + Xpolinc",
          "Siminc + Xpolinc",
          "Siminc + Xpolinc"
         ],
         "y": [
          0.6356210416415706,
          0.5255540000507608,
          0.6068316666642204,
          0.4678618749603629,
          0.5405707500176504,
          0.462722749914974,
          0.4926407500170171,
          0.4821321250637993,
          0.4677350416313857,
          0.5402919583721086,
          0.4809236667351797,
          0.5005552084185183,
          null,
          0.4224834167398512,
          0.5745323749724776,
          0.4813338333042338,
          null,
          0.4245004166150465,
          null,
          0.4792884583584964,
          0.4907745834207162,
          0.4720730000408366,
          0.4437821250176057,
          0.4437972917221486,
          0.4343220416922122,
          0.4021453750319779,
          0.5184575833845884,
          0.4207652081968263,
          0.4165319165913388,
          0.4368631666293368,
          0.5027962499298155,
          null,
          0.5167948333546519
         ]
        },
        {
         "hovertemplate": "Mean: %{y:.3f}s<extra></extra>",
         "line": {
          "color": "rgba(0, 0, 0, 0.7)",
          "width": 8
         },
         "marker": {
          "color": [
           "rgba(252, 96, 47, 1)",
           "rgba(216, 18, 30, 1)",
           "rgba(137, 0, 38, 1)",
           "rgba(128, 0, 38, 1)"
          ],
          "line": {
           "color": "black",
           "width": 4
          },
          "size": 14
         },
         "mode": "lines+markers",
         "name": "Mean RT",
         "type": "scatter",
         "x": [
          "Simcon + Xpolcon",
          "Simcon + Xpolinc",
          "Siminc + Xpolcon",
          "Siminc + Xpolinc"
         ],
         "y": [
          0.4913651063227384,
          0.4492685841154834,
          0.5179676354143469,
          0.485678714085852
         ]
        }
       ],
       "layout": {
        "annotations": [
         {
          "arrowcolor": "black",
          "arrowhead": 2,
          "arrowsize": 1.5,
          "arrowwidth": 3,
          "ax": 120,
          "ay": -90,
          "font": {
           "color": "black",
           "family": "Arial, sans-serif",
           "size": 25
          },
          "showarrow": true,
          "text": "0.491s",
          "x": "Simcon + Xpolcon",
          "y": 0.4913651063227384
         },
         {
          "arrowcolor": "black",
          "arrowhead": 2,
          "arrowsize": 1.5,
          "arrowwidth": 3,
          "ax": 120,
          "ay": -90,
          "font": {
           "color": "black",
           "family": "Arial, sans-serif",
           "size": 25
          },
          "showarrow": true,
          "text": "0.449s",
          "x": "Simcon + Xpolinc",
          "y": 0.4492685841154834
         },
         {
          "arrowcolor": "black",
          "arrowhead": 2,
          "arrowsize": 1.5,
          "arrowwidth": 3,
          "ax": 120,
          "ay": -90,
          "font": {
           "color": "black",
           "family": "Arial, sans-serif",
           "size": 25
          },
          "showarrow": true,
          "text": "0.518s",
          "x": "Siminc + Xpolcon",
          "y": 0.5179676354143469
         },
         {
          "arrowcolor": "black",
          "arrowhead": 2,
          "arrowsize": 1.5,
          "arrowwidth": 3,
          "ax": 120,
          "ay": -90,
          "font": {
           "color": "black",
           "family": "Arial, sans-serif",
           "size": 25
          },
          "showarrow": true,
          "text": "0.486s",
          "x": "Siminc + Xpolinc",
          "y": 0.485678714085852
         }
        ],
        "font": {
         "color": "black",
         "family": "Arial, sans-serif",
         "size": 20
        },
        "height": 1200,
        "legend": {
         "bordercolor": "White",
         "borderwidth": 2,
         "font": {
          "family": "Arial, sans-serif",
          "size": 18
         },
         "orientation": "h",
         "title": {
          "font": {
           "family": "Arial, sans-serif",
           "size": 18
          },
          "text": "Response Type"
         },
         "x": 0.5,
         "xanchor": "center",
         "y": 1.01,
         "yanchor": "bottom"
        },
        "paper_bgcolor": "white",
        "plot_bgcolor": "white",
        "template": {
         "data": {
          "bar": [
           {
            "error_x": {
             "color": "#2a3f5f"
            },
            "error_y": {
             "color": "#2a3f5f"
            },
            "marker": {
             "line": {
              "color": "#E5ECF6",
              "width": 0.5
             },
             "pattern": {
              "fillmode": "overlay",
              "size": 10,
              "solidity": 0.2
             }
            },
            "type": "bar"
           }
          ],
          "barpolar": [
           {
            "marker": {
             "line": {
              "color": "#E5ECF6",
              "width": 0.5
             },
             "pattern": {
              "fillmode": "overlay",
              "size": 10,
              "solidity": 0.2
             }
            },
            "type": "barpolar"
           }
          ],
          "carpet": [
           {
            "aaxis": {
             "endlinecolor": "#2a3f5f",
             "gridcolor": "white",
             "linecolor": "white",
             "minorgridcolor": "white",
             "startlinecolor": "#2a3f5f"
            },
            "baxis": {
             "endlinecolor": "#2a3f5f",
             "gridcolor": "white",
             "linecolor": "white",
             "minorgridcolor": "white",
             "startlinecolor": "#2a3f5f"
            },
            "type": "carpet"
           }
          ],
          "choropleth": [
           {
            "colorbar": {
             "outlinewidth": 0,
             "ticks": ""
            },
            "type": "choropleth"
           }
          ],
          "contour": [
           {
            "colorbar": {
             "outlinewidth": 0,
             "ticks": ""
            },
            "colorscale": [
             [
              0,
              "#0d0887"
             ],
             [
              0.1111111111111111,
              "#46039f"
             ],
             [
              0.2222222222222222,
              "#7201a8"
             ],
             [
              0.3333333333333333,
              "#9c179e"
             ],
             [
              0.4444444444444444,
              "#bd3786"
             ],
             [
              0.5555555555555556,
              "#d8576b"
             ],
             [
              0.6666666666666666,
              "#ed7953"
             ],
             [
              0.7777777777777778,
              "#fb9f3a"
             ],
             [
              0.8888888888888888,
              "#fdca26"
             ],
             [
              1,
              "#f0f921"
             ]
            ],
            "type": "contour"
           }
          ],
          "contourcarpet": [
           {
            "colorbar": {
             "outlinewidth": 0,
             "ticks": ""
            },
            "type": "contourcarpet"
           }
          ],
          "heatmap": [
           {
            "colorbar": {
             "outlinewidth": 0,
             "ticks": ""
            },
            "colorscale": [
             [
              0,
              "#0d0887"
             ],
             [
              0.1111111111111111,
              "#46039f"
             ],
             [
              0.2222222222222222,
              "#7201a8"
             ],
             [
              0.3333333333333333,
              "#9c179e"
             ],
             [
              0.4444444444444444,
              "#bd3786"
             ],
             [
              0.5555555555555556,
              "#d8576b"
             ],
             [
              0.6666666666666666,
              "#ed7953"
             ],
             [
              0.7777777777777778,
              "#fb9f3a"
             ],
             [
              0.8888888888888888,
              "#fdca26"
             ],
             [
              1,
              "#f0f921"
             ]
            ],
            "type": "heatmap"
           }
          ],
          "heatmapgl": [
           {
            "colorbar": {
             "outlinewidth": 0,
             "ticks": ""
            },
            "colorscale": [
             [
              0,
              "#0d0887"
             ],
             [
              0.1111111111111111,
              "#46039f"
             ],
             [
              0.2222222222222222,
              "#7201a8"
             ],
             [
              0.3333333333333333,
              "#9c179e"
             ],
             [
              0.4444444444444444,
              "#bd3786"
             ],
             [
              0.5555555555555556,
              "#d8576b"
             ],
             [
              0.6666666666666666,
              "#ed7953"
             ],
             [
              0.7777777777777778,
              "#fb9f3a"
             ],
             [
              0.8888888888888888,
              "#fdca26"
             ],
             [
              1,
              "#f0f921"
             ]
            ],
            "type": "heatmapgl"
           }
          ],
          "histogram": [
           {
            "marker": {
             "pattern": {
              "fillmode": "overlay",
              "size": 10,
              "solidity": 0.2
             }
            },
            "type": "histogram"
           }
          ],
          "histogram2d": [
           {
            "colorbar": {
             "outlinewidth": 0,
             "ticks": ""
            },
            "colorscale": [
             [
              0,
              "#0d0887"
             ],
             [
              0.1111111111111111,
              "#46039f"
             ],
             [
              0.2222222222222222,
              "#7201a8"
             ],
             [
              0.3333333333333333,
              "#9c179e"
             ],
             [
              0.4444444444444444,
              "#bd3786"
             ],
             [
              0.5555555555555556,
              "#d8576b"
             ],
             [
              0.6666666666666666,
              "#ed7953"
             ],
             [
              0.7777777777777778,
              "#fb9f3a"
             ],
             [
              0.8888888888888888,
              "#fdca26"
             ],
             [
              1,
              "#f0f921"
             ]
            ],
            "type": "histogram2d"
           }
          ],
          "histogram2dcontour": [
           {
            "colorbar": {
             "outlinewidth": 0,
             "ticks": ""
            },
            "colorscale": [
             [
              0,
              "#0d0887"
             ],
             [
              0.1111111111111111,
              "#46039f"
             ],
             [
              0.2222222222222222,
              "#7201a8"
             ],
             [
              0.3333333333333333,
              "#9c179e"
             ],
             [
              0.4444444444444444,
              "#bd3786"
             ],
             [
              0.5555555555555556,
              "#d8576b"
             ],
             [
              0.6666666666666666,
              "#ed7953"
             ],
             [
              0.7777777777777778,
              "#fb9f3a"
             ],
             [
              0.8888888888888888,
              "#fdca26"
             ],
             [
              1,
              "#f0f921"
             ]
            ],
            "type": "histogram2dcontour"
           }
          ],
          "mesh3d": [
           {
            "colorbar": {
             "outlinewidth": 0,
             "ticks": ""
            },
            "type": "mesh3d"
           }
          ],
          "parcoords": [
           {
            "line": {
             "colorbar": {
              "outlinewidth": 0,
              "ticks": ""
             }
            },
            "type": "parcoords"
           }
          ],
          "pie": [
           {
            "automargin": true,
            "type": "pie"
           }
          ],
          "scatter": [
           {
            "fillpattern": {
             "fillmode": "overlay",
             "size": 10,
             "solidity": 0.2
            },
            "type": "scatter"
           }
          ],
          "scatter3d": [
           {
            "line": {
             "colorbar": {
              "outlinewidth": 0,
              "ticks": ""
             }
            },
            "marker": {
             "colorbar": {
              "outlinewidth": 0,
              "ticks": ""
             }
            },
            "type": "scatter3d"
           }
          ],
          "scattercarpet": [
           {
            "marker": {
             "colorbar": {
              "outlinewidth": 0,
              "ticks": ""
             }
            },
            "type": "scattercarpet"
           }
          ],
          "scattergeo": [
           {
            "marker": {
             "colorbar": {
              "outlinewidth": 0,
              "ticks": ""
             }
            },
            "type": "scattergeo"
           }
          ],
          "scattergl": [
           {
            "marker": {
             "colorbar": {
              "outlinewidth": 0,
              "ticks": ""
             }
            },
            "type": "scattergl"
           }
          ],
          "scattermapbox": [
           {
            "marker": {
             "colorbar": {
              "outlinewidth": 0,
              "ticks": ""
             }
            },
            "type": "scattermapbox"
           }
          ],
          "scatterpolar": [
           {
            "marker": {
             "colorbar": {
              "outlinewidth": 0,
              "ticks": ""
             }
            },
            "type": "scatterpolar"
           }
          ],
          "scatterpolargl": [
           {
            "marker": {
             "colorbar": {
              "outlinewidth": 0,
              "ticks": ""
             }
            },
            "type": "scatterpolargl"
           }
          ],
          "scatterternary": [
           {
            "marker": {
             "colorbar": {
              "outlinewidth": 0,
              "ticks": ""
             }
            },
            "type": "scatterternary"
           }
          ],
          "surface": [
           {
            "colorbar": {
             "outlinewidth": 0,
             "ticks": ""
            },
            "colorscale": [
             [
              0,
              "#0d0887"
             ],
             [
              0.1111111111111111,
              "#46039f"
             ],
             [
              0.2222222222222222,
              "#7201a8"
             ],
             [
              0.3333333333333333,
              "#9c179e"
             ],
             [
              0.4444444444444444,
              "#bd3786"
             ],
             [
              0.5555555555555556,
              "#d8576b"
             ],
             [
              0.6666666666666666,
              "#ed7953"
             ],
             [
              0.7777777777777778,
              "#fb9f3a"
             ],
             [
              0.8888888888888888,
              "#fdca26"
             ],
             [
              1,
              "#f0f921"
             ]
            ],
            "type": "surface"
           }
          ],
          "table": [
           {
            "cells": {
             "fill": {
              "color": "#EBF0F8"
             },
             "line": {
              "color": "white"
             }
            },
            "header": {
             "fill": {
              "color": "#C8D4E3"
             },
             "line": {
              "color": "white"
             }
            },
            "type": "table"
           }
          ]
         },
         "layout": {
          "annotationdefaults": {
           "arrowcolor": "#2a3f5f",
           "arrowhead": 0,
           "arrowwidth": 1
          },
          "autotypenumbers": "strict",
          "coloraxis": {
           "colorbar": {
            "outlinewidth": 0,
            "ticks": ""
           }
          },
          "colorscale": {
           "diverging": [
            [
             0,
             "#8e0152"
            ],
            [
             0.1,
             "#c51b7d"
            ],
            [
             0.2,
             "#de77ae"
            ],
            [
             0.3,
             "#f1b6da"
            ],
            [
             0.4,
             "#fde0ef"
            ],
            [
             0.5,
             "#f7f7f7"
            ],
            [
             0.6,
             "#e6f5d0"
            ],
            [
             0.7,
             "#b8e186"
            ],
            [
             0.8,
             "#7fbc41"
            ],
            [
             0.9,
             "#4d9221"
            ],
            [
             1,
             "#276419"
            ]
           ],
           "sequential": [
            [
             0,
             "#0d0887"
            ],
            [
             0.1111111111111111,
             "#46039f"
            ],
            [
             0.2222222222222222,
             "#7201a8"
            ],
            [
             0.3333333333333333,
             "#9c179e"
            ],
            [
             0.4444444444444444,
             "#bd3786"
            ],
            [
             0.5555555555555556,
             "#d8576b"
            ],
            [
             0.6666666666666666,
             "#ed7953"
            ],
            [
             0.7777777777777778,
             "#fb9f3a"
            ],
            [
             0.8888888888888888,
             "#fdca26"
            ],
            [
             1,
             "#f0f921"
            ]
           ],
           "sequentialminus": [
            [
             0,
             "#0d0887"
            ],
            [
             0.1111111111111111,
             "#46039f"
            ],
            [
             0.2222222222222222,
             "#7201a8"
            ],
            [
             0.3333333333333333,
             "#9c179e"
            ],
            [
             0.4444444444444444,
             "#bd3786"
            ],
            [
             0.5555555555555556,
             "#d8576b"
            ],
            [
             0.6666666666666666,
             "#ed7953"
            ],
            [
             0.7777777777777778,
             "#fb9f3a"
            ],
            [
             0.8888888888888888,
             "#fdca26"
            ],
            [
             1,
             "#f0f921"
            ]
           ]
          },
          "colorway": [
           "#636efa",
           "#EF553B",
           "#00cc96",
           "#ab63fa",
           "#FFA15A",
           "#19d3f3",
           "#FF6692",
           "#B6E880",
           "#FF97FF",
           "#FECB52"
          ],
          "font": {
           "color": "#2a3f5f"
          },
          "geo": {
           "bgcolor": "white",
           "lakecolor": "white",
           "landcolor": "#E5ECF6",
           "showlakes": true,
           "showland": true,
           "subunitcolor": "white"
          },
          "hoverlabel": {
           "align": "left"
          },
          "hovermode": "closest",
          "mapbox": {
           "style": "light"
          },
          "paper_bgcolor": "white",
          "plot_bgcolor": "#E5ECF6",
          "polar": {
           "angularaxis": {
            "gridcolor": "white",
            "linecolor": "white",
            "ticks": ""
           },
           "bgcolor": "#E5ECF6",
           "radialaxis": {
            "gridcolor": "white",
            "linecolor": "white",
            "ticks": ""
           }
          },
          "scene": {
           "xaxis": {
            "backgroundcolor": "#E5ECF6",
            "gridcolor": "white",
            "gridwidth": 2,
            "linecolor": "white",
            "showbackground": true,
            "ticks": "",
            "zerolinecolor": "white"
           },
           "yaxis": {
            "backgroundcolor": "#E5ECF6",
            "gridcolor": "white",
            "gridwidth": 2,
            "linecolor": "white",
            "showbackground": true,
            "ticks": "",
            "zerolinecolor": "white"
           },
           "zaxis": {
            "backgroundcolor": "#E5ECF6",
            "gridcolor": "white",
            "gridwidth": 2,
            "linecolor": "white",
            "showbackground": true,
            "ticks": "",
            "zerolinecolor": "white"
           }
          },
          "shapedefaults": {
           "line": {
            "color": "#2a3f5f"
           }
          },
          "ternary": {
           "aaxis": {
            "gridcolor": "white",
            "linecolor": "white",
            "ticks": ""
           },
           "baxis": {
            "gridcolor": "white",
            "linecolor": "white",
            "ticks": ""
           },
           "bgcolor": "#E5ECF6",
           "caxis": {
            "gridcolor": "white",
            "linecolor": "white",
            "ticks": ""
           }
          },
          "title": {
           "x": 0.05
          },
          "xaxis": {
           "automargin": true,
           "gridcolor": "white",
           "linecolor": "white",
           "ticks": "",
           "title": {
            "standoff": 15
           },
           "zerolinecolor": "white",
           "zerolinewidth": 2
          },
          "yaxis": {
           "automargin": true,
           "gridcolor": "white",
           "linecolor": "white",
           "ticks": "",
           "title": {
            "standoff": 15
           },
           "zerolinecolor": "white",
           "zerolinewidth": 2
          }
         }
        },
        "title": {
         "font": {
          "color": "black",
          "family": "Arial, sans-serif",
          "size": 25
         },
         "text": "Average Reaction Times Across All Subjects\n\n",
         "x": 0.5,
         "y": 0.985
        },
        "violinmode": "overlay",
        "width": 1200,
        "xaxis": {
         "linecolor": "black",
         "linewidth": 3,
         "mirror": true,
         "showgrid": false,
         "showline": true,
         "tickfont": {
          "color": "black",
          "family": "Arial, sans-serif",
          "size": 20
         },
         "ticklen": 10,
         "tickmode": "array",
         "ticks": "outside",
         "tickvals": [
          "Simcon + Xpolcon",
          "Simcon + Xpolinc",
          "Siminc + Xpolcon",
          "Siminc + Xpolinc"
         ],
         "tickwidth": 3,
         "title": {
          "font": {
           "color": "black",
           "family": "Arial, sans-serif",
           "size": 20
          },
          "text": "Response Type"
         }
        },
        "yaxis": {
         "gridcolor": "lightgray",
         "gridwidth": 1,
         "linecolor": "black",
         "linewidth": 3,
         "mirror": true,
         "showgrid": true,
         "showline": true,
         "tickfont": {
          "color": "black",
          "family": "Arial, sans-serif",
          "size": 20
         },
         "ticklen": 10,
         "ticks": "outside",
         "tickwidth": 3,
         "title": {
          "font": {
           "color": "black",
           "family": "Arial, sans-serif",
           "size": 20
          },
          "text": "Reaction Time (s)"
         }
        }
       }
      }
     },
     "metadata": {},
     "output_type": "display_data"
    }
   ],
   "source": [
    "\n",
    "# Create an empty list to store all data frames\n",
    "all_data = []\n",
    "\n",
    "# Define types and their colors\n",
    "types = ['Simcon + Xpolcon', 'Simcon + Xpolinc', 'Siminc + Xpolcon', 'Siminc + Xpolinc']\n",
    "\n",
    "# Generate a colormap\n",
    "cmap = plt.get_cmap('YlOrRd')  # You can choose a different colormap if you prefer\n",
    "col_factor = 50\n",
    "col_icept = 150\n",
    "# Create the colors dictionary\n",
    "type_colors = {name: f'rgba({int(cmap(i*col_factor + col_icept)[0]*255)}, {int(cmap(i*col_factor + col_icept)[1]*255)}, {int(cmap(i*col_factor + col_icept)[2]*255)}, 0.5)' \n",
    "          for i, name in enumerate(types)}\n",
    "\n",
    "# Loop through all subjects (using the same structure as your original code)\n",
    "# for sub_name in all_sub_names:\n",
    "# for sub_name in [\"139166\"]:\n",
    "for sub_name in [\"allen\"]:\n",
    "    # sub = get_data(subject=f\"{sub_name}\", task=\"ball_hue\")\n",
    "    sub = allen\n",
    "    simc_xpolc = get_rt(df=sub, sim_con=True, expol_con=True, return_df=True)[\"rt\"]\n",
    "    simc_xpoli = get_rt(df=sub, sim_con=True, expol_con=False, return_df=True)[\"rt\"]\n",
    "    simi_xpolc = get_rt(df=sub, sim_con=False, expol_con=True, return_df=True)[\"rt\"]\n",
    "    simi_xpoli = get_rt(df=sub, sim_con=False, expol_con=False, return_df=True)[\"rt\"]\n",
    "    \n",
    "    # Create DataFrames without subject column - we'll aggregate across all subjects\n",
    "    simc_xpolc_df = pd.DataFrame({\n",
    "        'Reaction Time': simc_xpolc,\n",
    "        'Type': 'Simcon + Xpolcon'\n",
    "    })\n",
    "    \n",
    "    simc_xpoli_df = pd.DataFrame({\n",
    "        'Reaction Time': simc_xpoli,\n",
    "        'Type': 'Simcon + Xpolinc'\n",
    "    })\n",
    "    \n",
    "    simi_xpolc_df = pd.DataFrame({\n",
    "        'Reaction Time': simi_xpolc,\n",
    "        'Type': 'Siminc + Xpolcon'\n",
    "    })\n",
    "    \n",
    "    simi_xpoli_df = pd.DataFrame({\n",
    "        'Reaction Time': simi_xpoli,\n",
    "        'Type': 'Siminc + Xpolinc'\n",
    "    })\n",
    "    \n",
    "    # Append all DataFrames to our list\n",
    "    all_data.extend([simc_xpolc_df, simc_xpoli_df, simi_xpolc_df, simi_xpoli_df])\n",
    "\n",
    "# Combine all the data into a single DataFrame\n",
    "combined_data = pd.concat(all_data, ignore_index=True)\n",
    "\n",
    "# Calculate mean reaction time for each type\n",
    "type_means = combined_data.groupby('Type')['Reaction Time'].mean().to_dict()\n",
    "\n",
    "# Create the plot\n",
    "fig = go.Figure()\n",
    "\n",
    "# Add violin plots for each type\n",
    "for i, type_name in enumerate(types):\n",
    "    subset = combined_data[combined_data['Type'] == type_name]\n",
    "    \n",
    "    fig.add_trace(go.Violin(\n",
    "        x=[type_name] * len(subset),  # Use type name directly as x value\n",
    "        y=subset['Reaction Time'],\n",
    "        name=type_name,\n",
    "        legendgroup=type_name,\n",
    "        showlegend=True,\n",
    "        box_visible=True,\n",
    "        meanline_visible=True,\n",
    "        points='all',\n",
    "        jitter=0.2,\n",
    "        pointpos=0.5,\n",
    "        line_color=type_colors[type_name],\n",
    "        side='negative',\n",
    "        width=.5,\n",
    "        spanmode='soft'\n",
    "    ))\n",
    "\n",
    "# Connect the means with a line\n",
    "fig.add_trace(go.Scatter(\n",
    "    x=types,\n",
    "    y=[type_means[t] for t in types],\n",
    "    mode='lines+markers',\n",
    "    line=dict(color='rgba(0, 0, 0, 0.7)', width=8),\n",
    "    marker=dict(\n",
    "        size=14,  # Increased marker size\n",
    "        color=[type_colors[t].replace('0.5', '1') for t in types],\n",
    "        line=dict(color='black', width=4)\n",
    "    ),\n",
    "    name='Mean RT',\n",
    "    hovertemplate='Mean: %{y:.3f}s<extra></extra>'\n",
    "))\n",
    "\n",
    "# Define a common font style for consistent text appearance\n",
    "font_style = dict(\n",
    "    family=\"Arial, sans-serif\",\n",
    "    size=20,  # Larger font size\n",
    "    color=\"black\"\n",
    ")\n",
    "\n",
    "# Update layout with enhanced text styling\n",
    "fig.update_layout(\n",
    "    title=dict(\n",
    "        text=\"Average Reaction Times Across All Subjects\\n\\n\",\n",
    "        font=dict(size=25, family=\"Arial, sans-serif\", color=\"black\"),\n",
    "        x=0.5,\n",
    "        y=.985\n",
    "    ),\n",
    "    yaxis=dict(\n",
    "        title=dict(\n",
    "            text=\"Reaction Time (s)\",\n",
    "            font=font_style\n",
    "        ),\n",
    "        tickfont=font_style,\n",
    "        tickwidth=2,\n",
    "        showline=True,\n",
    "        linewidth=3,\n",
    "        linecolor='black'\n",
    "    ),\n",
    "    xaxis=dict(\n",
    "        title=dict(\n",
    "            text=\"Response Type\",\n",
    "            font=font_style\n",
    "        ),\n",
    "        tickmode='array',\n",
    "        tickvals=types,\n",
    "        tickfont=font_style,\n",
    "        tickwidth=2,\n",
    "        showline=True,\n",
    "        linewidth=3,\n",
    "        linecolor='black'\n",
    "    ),\n",
    "    legend=dict(\n",
    "        orientation=\"h\",\n",
    "        yanchor=\"bottom\",\n",
    "        y=1.01,\n",
    "        xanchor=\"center\",\n",
    "        x=0.5,\n",
    "        font=dict(size=18, family=\"Arial, sans-serif\"),\n",
    "        borderwidth=2,\n",
    "        bordercolor=\"White\",\n",
    "        title=dict(\n",
    "            text=\"Response Type\",\n",
    "            font=dict(size=18, family=\"Arial, sans-serif\")\n",
    "        )\n",
    "    ),\n",
    "    violinmode='overlay',\n",
    "    # height=1200,\n",
    "    # width=1200,\n",
    "    height=1200,\n",
    "    width=1200,\n",
    "    font=font_style,  # Default font for all other text elements\n",
    "    plot_bgcolor='white',\n",
    "    paper_bgcolor='white'\n",
    ")\n",
    "\n",
    "# Add annotations for the mean values\n",
    "for i, type_name in enumerate(types):\n",
    "    fig.add_annotation(\n",
    "        x=type_name,\n",
    "        y=type_means[type_name],\n",
    "        text=f\"{type_means[type_name]:.3f}s\",\n",
    "        showarrow=True,\n",
    "        arrowhead=2,\n",
    "        arrowsize=1.5,  # Slightly larger arrowhead\n",
    "        arrowwidth=3,    # Thicker arrow\n",
    "        arrowcolor='black',\n",
    "        ax=120,\n",
    "        ay=-90,\n",
    "        font=dict(size=25, color='black', family=\"Arial, sans-serif\")\n",
    "    )\n",
    "\n",
    "# Make the axis lines thicker\n",
    "fig.update_xaxes(mirror=True, ticks='outside', tickwidth=3, ticklen=10, showgrid=False)\n",
    "fig.update_yaxes(mirror=True, ticks='outside', tickwidth=3, ticklen=10, showgrid=True, gridwidth=1, gridcolor='lightgray')\n",
    "\n",
    "fig.show()\n",
    "\n",
    "\n"
   ]
  },
  {
   "cell_type": "code",
   "execution_count": 34,
   "metadata": {},
   "outputs": [
    {
     "data": {
      "application/vnd.plotly.v1+json": {
       "config": {
        "plotlyServerURL": "https://plot.ly"
       },
       "data": [
        {
         "box": {
          "visible": true
         },
         "jitter": 0.2,
         "legendgroup": "Abstraction",
         "line": {
          "color": "rgba(252, 96, 47, 0.5)"
         },
         "meanline": {
          "visible": true
         },
         "name": "Abstraction",
         "pointpos": 0.5,
         "points": "all",
         "showlegend": true,
         "side": "negative",
         "spanmode": "soft",
         "type": "violin",
         "width": 0.5,
         "x": [
          "Abstraction",
          "Abstraction",
          "Abstraction",
          "Abstraction",
          "Abstraction",
          "Abstraction",
          "Abstraction",
          "Abstraction",
          "Abstraction",
          "Abstraction",
          "Abstraction",
          "Abstraction",
          "Abstraction",
          "Abstraction",
          "Abstraction",
          "Abstraction",
          "Abstraction",
          "Abstraction",
          "Abstraction",
          "Abstraction",
          "Abstraction",
          "Abstraction",
          "Abstraction",
          "Abstraction",
          "Abstraction",
          "Abstraction",
          "Abstraction",
          "Abstraction",
          "Abstraction",
          "Abstraction",
          "Abstraction",
          "Abstraction",
          "Abstraction",
          "Abstraction",
          "Abstraction",
          "Abstraction",
          "Abstraction",
          "Abstraction",
          "Abstraction",
          "Abstraction",
          "Abstraction",
          "Abstraction",
          "Abstraction",
          "Abstraction",
          "Abstraction",
          "Abstraction",
          "Abstraction",
          "Abstraction",
          "Abstraction",
          "Abstraction",
          "Abstraction",
          "Abstraction",
          "Abstraction",
          "Abstraction",
          "Abstraction",
          "Abstraction",
          "Abstraction",
          "Abstraction",
          "Abstraction",
          "Abstraction",
          "Abstraction",
          "Abstraction",
          "Abstraction",
          "Abstraction",
          "Abstraction",
          "Abstraction",
          "Abstraction",
          "Abstraction",
          "Abstraction",
          "Abstraction",
          "Abstraction",
          "Abstraction",
          "Abstraction",
          "Abstraction",
          "Abstraction",
          "Abstraction",
          "Abstraction",
          "Abstraction",
          "Abstraction",
          "Abstraction",
          "Abstraction",
          "Abstraction",
          "Abstraction",
          "Abstraction",
          "Abstraction",
          "Abstraction",
          "Abstraction",
          "Abstraction",
          "Abstraction",
          "Abstraction",
          "Abstraction",
          "Abstraction",
          "Abstraction",
          "Abstraction",
          "Abstraction",
          "Abstraction",
          "Abstraction",
          "Abstraction",
          "Abstraction",
          "Abstraction",
          "Abstraction",
          "Abstraction",
          "Abstraction",
          "Abstraction",
          "Abstraction",
          "Abstraction",
          "Abstraction",
          "Abstraction",
          "Abstraction",
          "Abstraction",
          "Abstraction",
          "Abstraction",
          "Abstraction",
          "Abstraction",
          "Abstraction",
          "Abstraction",
          "Abstraction",
          "Abstraction",
          "Abstraction",
          "Abstraction",
          "Abstraction",
          "Abstraction",
          "Abstraction",
          "Abstraction",
          "Abstraction",
          "Abstraction",
          "Abstraction",
          "Abstraction",
          "Abstraction",
          "Abstraction",
          "Abstraction",
          "Abstraction",
          "Abstraction",
          "Abstraction",
          "Abstraction",
          "Abstraction",
          "Abstraction",
          "Abstraction",
          "Abstraction",
          "Abstraction",
          "Abstraction",
          "Abstraction",
          "Abstraction",
          "Abstraction",
          "Abstraction",
          "Abstraction",
          "Abstraction",
          "Abstraction",
          "Abstraction",
          "Abstraction",
          "Abstraction",
          "Abstraction",
          "Abstraction",
          "Abstraction",
          "Abstraction",
          "Abstraction",
          "Abstraction",
          "Abstraction",
          "Abstraction",
          "Abstraction",
          "Abstraction",
          "Abstraction",
          "Abstraction",
          "Abstraction",
          "Abstraction",
          "Abstraction",
          "Abstraction",
          "Abstraction",
          "Abstraction",
          "Abstraction",
          "Abstraction",
          "Abstraction",
          "Abstraction",
          "Abstraction",
          "Abstraction",
          "Abstraction",
          "Abstraction",
          "Abstraction",
          "Abstraction",
          "Abstraction",
          "Abstraction",
          "Abstraction",
          "Abstraction",
          "Abstraction",
          "Abstraction",
          "Abstraction",
          "Abstraction",
          "Abstraction",
          "Abstraction",
          "Abstraction",
          "Abstraction",
          "Abstraction",
          "Abstraction",
          "Abstraction",
          "Abstraction",
          "Abstraction",
          "Abstraction",
          "Abstraction",
          "Abstraction",
          "Abstraction",
          "Abstraction",
          "Abstraction",
          "Abstraction",
          "Abstraction",
          "Abstraction",
          "Abstraction",
          "Abstraction",
          "Abstraction",
          "Abstraction",
          "Abstraction",
          "Abstraction",
          "Abstraction",
          "Abstraction",
          "Abstraction",
          "Abstraction",
          "Abstraction",
          "Abstraction"
         ],
         "y": [
          1.1168425834039226,
          1.315072999917902,
          null,
          null,
          0.9839954999042676,
          0.8475458332104608,
          0.8759495833655819,
          0.9175531666260212,
          0.907444208394736,
          1.0371106249513105,
          0.8522333750734106,
          0.995342499925755,
          1.1264362500514835,
          null,
          1.216154416790232,
          0.9279763334197924,
          0.7388779999455437,
          0.9197077916469424,
          1.4126578331924975,
          0.8295515000354499,
          null,
          1.0709873749874532,
          1.153543291729875,
          0.9801336666569114,
          0.8103833750355989,
          1.0101637500338256,
          1.1962237916886806,
          1.9386732917046177,
          null,
          1.1723013332812116,
          1.238503250060603,
          null,
          1.1079488333780318,
          0.9873028749134392,
          0.9177784166531636,
          0.9190439581871032,
          0.7486530415480956,
          0.8690641667926684,
          0.8980036249849945,
          0.9210690415930004,
          0.9141087917378172,
          0.9615658749826252,
          1.0781879583373666,
          0.8290988332591951,
          null,
          0.9163241250207648,
          0.7683294166345149,
          0.7490906250895932,
          1.682457625051029,
          1.0760974583681673,
          1.3430527499876916,
          0.7559952499577776,
          1.5319964584195986,
          null,
          1.4125882500084117,
          1.3543359999312088,
          1.1066218331689015,
          null,
          0.7214417083887383,
          0.8023849165765569,
          0.9964632915798576,
          0.911266833427362,
          0.8044887083815411,
          0.7194793333765119,
          0.7616258750203997,
          0.7850895416922867,
          0.7623992083827034,
          0.7018816666677594,
          0.7409565000561997,
          0.762230958440341,
          null,
          0.8253322916571051,
          0.7172987083904445,
          0.721163458423689,
          0.8291745834285393,
          0.7213082499802113,
          0.828642625012435,
          0.7850166249554604,
          0.8895792916882783,
          null,
          1.5730652083875611,
          null,
          null,
          null,
          1.1007140417350456,
          null,
          1.3129632917698473,
          1.0615449167089537,
          null,
          1.0393454583827406,
          1.0806612082524223,
          0.8679580832831562,
          1.03998483333271,
          0.9320939166937025,
          1.317738416721113,
          1.269289999967441,
          0.9969187917886302,
          0.9737800834700464,
          1.1246911250054836,
          1.002188374986872,
          0.9355282083852215,
          0.9606509167933835,
          0.9536082084523514,
          1.0168377499794587,
          1.083245083456859,
          1.0720805415185168,
          0.8297113333828747,
          null,
          null,
          0.8159557082690299,
          0.8304675833787769,
          0.6160013750195503,
          0.5530929999658838,
          0.5921634166734293,
          0.6831539999693632,
          0.6579630000051111,
          0.5990667082369328,
          0.6119214167119935,
          0.6538549165707082,
          0.7429252916481346,
          0.5957924999529496,
          0.5703587918542325,
          0.5956164165399969,
          0.6364282917929813,
          0.5931967500364408,
          0.5944629168370739,
          0.5953140833880752,
          0.5296331666177139,
          0.4878234165953472,
          0.7430692499037832,
          0.5950874582631513,
          0.7001344999298453,
          0.5945327917579561,
          0.6357617917237803,
          null,
          0.7189215000253171,
          null,
          0.6302764165448025,
          null,
          1.335328791756183,
          0.9075702084228396,
          1.404604708426632,
          1.1274728333810344,
          0.9888129582395776,
          null,
          1.3224067082628608,
          1.1459502081852406,
          1.3061920416075736,
          0.8755339584313333,
          null,
          0.7366240833653137,
          0.8496407916536555,
          0.8171866250922903,
          0.8798442500410601,
          0.8708816666621715,
          0.915598375024274,
          1.0931879166746512,
          0.8215491668088362,
          0.947404041653499,
          1.044561625109054,
          0.8561662083957344,
          1.0196102915797385,
          0.8590034167282283,
          1.210700333467685,
          0.897135499981232,
          0.8142809167038649,
          0.8706536249956116,
          0.766812291694805,
          0.9333620000397786,
          0.9987076666438952,
          1.0229283749358729,
          0.8265801249071956,
          0.941560999955982,
          0.9301994583802298,
          0.9953022917034104,
          0.9525588331744076,
          0.8239767083432525,
          null,
          1.1018036666791886,
          0.9716448333347216,
          0.9017534166341648,
          1.1620822915574536,
          0.7616489583160728,
          0.7813988749403507,
          0.7624347499804571,
          0.8038609999930486,
          0.9528307083528488,
          0.7502362083178014,
          0.9604792917380108,
          0.899371208390221,
          0.8970106667838991,
          0.8912703749956563,
          0.7709455415606499,
          1.0182843749644237,
          1.0704031665809453,
          1.1002275417558849,
          0.7010059583699331,
          0.6178886666893959,
          0.7230804167920724,
          0.680090666632168,
          1.0023521250113845,
          0.7215380000416189,
          0.6786398334661499,
          0.6769724583718926,
          0.6560873750131577,
          0.6157186665805057,
          null,
          1.095280041685328,
          0.7881044583627954,
          0.7399946249788627,
          0.7196994583355263,
          0.8064386249752715,
          0.8917298750020564,
          0.7015554583631456,
          0.7204666250618175,
          0.7190196249866858,
          0.6637350416276604
         ]
        },
        {
         "box": {
          "visible": true
         },
         "jitter": 0.2,
         "legendgroup": "Simulation",
         "line": {
          "color": "rgba(216, 18, 30, 0.5)"
         },
         "meanline": {
          "visible": true
         },
         "name": "Simulation",
         "pointpos": 0.5,
         "points": "all",
         "showlegend": true,
         "side": "negative",
         "spanmode": "soft",
         "type": "violin",
         "width": 0.5,
         "x": [
          "Simulation",
          "Simulation",
          "Simulation",
          "Simulation",
          "Simulation",
          "Simulation",
          "Simulation",
          "Simulation",
          "Simulation",
          "Simulation",
          "Simulation",
          "Simulation",
          "Simulation",
          "Simulation",
          "Simulation",
          "Simulation",
          "Simulation",
          "Simulation",
          "Simulation",
          "Simulation",
          "Simulation",
          "Simulation",
          "Simulation",
          "Simulation",
          "Simulation",
          "Simulation",
          "Simulation",
          "Simulation",
          "Simulation",
          "Simulation",
          "Simulation",
          "Simulation",
          "Simulation",
          "Simulation",
          "Simulation",
          "Simulation",
          "Simulation",
          "Simulation",
          "Simulation",
          "Simulation",
          "Simulation",
          "Simulation",
          "Simulation",
          "Simulation",
          "Simulation",
          "Simulation",
          "Simulation",
          "Simulation",
          "Simulation",
          "Simulation",
          "Simulation",
          "Simulation",
          "Simulation",
          "Simulation",
          "Simulation",
          "Simulation",
          "Simulation",
          "Simulation",
          "Simulation",
          "Simulation",
          "Simulation",
          "Simulation",
          "Simulation",
          "Simulation",
          "Simulation",
          "Simulation",
          "Simulation",
          "Simulation",
          "Simulation",
          "Simulation",
          "Simulation",
          "Simulation",
          "Simulation",
          "Simulation",
          "Simulation",
          "Simulation",
          "Simulation",
          "Simulation",
          "Simulation",
          "Simulation",
          "Simulation",
          "Simulation",
          "Simulation",
          "Simulation",
          "Simulation",
          "Simulation",
          "Simulation",
          "Simulation",
          "Simulation",
          "Simulation",
          "Simulation",
          "Simulation",
          "Simulation",
          "Simulation",
          "Simulation",
          "Simulation",
          "Simulation",
          "Simulation",
          "Simulation",
          "Simulation",
          "Simulation",
          "Simulation",
          "Simulation",
          "Simulation",
          "Simulation",
          "Simulation",
          "Simulation",
          "Simulation",
          "Simulation",
          "Simulation",
          "Simulation",
          "Simulation",
          "Simulation",
          "Simulation",
          "Simulation",
          "Simulation",
          "Simulation",
          "Simulation",
          "Simulation",
          "Simulation",
          "Simulation",
          "Simulation",
          "Simulation",
          "Simulation",
          "Simulation",
          "Simulation",
          "Simulation",
          "Simulation",
          "Simulation",
          "Simulation",
          "Simulation",
          "Simulation",
          "Simulation",
          "Simulation",
          "Simulation",
          "Simulation",
          "Simulation",
          "Simulation",
          "Simulation",
          "Simulation",
          "Simulation",
          "Simulation",
          "Simulation",
          "Simulation",
          "Simulation",
          "Simulation",
          "Simulation",
          "Simulation",
          "Simulation",
          "Simulation",
          "Simulation",
          "Simulation",
          "Simulation",
          "Simulation",
          "Simulation",
          "Simulation",
          "Simulation",
          "Simulation",
          "Simulation",
          "Simulation",
          "Simulation",
          "Simulation",
          "Simulation",
          "Simulation",
          "Simulation",
          "Simulation",
          "Simulation",
          "Simulation",
          "Simulation",
          "Simulation",
          "Simulation",
          "Simulation",
          "Simulation",
          "Simulation",
          "Simulation",
          "Simulation",
          "Simulation",
          "Simulation",
          "Simulation",
          "Simulation",
          "Simulation",
          "Simulation",
          "Simulation",
          "Simulation",
          "Simulation",
          "Simulation",
          "Simulation",
          "Simulation",
          "Simulation",
          "Simulation",
          "Simulation",
          "Simulation"
         ],
         "y": [
          1.3655882499879226,
          null,
          0.8554097500164062,
          0.8469606667058542,
          1.1445277084130794,
          0.7040862499270588,
          0.9144839165965096,
          0.8015150000574067,
          0.6811632082099095,
          0.7487823750125244,
          0.898263958399184,
          0.9503421665867792,
          null,
          1.2377866667229682,
          null,
          0.8017782083479688,
          0.9436237916816026,
          0.9664408749667928,
          0.9301051249494776,
          0.9514195417286828,
          0.6770162499742582,
          0.9743409999646246,
          1.1406299583613873,
          0.8890737917972729,
          null,
          1.0905326249776408,
          1.4471003332873806,
          0.884337583440356,
          1.1132163750007749,
          null,
          null,
          null,
          1.5417237917426974,
          1.357726874994114,
          1.1216642915969717,
          null,
          1.0027626667870209,
          0.566553583368659,
          0.8614261666079983,
          0.9423632500693202,
          0.8659800416789949,
          0.9228287501027808,
          1.4182705417042598,
          0.8490481666522101,
          0.8597719166427851,
          0.7312132499646395,
          0.8000790417427197,
          0.8926971667679027,
          0.8201347915455699,
          0.7841027083341032,
          0.6842167916474864,
          0.8646492916159332,
          0.8678307499503717,
          0.8527316665276885,
          null,
          0.7841348332585767,
          0.6992707082536072,
          0.7859399584122002,
          0.7419816249748692,
          0.7621411667205393,
          0.95482549990993,
          0.7404456665972248,
          0.8071293332614005,
          0.7871878334553912,
          0.6982036667177454,
          0.9091462499927728,
          0.6130316250491887,
          0.8265425834106281,
          0.846650791587308,
          0.7854178749257699,
          0.7833210416138172,
          0.744085666607134,
          0.6791168331401423,
          0.8054024999728426,
          0.6844388332683593,
          null,
          0.7413032081676647,
          0.870820541633293,
          1.1694765833672136,
          null,
          null,
          0.9734042499912904,
          1.984760000021197,
          1.1036074999719858,
          0.846356458379887,
          1.1014309165766465,
          1.1890797916566953,
          1.0815635833423585,
          0.8706389999715611,
          0.9338325415737928,
          1.0194906666874886,
          0.8558913749875501,
          null,
          1.2273651666473595,
          1.125017166719772,
          1.0191207918105647,
          1.0413782083196566,
          0.9938944583991542,
          0.9321329582016916,
          0.5723326249280944,
          0.5089937082957476,
          0.5723995416192338,
          0.5935032500419766,
          0.5952828334411606,
          0.5514264166122302,
          0.4891309167724103,
          0.5486268332460895,
          0.5285890834638849,
          null,
          0.5749133750796318,
          0.6796124167740345,
          0.509473416605033,
          0.5304749583592638,
          0.508520666626282,
          0.5507937915390357,
          0.5910486666252837,
          0.7211778332712129,
          0.595148375025019,
          0.6386551250470802,
          0.5932824582559988,
          1.2919044581940398,
          1.1893162915948778,
          null,
          1.1449734583729878,
          1.083557583275251,
          1.0843232916668055,
          0.7928834583144635,
          0.81800058321096,
          0.9232054165331648,
          0.9625700834440069,
          0.6463087500305846,
          1.2166231666924432,
          1.4589906665496528,
          0.8336864582961425,
          1.2506058332510293,
          0.8206717499997467,
          null,
          0.8530406667850912,
          1.0619497916195542,
          0.6084606250515208,
          1.0024048333289102,
          0.7845186250051484,
          0.8412209582747892,
          1.8234750832198188,
          null,
          1.0722342499066144,
          0.8014298334019259,
          1.0360270834062248,
          0.8244796249782667,
          0.8683262083213776,
          0.7615893749753013,
          0.7643507082248107,
          1.015462249983102,
          0.8345132917165756,
          0.9494098334107548,
          1.424803041736595,
          0.7618026667041704,
          0.8291818749858066,
          0.8679572083055973,
          0.7626744167646393,
          0.7419840832008049,
          0.6568310415605083,
          0.74596625007689,
          0.6615126666147262,
          0.8481772083323449,
          0.9742387083824724,
          0.7428177084075287,
          null,
          null,
          0.6786189166596159,
          0.7607332082698122,
          0.846053916728124,
          null,
          0.720719666685909,
          1.0773365000495687,
          0.6809241666924208,
          0.6552469582529739,
          0.8481577084166929,
          0.6810929581988603,
          null,
          0.698916416731663,
          0.6621237084036693,
          0.7212863749591634,
          0.6809670000802726,
          0.4875496249878779,
          0.4451053750235587,
          0.7023472916334867,
          0.5756226249504834,
          0.6352889584377408,
          0.6362693333067,
          0.6710826250491664,
          0.6138718333095312
         ]
        },
        {
         "box": {
          "visible": true
         },
         "jitter": 0.2,
         "legendgroup": "Both",
         "line": {
          "color": "rgba(137, 0, 38, 0.5)"
         },
         "meanline": {
          "visible": true
         },
         "name": "Both",
         "pointpos": 0.5,
         "points": "all",
         "showlegend": true,
         "side": "negative",
         "spanmode": "soft",
         "type": "violin",
         "width": 0.5,
         "x": [
          "Both",
          "Both",
          "Both",
          "Both",
          "Both",
          "Both",
          "Both",
          "Both",
          "Both",
          "Both",
          "Both",
          "Both",
          "Both",
          "Both",
          "Both",
          "Both",
          "Both",
          "Both",
          "Both",
          "Both",
          "Both",
          "Both",
          "Both",
          "Both",
          "Both",
          "Both",
          "Both",
          "Both",
          "Both",
          "Both",
          "Both",
          "Both",
          "Both",
          "Both",
          "Both",
          "Both",
          "Both",
          "Both",
          "Both",
          "Both",
          "Both",
          "Both",
          "Both",
          "Both",
          "Both",
          "Both",
          "Both",
          "Both",
          "Both",
          "Both",
          "Both",
          "Both",
          "Both",
          "Both",
          "Both",
          "Both",
          "Both",
          "Both",
          "Both",
          "Both",
          "Both",
          "Both",
          "Both",
          "Both",
          "Both",
          "Both",
          "Both",
          "Both",
          "Both",
          "Both",
          "Both",
          "Both",
          "Both",
          "Both",
          "Both",
          "Both",
          "Both",
          "Both",
          "Both",
          "Both",
          "Both",
          "Both",
          "Both",
          "Both",
          "Both",
          "Both",
          "Both",
          "Both",
          "Both",
          "Both",
          "Both",
          "Both",
          "Both",
          "Both",
          "Both",
          "Both",
          "Both",
          "Both",
          "Both",
          "Both",
          "Both",
          "Both"
         ],
         "y": [
          0.7760220000054687,
          0.8495483332080767,
          0.6824486665427685,
          null,
          1.0416622917400673,
          0.971537291770801,
          0.9998012916184962,
          0.8779492500470951,
          1.049665250000544,
          null,
          1.062392458319664,
          1.3545532918069512,
          0.9956196666462348,
          null,
          null,
          0.990658541675657,
          0.9845672083320096,
          0.9131303750909864,
          0.9361567500745878,
          1.0157095417380333,
          1.0965280834352598,
          0.8410129999974743,
          0.932636791607365,
          0.8916397499851882,
          0.918364666751586,
          0.890275500016287,
          0.9820963750826196,
          0.8059575833613053,
          0.8687932916218415,
          0.7397586250444874,
          0.7902908334508538,
          0.7811478333314881,
          0.8247603334020823,
          0.6969793334137648,
          0.7627186250174418,
          0.7206384165911004,
          0.7441120415460318,
          0.725237249978818,
          0.6729111250024289,
          null,
          null,
          1.1446207916596904,
          null,
          0.8245939584448934,
          1.117994499974884,
          1.2104901249986142,
          0.975824874942191,
          null,
          0.9148547918302938,
          0.8891948332311586,
          1.0378136249491945,
          1.0161676667630672,
          0.7420671666041017,
          0.5716116250259802,
          0.6132109167519957,
          0.6118592082057148,
          0.74283370829653,
          0.5715004167286679,
          0.614207791746594,
          0.5906059582484886,
          0.6759146667318419,
          0.6123572083888575,
          0.5904893333790824,
          0.5755408749682829,
          0.5699941250495613,
          1.28511824994348,
          1.005105625023134,
          0.8125405416358262,
          0.9596656667999924,
          1.0860724999802187,
          null,
          0.9012589168269188,
          0.9381030416116118,
          0.8710117500741035,
          null,
          1.089973916648887,
          0.7197616666089743,
          null,
          0.8687230418436229,
          0.9489150833105668,
          1.0422883331775663,
          0.80496362503618,
          0.7474667084170505,
          0.9520917916670442,
          0.7612965416628867,
          0.8298160831909627,
          0.7611396249849349,
          0.8347044168040156,
          null,
          0.6537144584581256,
          0.6559349165763706,
          0.7598052499815822,
          null,
          0.6566670832689852,
          0.6992242082487792,
          0.8665300415595993,
          0.9943059999495744,
          0.783957083360292,
          0.7214500000700355,
          0.6360023332526907,
          0.6130002916324884,
          0.6400865834439173
         ]
        },
        {
         "hovertemplate": "Mean: %{y:.3f}s<extra></extra>",
         "line": {
          "color": "rgba(0, 0, 0, 0.7)",
          "width": 8
         },
         "marker": {
          "color": [
           "rgba(252, 96, 47, 1)",
           "rgba(216, 18, 30, 1)",
           "rgba(137, 0, 38, 1)"
          ],
          "line": {
           "color": "black",
           "width": 4
          },
          "size": 14
         },
         "mode": "lines+markers",
         "name": "Mean RT",
         "type": "scatter",
         "x": [
          "Abstraction",
          "Simulation",
          "Both"
         ],
         "y": [
          0.9090200850775242,
          0.8623183798671248,
          0.8460868001036513
         ]
        }
       ],
       "layout": {
        "annotations": [
         {
          "arrowcolor": "black",
          "arrowhead": 2,
          "arrowsize": 1.5,
          "arrowwidth": 3,
          "ax": 120,
          "ay": -90,
          "font": {
           "color": "black",
           "family": "Arial, sans-serif",
           "size": 25
          },
          "showarrow": true,
          "text": "0.909s",
          "x": "Abstraction",
          "y": 0.9090200850775242
         },
         {
          "arrowcolor": "black",
          "arrowhead": 2,
          "arrowsize": 1.5,
          "arrowwidth": 3,
          "ax": 120,
          "ay": -90,
          "font": {
           "color": "black",
           "family": "Arial, sans-serif",
           "size": 25
          },
          "showarrow": true,
          "text": "0.862s",
          "x": "Simulation",
          "y": 0.8623183798671248
         },
         {
          "arrowcolor": "black",
          "arrowhead": 2,
          "arrowsize": 1.5,
          "arrowwidth": 3,
          "ax": 120,
          "ay": -90,
          "font": {
           "color": "black",
           "family": "Arial, sans-serif",
           "size": 25
          },
          "showarrow": true,
          "text": "0.846s",
          "x": "Both",
          "y": 0.8460868001036513
         }
        ],
        "font": {
         "color": "black",
         "family": "Arial, sans-serif",
         "size": 20
        },
        "height": 800,
        "legend": {
         "bordercolor": "White",
         "borderwidth": 2,
         "font": {
          "family": "Arial, sans-serif",
          "size": 18
         },
         "orientation": "h",
         "title": {
          "font": {
           "family": "Arial, sans-serif",
           "size": 18
          },
          "text": "Response Type"
         },
         "x": 0.5,
         "xanchor": "center",
         "y": 1.01,
         "yanchor": "bottom"
        },
        "paper_bgcolor": "white",
        "plot_bgcolor": "white",
        "template": {
         "data": {
          "bar": [
           {
            "error_x": {
             "color": "#2a3f5f"
            },
            "error_y": {
             "color": "#2a3f5f"
            },
            "marker": {
             "line": {
              "color": "#E5ECF6",
              "width": 0.5
             },
             "pattern": {
              "fillmode": "overlay",
              "size": 10,
              "solidity": 0.2
             }
            },
            "type": "bar"
           }
          ],
          "barpolar": [
           {
            "marker": {
             "line": {
              "color": "#E5ECF6",
              "width": 0.5
             },
             "pattern": {
              "fillmode": "overlay",
              "size": 10,
              "solidity": 0.2
             }
            },
            "type": "barpolar"
           }
          ],
          "carpet": [
           {
            "aaxis": {
             "endlinecolor": "#2a3f5f",
             "gridcolor": "white",
             "linecolor": "white",
             "minorgridcolor": "white",
             "startlinecolor": "#2a3f5f"
            },
            "baxis": {
             "endlinecolor": "#2a3f5f",
             "gridcolor": "white",
             "linecolor": "white",
             "minorgridcolor": "white",
             "startlinecolor": "#2a3f5f"
            },
            "type": "carpet"
           }
          ],
          "choropleth": [
           {
            "colorbar": {
             "outlinewidth": 0,
             "ticks": ""
            },
            "type": "choropleth"
           }
          ],
          "contour": [
           {
            "colorbar": {
             "outlinewidth": 0,
             "ticks": ""
            },
            "colorscale": [
             [
              0,
              "#0d0887"
             ],
             [
              0.1111111111111111,
              "#46039f"
             ],
             [
              0.2222222222222222,
              "#7201a8"
             ],
             [
              0.3333333333333333,
              "#9c179e"
             ],
             [
              0.4444444444444444,
              "#bd3786"
             ],
             [
              0.5555555555555556,
              "#d8576b"
             ],
             [
              0.6666666666666666,
              "#ed7953"
             ],
             [
              0.7777777777777778,
              "#fb9f3a"
             ],
             [
              0.8888888888888888,
              "#fdca26"
             ],
             [
              1,
              "#f0f921"
             ]
            ],
            "type": "contour"
           }
          ],
          "contourcarpet": [
           {
            "colorbar": {
             "outlinewidth": 0,
             "ticks": ""
            },
            "type": "contourcarpet"
           }
          ],
          "heatmap": [
           {
            "colorbar": {
             "outlinewidth": 0,
             "ticks": ""
            },
            "colorscale": [
             [
              0,
              "#0d0887"
             ],
             [
              0.1111111111111111,
              "#46039f"
             ],
             [
              0.2222222222222222,
              "#7201a8"
             ],
             [
              0.3333333333333333,
              "#9c179e"
             ],
             [
              0.4444444444444444,
              "#bd3786"
             ],
             [
              0.5555555555555556,
              "#d8576b"
             ],
             [
              0.6666666666666666,
              "#ed7953"
             ],
             [
              0.7777777777777778,
              "#fb9f3a"
             ],
             [
              0.8888888888888888,
              "#fdca26"
             ],
             [
              1,
              "#f0f921"
             ]
            ],
            "type": "heatmap"
           }
          ],
          "heatmapgl": [
           {
            "colorbar": {
             "outlinewidth": 0,
             "ticks": ""
            },
            "colorscale": [
             [
              0,
              "#0d0887"
             ],
             [
              0.1111111111111111,
              "#46039f"
             ],
             [
              0.2222222222222222,
              "#7201a8"
             ],
             [
              0.3333333333333333,
              "#9c179e"
             ],
             [
              0.4444444444444444,
              "#bd3786"
             ],
             [
              0.5555555555555556,
              "#d8576b"
             ],
             [
              0.6666666666666666,
              "#ed7953"
             ],
             [
              0.7777777777777778,
              "#fb9f3a"
             ],
             [
              0.8888888888888888,
              "#fdca26"
             ],
             [
              1,
              "#f0f921"
             ]
            ],
            "type": "heatmapgl"
           }
          ],
          "histogram": [
           {
            "marker": {
             "pattern": {
              "fillmode": "overlay",
              "size": 10,
              "solidity": 0.2
             }
            },
            "type": "histogram"
           }
          ],
          "histogram2d": [
           {
            "colorbar": {
             "outlinewidth": 0,
             "ticks": ""
            },
            "colorscale": [
             [
              0,
              "#0d0887"
             ],
             [
              0.1111111111111111,
              "#46039f"
             ],
             [
              0.2222222222222222,
              "#7201a8"
             ],
             [
              0.3333333333333333,
              "#9c179e"
             ],
             [
              0.4444444444444444,
              "#bd3786"
             ],
             [
              0.5555555555555556,
              "#d8576b"
             ],
             [
              0.6666666666666666,
              "#ed7953"
             ],
             [
              0.7777777777777778,
              "#fb9f3a"
             ],
             [
              0.8888888888888888,
              "#fdca26"
             ],
             [
              1,
              "#f0f921"
             ]
            ],
            "type": "histogram2d"
           }
          ],
          "histogram2dcontour": [
           {
            "colorbar": {
             "outlinewidth": 0,
             "ticks": ""
            },
            "colorscale": [
             [
              0,
              "#0d0887"
             ],
             [
              0.1111111111111111,
              "#46039f"
             ],
             [
              0.2222222222222222,
              "#7201a8"
             ],
             [
              0.3333333333333333,
              "#9c179e"
             ],
             [
              0.4444444444444444,
              "#bd3786"
             ],
             [
              0.5555555555555556,
              "#d8576b"
             ],
             [
              0.6666666666666666,
              "#ed7953"
             ],
             [
              0.7777777777777778,
              "#fb9f3a"
             ],
             [
              0.8888888888888888,
              "#fdca26"
             ],
             [
              1,
              "#f0f921"
             ]
            ],
            "type": "histogram2dcontour"
           }
          ],
          "mesh3d": [
           {
            "colorbar": {
             "outlinewidth": 0,
             "ticks": ""
            },
            "type": "mesh3d"
           }
          ],
          "parcoords": [
           {
            "line": {
             "colorbar": {
              "outlinewidth": 0,
              "ticks": ""
             }
            },
            "type": "parcoords"
           }
          ],
          "pie": [
           {
            "automargin": true,
            "type": "pie"
           }
          ],
          "scatter": [
           {
            "fillpattern": {
             "fillmode": "overlay",
             "size": 10,
             "solidity": 0.2
            },
            "type": "scatter"
           }
          ],
          "scatter3d": [
           {
            "line": {
             "colorbar": {
              "outlinewidth": 0,
              "ticks": ""
             }
            },
            "marker": {
             "colorbar": {
              "outlinewidth": 0,
              "ticks": ""
             }
            },
            "type": "scatter3d"
           }
          ],
          "scattercarpet": [
           {
            "marker": {
             "colorbar": {
              "outlinewidth": 0,
              "ticks": ""
             }
            },
            "type": "scattercarpet"
           }
          ],
          "scattergeo": [
           {
            "marker": {
             "colorbar": {
              "outlinewidth": 0,
              "ticks": ""
             }
            },
            "type": "scattergeo"
           }
          ],
          "scattergl": [
           {
            "marker": {
             "colorbar": {
              "outlinewidth": 0,
              "ticks": ""
             }
            },
            "type": "scattergl"
           }
          ],
          "scattermapbox": [
           {
            "marker": {
             "colorbar": {
              "outlinewidth": 0,
              "ticks": ""
             }
            },
            "type": "scattermapbox"
           }
          ],
          "scatterpolar": [
           {
            "marker": {
             "colorbar": {
              "outlinewidth": 0,
              "ticks": ""
             }
            },
            "type": "scatterpolar"
           }
          ],
          "scatterpolargl": [
           {
            "marker": {
             "colorbar": {
              "outlinewidth": 0,
              "ticks": ""
             }
            },
            "type": "scatterpolargl"
           }
          ],
          "scatterternary": [
           {
            "marker": {
             "colorbar": {
              "outlinewidth": 0,
              "ticks": ""
             }
            },
            "type": "scatterternary"
           }
          ],
          "surface": [
           {
            "colorbar": {
             "outlinewidth": 0,
             "ticks": ""
            },
            "colorscale": [
             [
              0,
              "#0d0887"
             ],
             [
              0.1111111111111111,
              "#46039f"
             ],
             [
              0.2222222222222222,
              "#7201a8"
             ],
             [
              0.3333333333333333,
              "#9c179e"
             ],
             [
              0.4444444444444444,
              "#bd3786"
             ],
             [
              0.5555555555555556,
              "#d8576b"
             ],
             [
              0.6666666666666666,
              "#ed7953"
             ],
             [
              0.7777777777777778,
              "#fb9f3a"
             ],
             [
              0.8888888888888888,
              "#fdca26"
             ],
             [
              1,
              "#f0f921"
             ]
            ],
            "type": "surface"
           }
          ],
          "table": [
           {
            "cells": {
             "fill": {
              "color": "#EBF0F8"
             },
             "line": {
              "color": "white"
             }
            },
            "header": {
             "fill": {
              "color": "#C8D4E3"
             },
             "line": {
              "color": "white"
             }
            },
            "type": "table"
           }
          ]
         },
         "layout": {
          "annotationdefaults": {
           "arrowcolor": "#2a3f5f",
           "arrowhead": 0,
           "arrowwidth": 1
          },
          "autotypenumbers": "strict",
          "coloraxis": {
           "colorbar": {
            "outlinewidth": 0,
            "ticks": ""
           }
          },
          "colorscale": {
           "diverging": [
            [
             0,
             "#8e0152"
            ],
            [
             0.1,
             "#c51b7d"
            ],
            [
             0.2,
             "#de77ae"
            ],
            [
             0.3,
             "#f1b6da"
            ],
            [
             0.4,
             "#fde0ef"
            ],
            [
             0.5,
             "#f7f7f7"
            ],
            [
             0.6,
             "#e6f5d0"
            ],
            [
             0.7,
             "#b8e186"
            ],
            [
             0.8,
             "#7fbc41"
            ],
            [
             0.9,
             "#4d9221"
            ],
            [
             1,
             "#276419"
            ]
           ],
           "sequential": [
            [
             0,
             "#0d0887"
            ],
            [
             0.1111111111111111,
             "#46039f"
            ],
            [
             0.2222222222222222,
             "#7201a8"
            ],
            [
             0.3333333333333333,
             "#9c179e"
            ],
            [
             0.4444444444444444,
             "#bd3786"
            ],
            [
             0.5555555555555556,
             "#d8576b"
            ],
            [
             0.6666666666666666,
             "#ed7953"
            ],
            [
             0.7777777777777778,
             "#fb9f3a"
            ],
            [
             0.8888888888888888,
             "#fdca26"
            ],
            [
             1,
             "#f0f921"
            ]
           ],
           "sequentialminus": [
            [
             0,
             "#0d0887"
            ],
            [
             0.1111111111111111,
             "#46039f"
            ],
            [
             0.2222222222222222,
             "#7201a8"
            ],
            [
             0.3333333333333333,
             "#9c179e"
            ],
            [
             0.4444444444444444,
             "#bd3786"
            ],
            [
             0.5555555555555556,
             "#d8576b"
            ],
            [
             0.6666666666666666,
             "#ed7953"
            ],
            [
             0.7777777777777778,
             "#fb9f3a"
            ],
            [
             0.8888888888888888,
             "#fdca26"
            ],
            [
             1,
             "#f0f921"
            ]
           ]
          },
          "colorway": [
           "#636efa",
           "#EF553B",
           "#00cc96",
           "#ab63fa",
           "#FFA15A",
           "#19d3f3",
           "#FF6692",
           "#B6E880",
           "#FF97FF",
           "#FECB52"
          ],
          "font": {
           "color": "#2a3f5f"
          },
          "geo": {
           "bgcolor": "white",
           "lakecolor": "white",
           "landcolor": "#E5ECF6",
           "showlakes": true,
           "showland": true,
           "subunitcolor": "white"
          },
          "hoverlabel": {
           "align": "left"
          },
          "hovermode": "closest",
          "mapbox": {
           "style": "light"
          },
          "paper_bgcolor": "white",
          "plot_bgcolor": "#E5ECF6",
          "polar": {
           "angularaxis": {
            "gridcolor": "white",
            "linecolor": "white",
            "ticks": ""
           },
           "bgcolor": "#E5ECF6",
           "radialaxis": {
            "gridcolor": "white",
            "linecolor": "white",
            "ticks": ""
           }
          },
          "scene": {
           "xaxis": {
            "backgroundcolor": "#E5ECF6",
            "gridcolor": "white",
            "gridwidth": 2,
            "linecolor": "white",
            "showbackground": true,
            "ticks": "",
            "zerolinecolor": "white"
           },
           "yaxis": {
            "backgroundcolor": "#E5ECF6",
            "gridcolor": "white",
            "gridwidth": 2,
            "linecolor": "white",
            "showbackground": true,
            "ticks": "",
            "zerolinecolor": "white"
           },
           "zaxis": {
            "backgroundcolor": "#E5ECF6",
            "gridcolor": "white",
            "gridwidth": 2,
            "linecolor": "white",
            "showbackground": true,
            "ticks": "",
            "zerolinecolor": "white"
           }
          },
          "shapedefaults": {
           "line": {
            "color": "#2a3f5f"
           }
          },
          "ternary": {
           "aaxis": {
            "gridcolor": "white",
            "linecolor": "white",
            "ticks": ""
           },
           "baxis": {
            "gridcolor": "white",
            "linecolor": "white",
            "ticks": ""
           },
           "bgcolor": "#E5ECF6",
           "caxis": {
            "gridcolor": "white",
            "linecolor": "white",
            "ticks": ""
           }
          },
          "title": {
           "x": 0.05
          },
          "xaxis": {
           "automargin": true,
           "gridcolor": "white",
           "linecolor": "white",
           "ticks": "",
           "title": {
            "standoff": 15
           },
           "zerolinecolor": "white",
           "zerolinewidth": 2
          },
          "yaxis": {
           "automargin": true,
           "gridcolor": "white",
           "linecolor": "white",
           "ticks": "",
           "title": {
            "standoff": 15
           },
           "zerolinecolor": "white",
           "zerolinewidth": 2
          }
         }
        },
        "title": {
         "font": {
          "color": "black",
          "family": "Arial, sans-serif",
          "size": 25
         },
         "text": "Average Reaction Times Across All Subjects\n\n",
         "x": 0.5,
         "y": 0.985
        },
        "violinmode": "overlay",
        "width": 800,
        "xaxis": {
         "linecolor": "black",
         "linewidth": 3,
         "mirror": true,
         "showgrid": false,
         "showline": true,
         "tickfont": {
          "color": "black",
          "family": "Arial, sans-serif",
          "size": 20
         },
         "ticklen": 10,
         "tickmode": "array",
         "ticks": "outside",
         "tickvals": [
          "Abstraction",
          "Simulation",
          "Both"
         ],
         "tickwidth": 3,
         "title": {
          "font": {
           "color": "black",
           "family": "Arial, sans-serif",
           "size": 20
          },
          "text": "Response Type"
         }
        },
        "yaxis": {
         "gridcolor": "lightgray",
         "gridwidth": 1,
         "linecolor": "black",
         "linewidth": 3,
         "mirror": true,
         "showgrid": true,
         "showline": true,
         "tickfont": {
          "color": "black",
          "family": "Arial, sans-serif",
          "size": 20
         },
         "ticklen": 10,
         "ticks": "outside",
         "tickwidth": 3,
         "title": {
          "font": {
           "color": "black",
           "family": "Arial, sans-serif",
           "size": 20
          },
          "text": "Reaction Time (s)"
         }
        }
       }
      }
     },
     "metadata": {},
     "output_type": "display_data"
    }
   ],
   "source": [
    "\n",
    "# Create an empty list to store all data frames\n",
    "all_data = []\n",
    "\n",
    "# Define types and their colors\n",
    "types = ['Abstraction', 'Simulation', 'Both']\n",
    "\n",
    "# Generate a colormap\n",
    "cmap = plt.get_cmap('YlOrRd')  # You can choose a different colormap if you prefer\n",
    "col_factor = 50\n",
    "col_icept = 150\n",
    "# Create the colors dictionary\n",
    "type_colors = {name: f'rgba({int(cmap(i*col_factor + col_icept)[0]*255)}, {int(cmap(i*col_factor + col_icept)[1]*255)}, {int(cmap(i*col_factor + col_icept)[2]*255)}, 0.5)' \n",
    "          for i, name in enumerate(types)}\n",
    "\n",
    "# Loop through all subjects (using the same structure as your original code)\n",
    "for sub_name in all_sub_names:\n",
    "    sub = get_data(subject=f\"sub-{sub_name}\", task=\"ball_hue\")\n",
    "    # Get your data as before\n",
    "    rt_dubs = get_rt(sub, hypothesis=\"both\", include_dubtrials=\"only\", return_df=True)\n",
    "    rt_separate = get_rt(sub, hypothesis=\"both\", include_dubtrials=False, return_df=True)\n",
    "    sim_rt = rt_separate[\"simulation\"][\"rt\"]\n",
    "    abs_rt = rt_separate[\"abstraction\"][\"rt\"]\n",
    "    both_rt = rt_dubs[\"sim + abs\"][\"rt\"]\n",
    "    \n",
    "    # Create DataFrames without subject column - we'll aggregate across all subjects\n",
    "    sim_df = pd.DataFrame({\n",
    "        'Reaction Time': sim_rt,\n",
    "        'Type': 'Simulation'\n",
    "    })\n",
    "    \n",
    "    abs_df = pd.DataFrame({\n",
    "        'Reaction Time': abs_rt,\n",
    "        'Type': 'Abstraction'\n",
    "    })\n",
    "    \n",
    "    both_df = pd.DataFrame({\n",
    "        'Reaction Time': both_rt,\n",
    "        'Type': 'Both'\n",
    "    })\n",
    "    \n",
    "    # Append all DataFrames to our list\n",
    "    all_data.extend([abs_df, sim_df, both_df])\n",
    "\n",
    "# Combine all the data into a single DataFrame\n",
    "combined_data = pd.concat(all_data, ignore_index=True)\n",
    "\n",
    "# Calculate mean reaction time for each type\n",
    "type_means = combined_data.groupby('Type')['Reaction Time'].mean().to_dict()\n",
    "\n",
    "# Create the plot\n",
    "fig = go.Figure()\n",
    "\n",
    "# Add violin plots for each type\n",
    "for i, type_name in enumerate(types):\n",
    "    subset = combined_data[combined_data['Type'] == type_name]\n",
    "    \n",
    "    fig.add_trace(go.Violin(\n",
    "        x=[type_name] * len(subset),  # Use type name directly as x value\n",
    "        y=subset['Reaction Time'],\n",
    "        name=type_name,\n",
    "        legendgroup=type_name,\n",
    "        showlegend=True,\n",
    "        box_visible=True,\n",
    "        meanline_visible=True,\n",
    "        points='all',\n",
    "        jitter=0.2,\n",
    "        pointpos=0.5,\n",
    "        line_color=type_colors[type_name],\n",
    "        side='negative',\n",
    "        width=.5,\n",
    "        spanmode='soft'\n",
    "    ))\n",
    "\n",
    "# Connect the means with a line\n",
    "fig.add_trace(go.Scatter(\n",
    "    x=types,\n",
    "    y=[type_means[t] for t in types],\n",
    "    mode='lines+markers',\n",
    "    line=dict(color='rgba(0, 0, 0, 0.7)', width=8),\n",
    "    marker=dict(\n",
    "        size=14,  # Increased marker size\n",
    "        color=[type_colors[t].replace('0.5', '1') for t in types],\n",
    "        line=dict(color='black', width=4)\n",
    "    ),\n",
    "    name='Mean RT',\n",
    "    hovertemplate='Mean: %{y:.3f}s<extra></extra>'\n",
    "))\n",
    "\n",
    "# Define a common font style for consistent text appearance\n",
    "font_style = dict(\n",
    "    family=\"Arial, sans-serif\",\n",
    "    size=20,  # Larger font size\n",
    "    color=\"black\"\n",
    ")\n",
    "\n",
    "# Update layout with enhanced text styling\n",
    "fig.update_layout(\n",
    "    title=dict(\n",
    "        text=\"Average Reaction Times Across All Subjects\\n\\n\",\n",
    "        font=dict(size=25, family=\"Arial, sans-serif\", color=\"black\"),\n",
    "        x=0.5,\n",
    "        y=.985\n",
    "    ),\n",
    "    yaxis=dict(\n",
    "        title=dict(\n",
    "            text=\"Reaction Time (s)\",\n",
    "            font=font_style\n",
    "        ),\n",
    "        tickfont=font_style,\n",
    "        tickwidth=2,\n",
    "        showline=True,\n",
    "        linewidth=3,\n",
    "        linecolor='black'\n",
    "    ),\n",
    "    xaxis=dict(\n",
    "        title=dict(\n",
    "            text=\"Response Type\",\n",
    "            font=font_style\n",
    "        ),\n",
    "        tickmode='array',\n",
    "        tickvals=types,\n",
    "        tickfont=font_style,\n",
    "        tickwidth=2,\n",
    "        showline=True,\n",
    "        linewidth=3,\n",
    "        linecolor='black'\n",
    "    ),\n",
    "    legend=dict(\n",
    "        orientation=\"h\",\n",
    "        yanchor=\"bottom\",\n",
    "        y=1.01,\n",
    "        xanchor=\"center\",\n",
    "        x=0.5,\n",
    "        font=dict(size=18, family=\"Arial, sans-serif\"),\n",
    "        borderwidth=2,\n",
    "        bordercolor=\"White\",\n",
    "        title=dict(\n",
    "            text=\"Response Type\",\n",
    "            font=dict(size=18, family=\"Arial, sans-serif\")\n",
    "        )\n",
    "    ),\n",
    "    violinmode='overlay',\n",
    "    # height=1200,\n",
    "    # width=1200,\n",
    "    height=800,\n",
    "    width=800,\n",
    "    font=font_style,  # Default font for all other text elements\n",
    "    plot_bgcolor='white',\n",
    "    paper_bgcolor='white'\n",
    ")\n",
    "\n",
    "# Add annotations for the mean values\n",
    "for i, type_name in enumerate(types):\n",
    "    fig.add_annotation(\n",
    "        x=type_name,\n",
    "        y=type_means[type_name],\n",
    "        text=f\"{type_means[type_name]:.3f}s\",\n",
    "        showarrow=True,\n",
    "        arrowhead=2,\n",
    "        arrowsize=1.5,  # Slightly larger arrowhead\n",
    "        arrowwidth=3,    # Thicker arrow\n",
    "        arrowcolor='black',\n",
    "        ax=120,\n",
    "        ay=-90,\n",
    "        font=dict(size=25, color='black', family=\"Arial, sans-serif\")\n",
    "    )\n",
    "\n",
    "# Make the axis lines thicker\n",
    "fig.update_xaxes(mirror=True, ticks='outside', tickwidth=3, ticklen=10, showgrid=False)\n",
    "fig.update_yaxes(mirror=True, ticks='outside', tickwidth=3, ticklen=10, showgrid=True, gridwidth=1, gridcolor='lightgray')\n",
    "\n",
    "fig.show()"
   ]
  }
 ],
 "metadata": {
  "kernelspec": {
   "display_name": "wieg_env_nsd",
   "language": "python",
   "name": "python3"
  },
  "language_info": {
   "codemirror_mode": {
    "name": "ipython",
    "version": 3
   },
   "file_extension": ".py",
   "mimetype": "text/x-python",
   "name": "python",
   "nbconvert_exporter": "python",
   "pygments_lexer": "ipython3",
   "version": "3.11.8"
  }
 },
 "nbformat": 4,
 "nbformat_minor": 2
}
