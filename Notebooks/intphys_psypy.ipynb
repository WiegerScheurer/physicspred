{
 "cells": [
  {
   "cell_type": "code",
   "execution_count": 1,
   "metadata": {},
   "outputs": [],
   "source": [
    "import sys\n",
    "import os\n",
    "import psychopy"
   ]
  },
  {
   "cell_type": "code",
   "execution_count": 2,
   "metadata": {},
   "outputs": [],
   "source": [
    "import numpy as np\n",
    "import matplotlib.pyplot as plt"
   ]
  },
  {
   "cell_type": "code",
   "execution_count": 3,
   "metadata": {},
   "outputs": [],
   "source": [
    "sys.path.append(\n",
    "    \"/Users/wiegerscheurer/repos/physicspred\"\n",
    ")  # To enable importing from repository folders\n",
    "\n",
    "from functions.utilities import determine_sequence"
   ]
  },
  {
   "cell_type": "code",
   "execution_count": 9,
   "metadata": {},
   "outputs": [],
   "source": [
    "n_trials = 100\n",
    "\n",
    "# Define the options for trial parameters\n",
    "trial_options = [\"45\", \"135\", \"none\"]\n",
    "edge_options = [\"up\", \"down\", \"left\", \"right\"]\n",
    "bounce_options = [True, False]\n",
    "rand_bounce_direction_options = [\"left\", \"right\"]\n",
    "ball_change_options = [True, False]\n",
    "rand_speed_change_options = [\"slower\", \"faster\"]\n",
    "\n",
    "# Create deterministically randomised; balanced parameter sequences\n",
    "trials = determine_sequence(n_trials, trial_options, randomised=True)\n",
    "edges = determine_sequence(n_trials, edge_options, randomised=True)\n",
    "bounces = determine_sequence(n_trials, bounce_options, randomised=True)\n",
    "rand_bounce_directions = determine_sequence(n_trials, rand_bounce_direction_options, randomised=True)\n",
    "ball_changes = determine_sequence(n_trials, ball_change_options, randomised=True)\n",
    "rand_speed_changes = determine_sequence(n_trials, rand_speed_change_options, randomised=True)\n"
   ]
  },
  {
   "cell_type": "code",
   "execution_count": 10,
   "metadata": {},
   "outputs": [],
   "source": [
    "def count_list_types(list):\n",
    "    return {i: list.count(i) for i in list}"
   ]
  },
  {
   "cell_type": "code",
   "execution_count": 56,
   "metadata": {},
   "outputs": [
    {
     "name": "stdout",
     "output_type": "stream",
     "text": [
      "    trial interactor  bounce  bounce_moment random_bounce_direction  \\\n",
      "0       1       none   False            NaN                     NaN   \n",
      "1       2         45   False            NaN                     NaN   \n",
      "2       3        135    True       7.580126                     NaN   \n",
      "3       4       none   False            NaN                     NaN   \n",
      "4       5        135    True       7.466881                     NaN   \n",
      "..    ...        ...     ...            ...                     ...   \n",
      "67      2       none   False            NaN                     NaN   \n",
      "68      3       none    True       4.828096                   right   \n",
      "69      4       none   False            NaN                     NaN   \n",
      "70      5       none    True       4.847451                   right   \n",
      "71      6       none    True       4.826314                    left   \n",
      "\n",
      "    target_onset speed_change  ball_change  abs_congruent  sim_congruent  ...  \\\n",
      "0       8.180088       faster         True           True           True  ...   \n",
      "1            NaN          NaN        False           True          False  ...   \n",
      "2            NaN          NaN        False          False           True  ...   \n",
      "3       8.296202       faster         True           True           True  ...   \n",
      "4            NaN          NaN        False          False           True  ...   \n",
      "..           ...          ...          ...            ...            ...  ...   \n",
      "67           NaN          NaN        False           True           True  ...   \n",
      "68           NaN          NaN        False          False          False  ...   \n",
      "69           NaN          NaN        False           True           True  ...   \n",
      "70      5.376534       faster         True          False          False  ...   \n",
      "71      5.386308       slower         True          False          False  ...   \n",
      "\n",
      "   start_pos end_pos  abs_rfup abs_rfright abs_rfdown abs_rfleft sim_rfup  \\\n",
      "0       down      up    (1, 1)      (0, 0)     (0, 0)     (0, 0)   (1, 1)   \n",
      "1       down      up    (1, 1)      (0, 0)     (0, 0)     (0, 0)   (0, 1)   \n",
      "2      right      up    (0, 1)      (0, 0)     (0, 0)     (1, 0)   (1, 1)   \n",
      "3       down      up    (1, 1)      (0, 0)     (0, 0)     (0, 0)   (1, 1)   \n",
      "4         up   right    (0, 0)      (0, 1)     (1, 0)     (0, 0)   (0, 0)   \n",
      "..       ...     ...       ...         ...        ...        ...      ...   \n",
      "67     right    left    (0, 0)      (0, 0)     (0, 0)     (1, 1)   (0, 0)   \n",
      "68      down   right    (1, 0)      (0, 1)     (0, 0)     (0, 0)   (1, 0)   \n",
      "69      left   right    (0, 0)      (1, 1)     (0, 0)     (0, 0)   (0, 0)   \n",
      "70     right      up    (0, 1)      (0, 0)     (0, 0)     (1, 0)   (0, 1)   \n",
      "71      down    left    (1, 0)      (0, 0)     (0, 0)     (0, 1)   (1, 0)   \n",
      "\n",
      "   sim_rfright sim_rfdown sim_rfleft  \n",
      "0       (0, 0)     (0, 0)     (0, 0)  \n",
      "1       (1, 0)     (0, 0)     (0, 0)  \n",
      "2       (0, 0)     (0, 0)     (0, 0)  \n",
      "3       (0, 0)     (0, 0)     (0, 0)  \n",
      "4       (1, 1)     (0, 0)     (0, 0)  \n",
      "..         ...        ...        ...  \n",
      "67      (0, 0)     (0, 0)     (1, 1)  \n",
      "68      (0, 1)     (0, 0)     (0, 0)  \n",
      "69      (1, 1)     (0, 0)     (0, 0)  \n",
      "70      (0, 0)     (0, 0)     (1, 0)  \n",
      "71      (0, 0)     (0, 0)     (0, 1)  \n",
      "\n",
      "[72 rows x 23 columns]\n"
     ]
    }
   ],
   "source": [
    "import os\n",
    "import pandas as pd\n",
    "\n",
    "file_stack = []\n",
    "datafiles = os.listdir(\"/Users/wiegerscheurer/repos/physicspred/data/subject_stront/task_01\")\n",
    "for file in datafiles:\n",
    "    if file.endswith(\".csv\"):\n",
    "        this_file = pd.read_csv(\"/Users/wiegerscheurer/repos/physicspred/data/subject_stront/task_01/\" + file)\n",
    "        file_stack.append(this_file)\n",
    "\n",
    "# Concatenate all DataFrames in the list into a single DataFrame\n",
    "combined_df = pd.concat(file_stack, ignore_index=True)\n",
    "\n",
    "# Now combined_df contains all the data from the CSV files\n",
    "print(combined_df)"
   ]
  },
  {
   "cell_type": "markdown",
   "metadata": {},
   "source": [
    "### On what basis to filter?\n",
    "### Accuracy for targets, but also number of false positives (respond when no change)\n",
    "### Both are indicative of how well someone has simulated\n",
    "### But not sure if you should include them in both, or combine them, in what way\n",
    "### I guess you could just add the trials where you've responded wrongly to the missed targets for a category\n",
    "### But this I should discuss with micha and floris\n",
    "### Because in a sense every non-response when there's no target is also a good percept\n",
    "### So first just look at the target present trials"
   ]
  },
  {
   "cell_type": "code",
   "execution_count": 66,
   "metadata": {},
   "outputs": [
    {
     "name": "stdout",
     "output_type": "stream",
     "text": [
      "simulation = 0.7692307692307693\n",
      "abstraction = 0.8333333333333334\n"
     ]
    }
   ],
   "source": [
    "def target_hits(df):\n",
    "    \"\"\"Compute the accuracy of detected targets in trials congruent with\n",
    "    either simulated or abstracted spatiotemporal predictions.\n",
    "\n",
    "    Args:\n",
    "        df (pd.dataframe): The data\n",
    "    \"\"\"    \n",
    "    # Filter rows where there was a target\n",
    "    hypotheses = [\"simulation\", \"abstraction\"]\n",
    "    for hypothesis in hypotheses:\n",
    "        other_hypothesis = [h for h in hypotheses if h != hypothesis][0]\n",
    "        filtered_df = df[\n",
    "            (df['ball_change'] == True) & \n",
    "            (df[hypothesis[:3] + '_congruent'] == True) & \n",
    "            (~df[other_hypothesis[:3] + '_congruent'])\n",
    "        ]\n",
    "\n",
    "        # Select the accuracy column from the filtered DataFrame\n",
    "        accuracy_values = filtered_df['accuracy']\n",
    "\n",
    "        # print(accuracy_values)\n",
    "\n",
    "        print(f\"{hypothesis} = {np.mean(accuracy_values)}\")\n",
    "        \n",
    "def overall_accuracy(df):\n",
    "    \"\"\"Compute the accuracy of detected targets in trials congruent with\n",
    "    either simulated or abstracted spatiotemporal predictions.\n",
    "\n",
    "    Args:\n",
    "        df (pd.dataframe): The data\n",
    "    \"\"\"    \n",
    "    # Filter rows where there was a target\n",
    "    hypotheses = [\"simulation\", \"abstraction\"]\n",
    "    for hypothesis in hypotheses:\n",
    "        other_hypothesis = [h for h in hypotheses if h != hypothesis][0]\n",
    "        filtered_df = df[\n",
    "            (df[hypothesis[:3] + '_congruent'] == True) & \n",
    "            (~df[other_hypothesis[:3] + '_congruent'])\n",
    "        ]\n",
    "\n",
    "        # Select the accuracy column from the filtered DataFrame\n",
    "        accuracy_values = filtered_df['accuracy']\n",
    "\n",
    "        # print(accuracy_values)\n",
    "\n",
    "        print(f\"{hypothesis} = {np.mean(accuracy_values)}\")\n",
    "        \n",
    "        \n",
    "target_hits(combined_df)\n"
   ]
  },
  {
   "cell_type": "code",
   "execution_count": 65,
   "metadata": {},
   "outputs": [
    {
     "name": "stdout",
     "output_type": "stream",
     "text": [
      "simulation = 0.6774193548387096\n",
      "abstraction = 0.6923076923076923\n"
     ]
    },
    {
     "name": "stderr",
     "output_type": "stream",
     "text": [
      "/var/folders/3n/yy1xjnlj5zd3nt4r1202183h0000gn/T/ipykernel_35529/639964880.py:4: FutureWarning: Downcasting object dtype arrays on .fillna, .ffill, .bfill is deprecated and will change in a future version. Call result.infer_objects(copy=False) instead. To opt-in to the future behavior, set `pd.set_option('future.no_silent_downcasting', True)`\n",
      "  new_df[\"accuracy\"] = new_df[\"accuracy\"].fillna(True)\n"
     ]
    }
   ],
   "source": [
    "new_df = combined_df.copy()\n",
    "\n",
    "# TUrn all accuracy values that are NaN into True\n",
    "new_df[\"accuracy\"] = new_df[\"accuracy\"].fillna(True)\n",
    "# new_df[new_df[\"accuracy\"]]\n",
    "\n",
    "new_df\n",
    "\n",
    "overall_accuracy(new_df)\n"
   ]
  },
  {
   "cell_type": "code",
   "execution_count": 42,
   "metadata": {},
   "outputs": [
    {
     "name": "stdout",
     "output_type": "stream",
     "text": [
      "simulation=0.7692307692307693\n",
      "abstraction=0.8333333333333334\n"
     ]
    }
   ],
   "source": [
    "import numpy as np\n",
    "\n",
    "# Assuming combined_df is your DataFrame\n",
    "# Filter rows where ball_change is True and sim_congruent is True\n",
    "hypotheses = [\"simulation\", \"abstraction\"]\n",
    "for hypothesis in hypotheses:\n",
    "    other_hypothesis = [h for h in hypotheses if h != hypothesis][0]\n",
    "    filtered_df = combined_df[\n",
    "        (combined_df['ball_change'] == True) & \n",
    "        (combined_df[hypothesis[:3] + '_congruent'] == True) & \n",
    "        (~combined_df[other_hypothesis[:3] + '_congruent'])\n",
    "    ]\n",
    "\n",
    "    # Select the accuracy column from the filtered DataFrame\n",
    "    accuracy_values = filtered_df['accuracy']\n",
    "\n",
    "    # print(accuracy_values)\n",
    "\n",
    "    print(f\"{hypothesis}={np.mean(accuracy_values)}\")"
   ]
  },
  {
   "cell_type": "code",
   "execution_count": 11,
   "metadata": {},
   "outputs": [
    {
     "data": {
      "text/plain": [
       "{'none': 33, '135': 33, '45': 34}"
      ]
     },
     "execution_count": 11,
     "metadata": {},
     "output_type": "execute_result"
    }
   ],
   "source": [
    "count_list_types(trials)"
   ]
  },
  {
   "cell_type": "code",
   "execution_count": 52,
   "metadata": {},
   "outputs": [],
   "source": [
    "# def compute_rfpreds(hypothesis:str, interactor:str | None, start_pos:str, end_pos:str):\n",
    "#     # h_extremes = [\"left\", \"right\"]\n",
    "#     # v_extremes = [\"top\", \"down\"]\n",
    "#     directions = {\"top\": \"v\",\n",
    "#                   \"right\": \"h\", \n",
    "#                   \"down\": \"v\", \n",
    "#                   \"left\": \"h\"}\n",
    "    \n",
    "    \n",
    "#     if hypothesis == \"abs\":\n",
    "#         if directions[start_pos] == directions[end_pos]:\n",
    "            \n",
    "\n",
    "#     pass\n",
    "\n",
    "locations = {\"top\": (0, 1),\n",
    "              \"right\": (1, 2), \n",
    "              \"down\": (2, 1),\n",
    "              \"left\": (1, 0)}\n",
    "\n",
    "# derivatives, or row and column changes (y, x)\n",
    "top_direction = (1, 0)\n",
    "right_direction = (0, 1)\n",
    "down_direction = (-1, 0)\n",
    "left_direction = (0, -1)\n",
    "\n",
    "\n",
    "\n",
    "\n",
    "\n",
    "# This should be possible with computation\n",
    "# RAW lookup table:\n",
    "path_conversion = {\n",
    "    \"start_pos\": [\"top\", \"right\", \"down\", \"left\"],\n",
    "    \"45\": [\"left\", \"down\", \"right\", \"top\"], \n",
    "    \"135\": [\"right\", \"top\", \"left\", \"down\"],\n",
    "}\n",
    "\n",
    "coords = np.zeros((3,3))\n",
    "\n",
    "coords[0, 1] = 1\n",
    "\n",
    "coords[2,1] = 2\n",
    "\n",
    "# def direction_change(start_pos:str, interactor:str | None):\n",
    "    \n",
    "\n",
    "# plt.imshow(coords, extent=[0, 3, 0, 3])\n",
    "\n",
    "# plt.imshow(coords)\n",
    "\n",
    "# coords"
   ]
  },
  {
   "cell_type": "code",
   "execution_count": 222,
   "metadata": {},
   "outputs": [],
   "source": [
    "def _dir_to_vec(direction:str) -> tuple:\n",
    "    \"\"\"Turn direction string into vector representation\n",
    "    Args:\n",
    "        direction (str): The direction string\n",
    "    Returns:\n",
    "        tuple: The vector representation in row,column (y,x)\n",
    "    \"\"\"    \n",
    "    directions = {\"top\": (1, 0),\n",
    "              \"right\": (0, 1), \n",
    "              \"down\": (-1, 0),\n",
    "              \"left\": (0, -1)}\n",
    "    \n",
    "    return directions[direction]\n",
    "\n",
    "def _vec_to_dir(vector:tuple) -> str:\n",
    "    \"\"\"Turn vector representation into direction string\n",
    "    Args:\n",
    "        vector (tuple): The vector representation in row,column (y,x)\n",
    "    Returns:\n",
    "        str: The direction string\n",
    "    \"\"\"    \n",
    "    vectors = {(1, 0): \"top\",\n",
    "              (0, 1): \"right\", \n",
    "              (-1, 0): \"down\",\n",
    "              (0, -1): \"left\"}\n",
    "    \n",
    "    return vectors[vector]\n",
    "\n",
    "\n",
    "## Not really needed though\n",
    "def _dir_to_loc(direction:str) -> tuple:\n",
    "    \"\"\"Turn direction string into location representation\n",
    "    Args:\n",
    "        direction (str): The direction string\n",
    "    Returns:\n",
    "        tuple: The location representation in row,column (y,x)\n",
    "    \"\"\"    \n",
    "    locations = {\"top\": (0, 1),\n",
    "              \"right\": (1, 2), \n",
    "              \"down\": (2, 1),\n",
    "              \"left\": (1, 0)}\n",
    "    \n",
    "    return locations[direction]\n",
    "\n",
    "def _startpos_to_dir(start_pos:str) -> str:\n",
    "    \"\"\"Turn start position string into direction string\n",
    "    Args:\n",
    "        start_pos (str): The start position string\n",
    "    Returns:\n",
    "        str: The direction string\n",
    "    \"\"\"    \n",
    "    startpos = {\"top\": \"down\",\n",
    "                \"right\": \"left\",\n",
    "                \"down\": \"top\",\n",
    "                \"left\": \"right\"}\n",
    "    \n",
    "    return startpos[start_pos]\n",
    "\n",
    "def _rotate_90(start_direction, left_or_right):\n",
    "    \"\"\"\n",
    "    Rotate a 2D vector by 90 degrees in the specified direction.\n",
    "    \n",
    "    Args:\n",
    "        start_direction (tuple): The initial direction vector as a tuple of two elements.\n",
    "        left_or_right (str): The direction to rotate, either \"left\" or \"right\".\n",
    "    \n",
    "    Returns:\n",
    "        tuple: The rotated direction vector as a tuple of two elements (y, x) or (row, column).\n",
    "    \"\"\"\n",
    "    if type(start_direction) != tuple:\n",
    "        start_direction = _dir_to_vec(start_direction)\n",
    "    \n",
    "    # Define the rotation matrix for 90 degrees\n",
    "    rotation_matrix_90 = np.array([[0, -1], [1, 0]])\n",
    "    rotation_matrix_270 = np.array([[0, 1], [-1, 0]])\n",
    "\n",
    "    towards = {\"left\": rotation_matrix_270,\n",
    "               \"right\": rotation_matrix_90}\n",
    "\n",
    "    # Convert the direction tuple to a numpy array\n",
    "    direction_vector = np.array(start_direction)\n",
    "    \n",
    "    # Perform the matrix multiplication to rotate the vector\n",
    "    rotated_vector = np.dot(towards[left_or_right], direction_vector)\n",
    "    # Convert the result back to a tuple and return\n",
    "    return tuple(rotated_vector)\n",
    "\n",
    "def _flip_dir(direction: str | tuple) -> str | tuple:\n",
    "    \"\"\"Where does the ball end up, given a direction? Assuming a continuous path, so no collision anymore.\n",
    "        This basically just flips the direction value to the opposite on the relevant axis.\n",
    "\n",
    "    Args:\n",
    "        direction (str | tuple): Where does the ball go?\n",
    "\n",
    "    Returns:\n",
    "        str | tuple: The opposite point of the field.\n",
    "    \"\"\"    \n",
    "    if isinstance(direction, str):\n",
    "        flipped_dir = _vec_to_dir(tuple(dir_axis * -1 for dir_axis in _dir_to_vec(direction)))\n",
    "    elif isinstance(direction, tuple):\n",
    "        flipped_dir = tuple(dir_axis * -1 for dir_axis in direction)\n",
    "    else:\n",
    "        raise ValueError(\"Direction must be either a string or a tuple\")\n",
    "    \n",
    "    return flipped_dir\n",
    "\n",
    "def _bounce_ball(start_direction: str, interactor: str):\n",
    "    \"\"\"\n",
    "    Bounces a ball based on the start direction and the type of interactor.\n",
    "\n",
    "    Parameters:\n",
    "    start_direction (str): The initial direction of the ball.\n",
    "    interactor (str): The type of interactor.\n",
    "\n",
    "    Returns:\n",
    "    str: The new direction of the ball after bouncing.\n",
    "\n",
    "    \"\"\"\n",
    "    # if interactor == \"none\":\n",
    "    #     end_direction = tuple(dir_axis * -1 for dir_axis in _dir_to_vec(start_direction)) # Flip direction to get endpoint\n",
    "    if interactor == \"45\":\n",
    "        relative_direction = \"left\" if start_direction in [\"right\", \"left\"] else \"right\"\n",
    "        end_loc = _rotate_90(start_direction=start_direction, left_or_right=relative_direction)\n",
    "    elif interactor == \"135\":\n",
    "        relative_direction = \"left\" if start_direction in [\"top\", \"down\"] else \"right\"\n",
    "        end_loc = _rotate_90(start_direction=start_direction, left_or_right=relative_direction)\n",
    "    else:\n",
    "        end_loc = _dir_to_vec(start_direction) # When no interactor, ball ends up in the same direction\n",
    "        \n",
    "    end_direction = _flip_dir(end_loc)\n",
    "    \n",
    "    return _vec_to_dir(end_direction)\n",
    "    \n",
    "# def predict_ball_path(hypothesis:str, interactor:str, start_pos:str, end_pos:str):\n",
    "#     \"\"\"\n",
    "#     Predict the path of a ball based on the given parameters.\n",
    "    \n",
    "#     Args:\n",
    "#         predictor (str): The predictor hypothesis, either \"abs\" or \"rel\".\n",
    "#         interactor (str): The interactor hypothesis, either \"none\" or \"abs\".\n",
    "#         start_pos (str): The starting position of the ball.\n",
    "#         end_pos (str): The ending position of the ball.\n",
    "    \n",
    "#     Returns:\n",
    "#         list: A list of tuples representing the path of the ball.\n",
    "#     \"\"\"\n",
    "#     pred_to_input = {\"top\": [0],\n",
    "#                      \"right\": [0],\n",
    "#                      \"down\": [0],\n",
    "#                      \"left\": [0]}\n",
    "    \n",
    "#     # NOTE: Predictions are about the ball direction AFTER collision, so it's 0 for start positions\n",
    "#     if hypothesis == \"abs\":\n",
    "#         pred_to_input[_flip_dir(start_pos)] = [1] # Opposite of start position\n",
    "        \n",
    "#     elif hypothesis == \"sim\":\n",
    "#         # NOTE: flip_dir is used to get the ball direction based on the start location\n",
    "#         predicted_dir = _bounce_ball(start_direction=_flip_dir(start_pos), interactor=interactor)\n",
    "#         predicted_endloc = _flip_dir(predicted_dir) # Flip direction to get endpoint\n",
    "#         pred_to_input[predicted_endloc] = [1]\n",
    "        \n",
    "#     for receptive_field in pred_to_input.keys():\n",
    "#         print(receptive_field)\n",
    "#         pred_to_input[receptive_field].append(0) # Add column for sensory input\n",
    "#     pred_to_input[end_pos][1] = 1 # Change to 1 for end position\n",
    "    \n",
    "#     return pred_to_input\n",
    "\n",
    "\n",
    "import matplotlib.pyplot as plt\n",
    "\n",
    "def plot_positions(start_pos, end_pos, pred_to_input, interactor):\n",
    "    positions = {\"top\": (0, 1), \"right\": (1, 0), \"down\": (0, -1), \"left\": (-1, 0)}\n",
    "    \n",
    "    fig, ax = plt.subplots()\n",
    "    ax.set_xlim(-1.5, 1.5)\n",
    "    ax.set_ylim(-1.5, 1.5)\n",
    "    \n",
    "    # Plot start position\n",
    "    start_coords = positions[start_pos]\n",
    "    ax.plot(start_coords[0], start_coords[1], 'go', markersize=10, label='Start Position', alpha=.5)\n",
    "    \n",
    "    # Plot end position\n",
    "    end_coords = positions[end_pos]\n",
    "    ax.plot(end_coords[0], end_coords[1], 'ro', markersize=10, label='End Position', alpha=.5)\n",
    "    \n",
    "    # Plot predicted positions\n",
    "    for pos, value in pred_to_input.items():\n",
    "        if value[0] == 1:\n",
    "            pred_coords = positions[pos]\n",
    "            ax.plot(pred_coords[0], pred_coords[1], 'bo', markersize=10, label='Predicted Position', alpha=.5)\n",
    "    \n",
    "    # Add diagonal stripe based on interactor value\n",
    "    if interactor == \"45\":\n",
    "        ax.plot([-.2, .2], [-.2, .2], 'k-', label='45° interactor')\n",
    "    elif interactor == \"135\":\n",
    "        ax.plot([-.2, .2], [.2, -.2], 'k-', label='135° interactor')\n",
    "    \n",
    "    ax.legend()\n",
    "    ax.axis(\"off\")\n",
    "    plt.show()\n",
    "\n",
    "def predict_ball_path(hypothesis: str, interactor: str, start_pos: str, end_pos: str, plot: bool = False):\n",
    "    \"\"\"\n",
    "    Predict the path of a ball based on the given parameters.\n",
    "    \n",
    "    Args:\n",
    "        hypothesis (str): The predictor hypothesis, either \"abs\" or \"rel\".\n",
    "        interactor (str): The interactor hypothesis, either \"none\" or \"abs\".\n",
    "        start_pos (str): The starting position of the ball.\n",
    "        end_pos (str): The ending position of the ball.\n",
    "        plot (bool): Whether to plot the positions or not.\n",
    "    \n",
    "    Returns:\n",
    "        dict: A dictionary representing the path of the ball.\n",
    "    \"\"\"\n",
    "    pred_to_input = {\"top\": [0],\n",
    "                     \"right\": [0],\n",
    "                     \"down\": [0],\n",
    "                     \"left\": [0]}\n",
    "    \n",
    "    # NOTE: Predictions are about the ball direction AFTER collision, so it's 0 for start positions\n",
    "    if hypothesis == \"abs\":\n",
    "        pred_to_input[_flip_dir(start_pos)] = [1] # Opposite of start position\n",
    "        \n",
    "    elif hypothesis == \"sim\":\n",
    "        # NOTE: flip_dir is used to get the ball direction based on the start location\n",
    "        predicted_dir = _bounce_ball(start_direction=_flip_dir(start_pos), interactor=interactor)\n",
    "        predicted_endloc = _flip_dir(predicted_dir) # Flip direction to get endpoint\n",
    "        pred_to_input[predicted_endloc] = [1]\n",
    "        \n",
    "    for receptive_field in pred_to_input.keys():\n",
    "        print(receptive_field)\n",
    "        pred_to_input[receptive_field].append(0) # Add column for sensory input\n",
    "    pred_to_input[end_pos][1] = 1 # Change to 1 for end position\n",
    "    \n",
    "    if plot:\n",
    "        plot_positions(start_pos, end_pos, pred_to_input, interactor)\n",
    "    \n",
    "    return pred_to_input\n",
    "        "
   ]
  },
  {
   "cell_type": "code",
   "execution_count": 243,
   "metadata": {},
   "outputs": [],
   "source": [
    "import matplotlib.pyplot as plt\n",
    "\n",
    "def plot_positions(start_pos, end_pos, pred_to_input, interactor):\n",
    "    positions = {\"top\": (0, 1), \"right\": (1, 0), \"down\": (0, -1), \"left\": (-1, 0)}\n",
    "    \n",
    "    fig, ax = plt.subplots()\n",
    "    ax.set_xlim(-1.5, 1.5)\n",
    "    ax.set_ylim(-1.5, 1.5)\n",
    "    \n",
    "    # Plot start position\n",
    "    start_coords = positions[start_pos]\n",
    "    ax.plot(start_coords[0], start_coords[1], 'go', markersize=10, label='Start Position', alpha=.5)\n",
    "    \n",
    "    # Plot end position\n",
    "    end_coords = positions[end_pos]\n",
    "    ax.plot(end_coords[0], end_coords[1], 'ro', markersize=10, label='End Position', alpha=.5)\n",
    "    \n",
    "    # Plot predicted positions\n",
    "    for pos, value in pred_to_input.items():\n",
    "        if value[0] == 1:\n",
    "            pred_coords = positions[pos]\n",
    "            ax.plot(pred_coords[0], pred_coords[1], 'bo', markersize=10, label='Predicted Position', alpha=.5)\n",
    "    \n",
    "    # Add diagonal stripe based on interactor value\n",
    "    if interactor == \"45\":\n",
    "        ax.plot([-.2, .2], [-.2, .2], 'k-', label='45° interactor')\n",
    "    elif interactor == \"135\":\n",
    "        ax.plot([-.2, .2], [.2, -.2], 'k-', label='135° interactor')\n",
    "    \n",
    "    ax.legend()\n",
    "    ax.axis(\"off\")\n",
    "    plt.show()\n",
    "\n",
    "def predict_ball_path(hypothesis: str, interactor: str, start_pos: str, end_pos: str, plot: bool = False):\n",
    "    \"\"\"\n",
    "    Predict the path of a ball based on the given parameters.\n",
    "    \n",
    "    Args:\n",
    "        hypothesis (str): The predictor hypothesis, either \"abs\" or \"rel\".\n",
    "        interactor (str): The interactor hypothesis, either \"none\" or \"abs\".\n",
    "        start_pos (str): The starting position of the ball.\n",
    "        end_pos (str): The ending position of the ball.\n",
    "        plot (bool): Whether to plot the positions or not.\n",
    "    \n",
    "    Returns:\n",
    "        dict: A dictionary representing the path of the ball.\n",
    "    \"\"\"\n",
    "    pred_to_input = {\"top\": [0],\n",
    "                     \"right\": [0],\n",
    "                     \"down\": [0],\n",
    "                     \"left\": [0]}\n",
    "    \n",
    "    # NOTE: Predictions are about the ball direction AFTER collision, so it's 0 for start positions\n",
    "    if hypothesis == \"abs\":\n",
    "        pred_to_input[_flip_dir(start_pos)] = [1] # Opposite of start position\n",
    "        \n",
    "    elif hypothesis == \"sim\":\n",
    "        # NOTE: flip_dir is used to get the ball direction based on the start location\n",
    "        predicted_dir = _bounce_ball(start_direction=_flip_dir(start_pos), interactor=interactor)\n",
    "        predicted_endloc = _flip_dir(predicted_dir) # Flip direction to get endpoint\n",
    "        pred_to_input[predicted_endloc] = [1]\n",
    "        \n",
    "    for receptive_field in pred_to_input.keys():\n",
    "        pred_to_input[receptive_field].append(0) # Add column for sensory input\n",
    "    pred_to_input[end_pos][1] = 1 # Change to 1 for end position\n",
    "\n",
    "    # Turn the dictionary list values into tuples    \n",
    "    pred_to_input_tuples = {key: tuple(value) for key, value in pred_to_input.items()}\n",
    "\n",
    "    if plot:\n",
    "        plot_positions(start_pos, end_pos, pred_to_input, interactor)\n",
    "    \n",
    "    return pred_to_input_tuples"
   ]
  },
  {
   "cell_type": "code",
   "execution_count": 264,
   "metadata": {},
   "outputs": [
    {
     "data": {
      "text/plain": [
       "array([1, 0])"
      ]
     },
     "execution_count": 264,
     "metadata": {},
     "output_type": "execute_result"
    }
   ],
   "source": [
    "oei = {\"sok\": (0,1)}\n",
    "np.array(oei[\"sok\"])\n",
    "\n",
    "kont = (0, 1)\n",
    "\n",
    "np.array((kont[1], kont[0]))"
   ]
  },
  {
   "cell_type": "code",
   "execution_count": 256,
   "metadata": {},
   "outputs": [
    {
     "data": {
      "image/png": "[encoded data removed]",
      "text/plain": [
       "<Figure size 640x480 with 1 Axes>"
      ]
     },
     "metadata": {},
     "output_type": "display_data"
    }
   ],
   "source": [
    "oei = predict_ball_path(hypothesis=\"abs\", interactor=\"none\", start_pos=\"left\", end_pos=\"top\", plot=True)\n"
   ]
  },
  {
   "cell_type": "code",
   "execution_count": 254,
   "metadata": {},
   "outputs": [
    {
     "name": "stdout",
     "output_type": "stream",
     "text": [
      "2\n"
     ]
    }
   ],
   "source": [
    "kont = (1, 1)\n",
    "print(sum(kont))\n",
    "\n"
   ]
  },
  {
   "cell_type": "code",
   "execution_count": 245,
   "metadata": {},
   "outputs": [],
   "source": [
    "exp_data = {\n",
    "    \"abs_rftop\": [],\n",
    "    \"abs_rfright\": [],\n",
    "    \"abs_rfdown\": [],\n",
    "    \"abs_rfleft\": [],\n",
    "    \"sim_rftop\": [],\n",
    "    \"sim_rfright\": [],\n",
    "    \"sim_rfdown\": [],\n",
    "    \"sim_rfleft\": []\n",
    "}\n",
    "\n",
    "# exp_data[\"abs_rftop\"].append(None)  # Placeholder for absolute RF top\n",
    "# exp_data[\"abs_rfright\"].append(None)  # Placeholder for absolute RF right\n",
    "# exp_data[\"abs_rfdown\"].append(None)  # Placeholder for absolute RF down\n",
    "# exp_data[\"abs_rfleft\"].append(None)  # Placeholder for absolute RF left\n",
    "# exp_data[\"sim_rftop\"].append(None)  # Placeholder for simulated RF top\n",
    "# exp_data[\"sim_rfright\"].append(None)  # Placeholder for simulated RF right\n",
    "# exp_data[\"sim_rfdown\"].append(None)  # Placeholder for simulated RF down\n",
    "# exp_data[\"sim_rfleft\"].append(None)  # Placeholder for simulated RF left"
   ]
  },
  {
   "cell_type": "code",
   "execution_count": 252,
   "metadata": {},
   "outputs": [],
   "source": [
    "for hypothesis in [\"abs\", \"sim\"]:\n",
    "    pred_to_input = predict_ball_path(hypothesis=hypothesis, interactor=\"45\", start_pos=\"top\", end_pos=\"left\")\n",
    "    for location in pred_to_input.keys():\n",
    "        exp_data[f\"{hypothesis}_rf{location}\"] = pred_to_input[location]\n",
    "        "
   ]
  },
  {
   "cell_type": "code",
   "execution_count": 253,
   "metadata": {},
   "outputs": [
    {
     "data": {
      "text/plain": [
       "{'abs_rftop': (0, 0),\n",
       " 'abs_rfright': (0, 0),\n",
       " 'abs_rfdown': (1, 0),\n",
       " 'abs_rfleft': (0, 1),\n",
       " 'sim_rftop': (0, 0),\n",
       " 'sim_rfright': (0, 0),\n",
       " 'sim_rfdown': (0, 0),\n",
       " 'sim_rfleft': (1, 1)}"
      ]
     },
     "execution_count": 253,
     "metadata": {},
     "output_type": "execute_result"
    }
   ],
   "source": [
    "exp_data"
   ]
  },
  {
   "cell_type": "code",
   "execution_count": null,
   "metadata": {},
   "outputs": [],
   "source": []
  },
  {
   "cell_type": "code",
   "execution_count": 191,
   "metadata": {},
   "outputs": [
    {
     "name": "stdout",
     "output_type": "stream",
     "text": [
      "top\n",
      "right\n",
      "down\n",
      "left\n"
     ]
    },
    {
     "data": {
      "text/plain": [
       "{'top': [0, 0], 'right': [0, 0], 'down': [0, 0], 'left': [1, 1]}"
      ]
     },
     "execution_count": 191,
     "metadata": {},
     "output_type": "execute_result"
    }
   ],
   "source": [
    "predict_ball_path(hypothesis=\"sim\", interactor=\"45\", start_pos=\"top\", end_pos=\"left\")\n",
    "# IMPORTANT DIFFERENCE HERE IS THAT THE ARGUMENT IS THE START LOCATION, NOT DIRECTION (CONFUSING)"
   ]
  },
  {
   "cell_type": "code",
   "execution_count": 175,
   "metadata": {},
   "outputs": [
    {
     "ename": "KeyError",
     "evalue": "'right'",
     "output_type": "error",
     "traceback": [
      "\u001b[0;31m---------------------------------------------------------------------------\u001b[0m",
      "\u001b[0;31mKeyError\u001b[0m                                  Traceback (most recent call last)",
      "Cell \u001b[0;32mIn[175], line 1\u001b[0m\n\u001b[0;32m----> 1\u001b[0m predicted_endloc \u001b[38;5;241m=\u001b[39m \u001b[43m_bounce_ball\u001b[49m\u001b[43m(\u001b[49m\u001b[43mstart_direction\u001b[49m\u001b[38;5;241;43m=\u001b[39;49m\u001b[38;5;124;43m\"\u001b[39;49m\u001b[38;5;124;43mleft\u001b[39;49m\u001b[38;5;124;43m\"\u001b[39;49m\u001b[43m,\u001b[49m\u001b[43m \u001b[49m\u001b[43minteractor\u001b[49m\u001b[38;5;241;43m=\u001b[39;49m\u001b[38;5;124;43m\"\u001b[39;49m\u001b[38;5;124;43mnone\u001b[39;49m\u001b[38;5;124;43m\"\u001b[39;49m\u001b[43m)\u001b[49m\n\u001b[1;32m      2\u001b[0m \u001b[38;5;28mprint\u001b[39m(predicted_endloc) \u001b[38;5;66;03m# but this is not the endloc when interactor is none\u001b[39;00m\n",
      "Cell \u001b[0;32mIn[173], line 125\u001b[0m, in \u001b[0;36m_bounce_ball\u001b[0;34m(start_direction, interactor)\u001b[0m\n\u001b[1;32m    122\u001b[0m     end_loc \u001b[38;5;241m=\u001b[39m start_direction \u001b[38;5;66;03m# When no interactor, ball ends up in the same direction\u001b[39;00m\n\u001b[1;32m    124\u001b[0m end_direction \u001b[38;5;241m=\u001b[39m _flip_dir(end_loc)\n\u001b[0;32m--> 125\u001b[0m \u001b[38;5;28;01mreturn\u001b[39;00m \u001b[43m_vec_to_dir\u001b[49m\u001b[43m(\u001b[49m\u001b[43mend_direction\u001b[49m\u001b[43m)\u001b[49m\n",
      "Cell \u001b[0;32mIn[173], line 27\u001b[0m, in \u001b[0;36m_vec_to_dir\u001b[0;34m(vector)\u001b[0m\n\u001b[1;32m     16\u001b[0m \u001b[38;5;250m\u001b[39m\u001b[38;5;124;03m\"\"\"Turn vector representation into direction string\u001b[39;00m\n\u001b[1;32m     17\u001b[0m \u001b[38;5;124;03mArgs:\u001b[39;00m\n\u001b[1;32m     18\u001b[0m \u001b[38;5;124;03m    vector (tuple): The vector representation in row,column (y,x)\u001b[39;00m\n\u001b[1;32m     19\u001b[0m \u001b[38;5;124;03mReturns:\u001b[39;00m\n\u001b[1;32m     20\u001b[0m \u001b[38;5;124;03m    str: The direction string\u001b[39;00m\n\u001b[1;32m     21\u001b[0m \u001b[38;5;124;03m\"\"\"\u001b[39;00m    \n\u001b[1;32m     22\u001b[0m vectors \u001b[38;5;241m=\u001b[39m {(\u001b[38;5;241m1\u001b[39m, \u001b[38;5;241m0\u001b[39m): \u001b[38;5;124m\"\u001b[39m\u001b[38;5;124mtop\u001b[39m\u001b[38;5;124m\"\u001b[39m,\n\u001b[1;32m     23\u001b[0m           (\u001b[38;5;241m0\u001b[39m, \u001b[38;5;241m1\u001b[39m): \u001b[38;5;124m\"\u001b[39m\u001b[38;5;124mright\u001b[39m\u001b[38;5;124m\"\u001b[39m, \n\u001b[1;32m     24\u001b[0m           (\u001b[38;5;241m-\u001b[39m\u001b[38;5;241m1\u001b[39m, \u001b[38;5;241m0\u001b[39m): \u001b[38;5;124m\"\u001b[39m\u001b[38;5;124mdown\u001b[39m\u001b[38;5;124m\"\u001b[39m,\n\u001b[1;32m     25\u001b[0m           (\u001b[38;5;241m0\u001b[39m, \u001b[38;5;241m-\u001b[39m\u001b[38;5;241m1\u001b[39m): \u001b[38;5;124m\"\u001b[39m\u001b[38;5;124mleft\u001b[39m\u001b[38;5;124m\"\u001b[39m}\n\u001b[0;32m---> 27\u001b[0m \u001b[38;5;28;01mreturn\u001b[39;00m \u001b[43mvectors\u001b[49m\u001b[43m[\u001b[49m\u001b[43mvector\u001b[49m\u001b[43m]\u001b[49m\n",
      "\u001b[0;31mKeyError\u001b[0m: 'right'"
     ]
    }
   ],
   "source": [
    "predicted_endloc = _bounce_ball(start_direction=\"left\", interactor=\"none\")\n",
    "print(predicted_endloc) # but this is not the endloc when interactor is none"
   ]
  },
  {
   "cell_type": "markdown",
   "metadata": {},
   "source": [
    "### MAKE SURE TO FILTER OUT THE RF RESPONSES TO SENSORY INPUT PRIOR TO BALL REACHING OCCLUDER!!!!! "
   ]
  },
  {
   "cell_type": "markdown",
   "metadata": {},
   "source": [
    "### Difficult thing is to decide what the prediction is about, because the start direction and position is different than the 3 outcome directions. What to include in analyses?"
   ]
  },
  {
   "cell_type": "code",
   "execution_count": 101,
   "metadata": {},
   "outputs": [],
   "source": [
    "preds = {\"top\": [0],\n",
    "         \"right\": [0],\n",
    "         \"down\": [0],\n",
    "         \"left\": [0]}"
   ]
  },
  {
   "cell_type": "code",
   "execution_count": 104,
   "metadata": {},
   "outputs": [],
   "source": [
    "for key in preds.keys():\n",
    "    preds[key].append(1)"
   ]
  },
  {
   "cell_type": "code",
   "execution_count": 105,
   "metadata": {},
   "outputs": [
    {
     "data": {
      "text/plain": [
       "{'top': [0, 1], 'right': [0, 1], 'down': [0, 1], 'left': [0, 1]}"
      ]
     },
     "execution_count": 105,
     "metadata": {},
     "output_type": "execute_result"
    }
   ],
   "source": [
    "preds"
   ]
  },
  {
   "cell_type": "code",
   "execution_count": 99,
   "metadata": {},
   "outputs": [],
   "source": [
    "preds[\"top\"].append(1)"
   ]
  },
  {
   "cell_type": "code",
   "execution_count": 100,
   "metadata": {},
   "outputs": [
    {
     "data": {
      "text/plain": [
       "{'top': [0, 1], 'right': [0], 'down': [0], 'left': [0]}"
      ]
     },
     "execution_count": 100,
     "metadata": {},
     "output_type": "execute_result"
    }
   ],
   "source": [
    "preds"
   ]
  },
  {
   "cell_type": "code",
   "execution_count": 74,
   "metadata": {},
   "outputs": [
    {
     "data": {
      "text/plain": [
       "(0, 1)"
      ]
     },
     "execution_count": 74,
     "metadata": {},
     "output_type": "execute_result"
    }
   ],
   "source": [
    "_rotate_90(\"top\", \"left\")"
   ]
  },
  {
   "cell_type": "code",
   "execution_count": 95,
   "metadata": {},
   "outputs": [
    {
     "data": {
      "text/plain": [
       "'left'"
      ]
     },
     "execution_count": 95,
     "metadata": {},
     "output_type": "execute_result"
    }
   ],
   "source": [
    "_vec_to_dir((-1,0))\n",
    "_vec_to_dir(_rotate_90(\"top\", \"left\"))"
   ]
  },
  {
   "cell_type": "code",
   "execution_count": 96,
   "metadata": {},
   "outputs": [
    {
     "data": {
      "text/plain": [
       "'left'"
      ]
     },
     "execution_count": 96,
     "metadata": {},
     "output_type": "execute_result"
    }
   ],
   "source": [
    "_bounce_ball(\"down\", \"45\")"
   ]
  },
  {
   "cell_type": "code",
   "execution_count": 87,
   "metadata": {},
   "outputs": [
    {
     "data": {
      "text/plain": [
       "'top'"
      ]
     },
     "execution_count": 87,
     "metadata": {},
     "output_type": "execute_result"
    }
   ],
   "source": [
    "_startpos_to_dir(\"down\")"
   ]
  },
  {
   "cell_type": "code",
   "execution_count": 37,
   "metadata": {},
   "outputs": [
    {
     "name": "stdout",
     "output_type": "stream",
     "text": [
      "(0, 1)\n"
     ]
    }
   ],
   "source": [
    "import numpy as np\n",
    "\n",
    "\n",
    "\n",
    "# Example usage\n",
    "top_direction = (1, 0)\n",
    "right_direction = rotate_90(start_direction=down_direction, left_or_right=\"left\")\n",
    "\n",
    "# print(f\"Down direction: {down_direction}\")\n",
    "# print(f\"Right direction after 90 degree rotation: {right_direction}\")\n",
    "print(right_direction)"
   ]
  },
  {
   "cell_type": "code",
   "execution_count": 38,
   "metadata": {},
   "outputs": [],
   "source": [
    "# derivatives, or row and column changes (y, x)\n",
    "top_direction = (1, 0)\n",
    "right_direction = (0, 1)\n",
    "down_direction = (-1, 0)\n",
    "left_direction = (0, -1)\n",
    "\n",
    "# This should be possible with computation\n",
    "path_conversion = {\n",
    "    \"start_pos\": [\"top\", \"right\", \"down\", \"left\"],\n",
    "    \"45\": [\"left\", \"down\", \"right\", \"top\"], \n",
    "    \"135\": [\"right\", \"top\", \"left\", \"down\"],\n",
    "}"
   ]
  },
  {
   "cell_type": "code",
   "execution_count": 43,
   "metadata": {},
   "outputs": [],
   "source": [
    "import pandas as pd\n",
    "path_df = pd.DataFrame(path_conversion)"
   ]
  },
  {
   "cell_type": "code",
   "execution_count": 76,
   "metadata": {},
   "outputs": [
    {
     "data": {
      "text/plain": [
       "array([[0., 0., 0., 0.]])"
      ]
     },
     "execution_count": 76,
     "metadata": {},
     "output_type": "execute_result"
    }
   ],
   "source": [
    "np.zeros((1,4))"
   ]
  },
  {
   "cell_type": "code",
   "execution_count": 50,
   "metadata": {},
   "outputs": [
    {
     "ename": "KeyError",
     "evalue": "'top'",
     "output_type": "error",
     "traceback": [
      "\u001b[0;31m---------------------------------------------------------------------------\u001b[0m",
      "\u001b[0;31mKeyError\u001b[0m                                  Traceback (most recent call last)",
      "Cell \u001b[0;32mIn[50], line 1\u001b[0m\n\u001b[0;32m----> 1\u001b[0m \u001b[43mpath_df\u001b[49m\u001b[43m[\u001b[49m\u001b[38;5;124;43m\"\u001b[39;49m\u001b[38;5;124;43mstart_pos\u001b[39;49m\u001b[38;5;124;43m\"\u001b[39;49m\u001b[43m]\u001b[49m\u001b[43m[\u001b[49m\u001b[38;5;124;43m\"\u001b[39;49m\u001b[38;5;124;43mtop\u001b[39;49m\u001b[38;5;124;43m\"\u001b[39;49m\u001b[43m]\u001b[49m\n",
      "File \u001b[0;32m~/miniconda3/envs/int_physics_env/lib/python3.10/site-packages/pandas/core/series.py:1121\u001b[0m, in \u001b[0;36mSeries.__getitem__\u001b[0;34m(self, key)\u001b[0m\n\u001b[1;32m   1118\u001b[0m     \u001b[38;5;28;01mreturn\u001b[39;00m \u001b[38;5;28mself\u001b[39m\u001b[38;5;241m.\u001b[39m_values[key]\n\u001b[1;32m   1120\u001b[0m \u001b[38;5;28;01melif\u001b[39;00m key_is_scalar:\n\u001b[0;32m-> 1121\u001b[0m     \u001b[38;5;28;01mreturn\u001b[39;00m \u001b[38;5;28;43mself\u001b[39;49m\u001b[38;5;241;43m.\u001b[39;49m\u001b[43m_get_value\u001b[49m\u001b[43m(\u001b[49m\u001b[43mkey\u001b[49m\u001b[43m)\u001b[49m\n\u001b[1;32m   1123\u001b[0m \u001b[38;5;66;03m# Convert generator to list before going through hashable part\u001b[39;00m\n\u001b[1;32m   1124\u001b[0m \u001b[38;5;66;03m# (We will iterate through the generator there to check for slices)\u001b[39;00m\n\u001b[1;32m   1125\u001b[0m \u001b[38;5;28;01mif\u001b[39;00m is_iterator(key):\n",
      "File \u001b[0;32m~/miniconda3/envs/int_physics_env/lib/python3.10/site-packages/pandas/core/series.py:1237\u001b[0m, in \u001b[0;36mSeries._get_value\u001b[0;34m(self, label, takeable)\u001b[0m\n\u001b[1;32m   1234\u001b[0m     \u001b[38;5;28;01mreturn\u001b[39;00m \u001b[38;5;28mself\u001b[39m\u001b[38;5;241m.\u001b[39m_values[label]\n\u001b[1;32m   1236\u001b[0m \u001b[38;5;66;03m# Similar to Index.get_value, but we do not fall back to positional\u001b[39;00m\n\u001b[0;32m-> 1237\u001b[0m loc \u001b[38;5;241m=\u001b[39m \u001b[38;5;28;43mself\u001b[39;49m\u001b[38;5;241;43m.\u001b[39;49m\u001b[43mindex\u001b[49m\u001b[38;5;241;43m.\u001b[39;49m\u001b[43mget_loc\u001b[49m\u001b[43m(\u001b[49m\u001b[43mlabel\u001b[49m\u001b[43m)\u001b[49m\n\u001b[1;32m   1239\u001b[0m \u001b[38;5;28;01mif\u001b[39;00m is_integer(loc):\n\u001b[1;32m   1240\u001b[0m     \u001b[38;5;28;01mreturn\u001b[39;00m \u001b[38;5;28mself\u001b[39m\u001b[38;5;241m.\u001b[39m_values[loc]\n",
      "File \u001b[0;32m~/miniconda3/envs/int_physics_env/lib/python3.10/site-packages/pandas/core/indexes/range.py:417\u001b[0m, in \u001b[0;36mRangeIndex.get_loc\u001b[0;34m(self, key)\u001b[0m\n\u001b[1;32m    415\u001b[0m         \u001b[38;5;28;01mraise\u001b[39;00m \u001b[38;5;167;01mKeyError\u001b[39;00m(key) \u001b[38;5;28;01mfrom\u001b[39;00m\u001b[38;5;250m \u001b[39m\u001b[38;5;21;01merr\u001b[39;00m\n\u001b[1;32m    416\u001b[0m \u001b[38;5;28;01mif\u001b[39;00m \u001b[38;5;28misinstance\u001b[39m(key, Hashable):\n\u001b[0;32m--> 417\u001b[0m     \u001b[38;5;28;01mraise\u001b[39;00m \u001b[38;5;167;01mKeyError\u001b[39;00m(key)\n\u001b[1;32m    418\u001b[0m \u001b[38;5;28mself\u001b[39m\u001b[38;5;241m.\u001b[39m_check_indexing_error(key)\n\u001b[1;32m    419\u001b[0m \u001b[38;5;28;01mraise\u001b[39;00m \u001b[38;5;167;01mKeyError\u001b[39;00m(key)\n",
      "\u001b[0;31mKeyError\u001b[0m: 'top'"
     ]
    }
   ],
   "source": []
  }
 ],
 "metadata": {
  "kernelspec": {
   "display_name": "wieg_env_nsd",
   "language": "python",
   "name": "python3"
  },
  "language_info": {
   "codemirror_mode": {
    "name": "ipython",
    "version": 3
   },
   "file_extension": ".py",
   "mimetype": "text/x-python",
   "name": "python",
   "nbconvert_exporter": "python",
   "pygments_lexer": "ipython3",
   "version": "3.10.16"
  }
 },
 "nbformat": 4,
 "nbformat_minor": 2
}
