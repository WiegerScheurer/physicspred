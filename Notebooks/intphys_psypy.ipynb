{
 "cells": [
  {
   "cell_type": "code",
   "execution_count": 1,
   "metadata": {},
   "outputs": [],
   "source": [
    "import sys\n",
    "import os\n",
    "import psychopy"
   ]
  },
  {
   "cell_type": "code",
   "execution_count": 9,
   "metadata": {},
   "outputs": [],
   "source": [
    "import numpy as np\n",
    "import matplotlib.pyplot as plt"
   ]
  },
  {
   "cell_type": "code",
   "execution_count": 52,
   "metadata": {},
   "outputs": [],
   "source": [
    "# def compute_rfpreds(hypothesis:str, interactor:str | None, start_pos:str, end_pos:str):\n",
    "#     # h_extremes = [\"left\", \"right\"]\n",
    "#     # v_extremes = [\"top\", \"down\"]\n",
    "#     directions = {\"top\": \"v\",\n",
    "#                   \"right\": \"h\", \n",
    "#                   \"down\": \"v\", \n",
    "#                   \"left\": \"h\"}\n",
    "    \n",
    "    \n",
    "#     if hypothesis == \"abs\":\n",
    "#         if directions[start_pos] == directions[end_pos]:\n",
    "            \n",
    "\n",
    "#     pass\n",
    "\n",
    "locations = {\"top\": (0, 1),\n",
    "              \"right\": (1, 2), \n",
    "              \"down\": (2, 1),\n",
    "              \"left\": (1, 0)}\n",
    "\n",
    "# derivatives, or row and column changes (y, x)\n",
    "top_direction = (1, 0)\n",
    "right_direction = (0, 1)\n",
    "down_direction = (-1, 0)\n",
    "left_direction = (0, -1)\n",
    "\n",
    "\n",
    "\n",
    "\n",
    "\n",
    "# This should be possible with computation\n",
    "# RAW lookup table:\n",
    "path_conversion = {\n",
    "    \"start_pos\": [\"top\", \"right\", \"down\", \"left\"],\n",
    "    \"45\": [\"left\", \"down\", \"right\", \"top\"], \n",
    "    \"135\": [\"right\", \"top\", \"left\", \"down\"],\n",
    "}\n",
    "\n",
    "coords = np.zeros((3,3))\n",
    "\n",
    "coords[0, 1] = 1\n",
    "\n",
    "coords[2,1] = 2\n",
    "\n",
    "# def direction_change(start_pos:str, interactor:str | None):\n",
    "    \n",
    "\n",
    "# plt.imshow(coords, extent=[0, 3, 0, 3])\n",
    "\n",
    "# plt.imshow(coords)\n",
    "\n",
    "# coords"
   ]
  },
  {
   "cell_type": "code",
   "execution_count": 222,
   "metadata": {},
   "outputs": [],
   "source": [
    "def _dir_to_vec(direction:str) -> tuple:\n",
    "    \"\"\"Turn direction string into vector representation\n",
    "    Args:\n",
    "        direction (str): The direction string\n",
    "    Returns:\n",
    "        tuple: The vector representation in row,column (y,x)\n",
    "    \"\"\"    \n",
    "    directions = {\"top\": (1, 0),\n",
    "              \"right\": (0, 1), \n",
    "              \"down\": (-1, 0),\n",
    "              \"left\": (0, -1)}\n",
    "    \n",
    "    return directions[direction]\n",
    "\n",
    "def _vec_to_dir(vector:tuple) -> str:\n",
    "    \"\"\"Turn vector representation into direction string\n",
    "    Args:\n",
    "        vector (tuple): The vector representation in row,column (y,x)\n",
    "    Returns:\n",
    "        str: The direction string\n",
    "    \"\"\"    \n",
    "    vectors = {(1, 0): \"top\",\n",
    "              (0, 1): \"right\", \n",
    "              (-1, 0): \"down\",\n",
    "              (0, -1): \"left\"}\n",
    "    \n",
    "    return vectors[vector]\n",
    "\n",
    "\n",
    "## Not really needed though\n",
    "def _dir_to_loc(direction:str) -> tuple:\n",
    "    \"\"\"Turn direction string into location representation\n",
    "    Args:\n",
    "        direction (str): The direction string\n",
    "    Returns:\n",
    "        tuple: The location representation in row,column (y,x)\n",
    "    \"\"\"    \n",
    "    locations = {\"top\": (0, 1),\n",
    "              \"right\": (1, 2), \n",
    "              \"down\": (2, 1),\n",
    "              \"left\": (1, 0)}\n",
    "    \n",
    "    return locations[direction]\n",
    "\n",
    "def _startpos_to_dir(start_pos:str) -> str:\n",
    "    \"\"\"Turn start position string into direction string\n",
    "    Args:\n",
    "        start_pos (str): The start position string\n",
    "    Returns:\n",
    "        str: The direction string\n",
    "    \"\"\"    \n",
    "    startpos = {\"top\": \"down\",\n",
    "                \"right\": \"left\",\n",
    "                \"down\": \"top\",\n",
    "                \"left\": \"right\"}\n",
    "    \n",
    "    return startpos[start_pos]\n",
    "\n",
    "def _rotate_90(start_direction, left_or_right):\n",
    "    \"\"\"\n",
    "    Rotate a 2D vector by 90 degrees in the specified direction.\n",
    "    \n",
    "    Args:\n",
    "        start_direction (tuple): The initial direction vector as a tuple of two elements.\n",
    "        left_or_right (str): The direction to rotate, either \"left\" or \"right\".\n",
    "    \n",
    "    Returns:\n",
    "        tuple: The rotated direction vector as a tuple of two elements (y, x) or (row, column).\n",
    "    \"\"\"\n",
    "    if type(start_direction) != tuple:\n",
    "        start_direction = _dir_to_vec(start_direction)\n",
    "    \n",
    "    # Define the rotation matrix for 90 degrees\n",
    "    rotation_matrix_90 = np.array([[0, -1], [1, 0]])\n",
    "    rotation_matrix_270 = np.array([[0, 1], [-1, 0]])\n",
    "\n",
    "    towards = {\"left\": rotation_matrix_270,\n",
    "               \"right\": rotation_matrix_90}\n",
    "\n",
    "    # Convert the direction tuple to a numpy array\n",
    "    direction_vector = np.array(start_direction)\n",
    "    \n",
    "    # Perform the matrix multiplication to rotate the vector\n",
    "    rotated_vector = np.dot(towards[left_or_right], direction_vector)\n",
    "    # Convert the result back to a tuple and return\n",
    "    return tuple(rotated_vector)\n",
    "\n",
    "def _flip_dir(direction: str | tuple) -> str | tuple:\n",
    "    \"\"\"Where does the ball end up, given a direction? Assuming a continuous path, so no collision anymore.\n",
    "        This basically just flips the direction value to the opposite on the relevant axis.\n",
    "\n",
    "    Args:\n",
    "        direction (str | tuple): Where does the ball go?\n",
    "\n",
    "    Returns:\n",
    "        str | tuple: The opposite point of the field.\n",
    "    \"\"\"    \n",
    "    if isinstance(direction, str):\n",
    "        flipped_dir = _vec_to_dir(tuple(dir_axis * -1 for dir_axis in _dir_to_vec(direction)))\n",
    "    elif isinstance(direction, tuple):\n",
    "        flipped_dir = tuple(dir_axis * -1 for dir_axis in direction)\n",
    "    else:\n",
    "        raise ValueError(\"Direction must be either a string or a tuple\")\n",
    "    \n",
    "    return flipped_dir\n",
    "\n",
    "def _bounce_ball(start_direction: str, interactor: str):\n",
    "    \"\"\"\n",
    "    Bounces a ball based on the start direction and the type of interactor.\n",
    "\n",
    "    Parameters:\n",
    "    start_direction (str): The initial direction of the ball.\n",
    "    interactor (str): The type of interactor.\n",
    "\n",
    "    Returns:\n",
    "    str: The new direction of the ball after bouncing.\n",
    "\n",
    "    \"\"\"\n",
    "    # if interactor == \"none\":\n",
    "    #     end_direction = tuple(dir_axis * -1 for dir_axis in _dir_to_vec(start_direction)) # Flip direction to get endpoint\n",
    "    if interactor == \"45\":\n",
    "        relative_direction = \"left\" if start_direction in [\"right\", \"left\"] else \"right\"\n",
    "        end_loc = _rotate_90(start_direction=start_direction, left_or_right=relative_direction)\n",
    "    elif interactor == \"135\":\n",
    "        relative_direction = \"left\" if start_direction in [\"top\", \"down\"] else \"right\"\n",
    "        end_loc = _rotate_90(start_direction=start_direction, left_or_right=relative_direction)\n",
    "    else:\n",
    "        end_loc = _dir_to_vec(start_direction) # When no interactor, ball ends up in the same direction\n",
    "        \n",
    "    end_direction = _flip_dir(end_loc)\n",
    "    \n",
    "    return _vec_to_dir(end_direction)\n",
    "    \n",
    "# def predict_ball_path(hypothesis:str, interactor:str, start_pos:str, end_pos:str):\n",
    "#     \"\"\"\n",
    "#     Predict the path of a ball based on the given parameters.\n",
    "    \n",
    "#     Args:\n",
    "#         predictor (str): The predictor hypothesis, either \"abs\" or \"rel\".\n",
    "#         interactor (str): The interactor hypothesis, either \"none\" or \"abs\".\n",
    "#         start_pos (str): The starting position of the ball.\n",
    "#         end_pos (str): The ending position of the ball.\n",
    "    \n",
    "#     Returns:\n",
    "#         list: A list of tuples representing the path of the ball.\n",
    "#     \"\"\"\n",
    "#     pred_to_input = {\"top\": [0],\n",
    "#                      \"right\": [0],\n",
    "#                      \"down\": [0],\n",
    "#                      \"left\": [0]}\n",
    "    \n",
    "#     # NOTE: Predictions are about the ball direction AFTER collision, so it's 0 for start positions\n",
    "#     if hypothesis == \"abs\":\n",
    "#         pred_to_input[_flip_dir(start_pos)] = [1] # Opposite of start position\n",
    "        \n",
    "#     elif hypothesis == \"sim\":\n",
    "#         # NOTE: flip_dir is used to get the ball direction based on the start location\n",
    "#         predicted_dir = _bounce_ball(start_direction=_flip_dir(start_pos), interactor=interactor)\n",
    "#         predicted_endloc = _flip_dir(predicted_dir) # Flip direction to get endpoint\n",
    "#         pred_to_input[predicted_endloc] = [1]\n",
    "        \n",
    "#     for receptive_field in pred_to_input.keys():\n",
    "#         print(receptive_field)\n",
    "#         pred_to_input[receptive_field].append(0) # Add column for sensory input\n",
    "#     pred_to_input[end_pos][1] = 1 # Change to 1 for end position\n",
    "    \n",
    "#     return pred_to_input\n",
    "\n",
    "\n",
    "import matplotlib.pyplot as plt\n",
    "\n",
    "def plot_positions(start_pos, end_pos, pred_to_input, interactor):\n",
    "    positions = {\"top\": (0, 1), \"right\": (1, 0), \"down\": (0, -1), \"left\": (-1, 0)}\n",
    "    \n",
    "    fig, ax = plt.subplots()\n",
    "    ax.set_xlim(-1.5, 1.5)\n",
    "    ax.set_ylim(-1.5, 1.5)\n",
    "    \n",
    "    # Plot start position\n",
    "    start_coords = positions[start_pos]\n",
    "    ax.plot(start_coords[0], start_coords[1], 'go', markersize=10, label='Start Position', alpha=.5)\n",
    "    \n",
    "    # Plot end position\n",
    "    end_coords = positions[end_pos]\n",
    "    ax.plot(end_coords[0], end_coords[1], 'ro', markersize=10, label='End Position', alpha=.5)\n",
    "    \n",
    "    # Plot predicted positions\n",
    "    for pos, value in pred_to_input.items():\n",
    "        if value[0] == 1:\n",
    "            pred_coords = positions[pos]\n",
    "            ax.plot(pred_coords[0], pred_coords[1], 'bo', markersize=10, label='Predicted Position', alpha=.5)\n",
    "    \n",
    "    # Add diagonal stripe based on interactor value\n",
    "    if interactor == \"45\":\n",
    "        ax.plot([-.2, .2], [-.2, .2], 'k-', label='45° interactor')\n",
    "    elif interactor == \"135\":\n",
    "        ax.plot([-.2, .2], [.2, -.2], 'k-', label='135° interactor')\n",
    "    \n",
    "    ax.legend()\n",
    "    ax.axis(\"off\")\n",
    "    plt.show()\n",
    "\n",
    "def predict_ball_path(hypothesis: str, interactor: str, start_pos: str, end_pos: str, plot: bool = False):\n",
    "    \"\"\"\n",
    "    Predict the path of a ball based on the given parameters.\n",
    "    \n",
    "    Args:\n",
    "        hypothesis (str): The predictor hypothesis, either \"abs\" or \"rel\".\n",
    "        interactor (str): The interactor hypothesis, either \"none\" or \"abs\".\n",
    "        start_pos (str): The starting position of the ball.\n",
    "        end_pos (str): The ending position of the ball.\n",
    "        plot (bool): Whether to plot the positions or not.\n",
    "    \n",
    "    Returns:\n",
    "        dict: A dictionary representing the path of the ball.\n",
    "    \"\"\"\n",
    "    pred_to_input = {\"top\": [0],\n",
    "                     \"right\": [0],\n",
    "                     \"down\": [0],\n",
    "                     \"left\": [0]}\n",
    "    \n",
    "    # NOTE: Predictions are about the ball direction AFTER collision, so it's 0 for start positions\n",
    "    if hypothesis == \"abs\":\n",
    "        pred_to_input[_flip_dir(start_pos)] = [1] # Opposite of start position\n",
    "        \n",
    "    elif hypothesis == \"sim\":\n",
    "        # NOTE: flip_dir is used to get the ball direction based on the start location\n",
    "        predicted_dir = _bounce_ball(start_direction=_flip_dir(start_pos), interactor=interactor)\n",
    "        predicted_endloc = _flip_dir(predicted_dir) # Flip direction to get endpoint\n",
    "        pred_to_input[predicted_endloc] = [1]\n",
    "        \n",
    "    for receptive_field in pred_to_input.keys():\n",
    "        print(receptive_field)\n",
    "        pred_to_input[receptive_field].append(0) # Add column for sensory input\n",
    "    pred_to_input[end_pos][1] = 1 # Change to 1 for end position\n",
    "    \n",
    "    if plot:\n",
    "        plot_positions(start_pos, end_pos, pred_to_input, interactor)\n",
    "    \n",
    "    return pred_to_input\n",
    "        "
   ]
  },
  {
   "cell_type": "code",
   "execution_count": 243,
   "metadata": {},
   "outputs": [],
   "source": [
    "import matplotlib.pyplot as plt\n",
    "\n",
    "def plot_positions(start_pos, end_pos, pred_to_input, interactor):\n",
    "    positions = {\"top\": (0, 1), \"right\": (1, 0), \"down\": (0, -1), \"left\": (-1, 0)}\n",
    "    \n",
    "    fig, ax = plt.subplots()\n",
    "    ax.set_xlim(-1.5, 1.5)\n",
    "    ax.set_ylim(-1.5, 1.5)\n",
    "    \n",
    "    # Plot start position\n",
    "    start_coords = positions[start_pos]\n",
    "    ax.plot(start_coords[0], start_coords[1], 'go', markersize=10, label='Start Position', alpha=.5)\n",
    "    \n",
    "    # Plot end position\n",
    "    end_coords = positions[end_pos]\n",
    "    ax.plot(end_coords[0], end_coords[1], 'ro', markersize=10, label='End Position', alpha=.5)\n",
    "    \n",
    "    # Plot predicted positions\n",
    "    for pos, value in pred_to_input.items():\n",
    "        if value[0] == 1:\n",
    "            pred_coords = positions[pos]\n",
    "            ax.plot(pred_coords[0], pred_coords[1], 'bo', markersize=10, label='Predicted Position', alpha=.5)\n",
    "    \n",
    "    # Add diagonal stripe based on interactor value\n",
    "    if interactor == \"45\":\n",
    "        ax.plot([-.2, .2], [-.2, .2], 'k-', label='45° interactor')\n",
    "    elif interactor == \"135\":\n",
    "        ax.plot([-.2, .2], [.2, -.2], 'k-', label='135° interactor')\n",
    "    \n",
    "    ax.legend()\n",
    "    ax.axis(\"off\")\n",
    "    plt.show()\n",
    "\n",
    "def predict_ball_path(hypothesis: str, interactor: str, start_pos: str, end_pos: str, plot: bool = False):\n",
    "    \"\"\"\n",
    "    Predict the path of a ball based on the given parameters.\n",
    "    \n",
    "    Args:\n",
    "        hypothesis (str): The predictor hypothesis, either \"abs\" or \"rel\".\n",
    "        interactor (str): The interactor hypothesis, either \"none\" or \"abs\".\n",
    "        start_pos (str): The starting position of the ball.\n",
    "        end_pos (str): The ending position of the ball.\n",
    "        plot (bool): Whether to plot the positions or not.\n",
    "    \n",
    "    Returns:\n",
    "        dict: A dictionary representing the path of the ball.\n",
    "    \"\"\"\n",
    "    pred_to_input = {\"top\": [0],\n",
    "                     \"right\": [0],\n",
    "                     \"down\": [0],\n",
    "                     \"left\": [0]}\n",
    "    \n",
    "    # NOTE: Predictions are about the ball direction AFTER collision, so it's 0 for start positions\n",
    "    if hypothesis == \"abs\":\n",
    "        pred_to_input[_flip_dir(start_pos)] = [1] # Opposite of start position\n",
    "        \n",
    "    elif hypothesis == \"sim\":\n",
    "        # NOTE: flip_dir is used to get the ball direction based on the start location\n",
    "        predicted_dir = _bounce_ball(start_direction=_flip_dir(start_pos), interactor=interactor)\n",
    "        predicted_endloc = _flip_dir(predicted_dir) # Flip direction to get endpoint\n",
    "        pred_to_input[predicted_endloc] = [1]\n",
    "        \n",
    "    for receptive_field in pred_to_input.keys():\n",
    "        pred_to_input[receptive_field].append(0) # Add column for sensory input\n",
    "    pred_to_input[end_pos][1] = 1 # Change to 1 for end position\n",
    "\n",
    "    # Turn the dictionary list values into tuples    \n",
    "    pred_to_input_tuples = {key: tuple(value) for key, value in pred_to_input.items()}\n",
    "\n",
    "    if plot:\n",
    "        plot_positions(start_pos, end_pos, pred_to_input, interactor)\n",
    "    \n",
    "    return pred_to_input_tuples"
   ]
  },
  {
   "cell_type": "code",
   "execution_count": 238,
   "metadata": {},
   "outputs": [
    {
     "name": "stdout",
     "output_type": "stream",
     "text": [
      "top\n",
      "right\n",
      "down\n",
      "left\n"
     ]
    },
    {
     "data": {
      "image/png": "[encoded data removed]",
      "text/plain": [
       "<Figure size 640x480 with 1 Axes>"
      ]
     },
     "metadata": {},
     "output_type": "display_data"
    }
   ],
   "source": [
    "oei = predict_ball_path(hypothesis=\"abs\", interactor=\"none\", start_pos=\"left\", end_pos=\"right\", plot=True)\n"
   ]
  },
  {
   "cell_type": "code",
   "execution_count": 240,
   "metadata": {},
   "outputs": [],
   "source": [
    "exp_data = {\n",
    "    \"abs_rftop\": [],\n",
    "    \"abs_rfright\": [],\n",
    "    \"abs_rfdown\": [],\n",
    "    \"abs_rfleft\": [],\n",
    "    \"sim_rftop\": [],\n",
    "    \"sim_rfright\": [],\n",
    "    \"sim_rfdown\": [],\n",
    "    \"sim_rfleft\": []\n",
    "}\n",
    "\n",
    "exp_data[\"abs_rftop\"].append(None)  # Placeholder for absolute RF top\n",
    "exp_data[\"abs_rfright\"].append(None)  # Placeholder for absolute RF right\n",
    "exp_data[\"abs_rfdown\"].append(None)  # Placeholder for absolute RF down\n",
    "exp_data[\"abs_rfleft\"].append(None)  # Placeholder for absolute RF left\n",
    "exp_data[\"sim_rftop\"].append(None)  # Placeholder for simulated RF top\n",
    "exp_data[\"sim_rfright\"].append(None)  # Placeholder for simulated RF right\n",
    "exp_data[\"sim_rfdown\"].append(None)  # Placeholder for simulated RF down\n",
    "exp_data[\"sim_rfleft\"].append(None)  # Placeholder for simulated RF left"
   ]
  },
  {
   "cell_type": "code",
   "execution_count": 242,
   "metadata": {},
   "outputs": [
    {
     "name": "stdout",
     "output_type": "stream",
     "text": [
      "top\n",
      "right\n",
      "down\n",
      "left\n",
      "top\n",
      "right\n",
      "down\n",
      "left\n"
     ]
    }
   ],
   "source": [
    "for hypothesis in [\"abs\", \"sim\"]:\n",
    "    pred_to_input = predict_ball_path(hypothesis=hypothesis, interactor=\"none\", start_pos=\"top\", end_pos=\"down\")\n",
    "    for location in pred_to_input.keys():\n",
    "        exp_data[f\"{hypothesis}_rf{location}\"] = pred_to_input[location]\n",
    "        "
   ]
  },
  {
   "cell_type": "code",
   "execution_count": 191,
   "metadata": {},
   "outputs": [
    {
     "name": "stdout",
     "output_type": "stream",
     "text": [
      "top\n",
      "right\n",
      "down\n",
      "left\n"
     ]
    },
    {
     "data": {
      "text/plain": [
       "{'top': [0, 0], 'right': [0, 0], 'down': [0, 0], 'left': [1, 1]}"
      ]
     },
     "execution_count": 191,
     "metadata": {},
     "output_type": "execute_result"
    }
   ],
   "source": [
    "predict_ball_path(hypothesis=\"sim\", interactor=\"45\", start_pos=\"top\", end_pos=\"left\")\n",
    "# IMPORTANT DIFFERENCE HERE IS THAT THE ARGUMENT IS THE START LOCATION, NOT DIRECTION (CONFUSING)"
   ]
  },
  {
   "cell_type": "code",
   "execution_count": 175,
   "metadata": {},
   "outputs": [
    {
     "ename": "KeyError",
     "evalue": "'right'",
     "output_type": "error",
     "traceback": [
      "\u001b[0;31m---------------------------------------------------------------------------\u001b[0m",
      "\u001b[0;31mKeyError\u001b[0m                                  Traceback (most recent call last)",
      "Cell \u001b[0;32mIn[175], line 1\u001b[0m\n\u001b[0;32m----> 1\u001b[0m predicted_endloc \u001b[38;5;241m=\u001b[39m \u001b[43m_bounce_ball\u001b[49m\u001b[43m(\u001b[49m\u001b[43mstart_direction\u001b[49m\u001b[38;5;241;43m=\u001b[39;49m\u001b[38;5;124;43m\"\u001b[39;49m\u001b[38;5;124;43mleft\u001b[39;49m\u001b[38;5;124;43m\"\u001b[39;49m\u001b[43m,\u001b[49m\u001b[43m \u001b[49m\u001b[43minteractor\u001b[49m\u001b[38;5;241;43m=\u001b[39;49m\u001b[38;5;124;43m\"\u001b[39;49m\u001b[38;5;124;43mnone\u001b[39;49m\u001b[38;5;124;43m\"\u001b[39;49m\u001b[43m)\u001b[49m\n\u001b[1;32m      2\u001b[0m \u001b[38;5;28mprint\u001b[39m(predicted_endloc) \u001b[38;5;66;03m# but this is not the endloc when interactor is none\u001b[39;00m\n",
      "Cell \u001b[0;32mIn[173], line 125\u001b[0m, in \u001b[0;36m_bounce_ball\u001b[0;34m(start_direction, interactor)\u001b[0m\n\u001b[1;32m    122\u001b[0m     end_loc \u001b[38;5;241m=\u001b[39m start_direction \u001b[38;5;66;03m# When no interactor, ball ends up in the same direction\u001b[39;00m\n\u001b[1;32m    124\u001b[0m end_direction \u001b[38;5;241m=\u001b[39m _flip_dir(end_loc)\n\u001b[0;32m--> 125\u001b[0m \u001b[38;5;28;01mreturn\u001b[39;00m \u001b[43m_vec_to_dir\u001b[49m\u001b[43m(\u001b[49m\u001b[43mend_direction\u001b[49m\u001b[43m)\u001b[49m\n",
      "Cell \u001b[0;32mIn[173], line 27\u001b[0m, in \u001b[0;36m_vec_to_dir\u001b[0;34m(vector)\u001b[0m\n\u001b[1;32m     16\u001b[0m \u001b[38;5;250m\u001b[39m\u001b[38;5;124;03m\"\"\"Turn vector representation into direction string\u001b[39;00m\n\u001b[1;32m     17\u001b[0m \u001b[38;5;124;03mArgs:\u001b[39;00m\n\u001b[1;32m     18\u001b[0m \u001b[38;5;124;03m    vector (tuple): The vector representation in row,column (y,x)\u001b[39;00m\n\u001b[1;32m     19\u001b[0m \u001b[38;5;124;03mReturns:\u001b[39;00m\n\u001b[1;32m     20\u001b[0m \u001b[38;5;124;03m    str: The direction string\u001b[39;00m\n\u001b[1;32m     21\u001b[0m \u001b[38;5;124;03m\"\"\"\u001b[39;00m    \n\u001b[1;32m     22\u001b[0m vectors \u001b[38;5;241m=\u001b[39m {(\u001b[38;5;241m1\u001b[39m, \u001b[38;5;241m0\u001b[39m): \u001b[38;5;124m\"\u001b[39m\u001b[38;5;124mtop\u001b[39m\u001b[38;5;124m\"\u001b[39m,\n\u001b[1;32m     23\u001b[0m           (\u001b[38;5;241m0\u001b[39m, \u001b[38;5;241m1\u001b[39m): \u001b[38;5;124m\"\u001b[39m\u001b[38;5;124mright\u001b[39m\u001b[38;5;124m\"\u001b[39m, \n\u001b[1;32m     24\u001b[0m           (\u001b[38;5;241m-\u001b[39m\u001b[38;5;241m1\u001b[39m, \u001b[38;5;241m0\u001b[39m): \u001b[38;5;124m\"\u001b[39m\u001b[38;5;124mdown\u001b[39m\u001b[38;5;124m\"\u001b[39m,\n\u001b[1;32m     25\u001b[0m           (\u001b[38;5;241m0\u001b[39m, \u001b[38;5;241m-\u001b[39m\u001b[38;5;241m1\u001b[39m): \u001b[38;5;124m\"\u001b[39m\u001b[38;5;124mleft\u001b[39m\u001b[38;5;124m\"\u001b[39m}\n\u001b[0;32m---> 27\u001b[0m \u001b[38;5;28;01mreturn\u001b[39;00m \u001b[43mvectors\u001b[49m\u001b[43m[\u001b[49m\u001b[43mvector\u001b[49m\u001b[43m]\u001b[49m\n",
      "\u001b[0;31mKeyError\u001b[0m: 'right'"
     ]
    }
   ],
   "source": [
    "predicted_endloc = _bounce_ball(start_direction=\"left\", interactor=\"none\")\n",
    "print(predicted_endloc) # but this is not the endloc when interactor is none"
   ]
  },
  {
   "cell_type": "markdown",
   "metadata": {},
   "source": [
    "### MAKE SURE TO FILTER OUT THE RF RESPONSES TO SENSORY INPUT PRIOR TO BALL REACHING OCCLUDER!!!!! "
   ]
  },
  {
   "cell_type": "markdown",
   "metadata": {},
   "source": [
    "### Difficult thing is to decide what the prediction is about, because the start direction and position is different than the 3 outcome directions. What to include in analyses?"
   ]
  },
  {
   "cell_type": "code",
   "execution_count": 101,
   "metadata": {},
   "outputs": [],
   "source": [
    "preds = {\"top\": [0],\n",
    "         \"right\": [0],\n",
    "         \"down\": [0],\n",
    "         \"left\": [0]}"
   ]
  },
  {
   "cell_type": "code",
   "execution_count": 104,
   "metadata": {},
   "outputs": [],
   "source": [
    "for key in preds.keys():\n",
    "    preds[key].append(1)"
   ]
  },
  {
   "cell_type": "code",
   "execution_count": 105,
   "metadata": {},
   "outputs": [
    {
     "data": {
      "text/plain": [
       "{'top': [0, 1], 'right': [0, 1], 'down': [0, 1], 'left': [0, 1]}"
      ]
     },
     "execution_count": 105,
     "metadata": {},
     "output_type": "execute_result"
    }
   ],
   "source": [
    "preds"
   ]
  },
  {
   "cell_type": "code",
   "execution_count": 99,
   "metadata": {},
   "outputs": [],
   "source": [
    "preds[\"top\"].append(1)"
   ]
  },
  {
   "cell_type": "code",
   "execution_count": 100,
   "metadata": {},
   "outputs": [
    {
     "data": {
      "text/plain": [
       "{'top': [0, 1], 'right': [0], 'down': [0], 'left': [0]}"
      ]
     },
     "execution_count": 100,
     "metadata": {},
     "output_type": "execute_result"
    }
   ],
   "source": [
    "preds"
   ]
  },
  {
   "cell_type": "code",
   "execution_count": 74,
   "metadata": {},
   "outputs": [
    {
     "data": {
      "text/plain": [
       "(0, 1)"
      ]
     },
     "execution_count": 74,
     "metadata": {},
     "output_type": "execute_result"
    }
   ],
   "source": [
    "_rotate_90(\"top\", \"left\")"
   ]
  },
  {
   "cell_type": "code",
   "execution_count": 95,
   "metadata": {},
   "outputs": [
    {
     "data": {
      "text/plain": [
       "'left'"
      ]
     },
     "execution_count": 95,
     "metadata": {},
     "output_type": "execute_result"
    }
   ],
   "source": [
    "_vec_to_dir((-1,0))\n",
    "_vec_to_dir(_rotate_90(\"top\", \"left\"))"
   ]
  },
  {
   "cell_type": "code",
   "execution_count": 96,
   "metadata": {},
   "outputs": [
    {
     "data": {
      "text/plain": [
       "'left'"
      ]
     },
     "execution_count": 96,
     "metadata": {},
     "output_type": "execute_result"
    }
   ],
   "source": [
    "_bounce_ball(\"down\", \"45\")"
   ]
  },
  {
   "cell_type": "code",
   "execution_count": 87,
   "metadata": {},
   "outputs": [
    {
     "data": {
      "text/plain": [
       "'top'"
      ]
     },
     "execution_count": 87,
     "metadata": {},
     "output_type": "execute_result"
    }
   ],
   "source": [
    "_startpos_to_dir(\"down\")"
   ]
  },
  {
   "cell_type": "code",
   "execution_count": 37,
   "metadata": {},
   "outputs": [
    {
     "name": "stdout",
     "output_type": "stream",
     "text": [
      "(0, 1)\n"
     ]
    }
   ],
   "source": [
    "import numpy as np\n",
    "\n",
    "\n",
    "\n",
    "# Example usage\n",
    "top_direction = (1, 0)\n",
    "right_direction = rotate_90(start_direction=down_direction, left_or_right=\"left\")\n",
    "\n",
    "# print(f\"Down direction: {down_direction}\")\n",
    "# print(f\"Right direction after 90 degree rotation: {right_direction}\")\n",
    "print(right_direction)"
   ]
  },
  {
   "cell_type": "code",
   "execution_count": 38,
   "metadata": {},
   "outputs": [],
   "source": [
    "# derivatives, or row and column changes (y, x)\n",
    "top_direction = (1, 0)\n",
    "right_direction = (0, 1)\n",
    "down_direction = (-1, 0)\n",
    "left_direction = (0, -1)\n",
    "\n",
    "# This should be possible with computation\n",
    "path_conversion = {\n",
    "    \"start_pos\": [\"top\", \"right\", \"down\", \"left\"],\n",
    "    \"45\": [\"left\", \"down\", \"right\", \"top\"], \n",
    "    \"135\": [\"right\", \"top\", \"left\", \"down\"],\n",
    "}"
   ]
  },
  {
   "cell_type": "code",
   "execution_count": 43,
   "metadata": {},
   "outputs": [],
   "source": [
    "import pandas as pd\n",
    "path_df = pd.DataFrame(path_conversion)"
   ]
  },
  {
   "cell_type": "code",
   "execution_count": 76,
   "metadata": {},
   "outputs": [
    {
     "data": {
      "text/plain": [
       "array([[0., 0., 0., 0.]])"
      ]
     },
     "execution_count": 76,
     "metadata": {},
     "output_type": "execute_result"
    }
   ],
   "source": [
    "np.zeros((1,4))"
   ]
  },
  {
   "cell_type": "code",
   "execution_count": 50,
   "metadata": {},
   "outputs": [
    {
     "ename": "KeyError",
     "evalue": "'top'",
     "output_type": "error",
     "traceback": [
      "\u001b[0;31m---------------------------------------------------------------------------\u001b[0m",
      "\u001b[0;31mKeyError\u001b[0m                                  Traceback (most recent call last)",
      "Cell \u001b[0;32mIn[50], line 1\u001b[0m\n\u001b[0;32m----> 1\u001b[0m \u001b[43mpath_df\u001b[49m\u001b[43m[\u001b[49m\u001b[38;5;124;43m\"\u001b[39;49m\u001b[38;5;124;43mstart_pos\u001b[39;49m\u001b[38;5;124;43m\"\u001b[39;49m\u001b[43m]\u001b[49m\u001b[43m[\u001b[49m\u001b[38;5;124;43m\"\u001b[39;49m\u001b[38;5;124;43mtop\u001b[39;49m\u001b[38;5;124;43m\"\u001b[39;49m\u001b[43m]\u001b[49m\n",
      "File \u001b[0;32m~/miniconda3/envs/int_physics_env/lib/python3.10/site-packages/pandas/core/series.py:1121\u001b[0m, in \u001b[0;36mSeries.__getitem__\u001b[0;34m(self, key)\u001b[0m\n\u001b[1;32m   1118\u001b[0m     \u001b[38;5;28;01mreturn\u001b[39;00m \u001b[38;5;28mself\u001b[39m\u001b[38;5;241m.\u001b[39m_values[key]\n\u001b[1;32m   1120\u001b[0m \u001b[38;5;28;01melif\u001b[39;00m key_is_scalar:\n\u001b[0;32m-> 1121\u001b[0m     \u001b[38;5;28;01mreturn\u001b[39;00m \u001b[38;5;28;43mself\u001b[39;49m\u001b[38;5;241;43m.\u001b[39;49m\u001b[43m_get_value\u001b[49m\u001b[43m(\u001b[49m\u001b[43mkey\u001b[49m\u001b[43m)\u001b[49m\n\u001b[1;32m   1123\u001b[0m \u001b[38;5;66;03m# Convert generator to list before going through hashable part\u001b[39;00m\n\u001b[1;32m   1124\u001b[0m \u001b[38;5;66;03m# (We will iterate through the generator there to check for slices)\u001b[39;00m\n\u001b[1;32m   1125\u001b[0m \u001b[38;5;28;01mif\u001b[39;00m is_iterator(key):\n",
      "File \u001b[0;32m~/miniconda3/envs/int_physics_env/lib/python3.10/site-packages/pandas/core/series.py:1237\u001b[0m, in \u001b[0;36mSeries._get_value\u001b[0;34m(self, label, takeable)\u001b[0m\n\u001b[1;32m   1234\u001b[0m     \u001b[38;5;28;01mreturn\u001b[39;00m \u001b[38;5;28mself\u001b[39m\u001b[38;5;241m.\u001b[39m_values[label]\n\u001b[1;32m   1236\u001b[0m \u001b[38;5;66;03m# Similar to Index.get_value, but we do not fall back to positional\u001b[39;00m\n\u001b[0;32m-> 1237\u001b[0m loc \u001b[38;5;241m=\u001b[39m \u001b[38;5;28;43mself\u001b[39;49m\u001b[38;5;241;43m.\u001b[39;49m\u001b[43mindex\u001b[49m\u001b[38;5;241;43m.\u001b[39;49m\u001b[43mget_loc\u001b[49m\u001b[43m(\u001b[49m\u001b[43mlabel\u001b[49m\u001b[43m)\u001b[49m\n\u001b[1;32m   1239\u001b[0m \u001b[38;5;28;01mif\u001b[39;00m is_integer(loc):\n\u001b[1;32m   1240\u001b[0m     \u001b[38;5;28;01mreturn\u001b[39;00m \u001b[38;5;28mself\u001b[39m\u001b[38;5;241m.\u001b[39m_values[loc]\n",
      "File \u001b[0;32m~/miniconda3/envs/int_physics_env/lib/python3.10/site-packages/pandas/core/indexes/range.py:417\u001b[0m, in \u001b[0;36mRangeIndex.get_loc\u001b[0;34m(self, key)\u001b[0m\n\u001b[1;32m    415\u001b[0m         \u001b[38;5;28;01mraise\u001b[39;00m \u001b[38;5;167;01mKeyError\u001b[39;00m(key) \u001b[38;5;28;01mfrom\u001b[39;00m\u001b[38;5;250m \u001b[39m\u001b[38;5;21;01merr\u001b[39;00m\n\u001b[1;32m    416\u001b[0m \u001b[38;5;28;01mif\u001b[39;00m \u001b[38;5;28misinstance\u001b[39m(key, Hashable):\n\u001b[0;32m--> 417\u001b[0m     \u001b[38;5;28;01mraise\u001b[39;00m \u001b[38;5;167;01mKeyError\u001b[39;00m(key)\n\u001b[1;32m    418\u001b[0m \u001b[38;5;28mself\u001b[39m\u001b[38;5;241m.\u001b[39m_check_indexing_error(key)\n\u001b[1;32m    419\u001b[0m \u001b[38;5;28;01mraise\u001b[39;00m \u001b[38;5;167;01mKeyError\u001b[39;00m(key)\n",
      "\u001b[0;31mKeyError\u001b[0m: 'top'"
     ]
    }
   ],
   "source": []
  }
 ],
 "metadata": {
  "kernelspec": {
   "display_name": "wieg_env_nsd",
   "language": "python",
   "name": "python3"
  },
  "language_info": {
   "codemirror_mode": {
    "name": "ipython",
    "version": 3
   },
   "file_extension": ".py",
   "mimetype": "text/x-python",
   "name": "python",
   "nbconvert_exporter": "python",
   "pygments_lexer": "ipython3",
   "version": "3.10.16"
  }
 },
 "nbformat": 4,
 "nbformat_minor": 2
}
